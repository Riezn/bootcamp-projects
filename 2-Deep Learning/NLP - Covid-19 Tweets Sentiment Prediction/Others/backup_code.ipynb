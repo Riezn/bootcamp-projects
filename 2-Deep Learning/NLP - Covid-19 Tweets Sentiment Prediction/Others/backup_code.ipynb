{
 "cells": [
  {
   "cell_type": "code",
   "execution_count": null,
   "metadata": {},
   "outputs": [],
   "source": [
    "# stem = PorterStemmer()\n",
    "# lemmatizer = WordNetLemmatizer()\n",
    "\n",
    "# df_train['OriginalTweet'] = df_train['OriginalTweet'].apply(lambda x: clean_text(x))\n",
    "# df_train['OriginalTweet'] = df_train['OriginalTweet'].apply(lambda x: ' '.join([stem.stem(lemmatizer.lemmatize(word)) for word in x.split() if word not in swords]))\n",
    "\n",
    "# df_test['OriginalTweet'] = df_test['OriginalTweet'].apply(lambda x: clean_text(x))\n",
    "# df_test['OriginalTweet'] = df_test['OriginalTweet'].apply(lambda x: ' '.join([stem.stem(lemmatizer.lemmatize(word)) for word in x.split() if word not in swords]))\n",
    "\n",
    "# df_train['OriginalTweet'].replace('', pd.NA, inplace=True)\n",
    "# df_test['OriginalTweet'].replace('', pd.NA, inplace=True)\n",
    "\n",
    "# df_train = df_train.dropna(subset=['OriginalTweet']).reset_index(drop=True)\n",
    "# df_test = df_test.dropna(subset=['OriginalTweet']).reset_index(drop=True)"
   ]
  }
 ],
 "metadata": {
  "language_info": {
   "name": "python"
  },
  "orig_nbformat": 4
 },
 "nbformat": 4,
 "nbformat_minor": 2
}

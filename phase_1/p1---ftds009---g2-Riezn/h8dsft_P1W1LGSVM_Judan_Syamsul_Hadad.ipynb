{
 "cells": [
  {
   "cell_type": "markdown",
   "metadata": {},
   "source": [
    "# Graded Challenge 2 Phase 1\n",
    "Nama: Judan Syamsul Hadad\n",
    "\n",
    "Batch: FTDS-009"
   ]
  },
  {
   "cell_type": "markdown",
   "metadata": {},
   "source": [
    "## 1. Perkenalan"
   ]
  },
  {
   "cell_type": "markdown",
   "metadata": {},
   "source": [
    "Selamat datang. Notebook ini dibuat sebagai pemenuhan penilaian kompetensi dari rangkaian <u>**Full Time Data Science (FTDS) Bootcamp Batch 9**</u> yang diadakan oleh Hacktiv8 dimana penulis atas nama **Judan Syamsul Hadad** dengan handlename **Riezn** merupakan salah satu pesertanya.\n",
    "\n",
    "Dataset yang digunakan pada notebook ini dapat diunduh [disini](https://www.kaggle.com/jsphyg/weather-dataset-rattle-package).\n",
    "\n",
    "Dataset ini merupakan kumpulan beberapa parameter cuaca yang dapat digunakan untuk menentukan apakah hujan akan terjadi di esok harinya."
   ]
  },
  {
   "cell_type": "markdown",
   "metadata": {},
   "source": [
    "### 1.1. Objective\n",
    "Pada notebook ini akan dilakukan regresi linier dengan tahapan berikut:\n",
    "1. Exploratory Data Analysis (EDA)\n",
    "2. Data preprocessing yang mencakup:\n",
    "    - Cardinality\n",
    "    - Splitting train set dan test set\n",
    "    - Handling outliers pada train set\n",
    "    - Handling missing values pada train set\n",
    "    - Feature selection\n",
    "    - Feature scaling dan/atau encoding\n",
    "3. Model definition:\n",
    "    - Logistic regression\n",
    "    - Support vector classification\n",
    "4. Model training\n",
    "5. Model evaluation\n",
    "6. Model inference"
   ]
  },
  {
   "cell_type": "markdown",
   "metadata": {},
   "source": [
    "### 1.2. Problem Statement\n",
    "Model mana kah yang lebih baik untuk memprediksi hujan di esok hari berdasarkan parameter cuaca hari ini di Australia?"
   ]
  },
  {
   "cell_type": "markdown",
   "metadata": {},
   "source": [
    "## 2. Import Libraries"
   ]
  },
  {
   "cell_type": "code",
   "execution_count": 658,
   "metadata": {},
   "outputs": [],
   "source": [
    "import numpy as np \n",
    "import pandas as pd\n",
    "import matplotlib.pyplot as plt\n",
    "import seaborn as sns\n",
    "import warnings\n",
    "warnings.filterwarnings('ignore')\n",
    "\n",
    "#preprocessing\n",
    "from sklearn.model_selection import train_test_split\n",
    "from sklearn.metrics import classification_report, confusion_matrix, roc_auc_score, roc_curve\n",
    "from sklearn.preprocessing import StandardScaler, OneHotEncoder\n",
    "\n",
    "#models\n",
    "from sklearn.linear_model import LogisticRegression\n",
    "from sklearn.svm import SVC"
   ]
  },
  {
   "cell_type": "markdown",
   "metadata": {},
   "source": [
    "## 3. Data Loading"
   ]
  },
  {
   "cell_type": "markdown",
   "metadata": {},
   "source": [
    "Definisikan random state untuk seluruh kode di notebook ini."
   ]
  },
  {
   "cell_type": "code",
   "execution_count": 659,
   "metadata": {},
   "outputs": [],
   "source": [
    "random_state = 34"
   ]
  },
  {
   "cell_type": "markdown",
   "metadata": {},
   "source": [
    "Set display agar menampilkan seluruh kolom."
   ]
  },
  {
   "cell_type": "code",
   "execution_count": 660,
   "metadata": {},
   "outputs": [],
   "source": [
    "pd.set_option('display.max_columns', None)"
   ]
  },
  {
   "cell_type": "markdown",
   "metadata": {},
   "source": [
    "Load dataset."
   ]
  },
  {
   "cell_type": "code",
   "execution_count": 661,
   "metadata": {},
   "outputs": [],
   "source": [
    "data = pd.read_csv('weatherAUS.csv')"
   ]
  },
  {
   "cell_type": "markdown",
   "metadata": {},
   "source": [
    "Copy dataset."
   ]
  },
  {
   "cell_type": "code",
   "execution_count": 662,
   "metadata": {},
   "outputs": [],
   "source": [
    "df = data.copy()"
   ]
  },
  {
   "cell_type": "markdown",
   "metadata": {},
   "source": [
    "Cek lima data teratas."
   ]
  },
  {
   "cell_type": "code",
   "execution_count": 663,
   "metadata": {},
   "outputs": [
    {
     "data": {
      "text/html": [
       "<div>\n",
       "<style scoped>\n",
       "    .dataframe tbody tr th:only-of-type {\n",
       "        vertical-align: middle;\n",
       "    }\n",
       "\n",
       "    .dataframe tbody tr th {\n",
       "        vertical-align: top;\n",
       "    }\n",
       "\n",
       "    .dataframe thead th {\n",
       "        text-align: right;\n",
       "    }\n",
       "</style>\n",
       "<table border=\"1\" class=\"dataframe\">\n",
       "  <thead>\n",
       "    <tr style=\"text-align: right;\">\n",
       "      <th></th>\n",
       "      <th>Date</th>\n",
       "      <th>Location</th>\n",
       "      <th>MinTemp</th>\n",
       "      <th>MaxTemp</th>\n",
       "      <th>Rainfall</th>\n",
       "      <th>Evaporation</th>\n",
       "      <th>Sunshine</th>\n",
       "      <th>WindGustDir</th>\n",
       "      <th>WindGustSpeed</th>\n",
       "      <th>WindDir9am</th>\n",
       "      <th>WindDir3pm</th>\n",
       "      <th>WindSpeed9am</th>\n",
       "      <th>WindSpeed3pm</th>\n",
       "      <th>Humidity9am</th>\n",
       "      <th>Humidity3pm</th>\n",
       "      <th>Pressure9am</th>\n",
       "      <th>Pressure3pm</th>\n",
       "      <th>Cloud9am</th>\n",
       "      <th>Cloud3pm</th>\n",
       "      <th>Temp9am</th>\n",
       "      <th>Temp3pm</th>\n",
       "      <th>RainToday</th>\n",
       "      <th>RainTomorrow</th>\n",
       "    </tr>\n",
       "  </thead>\n",
       "  <tbody>\n",
       "    <tr>\n",
       "      <th>0</th>\n",
       "      <td>2008-12-01</td>\n",
       "      <td>Albury</td>\n",
       "      <td>13.4</td>\n",
       "      <td>22.9</td>\n",
       "      <td>0.6</td>\n",
       "      <td>NaN</td>\n",
       "      <td>NaN</td>\n",
       "      <td>W</td>\n",
       "      <td>44.0</td>\n",
       "      <td>W</td>\n",
       "      <td>WNW</td>\n",
       "      <td>20.0</td>\n",
       "      <td>24.0</td>\n",
       "      <td>71.0</td>\n",
       "      <td>22.0</td>\n",
       "      <td>1007.7</td>\n",
       "      <td>1007.1</td>\n",
       "      <td>8.0</td>\n",
       "      <td>NaN</td>\n",
       "      <td>16.9</td>\n",
       "      <td>21.8</td>\n",
       "      <td>No</td>\n",
       "      <td>No</td>\n",
       "    </tr>\n",
       "    <tr>\n",
       "      <th>1</th>\n",
       "      <td>2008-12-02</td>\n",
       "      <td>Albury</td>\n",
       "      <td>7.4</td>\n",
       "      <td>25.1</td>\n",
       "      <td>0.0</td>\n",
       "      <td>NaN</td>\n",
       "      <td>NaN</td>\n",
       "      <td>WNW</td>\n",
       "      <td>44.0</td>\n",
       "      <td>NNW</td>\n",
       "      <td>WSW</td>\n",
       "      <td>4.0</td>\n",
       "      <td>22.0</td>\n",
       "      <td>44.0</td>\n",
       "      <td>25.0</td>\n",
       "      <td>1010.6</td>\n",
       "      <td>1007.8</td>\n",
       "      <td>NaN</td>\n",
       "      <td>NaN</td>\n",
       "      <td>17.2</td>\n",
       "      <td>24.3</td>\n",
       "      <td>No</td>\n",
       "      <td>No</td>\n",
       "    </tr>\n",
       "    <tr>\n",
       "      <th>2</th>\n",
       "      <td>2008-12-03</td>\n",
       "      <td>Albury</td>\n",
       "      <td>12.9</td>\n",
       "      <td>25.7</td>\n",
       "      <td>0.0</td>\n",
       "      <td>NaN</td>\n",
       "      <td>NaN</td>\n",
       "      <td>WSW</td>\n",
       "      <td>46.0</td>\n",
       "      <td>W</td>\n",
       "      <td>WSW</td>\n",
       "      <td>19.0</td>\n",
       "      <td>26.0</td>\n",
       "      <td>38.0</td>\n",
       "      <td>30.0</td>\n",
       "      <td>1007.6</td>\n",
       "      <td>1008.7</td>\n",
       "      <td>NaN</td>\n",
       "      <td>2.0</td>\n",
       "      <td>21.0</td>\n",
       "      <td>23.2</td>\n",
       "      <td>No</td>\n",
       "      <td>No</td>\n",
       "    </tr>\n",
       "    <tr>\n",
       "      <th>3</th>\n",
       "      <td>2008-12-04</td>\n",
       "      <td>Albury</td>\n",
       "      <td>9.2</td>\n",
       "      <td>28.0</td>\n",
       "      <td>0.0</td>\n",
       "      <td>NaN</td>\n",
       "      <td>NaN</td>\n",
       "      <td>NE</td>\n",
       "      <td>24.0</td>\n",
       "      <td>SE</td>\n",
       "      <td>E</td>\n",
       "      <td>11.0</td>\n",
       "      <td>9.0</td>\n",
       "      <td>45.0</td>\n",
       "      <td>16.0</td>\n",
       "      <td>1017.6</td>\n",
       "      <td>1012.8</td>\n",
       "      <td>NaN</td>\n",
       "      <td>NaN</td>\n",
       "      <td>18.1</td>\n",
       "      <td>26.5</td>\n",
       "      <td>No</td>\n",
       "      <td>No</td>\n",
       "    </tr>\n",
       "    <tr>\n",
       "      <th>4</th>\n",
       "      <td>2008-12-05</td>\n",
       "      <td>Albury</td>\n",
       "      <td>17.5</td>\n",
       "      <td>32.3</td>\n",
       "      <td>1.0</td>\n",
       "      <td>NaN</td>\n",
       "      <td>NaN</td>\n",
       "      <td>W</td>\n",
       "      <td>41.0</td>\n",
       "      <td>ENE</td>\n",
       "      <td>NW</td>\n",
       "      <td>7.0</td>\n",
       "      <td>20.0</td>\n",
       "      <td>82.0</td>\n",
       "      <td>33.0</td>\n",
       "      <td>1010.8</td>\n",
       "      <td>1006.0</td>\n",
       "      <td>7.0</td>\n",
       "      <td>8.0</td>\n",
       "      <td>17.8</td>\n",
       "      <td>29.7</td>\n",
       "      <td>No</td>\n",
       "      <td>No</td>\n",
       "    </tr>\n",
       "  </tbody>\n",
       "</table>\n",
       "</div>"
      ],
      "text/plain": [
       "         Date Location  MinTemp  MaxTemp  Rainfall  Evaporation  Sunshine  \\\n",
       "0  2008-12-01   Albury     13.4     22.9       0.6          NaN       NaN   \n",
       "1  2008-12-02   Albury      7.4     25.1       0.0          NaN       NaN   \n",
       "2  2008-12-03   Albury     12.9     25.7       0.0          NaN       NaN   \n",
       "3  2008-12-04   Albury      9.2     28.0       0.0          NaN       NaN   \n",
       "4  2008-12-05   Albury     17.5     32.3       1.0          NaN       NaN   \n",
       "\n",
       "  WindGustDir  WindGustSpeed WindDir9am WindDir3pm  WindSpeed9am  \\\n",
       "0           W           44.0          W        WNW          20.0   \n",
       "1         WNW           44.0        NNW        WSW           4.0   \n",
       "2         WSW           46.0          W        WSW          19.0   \n",
       "3          NE           24.0         SE          E          11.0   \n",
       "4           W           41.0        ENE         NW           7.0   \n",
       "\n",
       "   WindSpeed3pm  Humidity9am  Humidity3pm  Pressure9am  Pressure3pm  Cloud9am  \\\n",
       "0          24.0         71.0         22.0       1007.7       1007.1       8.0   \n",
       "1          22.0         44.0         25.0       1010.6       1007.8       NaN   \n",
       "2          26.0         38.0         30.0       1007.6       1008.7       NaN   \n",
       "3           9.0         45.0         16.0       1017.6       1012.8       NaN   \n",
       "4          20.0         82.0         33.0       1010.8       1006.0       7.0   \n",
       "\n",
       "   Cloud3pm  Temp9am  Temp3pm RainToday RainTomorrow  \n",
       "0       NaN     16.9     21.8        No           No  \n",
       "1       NaN     17.2     24.3        No           No  \n",
       "2       2.0     21.0     23.2        No           No  \n",
       "3       NaN     18.1     26.5        No           No  \n",
       "4       8.0     17.8     29.7        No           No  "
      ]
     },
     "execution_count": 663,
     "metadata": {},
     "output_type": "execute_result"
    }
   ],
   "source": [
    "df.head()"
   ]
  },
  {
   "cell_type": "markdown",
   "metadata": {},
   "source": [
    "Sudah ditemukan missing value pada lima data teratas. Cek jumlah non-missing value dan tipe data."
   ]
  },
  {
   "cell_type": "code",
   "execution_count": 664,
   "metadata": {},
   "outputs": [
    {
     "name": "stdout",
     "output_type": "stream",
     "text": [
      "<class 'pandas.core.frame.DataFrame'>\n",
      "RangeIndex: 145460 entries, 0 to 145459\n",
      "Data columns (total 23 columns):\n",
      " #   Column         Non-Null Count   Dtype  \n",
      "---  ------         --------------   -----  \n",
      " 0   Date           145460 non-null  object \n",
      " 1   Location       145460 non-null  object \n",
      " 2   MinTemp        143975 non-null  float64\n",
      " 3   MaxTemp        144199 non-null  float64\n",
      " 4   Rainfall       142199 non-null  float64\n",
      " 5   Evaporation    82670 non-null   float64\n",
      " 6   Sunshine       75625 non-null   float64\n",
      " 7   WindGustDir    135134 non-null  object \n",
      " 8   WindGustSpeed  135197 non-null  float64\n",
      " 9   WindDir9am     134894 non-null  object \n",
      " 10  WindDir3pm     141232 non-null  object \n",
      " 11  WindSpeed9am   143693 non-null  float64\n",
      " 12  WindSpeed3pm   142398 non-null  float64\n",
      " 13  Humidity9am    142806 non-null  float64\n",
      " 14  Humidity3pm    140953 non-null  float64\n",
      " 15  Pressure9am    130395 non-null  float64\n",
      " 16  Pressure3pm    130432 non-null  float64\n",
      " 17  Cloud9am       89572 non-null   float64\n",
      " 18  Cloud3pm       86102 non-null   float64\n",
      " 19  Temp9am        143693 non-null  float64\n",
      " 20  Temp3pm        141851 non-null  float64\n",
      " 21  RainToday      142199 non-null  object \n",
      " 22  RainTomorrow   142193 non-null  object \n",
      "dtypes: float64(16), object(7)\n",
      "memory usage: 25.5+ MB\n"
     ]
    }
   ],
   "source": [
    "df.info()"
   ]
  },
  {
   "cell_type": "markdown",
   "metadata": {},
   "source": [
    "Terdapat 145460 baris dan 23 kolom pada dataset."
   ]
  },
  {
   "cell_type": "markdown",
   "metadata": {},
   "source": [
    "Ubah parameter hujan pada kolom `RainTomorrow` dan `RainToday` menjadi angka 1 untuk `Yes` atau hujan dan angka 0 untuk `No` atau tidak hujan."
   ]
  },
  {
   "cell_type": "code",
   "execution_count": 665,
   "metadata": {},
   "outputs": [],
   "source": [
    "df['RainTomorrow'].replace(to_replace = dict(Yes = 1, No = 0), inplace = True)\n",
    "df['RainToday'].replace(to_replace = dict(Yes = 1, No = 0), inplace = True)"
   ]
  },
  {
   "cell_type": "markdown",
   "metadata": {},
   "source": [
    "Ubah `Date` menjadi datetime64, `RainToday` dan `RainTomorrow` menjadi float64, dan kolom lain dengan tipe data object menjadi `category`."
   ]
  },
  {
   "cell_type": "code",
   "execution_count": 666,
   "metadata": {},
   "outputs": [],
   "source": [
    "for col in df.columns:\n",
    "    if col == 'Date':\n",
    "        df[col] = df[col].astype('datetime64')\n",
    "    elif col == 'RainToday' or col == 'RainTomorrow':\n",
    "        df[col] = df[col].astype('float64')\n",
    "    elif df[col].dtype == 'object':\n",
    "        df[col] = df[col].astype('category')"
   ]
  },
  {
   "cell_type": "markdown",
   "metadata": {},
   "source": [
    "Karena siklus hujan bersifat tahunan, maka tambahkan kolom baru berupa hari ke berapa dalam satu tahun."
   ]
  },
  {
   "cell_type": "code",
   "execution_count": 667,
   "metadata": {},
   "outputs": [],
   "source": [
    "df['Day of The Year'] = df['Date'].dt.strftime('%j').astype(int)"
   ]
  },
  {
   "cell_type": "markdown",
   "metadata": {},
   "source": [
    "Cek missing value pada dataset."
   ]
  },
  {
   "cell_type": "code",
   "execution_count": 668,
   "metadata": {},
   "outputs": [
    {
     "data": {
      "text/plain": [
       "Date                   0\n",
       "Location               0\n",
       "MinTemp             1485\n",
       "MaxTemp             1261\n",
       "Rainfall            3261\n",
       "Evaporation        62790\n",
       "Sunshine           69835\n",
       "WindGustDir        10326\n",
       "WindGustSpeed      10263\n",
       "WindDir9am         10566\n",
       "WindDir3pm          4228\n",
       "WindSpeed9am        1767\n",
       "WindSpeed3pm        3062\n",
       "Humidity9am         2654\n",
       "Humidity3pm         4507\n",
       "Pressure9am        15065\n",
       "Pressure3pm        15028\n",
       "Cloud9am           55888\n",
       "Cloud3pm           59358\n",
       "Temp9am             1767\n",
       "Temp3pm             3609\n",
       "RainToday           3261\n",
       "RainTomorrow        3267\n",
       "Day of The Year        0\n",
       "dtype: int64"
      ]
     },
     "execution_count": 668,
     "metadata": {},
     "output_type": "execute_result"
    }
   ],
   "source": [
    "df.isnull().sum()"
   ]
  },
  {
   "cell_type": "markdown",
   "metadata": {},
   "source": [
    "Terdapat missing value yang tersebar di beberapa kolom."
   ]
  },
  {
   "cell_type": "markdown",
   "metadata": {},
   "source": [
    "Cek statistika deskriptif dari dataset."
   ]
  },
  {
   "cell_type": "code",
   "execution_count": 669,
   "metadata": {},
   "outputs": [
    {
     "data": {
      "text/html": [
       "<div>\n",
       "<style scoped>\n",
       "    .dataframe tbody tr th:only-of-type {\n",
       "        vertical-align: middle;\n",
       "    }\n",
       "\n",
       "    .dataframe tbody tr th {\n",
       "        vertical-align: top;\n",
       "    }\n",
       "\n",
       "    .dataframe thead th {\n",
       "        text-align: right;\n",
       "    }\n",
       "</style>\n",
       "<table border=\"1\" class=\"dataframe\">\n",
       "  <thead>\n",
       "    <tr style=\"text-align: right;\">\n",
       "      <th></th>\n",
       "      <th>count</th>\n",
       "      <th>unique</th>\n",
       "      <th>top</th>\n",
       "      <th>freq</th>\n",
       "      <th>first</th>\n",
       "      <th>last</th>\n",
       "      <th>mean</th>\n",
       "      <th>std</th>\n",
       "      <th>min</th>\n",
       "      <th>25%</th>\n",
       "      <th>50%</th>\n",
       "      <th>75%</th>\n",
       "      <th>max</th>\n",
       "    </tr>\n",
       "  </thead>\n",
       "  <tbody>\n",
       "    <tr>\n",
       "      <th>Cloud3pm</th>\n",
       "      <td>86102.0</td>\n",
       "      <td>NaN</td>\n",
       "      <td>NaN</td>\n",
       "      <td>NaN</td>\n",
       "      <td>NaT</td>\n",
       "      <td>NaT</td>\n",
       "      <td>4.50993</td>\n",
       "      <td>2.720357</td>\n",
       "      <td>0.0</td>\n",
       "      <td>2.0</td>\n",
       "      <td>5.0</td>\n",
       "      <td>7.0</td>\n",
       "      <td>9.0</td>\n",
       "    </tr>\n",
       "    <tr>\n",
       "      <th>Cloud9am</th>\n",
       "      <td>89572.0</td>\n",
       "      <td>NaN</td>\n",
       "      <td>NaN</td>\n",
       "      <td>NaN</td>\n",
       "      <td>NaT</td>\n",
       "      <td>NaT</td>\n",
       "      <td>4.447461</td>\n",
       "      <td>2.887159</td>\n",
       "      <td>0.0</td>\n",
       "      <td>1.0</td>\n",
       "      <td>5.0</td>\n",
       "      <td>7.0</td>\n",
       "      <td>9.0</td>\n",
       "    </tr>\n",
       "    <tr>\n",
       "      <th>Date</th>\n",
       "      <td>145460</td>\n",
       "      <td>3436</td>\n",
       "      <td>2013-11-12 00:00:00</td>\n",
       "      <td>49</td>\n",
       "      <td>2007-11-01</td>\n",
       "      <td>2017-06-25</td>\n",
       "      <td>NaN</td>\n",
       "      <td>NaN</td>\n",
       "      <td>NaN</td>\n",
       "      <td>NaN</td>\n",
       "      <td>NaN</td>\n",
       "      <td>NaN</td>\n",
       "      <td>NaN</td>\n",
       "    </tr>\n",
       "    <tr>\n",
       "      <th>Day of The Year</th>\n",
       "      <td>145460.0</td>\n",
       "      <td>NaN</td>\n",
       "      <td>NaN</td>\n",
       "      <td>NaN</td>\n",
       "      <td>NaT</td>\n",
       "      <td>NaT</td>\n",
       "      <td>179.337405</td>\n",
       "      <td>104.780922</td>\n",
       "      <td>1.0</td>\n",
       "      <td>88.0</td>\n",
       "      <td>176.0</td>\n",
       "      <td>270.0</td>\n",
       "      <td>366.0</td>\n",
       "    </tr>\n",
       "    <tr>\n",
       "      <th>Evaporation</th>\n",
       "      <td>82670.0</td>\n",
       "      <td>NaN</td>\n",
       "      <td>NaN</td>\n",
       "      <td>NaN</td>\n",
       "      <td>NaT</td>\n",
       "      <td>NaT</td>\n",
       "      <td>5.468232</td>\n",
       "      <td>4.193704</td>\n",
       "      <td>0.0</td>\n",
       "      <td>2.6</td>\n",
       "      <td>4.8</td>\n",
       "      <td>7.4</td>\n",
       "      <td>145.0</td>\n",
       "    </tr>\n",
       "    <tr>\n",
       "      <th>Humidity3pm</th>\n",
       "      <td>140953.0</td>\n",
       "      <td>NaN</td>\n",
       "      <td>NaN</td>\n",
       "      <td>NaN</td>\n",
       "      <td>NaT</td>\n",
       "      <td>NaT</td>\n",
       "      <td>51.539116</td>\n",
       "      <td>20.795902</td>\n",
       "      <td>0.0</td>\n",
       "      <td>37.0</td>\n",
       "      <td>52.0</td>\n",
       "      <td>66.0</td>\n",
       "      <td>100.0</td>\n",
       "    </tr>\n",
       "    <tr>\n",
       "      <th>Humidity9am</th>\n",
       "      <td>142806.0</td>\n",
       "      <td>NaN</td>\n",
       "      <td>NaN</td>\n",
       "      <td>NaN</td>\n",
       "      <td>NaT</td>\n",
       "      <td>NaT</td>\n",
       "      <td>68.880831</td>\n",
       "      <td>19.029164</td>\n",
       "      <td>0.0</td>\n",
       "      <td>57.0</td>\n",
       "      <td>70.0</td>\n",
       "      <td>83.0</td>\n",
       "      <td>100.0</td>\n",
       "    </tr>\n",
       "    <tr>\n",
       "      <th>Location</th>\n",
       "      <td>145460</td>\n",
       "      <td>49</td>\n",
       "      <td>Canberra</td>\n",
       "      <td>3436</td>\n",
       "      <td>NaT</td>\n",
       "      <td>NaT</td>\n",
       "      <td>NaN</td>\n",
       "      <td>NaN</td>\n",
       "      <td>NaN</td>\n",
       "      <td>NaN</td>\n",
       "      <td>NaN</td>\n",
       "      <td>NaN</td>\n",
       "      <td>NaN</td>\n",
       "    </tr>\n",
       "    <tr>\n",
       "      <th>MaxTemp</th>\n",
       "      <td>144199.0</td>\n",
       "      <td>NaN</td>\n",
       "      <td>NaN</td>\n",
       "      <td>NaN</td>\n",
       "      <td>NaT</td>\n",
       "      <td>NaT</td>\n",
       "      <td>23.221348</td>\n",
       "      <td>7.119049</td>\n",
       "      <td>-4.8</td>\n",
       "      <td>17.9</td>\n",
       "      <td>22.6</td>\n",
       "      <td>28.2</td>\n",
       "      <td>48.1</td>\n",
       "    </tr>\n",
       "    <tr>\n",
       "      <th>MinTemp</th>\n",
       "      <td>143975.0</td>\n",
       "      <td>NaN</td>\n",
       "      <td>NaN</td>\n",
       "      <td>NaN</td>\n",
       "      <td>NaT</td>\n",
       "      <td>NaT</td>\n",
       "      <td>12.194034</td>\n",
       "      <td>6.398495</td>\n",
       "      <td>-8.5</td>\n",
       "      <td>7.6</td>\n",
       "      <td>12.0</td>\n",
       "      <td>16.9</td>\n",
       "      <td>33.9</td>\n",
       "    </tr>\n",
       "    <tr>\n",
       "      <th>Pressure3pm</th>\n",
       "      <td>130432.0</td>\n",
       "      <td>NaN</td>\n",
       "      <td>NaN</td>\n",
       "      <td>NaN</td>\n",
       "      <td>NaT</td>\n",
       "      <td>NaT</td>\n",
       "      <td>1015.255889</td>\n",
       "      <td>7.037414</td>\n",
       "      <td>977.1</td>\n",
       "      <td>1010.4</td>\n",
       "      <td>1015.2</td>\n",
       "      <td>1020.0</td>\n",
       "      <td>1039.6</td>\n",
       "    </tr>\n",
       "    <tr>\n",
       "      <th>Pressure9am</th>\n",
       "      <td>130395.0</td>\n",
       "      <td>NaN</td>\n",
       "      <td>NaN</td>\n",
       "      <td>NaN</td>\n",
       "      <td>NaT</td>\n",
       "      <td>NaT</td>\n",
       "      <td>1017.64994</td>\n",
       "      <td>7.10653</td>\n",
       "      <td>980.5</td>\n",
       "      <td>1012.9</td>\n",
       "      <td>1017.6</td>\n",
       "      <td>1022.4</td>\n",
       "      <td>1041.0</td>\n",
       "    </tr>\n",
       "    <tr>\n",
       "      <th>RainToday</th>\n",
       "      <td>142199.0</td>\n",
       "      <td>NaN</td>\n",
       "      <td>NaN</td>\n",
       "      <td>NaN</td>\n",
       "      <td>NaT</td>\n",
       "      <td>NaT</td>\n",
       "      <td>0.224193</td>\n",
       "      <td>0.417051</td>\n",
       "      <td>0.0</td>\n",
       "      <td>0.0</td>\n",
       "      <td>0.0</td>\n",
       "      <td>0.0</td>\n",
       "      <td>1.0</td>\n",
       "    </tr>\n",
       "    <tr>\n",
       "      <th>RainTomorrow</th>\n",
       "      <td>142193.0</td>\n",
       "      <td>NaN</td>\n",
       "      <td>NaN</td>\n",
       "      <td>NaN</td>\n",
       "      <td>NaT</td>\n",
       "      <td>NaT</td>\n",
       "      <td>0.224181</td>\n",
       "      <td>0.417043</td>\n",
       "      <td>0.0</td>\n",
       "      <td>0.0</td>\n",
       "      <td>0.0</td>\n",
       "      <td>0.0</td>\n",
       "      <td>1.0</td>\n",
       "    </tr>\n",
       "    <tr>\n",
       "      <th>Rainfall</th>\n",
       "      <td>142199.0</td>\n",
       "      <td>NaN</td>\n",
       "      <td>NaN</td>\n",
       "      <td>NaN</td>\n",
       "      <td>NaT</td>\n",
       "      <td>NaT</td>\n",
       "      <td>2.360918</td>\n",
       "      <td>8.47806</td>\n",
       "      <td>0.0</td>\n",
       "      <td>0.0</td>\n",
       "      <td>0.0</td>\n",
       "      <td>0.8</td>\n",
       "      <td>371.0</td>\n",
       "    </tr>\n",
       "    <tr>\n",
       "      <th>Sunshine</th>\n",
       "      <td>75625.0</td>\n",
       "      <td>NaN</td>\n",
       "      <td>NaN</td>\n",
       "      <td>NaN</td>\n",
       "      <td>NaT</td>\n",
       "      <td>NaT</td>\n",
       "      <td>7.611178</td>\n",
       "      <td>3.785483</td>\n",
       "      <td>0.0</td>\n",
       "      <td>4.8</td>\n",
       "      <td>8.4</td>\n",
       "      <td>10.6</td>\n",
       "      <td>14.5</td>\n",
       "    </tr>\n",
       "    <tr>\n",
       "      <th>Temp3pm</th>\n",
       "      <td>141851.0</td>\n",
       "      <td>NaN</td>\n",
       "      <td>NaN</td>\n",
       "      <td>NaN</td>\n",
       "      <td>NaT</td>\n",
       "      <td>NaT</td>\n",
       "      <td>21.68339</td>\n",
       "      <td>6.93665</td>\n",
       "      <td>-5.4</td>\n",
       "      <td>16.6</td>\n",
       "      <td>21.1</td>\n",
       "      <td>26.4</td>\n",
       "      <td>46.7</td>\n",
       "    </tr>\n",
       "    <tr>\n",
       "      <th>Temp9am</th>\n",
       "      <td>143693.0</td>\n",
       "      <td>NaN</td>\n",
       "      <td>NaN</td>\n",
       "      <td>NaN</td>\n",
       "      <td>NaT</td>\n",
       "      <td>NaT</td>\n",
       "      <td>16.990631</td>\n",
       "      <td>6.488753</td>\n",
       "      <td>-7.2</td>\n",
       "      <td>12.3</td>\n",
       "      <td>16.7</td>\n",
       "      <td>21.6</td>\n",
       "      <td>40.2</td>\n",
       "    </tr>\n",
       "    <tr>\n",
       "      <th>WindDir3pm</th>\n",
       "      <td>141232</td>\n",
       "      <td>16</td>\n",
       "      <td>SE</td>\n",
       "      <td>10838</td>\n",
       "      <td>NaT</td>\n",
       "      <td>NaT</td>\n",
       "      <td>NaN</td>\n",
       "      <td>NaN</td>\n",
       "      <td>NaN</td>\n",
       "      <td>NaN</td>\n",
       "      <td>NaN</td>\n",
       "      <td>NaN</td>\n",
       "      <td>NaN</td>\n",
       "    </tr>\n",
       "    <tr>\n",
       "      <th>WindDir9am</th>\n",
       "      <td>134894</td>\n",
       "      <td>16</td>\n",
       "      <td>N</td>\n",
       "      <td>11758</td>\n",
       "      <td>NaT</td>\n",
       "      <td>NaT</td>\n",
       "      <td>NaN</td>\n",
       "      <td>NaN</td>\n",
       "      <td>NaN</td>\n",
       "      <td>NaN</td>\n",
       "      <td>NaN</td>\n",
       "      <td>NaN</td>\n",
       "      <td>NaN</td>\n",
       "    </tr>\n",
       "    <tr>\n",
       "      <th>WindGustDir</th>\n",
       "      <td>135134</td>\n",
       "      <td>16</td>\n",
       "      <td>W</td>\n",
       "      <td>9915</td>\n",
       "      <td>NaT</td>\n",
       "      <td>NaT</td>\n",
       "      <td>NaN</td>\n",
       "      <td>NaN</td>\n",
       "      <td>NaN</td>\n",
       "      <td>NaN</td>\n",
       "      <td>NaN</td>\n",
       "      <td>NaN</td>\n",
       "      <td>NaN</td>\n",
       "    </tr>\n",
       "    <tr>\n",
       "      <th>WindGustSpeed</th>\n",
       "      <td>135197.0</td>\n",
       "      <td>NaN</td>\n",
       "      <td>NaN</td>\n",
       "      <td>NaN</td>\n",
       "      <td>NaT</td>\n",
       "      <td>NaT</td>\n",
       "      <td>40.03523</td>\n",
       "      <td>13.607062</td>\n",
       "      <td>6.0</td>\n",
       "      <td>31.0</td>\n",
       "      <td>39.0</td>\n",
       "      <td>48.0</td>\n",
       "      <td>135.0</td>\n",
       "    </tr>\n",
       "    <tr>\n",
       "      <th>WindSpeed3pm</th>\n",
       "      <td>142398.0</td>\n",
       "      <td>NaN</td>\n",
       "      <td>NaN</td>\n",
       "      <td>NaN</td>\n",
       "      <td>NaT</td>\n",
       "      <td>NaT</td>\n",
       "      <td>18.662657</td>\n",
       "      <td>8.8098</td>\n",
       "      <td>0.0</td>\n",
       "      <td>13.0</td>\n",
       "      <td>19.0</td>\n",
       "      <td>24.0</td>\n",
       "      <td>87.0</td>\n",
       "    </tr>\n",
       "    <tr>\n",
       "      <th>WindSpeed9am</th>\n",
       "      <td>143693.0</td>\n",
       "      <td>NaN</td>\n",
       "      <td>NaN</td>\n",
       "      <td>NaN</td>\n",
       "      <td>NaT</td>\n",
       "      <td>NaT</td>\n",
       "      <td>14.043426</td>\n",
       "      <td>8.915375</td>\n",
       "      <td>0.0</td>\n",
       "      <td>7.0</td>\n",
       "      <td>13.0</td>\n",
       "      <td>19.0</td>\n",
       "      <td>130.0</td>\n",
       "    </tr>\n",
       "  </tbody>\n",
       "</table>\n",
       "</div>"
      ],
      "text/plain": [
       "                    count unique                  top   freq      first  \\\n",
       "Cloud3pm          86102.0    NaN                  NaN    NaN        NaT   \n",
       "Cloud9am          89572.0    NaN                  NaN    NaN        NaT   \n",
       "Date               145460   3436  2013-11-12 00:00:00     49 2007-11-01   \n",
       "Day of The Year  145460.0    NaN                  NaN    NaN        NaT   \n",
       "Evaporation       82670.0    NaN                  NaN    NaN        NaT   \n",
       "Humidity3pm      140953.0    NaN                  NaN    NaN        NaT   \n",
       "Humidity9am      142806.0    NaN                  NaN    NaN        NaT   \n",
       "Location           145460     49             Canberra   3436        NaT   \n",
       "MaxTemp          144199.0    NaN                  NaN    NaN        NaT   \n",
       "MinTemp          143975.0    NaN                  NaN    NaN        NaT   \n",
       "Pressure3pm      130432.0    NaN                  NaN    NaN        NaT   \n",
       "Pressure9am      130395.0    NaN                  NaN    NaN        NaT   \n",
       "RainToday        142199.0    NaN                  NaN    NaN        NaT   \n",
       "RainTomorrow     142193.0    NaN                  NaN    NaN        NaT   \n",
       "Rainfall         142199.0    NaN                  NaN    NaN        NaT   \n",
       "Sunshine          75625.0    NaN                  NaN    NaN        NaT   \n",
       "Temp3pm          141851.0    NaN                  NaN    NaN        NaT   \n",
       "Temp9am          143693.0    NaN                  NaN    NaN        NaT   \n",
       "WindDir3pm         141232     16                   SE  10838        NaT   \n",
       "WindDir9am         134894     16                    N  11758        NaT   \n",
       "WindGustDir        135134     16                    W   9915        NaT   \n",
       "WindGustSpeed    135197.0    NaN                  NaN    NaN        NaT   \n",
       "WindSpeed3pm     142398.0    NaN                  NaN    NaN        NaT   \n",
       "WindSpeed9am     143693.0    NaN                  NaN    NaN        NaT   \n",
       "\n",
       "                      last         mean         std    min     25%     50%  \\\n",
       "Cloud3pm               NaT      4.50993    2.720357    0.0     2.0     5.0   \n",
       "Cloud9am               NaT     4.447461    2.887159    0.0     1.0     5.0   \n",
       "Date            2017-06-25          NaN         NaN    NaN     NaN     NaN   \n",
       "Day of The Year        NaT   179.337405  104.780922    1.0    88.0   176.0   \n",
       "Evaporation            NaT     5.468232    4.193704    0.0     2.6     4.8   \n",
       "Humidity3pm            NaT    51.539116   20.795902    0.0    37.0    52.0   \n",
       "Humidity9am            NaT    68.880831   19.029164    0.0    57.0    70.0   \n",
       "Location               NaT          NaN         NaN    NaN     NaN     NaN   \n",
       "MaxTemp                NaT    23.221348    7.119049   -4.8    17.9    22.6   \n",
       "MinTemp                NaT    12.194034    6.398495   -8.5     7.6    12.0   \n",
       "Pressure3pm            NaT  1015.255889    7.037414  977.1  1010.4  1015.2   \n",
       "Pressure9am            NaT   1017.64994     7.10653  980.5  1012.9  1017.6   \n",
       "RainToday              NaT     0.224193    0.417051    0.0     0.0     0.0   \n",
       "RainTomorrow           NaT     0.224181    0.417043    0.0     0.0     0.0   \n",
       "Rainfall               NaT     2.360918     8.47806    0.0     0.0     0.0   \n",
       "Sunshine               NaT     7.611178    3.785483    0.0     4.8     8.4   \n",
       "Temp3pm                NaT     21.68339     6.93665   -5.4    16.6    21.1   \n",
       "Temp9am                NaT    16.990631    6.488753   -7.2    12.3    16.7   \n",
       "WindDir3pm             NaT          NaN         NaN    NaN     NaN     NaN   \n",
       "WindDir9am             NaT          NaN         NaN    NaN     NaN     NaN   \n",
       "WindGustDir            NaT          NaN         NaN    NaN     NaN     NaN   \n",
       "WindGustSpeed          NaT     40.03523   13.607062    6.0    31.0    39.0   \n",
       "WindSpeed3pm           NaT    18.662657      8.8098    0.0    13.0    19.0   \n",
       "WindSpeed9am           NaT    14.043426    8.915375    0.0     7.0    13.0   \n",
       "\n",
       "                    75%     max  \n",
       "Cloud3pm            7.0     9.0  \n",
       "Cloud9am            7.0     9.0  \n",
       "Date                NaN     NaN  \n",
       "Day of The Year   270.0   366.0  \n",
       "Evaporation         7.4   145.0  \n",
       "Humidity3pm        66.0   100.0  \n",
       "Humidity9am        83.0   100.0  \n",
       "Location            NaN     NaN  \n",
       "MaxTemp            28.2    48.1  \n",
       "MinTemp            16.9    33.9  \n",
       "Pressure3pm      1020.0  1039.6  \n",
       "Pressure9am      1022.4  1041.0  \n",
       "RainToday           0.0     1.0  \n",
       "RainTomorrow        0.0     1.0  \n",
       "Rainfall            0.8   371.0  \n",
       "Sunshine           10.6    14.5  \n",
       "Temp3pm            26.4    46.7  \n",
       "Temp9am            21.6    40.2  \n",
       "WindDir3pm          NaN     NaN  \n",
       "WindDir9am          NaN     NaN  \n",
       "WindGustDir         NaN     NaN  \n",
       "WindGustSpeed      48.0   135.0  \n",
       "WindSpeed3pm       24.0    87.0  \n",
       "WindSpeed9am       19.0   130.0  "
      ]
     },
     "execution_count": 669,
     "metadata": {},
     "output_type": "execute_result"
    }
   ],
   "source": [
    "df.describe(include='all').T.sort_index()"
   ]
  },
  {
   "cell_type": "markdown",
   "metadata": {},
   "source": [
    "Data terawal diambil pada tahun 2007 dan terakhir pada 2017. Tidak ada primary key, kolom yang memiliki unique value sejumlah baris dan berfungsi untuk identifikasi, di dataset ini."
   ]
  },
  {
   "cell_type": "markdown",
   "metadata": {},
   "source": [
    "Data kategorik pada kolom `Location` terdiri dari 49 unique value, sedangkan untuk kolom mata angin seperti `WindDir3pm` memiliki 16 unique value. Kedua tipe data kategorik ini nantinya akan disederhanakan untuk menurunkan computation cost dan mempercepat proses prediksi."
   ]
  },
  {
   "cell_type": "markdown",
   "metadata": {},
   "source": [
    "Data numerik pada kolom `Evaporation`, `Rainfall`, `WindGustSpeed`, `WindSpeed3pm` dan `WindSpeed9am` terlihat memiliki selisih yang besar sekali antara Q3 dan nilai maksimumnya. Pengecekan outlier lebih lanjut akan dilakukan pada bab Data Preprocessing."
   ]
  },
  {
   "cell_type": "markdown",
   "metadata": {},
   "source": [
    "Selanjutnya cek apakah ada duplikat berdasarkan tanggal dan lokasi."
   ]
  },
  {
   "cell_type": "code",
   "execution_count": 670,
   "metadata": {},
   "outputs": [
    {
     "data": {
      "text/plain": [
       "False    145460\n",
       "dtype: int64"
      ]
     },
     "execution_count": 670,
     "metadata": {},
     "output_type": "execute_result"
    }
   ],
   "source": [
    "df.duplicated(subset=['Date','Location']).value_counts()"
   ]
  },
  {
   "cell_type": "markdown",
   "metadata": {},
   "source": [
    "Tidak ditemukan duplikat."
   ]
  },
  {
   "cell_type": "markdown",
   "metadata": {},
   "source": [
    "Deklarasikan kolom dengan data kategorik dan kolom dengan data numerik untuk digunakan untuk pengolahan pada bab-bab berikutnya."
   ]
  },
  {
   "cell_type": "code",
   "execution_count": 671,
   "metadata": {},
   "outputs": [],
   "source": [
    "#deklarasi categorical data dan numerical data\n",
    "cat_cols = ['Location','WindGustDir','WindDir9am','WindDir3pm','RainToday']\n",
    "num_cols = df.drop(columns=cat_cols).columns.tolist()"
   ]
  },
  {
   "cell_type": "markdown",
   "metadata": {},
   "source": [
    "Cek kolom data kategorik."
   ]
  },
  {
   "cell_type": "code",
   "execution_count": 672,
   "metadata": {},
   "outputs": [
    {
     "data": {
      "text/plain": [
       "['Location', 'WindGustDir', 'WindDir9am', 'WindDir3pm', 'RainToday']"
      ]
     },
     "execution_count": 672,
     "metadata": {},
     "output_type": "execute_result"
    }
   ],
   "source": [
    "cat_cols"
   ]
  },
  {
   "cell_type": "markdown",
   "metadata": {},
   "source": [
    "Cek kolom data numerik."
   ]
  },
  {
   "cell_type": "code",
   "execution_count": 673,
   "metadata": {},
   "outputs": [
    {
     "data": {
      "text/plain": [
       "['Date',\n",
       " 'MinTemp',\n",
       " 'MaxTemp',\n",
       " 'Rainfall',\n",
       " 'Evaporation',\n",
       " 'Sunshine',\n",
       " 'WindGustSpeed',\n",
       " 'WindSpeed9am',\n",
       " 'WindSpeed3pm',\n",
       " 'Humidity9am',\n",
       " 'Humidity3pm',\n",
       " 'Pressure9am',\n",
       " 'Pressure3pm',\n",
       " 'Cloud9am',\n",
       " 'Cloud3pm',\n",
       " 'Temp9am',\n",
       " 'Temp3pm',\n",
       " 'RainTomorrow',\n",
       " 'Day of The Year']"
      ]
     },
     "execution_count": 673,
     "metadata": {},
     "output_type": "execute_result"
    }
   ],
   "source": [
    "num_cols"
   ]
  },
  {
   "cell_type": "markdown",
   "metadata": {},
   "source": [
    "## 4. Exploratory Data Analysis (EDA)"
   ]
  },
  {
   "cell_type": "markdown",
   "metadata": {},
   "source": [
    "Pertama-tama, cek hubungan antar variabel numerik atau kategorik yang sudah dalam bentuk numerik (seperti `RainToday` dan `RainTomorrow`) menggunakan Pearson Correlation Coefficient melalui heatmap berikut."
   ]
  },
  {
   "cell_type": "code",
   "execution_count": 674,
   "metadata": {},
   "outputs": [
    {
     "data": {
      "image/png": "[encoded data removed]",
      "text/plain": [
       "<Figure size 1080x1080 with 2 Axes>"
      ]
     },
     "metadata": {
      "needs_background": "light"
     },
     "output_type": "display_data"
    }
   ],
   "source": [
    "plt.figure(figsize=(15,15))\n",
    "ax = sns.heatmap(df.corr(),annot=True)\n",
    "\n",
    "for t in ax.texts:\n",
    "    if (float(t.get_text()) > 0.7) | (float(t.get_text()) < -0.7):\n",
    "        t.set_text(t.get_text())\n",
    "    else:\n",
    "        t.set_text('')"
   ]
  },
  {
   "cell_type": "markdown",
   "metadata": {},
   "source": [
    "Tidak ditemukan feature yang memiliki korelasi kuat (>0.7 atau <-0.7) terhadap `RainTomorrow` pada heatmap."
   ]
  },
  {
   "cell_type": "markdown",
   "metadata": {},
   "source": [
    "Cek perbandingan jumlah data untuk `RainTomorrow`."
   ]
  },
  {
   "cell_type": "code",
   "execution_count": 675,
   "metadata": {},
   "outputs": [
    {
     "data": {
      "text/plain": [
       "Text(0.5, 1.0, 'Jumlah Data RainTomorrow')"
      ]
     },
     "execution_count": 675,
     "metadata": {},
     "output_type": "execute_result"
    },
    {
     "data": {
      "image/png": "[encoded data removed]",
      "text/plain": [
       "<Figure size 360x360 with 1 Axes>"
      ]
     },
     "metadata": {
      "needs_background": "light"
     },
     "output_type": "display_data"
    }
   ],
   "source": [
    "RainTomorrow = df['RainTomorrow'].value_counts().to_dict()\n",
    "\n",
    "plt.figure(figsize=(5,5))\n",
    "plt.bar(['No','Yes'], RainTomorrow.values())\n",
    "plt.xlabel('RainTomorrow?')\n",
    "plt.ylabel('Count')\n",
    "plt.title('Jumlah Data RainTomorrow')"
   ]
  },
  {
   "cell_type": "markdown",
   "metadata": {},
   "source": [
    "Rasio `No` terhadap `Yes` kira-kira 3 : 1. Cukup timpang. Lihat dalam pie chart."
   ]
  },
  {
   "cell_type": "code",
   "execution_count": 676,
   "metadata": {},
   "outputs": [
    {
     "data": {
      "image/png": "[encoded data removed]",
      "text/plain": [
       "<Figure size 360x360 with 1 Axes>"
      ]
     },
     "metadata": {},
     "output_type": "display_data"
    }
   ],
   "source": [
    "plt.figure(figsize=(5,5),facecolor='white')\n",
    "fig = plt.pie(RainTomorrow.values(), labels=['No','Yes'], autopct='%1.1f%%')\n",
    "plt.title('Perbandingan Data RainTomorrow')\n",
    "plt.show()"
   ]
  },
  {
   "cell_type": "markdown",
   "metadata": {},
   "source": [
    "Sekarang coba lihat sebaran `Rainfall` dari tahun ke tahun."
   ]
  },
  {
   "cell_type": "code",
   "execution_count": 677,
   "metadata": {},
   "outputs": [
    {
     "data": {
      "text/plain": [
       "[<matplotlib.lines.Line2D at 0x1a7eb424790>]"
      ]
     },
     "execution_count": 677,
     "metadata": {},
     "output_type": "execute_result"
    },
    {
     "data": {
      "image/png": "[encoded data removed]",
      "text/plain": [
       "<Figure size 720x720 with 1 Axes>"
      ]
     },
     "metadata": {
      "needs_background": "light"
     },
     "output_type": "display_data"
    }
   ],
   "source": [
    "plt.figure(figsize=(10,10))\n",
    "plt.plot(df['Date'], df['Rainfall'])"
   ]
  },
  {
   "cell_type": "markdown",
   "metadata": {},
   "source": [
    "Secara visual pola Rainfall terlihat mengikuti trend yang berulang-ulang dengan catatan terjadi lonjakan yang yang cukup besar pada tahun 2009, 2010, dan 2011."
   ]
  },
  {
   "cell_type": "markdown",
   "metadata": {},
   "source": [
    "## 5. Data Preprocessing"
   ]
  },
  {
   "cell_type": "markdown",
   "metadata": {},
   "source": [
    "Pada bab ini akan dilakukan pengolahan data sebelum digunakan untuk model."
   ]
  },
  {
   "cell_type": "markdown",
   "metadata": {},
   "source": [
    "### 5.1. Cardinality"
   ]
  },
  {
   "cell_type": "markdown",
   "metadata": {},
   "source": [
    "Kita perlu pastikan bahwa data yang kita gunakan tidak memiliki cardinality yang tinggi."
   ]
  },
  {
   "cell_type": "code",
   "execution_count": 678,
   "metadata": {},
   "outputs": [
    {
     "data": {
      "text/plain": [
       "Location       49\n",
       "WindGustDir    16\n",
       "WindDir9am     16\n",
       "WindDir3pm     16\n",
       "RainToday       2\n",
       "dtype: int64"
      ]
     },
     "execution_count": 678,
     "metadata": {},
     "output_type": "execute_result"
    }
   ],
   "source": [
    "df[cat_cols].nunique()"
   ]
  },
  {
   "cell_type": "markdown",
   "metadata": {},
   "source": [
    "Feature yang memiliki cardinality tertinggi adalah `Location` sebesar 49. Karena model ini akan digunakan untuk memprediksi hujan secara umum di Australia, maka feature ini tidak akan dipakai untuk model."
   ]
  },
  {
   "cell_type": "markdown",
   "metadata": {},
   "source": [
    "Feature lain yang memiliki cardinality cukup tinggi adalah arah angin yang terdiri dari 16 unique value. Feature ini dapat disederhanakan menjadi 8 unique value."
   ]
  },
  {
   "cell_type": "code",
   "execution_count": 679,
   "metadata": {},
   "outputs": [],
   "source": [
    "windir = {'ESE':'SE',\n",
    "            'SSE':'SE',\n",
    "            'SSW':'SW',\n",
    "            'WSW':'SW',\n",
    "            'WNW':'NW',\n",
    "            'NNW':'NW',\n",
    "            'NNE':'NE',\n",
    "            'ENE':'NE'}\n",
    "df[cat_cols].replace(windir,inplace=True)"
   ]
  },
  {
   "cell_type": "code",
   "execution_count": 680,
   "metadata": {},
   "outputs": [
    {
     "data": {
      "text/plain": [
       "Location       49\n",
       "WindGustDir     8\n",
       "WindDir9am      8\n",
       "WindDir3pm      8\n",
       "RainToday       2\n",
       "dtype: int64"
      ]
     },
     "execution_count": 680,
     "metadata": {},
     "output_type": "execute_result"
    }
   ],
   "source": [
    "df[cat_cols].nunique()"
   ]
  },
  {
   "cell_type": "markdown",
   "metadata": {},
   "source": [
    "Feature arah mata angin berhasil disederhanakan menjadi 8 arah mata angin."
   ]
  },
  {
   "cell_type": "markdown",
   "metadata": {},
   "source": [
    "### 5.2. Data Splitting"
   ]
  },
  {
   "cell_type": "markdown",
   "metadata": {},
   "source": [
    "Tahap berikutnya adalah membagi data menjadi inference, train, dan test set."
   ]
  },
  {
   "cell_type": "markdown",
   "metadata": {},
   "source": [
    "Drop kolom yang tidak dipakai berdasarkan pembahasan pada bab sebelumnya terlebih dahulu. `Date` karena sudah diwakilkan `Day of the Year` dan `Location` karena model tidak spesifik terhadap satu daerah atau kota saja."
   ]
  },
  {
   "cell_type": "code",
   "execution_count": 681,
   "metadata": {},
   "outputs": [],
   "source": [
    "df.drop(columns='Date', inplace=True)\n",
    "df.drop(columns='Location', inplace=True)\n",
    "num_cols.remove('Date')\n",
    "cat_cols.remove('Location')"
   ]
  },
  {
   "cell_type": "markdown",
   "metadata": {},
   "source": [
    "Ambil data untuk inferensial dan hapus data tersebut dari dataset yang akan dipisahkan menjadi train dan test set."
   ]
  },
  {
   "cell_type": "code",
   "execution_count": 682,
   "metadata": {},
   "outputs": [
    {
     "data": {
      "text/html": [
       "<div>\n",
       "<style scoped>\n",
       "    .dataframe tbody tr th:only-of-type {\n",
       "        vertical-align: middle;\n",
       "    }\n",
       "\n",
       "    .dataframe tbody tr th {\n",
       "        vertical-align: top;\n",
       "    }\n",
       "\n",
       "    .dataframe thead th {\n",
       "        text-align: right;\n",
       "    }\n",
       "</style>\n",
       "<table border=\"1\" class=\"dataframe\">\n",
       "  <thead>\n",
       "    <tr style=\"text-align: right;\">\n",
       "      <th></th>\n",
       "      <th>MinTemp</th>\n",
       "      <th>MaxTemp</th>\n",
       "      <th>Rainfall</th>\n",
       "      <th>Evaporation</th>\n",
       "      <th>Sunshine</th>\n",
       "      <th>WindGustDir</th>\n",
       "      <th>WindGustSpeed</th>\n",
       "      <th>WindDir9am</th>\n",
       "      <th>WindDir3pm</th>\n",
       "      <th>WindSpeed9am</th>\n",
       "      <th>WindSpeed3pm</th>\n",
       "      <th>Humidity9am</th>\n",
       "      <th>Humidity3pm</th>\n",
       "      <th>Pressure9am</th>\n",
       "      <th>Pressure3pm</th>\n",
       "      <th>Cloud9am</th>\n",
       "      <th>Cloud3pm</th>\n",
       "      <th>Temp9am</th>\n",
       "      <th>Temp3pm</th>\n",
       "      <th>RainToday</th>\n",
       "      <th>RainTomorrow</th>\n",
       "      <th>Day of The Year</th>\n",
       "    </tr>\n",
       "  </thead>\n",
       "  <tbody>\n",
       "    <tr>\n",
       "      <th>42120</th>\n",
       "      <td>11.5</td>\n",
       "      <td>23.3</td>\n",
       "      <td>0.0</td>\n",
       "      <td>5.0</td>\n",
       "      <td>4.7</td>\n",
       "      <td>SE</td>\n",
       "      <td>37.0</td>\n",
       "      <td>W</td>\n",
       "      <td>S</td>\n",
       "      <td>11.0</td>\n",
       "      <td>30.0</td>\n",
       "      <td>74.0</td>\n",
       "      <td>60.0</td>\n",
       "      <td>1031.1</td>\n",
       "      <td>1028.8</td>\n",
       "      <td>5.0</td>\n",
       "      <td>2.0</td>\n",
       "      <td>17.6</td>\n",
       "      <td>21.9</td>\n",
       "      <td>0.0</td>\n",
       "      <td>0.0</td>\n",
       "      <td>116</td>\n",
       "    </tr>\n",
       "    <tr>\n",
       "      <th>13909</th>\n",
       "      <td>13.9</td>\n",
       "      <td>27.4</td>\n",
       "      <td>0.0</td>\n",
       "      <td>4.4</td>\n",
       "      <td>10.8</td>\n",
       "      <td>SW</td>\n",
       "      <td>31.0</td>\n",
       "      <td>E</td>\n",
       "      <td>SW</td>\n",
       "      <td>17.0</td>\n",
       "      <td>20.0</td>\n",
       "      <td>50.0</td>\n",
       "      <td>27.0</td>\n",
       "      <td>1017.6</td>\n",
       "      <td>1014.4</td>\n",
       "      <td>1.0</td>\n",
       "      <td>3.0</td>\n",
       "      <td>21.1</td>\n",
       "      <td>26.0</td>\n",
       "      <td>0.0</td>\n",
       "      <td>0.0</td>\n",
       "      <td>106</td>\n",
       "    </tr>\n",
       "    <tr>\n",
       "      <th>76533</th>\n",
       "      <td>10.8</td>\n",
       "      <td>16.5</td>\n",
       "      <td>5.8</td>\n",
       "      <td>0.6</td>\n",
       "      <td>0.2</td>\n",
       "      <td>W</td>\n",
       "      <td>54.0</td>\n",
       "      <td>NW</td>\n",
       "      <td>NW</td>\n",
       "      <td>26.0</td>\n",
       "      <td>28.0</td>\n",
       "      <td>94.0</td>\n",
       "      <td>84.0</td>\n",
       "      <td>1021.3</td>\n",
       "      <td>1019.9</td>\n",
       "      <td>8.0</td>\n",
       "      <td>8.0</td>\n",
       "      <td>13.5</td>\n",
       "      <td>15.8</td>\n",
       "      <td>1.0</td>\n",
       "      <td>1.0</td>\n",
       "      <td>182</td>\n",
       "    </tr>\n",
       "  </tbody>\n",
       "</table>\n",
       "</div>"
      ],
      "text/plain": [
       "       MinTemp  MaxTemp  Rainfall  Evaporation  Sunshine WindGustDir  \\\n",
       "42120     11.5     23.3       0.0          5.0       4.7          SE   \n",
       "13909     13.9     27.4       0.0          4.4      10.8          SW   \n",
       "76533     10.8     16.5       5.8          0.6       0.2           W   \n",
       "\n",
       "       WindGustSpeed WindDir9am WindDir3pm  WindSpeed9am  WindSpeed3pm  \\\n",
       "42120           37.0          W          S          11.0          30.0   \n",
       "13909           31.0          E         SW          17.0          20.0   \n",
       "76533           54.0         NW         NW          26.0          28.0   \n",
       "\n",
       "       Humidity9am  Humidity3pm  Pressure9am  Pressure3pm  Cloud9am  Cloud3pm  \\\n",
       "42120         74.0         60.0       1031.1       1028.8       5.0       2.0   \n",
       "13909         50.0         27.0       1017.6       1014.4       1.0       3.0   \n",
       "76533         94.0         84.0       1021.3       1019.9       8.0       8.0   \n",
       "\n",
       "       Temp9am  Temp3pm  RainToday  RainTomorrow  Day of The Year  \n",
       "42120     17.6     21.9        0.0           0.0              116  \n",
       "13909     21.1     26.0        0.0           0.0              106  \n",
       "76533     13.5     15.8        1.0           1.0              182  "
      ]
     },
     "execution_count": 682,
     "metadata": {},
     "output_type": "execute_result"
    }
   ],
   "source": [
    "#data inference\n",
    "df_inf = df.dropna().sample(3, random_state=random_state)\n",
    "df_tt = df.drop(index=df_inf.index)\n",
    "df_inf"
   ]
  },
  {
   "cell_type": "markdown",
   "metadata": {},
   "source": [
    "Deklarasikan feature dan target."
   ]
  },
  {
   "cell_type": "code",
   "execution_count": 683,
   "metadata": {},
   "outputs": [],
   "source": [
    "#deklarasi train test\n",
    "X = df_tt.drop(columns='RainTomorrow')\n",
    "y = df_tt['RainTomorrow']"
   ]
  },
  {
   "cell_type": "markdown",
   "metadata": {},
   "source": [
    "Bagi data menjadi X (feature) dan y (target) untuk masing-masing train dan test set. Sample test set yang diambil sebanyak 20% dari total data pada dataset."
   ]
  },
  {
   "cell_type": "code",
   "execution_count": 684,
   "metadata": {},
   "outputs": [],
   "source": [
    "X_train, X_test, y_train, y_test = train_test_split(X,y,test_size=0.2,random_state=random_state)"
   ]
  },
  {
   "cell_type": "markdown",
   "metadata": {},
   "source": [
    "Pastikan jumlah unique value sama antara train dan test set agar tidak ada nilai kategorik ada di kedua set."
   ]
  },
  {
   "cell_type": "code",
   "execution_count": 685,
   "metadata": {},
   "outputs": [
    {
     "data": {
      "text/plain": [
       "WindGustDir    8\n",
       "WindDir9am     8\n",
       "WindDir3pm     8\n",
       "RainToday      2\n",
       "dtype: int64"
      ]
     },
     "execution_count": 685,
     "metadata": {},
     "output_type": "execute_result"
    }
   ],
   "source": [
    "X_train[cat_cols].nunique()"
   ]
  },
  {
   "cell_type": "code",
   "execution_count": 686,
   "metadata": {},
   "outputs": [
    {
     "data": {
      "text/plain": [
       "WindGustDir    8\n",
       "WindDir9am     8\n",
       "WindDir3pm     8\n",
       "RainToday      2\n",
       "dtype: int64"
      ]
     },
     "execution_count": 686,
     "metadata": {},
     "output_type": "execute_result"
    }
   ],
   "source": [
    "X_test[cat_cols].nunique()"
   ]
  },
  {
   "cell_type": "markdown",
   "metadata": {},
   "source": [
    "Jumlah nilai kategorik sudah sama. Pisah kolom menjadi feature numerik dan katgetorik."
   ]
  },
  {
   "cell_type": "code",
   "execution_count": 687,
   "metadata": {},
   "outputs": [],
   "source": [
    "X_train_cat = X_train[cat_cols]\n",
    "X_train_num = X_train.drop(columns=cat_cols)\n",
    "\n",
    "X_test_cat = X_test[cat_cols]\n",
    "X_test_num = X_test.drop(columns=cat_cols)"
   ]
  },
  {
   "cell_type": "markdown",
   "metadata": {},
   "source": [
    "### 5.3. Handling Outliers"
   ]
  },
  {
   "cell_type": "markdown",
   "metadata": {},
   "source": [
    "Deteksi outlier pada feature numerik. Definisikan fungsi untuk deteksi outlier terlebih dahulu."
   ]
  },
  {
   "cell_type": "code",
   "execution_count": 688,
   "metadata": {},
   "outputs": [],
   "source": [
    "#deteksi outlier untuk distribusi normal\n",
    "def find_normal_boundaries(dataframe, variable):\n",
    "    upper_boundary = dataframe[variable].mean() + 3 * dataframe[variable].std()\n",
    "    lower_boundary = dataframe[variable].mean() - 3 * dataframe[variable].std()\n",
    "    return upper_boundary, lower_boundary\n",
    "\n",
    "#deteksi outlier untuk distribusi skewed\n",
    "def find_skewed_boundaries(dataframe, variable):\n",
    "    Q1 = dataframe[variable].quantile(0.25)\n",
    "    Q3 = dataframe[variable].quantile(0.75)\n",
    "    IQR = Q3 - Q1\n",
    "    upper_boundary = Q3 + 1.5 * IQR\n",
    "    lower_boundary = Q1 - 1.5 * IQR\n",
    "    return upper_boundary, lower_boundary\n",
    "\n",
    "#deteksi outlier untuk distribusi skewed extreme\n",
    "def find_extreme_skewed_boundaries(dataframe, variable):\n",
    "    Q1 = dataframe[variable].quantile(0.25)\n",
    "    Q3 = dataframe[variable].quantile(0.75)\n",
    "    IQR = Q3 - Q1\n",
    "    upper_boundary = Q3 + 3 * IQR\n",
    "    lower_boundary = Q1 - 3 * IQR\n",
    "    return upper_boundary, lower_boundary"
   ]
  },
  {
   "cell_type": "markdown",
   "metadata": {},
   "source": [
    "Rangkum outlier pada feature numerik."
   ]
  },
  {
   "cell_type": "code",
   "execution_count": 689,
   "metadata": {},
   "outputs": [
    {
     "data": {
      "text/html": [
       "<div>\n",
       "<style scoped>\n",
       "    .dataframe tbody tr th:only-of-type {\n",
       "        vertical-align: middle;\n",
       "    }\n",
       "\n",
       "    .dataframe tbody tr th {\n",
       "        vertical-align: top;\n",
       "    }\n",
       "\n",
       "    .dataframe thead th {\n",
       "        text-align: right;\n",
       "    }\n",
       "</style>\n",
       "<table border=\"1\" class=\"dataframe\">\n",
       "  <thead>\n",
       "    <tr style=\"text-align: right;\">\n",
       "      <th></th>\n",
       "      <th>distribution_type</th>\n",
       "      <th>skewnewss</th>\n",
       "      <th>upper_limit</th>\n",
       "      <th>lower_limit</th>\n",
       "      <th>max</th>\n",
       "      <th>min</th>\n",
       "      <th>outliers_percent</th>\n",
       "    </tr>\n",
       "  </thead>\n",
       "  <tbody>\n",
       "    <tr>\n",
       "      <th>Rainfall</th>\n",
       "      <td>Skewed</td>\n",
       "      <td>9.32</td>\n",
       "      <td>2.00</td>\n",
       "      <td>-1.20</td>\n",
       "      <td>371.0</td>\n",
       "      <td>0.0</td>\n",
       "      <td>17.68</td>\n",
       "    </tr>\n",
       "    <tr>\n",
       "      <th>WindGustSpeed</th>\n",
       "      <td>Skewed</td>\n",
       "      <td>0.87</td>\n",
       "      <td>73.50</td>\n",
       "      <td>5.50</td>\n",
       "      <td>135.0</td>\n",
       "      <td>6.0</td>\n",
       "      <td>2.14</td>\n",
       "    </tr>\n",
       "    <tr>\n",
       "      <th>WindSpeed3pm</th>\n",
       "      <td>Skewed</td>\n",
       "      <td>0.63</td>\n",
       "      <td>40.50</td>\n",
       "      <td>-3.50</td>\n",
       "      <td>87.0</td>\n",
       "      <td>0.0</td>\n",
       "      <td>1.71</td>\n",
       "    </tr>\n",
       "    <tr>\n",
       "      <th>Evaporation</th>\n",
       "      <td>Skewed</td>\n",
       "      <td>3.86</td>\n",
       "      <td>14.60</td>\n",
       "      <td>-4.60</td>\n",
       "      <td>145.0</td>\n",
       "      <td>0.0</td>\n",
       "      <td>1.38</td>\n",
       "    </tr>\n",
       "    <tr>\n",
       "      <th>WindSpeed9am</th>\n",
       "      <td>Skewed</td>\n",
       "      <td>0.77</td>\n",
       "      <td>37.00</td>\n",
       "      <td>-11.00</td>\n",
       "      <td>130.0</td>\n",
       "      <td>0.0</td>\n",
       "      <td>1.24</td>\n",
       "    </tr>\n",
       "    <tr>\n",
       "      <th>Pressure9am</th>\n",
       "      <td>Normal</td>\n",
       "      <td>-0.10</td>\n",
       "      <td>1039.00</td>\n",
       "      <td>996.31</td>\n",
       "      <td>1041.0</td>\n",
       "      <td>980.5</td>\n",
       "      <td>0.36</td>\n",
       "    </tr>\n",
       "    <tr>\n",
       "      <th>Humidity9am</th>\n",
       "      <td>Normal</td>\n",
       "      <td>-0.49</td>\n",
       "      <td>125.98</td>\n",
       "      <td>11.83</td>\n",
       "      <td>100.0</td>\n",
       "      <td>1.0</td>\n",
       "      <td>0.32</td>\n",
       "    </tr>\n",
       "    <tr>\n",
       "      <th>Pressure3pm</th>\n",
       "      <td>Normal</td>\n",
       "      <td>-0.05</td>\n",
       "      <td>1036.39</td>\n",
       "      <td>994.14</td>\n",
       "      <td>1039.6</td>\n",
       "      <td>978.2</td>\n",
       "      <td>0.30</td>\n",
       "    </tr>\n",
       "    <tr>\n",
       "      <th>Temp3pm</th>\n",
       "      <td>Normal</td>\n",
       "      <td>0.24</td>\n",
       "      <td>42.49</td>\n",
       "      <td>0.87</td>\n",
       "      <td>46.7</td>\n",
       "      <td>-5.1</td>\n",
       "      <td>0.28</td>\n",
       "    </tr>\n",
       "    <tr>\n",
       "      <th>MaxTemp</th>\n",
       "      <td>Normal</td>\n",
       "      <td>0.22</td>\n",
       "      <td>44.57</td>\n",
       "      <td>1.86</td>\n",
       "      <td>48.1</td>\n",
       "      <td>-4.1</td>\n",
       "      <td>0.23</td>\n",
       "    </tr>\n",
       "    <tr>\n",
       "      <th>Temp9am</th>\n",
       "      <td>Normal</td>\n",
       "      <td>0.09</td>\n",
       "      <td>36.45</td>\n",
       "      <td>-2.48</td>\n",
       "      <td>40.2</td>\n",
       "      <td>-7.0</td>\n",
       "      <td>0.10</td>\n",
       "    </tr>\n",
       "    <tr>\n",
       "      <th>MinTemp</th>\n",
       "      <td>Normal</td>\n",
       "      <td>0.02</td>\n",
       "      <td>31.39</td>\n",
       "      <td>-7.00</td>\n",
       "      <td>33.9</td>\n",
       "      <td>-8.5</td>\n",
       "      <td>0.01</td>\n",
       "    </tr>\n",
       "  </tbody>\n",
       "</table>\n",
       "</div>"
      ],
      "text/plain": [
       "              distribution_type  skewnewss  upper_limit  lower_limit     max  \\\n",
       "Rainfall                 Skewed       9.32         2.00        -1.20   371.0   \n",
       "WindGustSpeed            Skewed       0.87        73.50         5.50   135.0   \n",
       "WindSpeed3pm             Skewed       0.63        40.50        -3.50    87.0   \n",
       "Evaporation              Skewed       3.86        14.60        -4.60   145.0   \n",
       "WindSpeed9am             Skewed       0.77        37.00       -11.00   130.0   \n",
       "Pressure9am              Normal      -0.10      1039.00       996.31  1041.0   \n",
       "Humidity9am              Normal      -0.49       125.98        11.83   100.0   \n",
       "Pressure3pm              Normal      -0.05      1036.39       994.14  1039.6   \n",
       "Temp3pm                  Normal       0.24        42.49         0.87    46.7   \n",
       "MaxTemp                  Normal       0.22        44.57         1.86    48.1   \n",
       "Temp9am                  Normal       0.09        36.45        -2.48    40.2   \n",
       "MinTemp                  Normal       0.02        31.39        -7.00    33.9   \n",
       "\n",
       "                 min  outliers_percent  \n",
       "Rainfall         0.0             17.68  \n",
       "WindGustSpeed    6.0              2.14  \n",
       "WindSpeed3pm     0.0              1.71  \n",
       "Evaporation      0.0              1.38  \n",
       "WindSpeed9am     0.0              1.24  \n",
       "Pressure9am    980.5              0.36  \n",
       "Humidity9am      1.0              0.32  \n",
       "Pressure3pm    978.2              0.30  \n",
       "Temp3pm         -5.1              0.28  \n",
       "MaxTemp         -4.1              0.23  \n",
       "Temp9am         -7.0              0.10  \n",
       "MinTemp         -8.5              0.01  "
      ]
     },
     "execution_count": 689,
     "metadata": {},
     "output_type": "execute_result"
    }
   ],
   "source": [
    "#variable untuk summary\n",
    "distribution = []\n",
    "skewness = []\n",
    "upper_limit = []\n",
    "lower_limit = []\n",
    "outliers_percent = []\n",
    "max = []\n",
    "min = []\n",
    "\n",
    "#loop untuk summary outlier\n",
    "for column in X_train_num.columns:\n",
    "    col_skewness = X_train_num[column].skew()\n",
    "\n",
    "    if (col_skewness >= -0.5) & (col_skewness <= 0.5):\n",
    "        col_distribution = 'Normal'\n",
    "        col_upper_limit, col_lower_limit = find_normal_boundaries(X_train_num,column)      \n",
    "\n",
    "    else:\n",
    "        col_distribution = 'Skewed'\n",
    "        col_upper_limit, col_lower_limit = find_skewed_boundaries(X_train_num,column)\n",
    "    \n",
    "    col_max = X_train_num[column].max()\n",
    "    col_min = X_train_num[column].min()\n",
    "    col_outliers_percent = (len(X_train_num[X_train_num[column] > col_upper_limit]) + len(X_train_num[X_train_num[column] < col_lower_limit])) / len(X_train_num) * 100\n",
    "    \n",
    "    distribution.append(col_distribution)\n",
    "    skewness.append(col_skewness)\n",
    "    upper_limit.append(col_upper_limit)\n",
    "    max.append(col_max)\n",
    "    min.append(col_min)\n",
    "    lower_limit.append(col_lower_limit)\n",
    "    outliers_percent.append(col_outliers_percent)\n",
    "\n",
    "#df summary\n",
    "outliers_summary = {'distribution_type':distribution, 'skewnewss':skewness, 'upper_limit':upper_limit, 'lower_limit':lower_limit, 'max':max, 'min':min , 'outliers_percent':outliers_percent}\n",
    "outliers_summary = pd.DataFrame(outliers_summary,index=X_train_num.columns)\n",
    "outliers_summary = outliers_summary[outliers_summary['outliers_percent'] > 0]\n",
    "outliers_summary = round(outliers_summary.sort_values(by='outliers_percent',ascending=False),2)\n",
    "outliers_summary"
   ]
  },
  {
   "cell_type": "markdown",
   "metadata": {},
   "source": [
    "Feature `Rainfall` memiliki outlier dengan jumlah terbanyak hingga 17.68%. Karena jumlahnya yang banyak tersebut, feature ini tidak akan di-trim maupun di-cap."
   ]
  },
  {
   "cell_type": "markdown",
   "metadata": {},
   "source": [
    "Feature lain dengan jumlah outlier di bawah 5% akan di-trim. Kelompokkan feature-featuter tersebut terlebih dahulu."
   ]
  },
  {
   "cell_type": "code",
   "execution_count": 690,
   "metadata": {},
   "outputs": [],
   "source": [
    "#grouping outliers\n",
    "outliers_retain = list(outliers_summary[(outliers_summary['outliers_percent']>15)].index)\n",
    "outliers_capping = list(outliers_summary[(outliers_summary['outliers_percent']>=5) & (outliers_summary['outliers_percent']<=15)].index)\n",
    "outliers_trimming = list(outliers_summary[(outliers_summary['outliers_percent']<5)].index)"
   ]
  },
  {
   "cell_type": "markdown",
   "metadata": {},
   "source": [
    "Cek feature yang akan di-retain."
   ]
  },
  {
   "cell_type": "code",
   "execution_count": 691,
   "metadata": {},
   "outputs": [
    {
     "data": {
      "text/html": [
       "<div>\n",
       "<style scoped>\n",
       "    .dataframe tbody tr th:only-of-type {\n",
       "        vertical-align: middle;\n",
       "    }\n",
       "\n",
       "    .dataframe tbody tr th {\n",
       "        vertical-align: top;\n",
       "    }\n",
       "\n",
       "    .dataframe thead th {\n",
       "        text-align: right;\n",
       "    }\n",
       "</style>\n",
       "<table border=\"1\" class=\"dataframe\">\n",
       "  <thead>\n",
       "    <tr style=\"text-align: right;\">\n",
       "      <th></th>\n",
       "      <th>distribution_type</th>\n",
       "      <th>skewnewss</th>\n",
       "      <th>upper_limit</th>\n",
       "      <th>lower_limit</th>\n",
       "      <th>max</th>\n",
       "      <th>min</th>\n",
       "      <th>outliers_percent</th>\n",
       "    </tr>\n",
       "  </thead>\n",
       "  <tbody>\n",
       "    <tr>\n",
       "      <th>Rainfall</th>\n",
       "      <td>Skewed</td>\n",
       "      <td>9.32</td>\n",
       "      <td>2.0</td>\n",
       "      <td>-1.2</td>\n",
       "      <td>371.0</td>\n",
       "      <td>0.0</td>\n",
       "      <td>17.68</td>\n",
       "    </tr>\n",
       "  </tbody>\n",
       "</table>\n",
       "</div>"
      ],
      "text/plain": [
       "         distribution_type  skewnewss  upper_limit  lower_limit    max  min  \\\n",
       "Rainfall            Skewed       9.32          2.0         -1.2  371.0  0.0   \n",
       "\n",
       "          outliers_percent  \n",
       "Rainfall             17.68  "
      ]
     },
     "execution_count": 691,
     "metadata": {},
     "output_type": "execute_result"
    }
   ],
   "source": [
    "#cek feature dengan outlier yang akan di-retain\n",
    "outliers_summary.loc[outliers_retain]"
   ]
  },
  {
   "cell_type": "markdown",
   "metadata": {},
   "source": [
    "Feature ini terdistribusi secara skewed yang cukup parah. Lihat grafik distribusi feature di bawah."
   ]
  },
  {
   "cell_type": "code",
   "execution_count": 692,
   "metadata": {},
   "outputs": [
    {
     "data": {
      "text/plain": [
       "<AxesSubplot:ylabel='Count'>"
      ]
     },
     "execution_count": 692,
     "metadata": {},
     "output_type": "execute_result"
    },
    {
     "data": {
      "image/png": "[encoded data removed]",
      "text/plain": [
       "<Figure size 432x288 with 1 Axes>"
      ]
     },
     "metadata": {
      "needs_background": "light"
     },
     "output_type": "display_data"
    }
   ],
   "source": [
    "sns.histplot(X_train_num[outliers_retain],bins=50)"
   ]
  },
  {
   "cell_type": "markdown",
   "metadata": {},
   "source": [
    "Selanjutnya cek feature yang akan di-trim."
   ]
  },
  {
   "cell_type": "code",
   "execution_count": 693,
   "metadata": {},
   "outputs": [
    {
     "data": {
      "text/html": [
       "<div>\n",
       "<style scoped>\n",
       "    .dataframe tbody tr th:only-of-type {\n",
       "        vertical-align: middle;\n",
       "    }\n",
       "\n",
       "    .dataframe tbody tr th {\n",
       "        vertical-align: top;\n",
       "    }\n",
       "\n",
       "    .dataframe thead th {\n",
       "        text-align: right;\n",
       "    }\n",
       "</style>\n",
       "<table border=\"1\" class=\"dataframe\">\n",
       "  <thead>\n",
       "    <tr style=\"text-align: right;\">\n",
       "      <th></th>\n",
       "      <th>distribution_type</th>\n",
       "      <th>skewnewss</th>\n",
       "      <th>upper_limit</th>\n",
       "      <th>lower_limit</th>\n",
       "      <th>max</th>\n",
       "      <th>min</th>\n",
       "      <th>outliers_percent</th>\n",
       "    </tr>\n",
       "  </thead>\n",
       "  <tbody>\n",
       "    <tr>\n",
       "      <th>WindGustSpeed</th>\n",
       "      <td>Skewed</td>\n",
       "      <td>0.87</td>\n",
       "      <td>73.50</td>\n",
       "      <td>5.50</td>\n",
       "      <td>135.0</td>\n",
       "      <td>6.0</td>\n",
       "      <td>2.14</td>\n",
       "    </tr>\n",
       "    <tr>\n",
       "      <th>WindSpeed3pm</th>\n",
       "      <td>Skewed</td>\n",
       "      <td>0.63</td>\n",
       "      <td>40.50</td>\n",
       "      <td>-3.50</td>\n",
       "      <td>87.0</td>\n",
       "      <td>0.0</td>\n",
       "      <td>1.71</td>\n",
       "    </tr>\n",
       "    <tr>\n",
       "      <th>Evaporation</th>\n",
       "      <td>Skewed</td>\n",
       "      <td>3.86</td>\n",
       "      <td>14.60</td>\n",
       "      <td>-4.60</td>\n",
       "      <td>145.0</td>\n",
       "      <td>0.0</td>\n",
       "      <td>1.38</td>\n",
       "    </tr>\n",
       "    <tr>\n",
       "      <th>WindSpeed9am</th>\n",
       "      <td>Skewed</td>\n",
       "      <td>0.77</td>\n",
       "      <td>37.00</td>\n",
       "      <td>-11.00</td>\n",
       "      <td>130.0</td>\n",
       "      <td>0.0</td>\n",
       "      <td>1.24</td>\n",
       "    </tr>\n",
       "    <tr>\n",
       "      <th>Pressure9am</th>\n",
       "      <td>Normal</td>\n",
       "      <td>-0.10</td>\n",
       "      <td>1039.00</td>\n",
       "      <td>996.31</td>\n",
       "      <td>1041.0</td>\n",
       "      <td>980.5</td>\n",
       "      <td>0.36</td>\n",
       "    </tr>\n",
       "    <tr>\n",
       "      <th>Humidity9am</th>\n",
       "      <td>Normal</td>\n",
       "      <td>-0.49</td>\n",
       "      <td>125.98</td>\n",
       "      <td>11.83</td>\n",
       "      <td>100.0</td>\n",
       "      <td>1.0</td>\n",
       "      <td>0.32</td>\n",
       "    </tr>\n",
       "    <tr>\n",
       "      <th>Pressure3pm</th>\n",
       "      <td>Normal</td>\n",
       "      <td>-0.05</td>\n",
       "      <td>1036.39</td>\n",
       "      <td>994.14</td>\n",
       "      <td>1039.6</td>\n",
       "      <td>978.2</td>\n",
       "      <td>0.30</td>\n",
       "    </tr>\n",
       "    <tr>\n",
       "      <th>Temp3pm</th>\n",
       "      <td>Normal</td>\n",
       "      <td>0.24</td>\n",
       "      <td>42.49</td>\n",
       "      <td>0.87</td>\n",
       "      <td>46.7</td>\n",
       "      <td>-5.1</td>\n",
       "      <td>0.28</td>\n",
       "    </tr>\n",
       "    <tr>\n",
       "      <th>MaxTemp</th>\n",
       "      <td>Normal</td>\n",
       "      <td>0.22</td>\n",
       "      <td>44.57</td>\n",
       "      <td>1.86</td>\n",
       "      <td>48.1</td>\n",
       "      <td>-4.1</td>\n",
       "      <td>0.23</td>\n",
       "    </tr>\n",
       "    <tr>\n",
       "      <th>Temp9am</th>\n",
       "      <td>Normal</td>\n",
       "      <td>0.09</td>\n",
       "      <td>36.45</td>\n",
       "      <td>-2.48</td>\n",
       "      <td>40.2</td>\n",
       "      <td>-7.0</td>\n",
       "      <td>0.10</td>\n",
       "    </tr>\n",
       "    <tr>\n",
       "      <th>MinTemp</th>\n",
       "      <td>Normal</td>\n",
       "      <td>0.02</td>\n",
       "      <td>31.39</td>\n",
       "      <td>-7.00</td>\n",
       "      <td>33.9</td>\n",
       "      <td>-8.5</td>\n",
       "      <td>0.01</td>\n",
       "    </tr>\n",
       "  </tbody>\n",
       "</table>\n",
       "</div>"
      ],
      "text/plain": [
       "              distribution_type  skewnewss  upper_limit  lower_limit     max  \\\n",
       "WindGustSpeed            Skewed       0.87        73.50         5.50   135.0   \n",
       "WindSpeed3pm             Skewed       0.63        40.50        -3.50    87.0   \n",
       "Evaporation              Skewed       3.86        14.60        -4.60   145.0   \n",
       "WindSpeed9am             Skewed       0.77        37.00       -11.00   130.0   \n",
       "Pressure9am              Normal      -0.10      1039.00       996.31  1041.0   \n",
       "Humidity9am              Normal      -0.49       125.98        11.83   100.0   \n",
       "Pressure3pm              Normal      -0.05      1036.39       994.14  1039.6   \n",
       "Temp3pm                  Normal       0.24        42.49         0.87    46.7   \n",
       "MaxTemp                  Normal       0.22        44.57         1.86    48.1   \n",
       "Temp9am                  Normal       0.09        36.45        -2.48    40.2   \n",
       "MinTemp                  Normal       0.02        31.39        -7.00    33.9   \n",
       "\n",
       "                 min  outliers_percent  \n",
       "WindGustSpeed    6.0              2.14  \n",
       "WindSpeed3pm     0.0              1.71  \n",
       "Evaporation      0.0              1.38  \n",
       "WindSpeed9am     0.0              1.24  \n",
       "Pressure9am    980.5              0.36  \n",
       "Humidity9am      1.0              0.32  \n",
       "Pressure3pm    978.2              0.30  \n",
       "Temp3pm         -5.1              0.28  \n",
       "MaxTemp         -4.1              0.23  \n",
       "Temp9am         -7.0              0.10  \n",
       "MinTemp         -8.5              0.01  "
      ]
     },
     "execution_count": 693,
     "metadata": {},
     "output_type": "execute_result"
    }
   ],
   "source": [
    "#cek feature dengan outlier yang akan di-cap\n",
    "outliers_summary.loc[outliers_trimming]"
   ]
  },
  {
   "cell_type": "markdown",
   "metadata": {},
   "source": [
    "Sebagian besar feature yang akan di-trim memiliki distribusi normal. Feature yang memiliki skewness cukup besar hanya satu, yaitu `Evaporation`."
   ]
  },
  {
   "cell_type": "markdown",
   "metadata": {},
   "source": [
    "Tentukan index dari outlier yang akan di-trim."
   ]
  },
  {
   "cell_type": "code",
   "execution_count": 694,
   "metadata": {},
   "outputs": [
    {
     "data": {
      "text/plain": [
       "6869"
      ]
     },
     "execution_count": 694,
     "metadata": {},
     "output_type": "execute_result"
    }
   ],
   "source": [
    "#menentukan index untuk trim\n",
    "trim_index = []\n",
    "for col in outliers_trimming:\n",
    "    upper = outliers_summary.loc[col]['upper_limit']\n",
    "    lower = outliers_summary.loc[col]['lower_limit']\n",
    "    trim_index.append(X_train_num[((X_train_num[col]>upper) | (X_train_num[col]<lower)) & (X_train_num[col].isnull()==False)].index)\n",
    "\n",
    "trim_index = [item for sublist in trim_index for item in sublist]\n",
    "trim_index = list(set(trim_index))\n",
    "len(trim_index)"
   ]
  },
  {
   "cell_type": "markdown",
   "metadata": {},
   "source": [
    "Pastikan ukuran train set sebelum di-trim."
   ]
  },
  {
   "cell_type": "code",
   "execution_count": 695,
   "metadata": {},
   "outputs": [
    {
     "data": {
      "text/plain": [
       "((116365, 17), (116365, 4), (116365,))"
      ]
     },
     "execution_count": 695,
     "metadata": {},
     "output_type": "execute_result"
    }
   ],
   "source": [
    "X_train_num.shape, X_train_cat.shape, y_train.shape"
   ]
  },
  {
   "cell_type": "markdown",
   "metadata": {},
   "source": [
    "Trim train set berdasarkan index yang telah ditentukan."
   ]
  },
  {
   "cell_type": "code",
   "execution_count": 696,
   "metadata": {},
   "outputs": [
    {
     "data": {
      "text/plain": [
       "((109496, 17), (109496, 4), (109496,))"
      ]
     },
     "execution_count": 696,
     "metadata": {},
     "output_type": "execute_result"
    }
   ],
   "source": [
    "X_train_num = X_train_num.drop(index=trim_index)\n",
    "X_train_cat = X_train_cat.drop(index=trim_index)\n",
    "y_train = y_train.drop(index=trim_index)\n",
    "\n",
    "X_train_num.shape, X_train_cat.shape, y_train.shape"
   ]
  },
  {
   "cell_type": "markdown",
   "metadata": {},
   "source": [
    "### 5.4. Handling Missing Values"
   ]
  },
  {
   "cell_type": "markdown",
   "metadata": {},
   "source": [
    "Selanjutnya akan dilakukan pengolahan missing value."
   ]
  },
  {
   "cell_type": "markdown",
   "metadata": {},
   "source": [
    "#### Categorical Features"
   ]
  },
  {
   "cell_type": "markdown",
   "metadata": {},
   "source": [
    "Untuk feature kategorikal, akan dilakukan imputasi dengan modus."
   ]
  },
  {
   "cell_type": "markdown",
   "metadata": {},
   "source": [
    "Cek jumlah missing value pada tiap feature."
   ]
  },
  {
   "cell_type": "code",
   "execution_count": 697,
   "metadata": {},
   "outputs": [
    {
     "data": {
      "text/plain": [
       "WindGustDir    7978\n",
       "WindDir9am     8305\n",
       "WindDir3pm     3285\n",
       "RainToday      2448\n",
       "dtype: int64"
      ]
     },
     "execution_count": 697,
     "metadata": {},
     "output_type": "execute_result"
    }
   ],
   "source": [
    "X_train_cat.isnull().sum()"
   ]
  },
  {
   "cell_type": "code",
   "execution_count": 698,
   "metadata": {},
   "outputs": [
    {
     "data": {
      "text/plain": [
       "WindGustDir    2022\n",
       "WindDir9am     2130\n",
       "WindDir3pm      841\n",
       "RainToday       645\n",
       "dtype: int64"
      ]
     },
     "execution_count": 698,
     "metadata": {},
     "output_type": "execute_result"
    }
   ],
   "source": [
    "X_test_cat.isnull().sum()"
   ]
  },
  {
   "cell_type": "markdown",
   "metadata": {},
   "source": [
    "Keempat feature memiliki missing value. Lakukan imputasi."
   ]
  },
  {
   "cell_type": "code",
   "execution_count": 699,
   "metadata": {},
   "outputs": [],
   "source": [
    "for col in X_train_cat.columns:\n",
    "    X_train_cat[col] = X_train_cat[col].fillna(X_train_cat[col].mode()[0])\n",
    "    X_test_cat[col] = X_test_cat[col].fillna(X_train_cat[col].mode()[0])"
   ]
  },
  {
   "cell_type": "markdown",
   "metadata": {},
   "source": [
    "Cek ulang jumlah missing value pada tiap feature."
   ]
  },
  {
   "cell_type": "code",
   "execution_count": 700,
   "metadata": {},
   "outputs": [
    {
     "data": {
      "text/plain": [
       "(0, 0)"
      ]
     },
     "execution_count": 700,
     "metadata": {},
     "output_type": "execute_result"
    }
   ],
   "source": [
    "X_train_cat.isnull().sum().sum(), X_test_cat.isnull().sum().sum()"
   ]
  },
  {
   "cell_type": "markdown",
   "metadata": {},
   "source": [
    "Tidak ada lagi missing value yang ditemukan."
   ]
  },
  {
   "cell_type": "markdown",
   "metadata": {},
   "source": [
    "#### Numerical Features"
   ]
  },
  {
   "cell_type": "markdown",
   "metadata": {},
   "source": [
    "Untuk feature numerikal akan dilakukan imputasi dengan mean untuk feature yang memiliki distribusi normal dan median untuk feature yang memiliki distribusi skewed."
   ]
  },
  {
   "cell_type": "markdown",
   "metadata": {},
   "source": [
    "Cek missing value pada tiap feature."
   ]
  },
  {
   "cell_type": "code",
   "execution_count": 701,
   "metadata": {},
   "outputs": [
    {
     "data": {
      "text/plain": [
       "MinTemp             1106\n",
       "MaxTemp              941\n",
       "Rainfall            2448\n",
       "Evaporation        47888\n",
       "Sunshine           52797\n",
       "WindGustSpeed       7933\n",
       "WindSpeed9am        1359\n",
       "WindSpeed3pm        2378\n",
       "Humidity9am         1954\n",
       "Humidity3pm         3399\n",
       "Pressure9am        11345\n",
       "Pressure3pm        11318\n",
       "Cloud9am           42319\n",
       "Cloud3pm           44973\n",
       "Temp9am             1258\n",
       "Temp3pm             2713\n",
       "Day of The Year        0\n",
       "dtype: int64"
      ]
     },
     "execution_count": 701,
     "metadata": {},
     "output_type": "execute_result"
    }
   ],
   "source": [
    "X_train_num.isnull().sum()"
   ]
  },
  {
   "cell_type": "code",
   "execution_count": 702,
   "metadata": {},
   "outputs": [
    {
     "data": {
      "text/plain": [
       "MinTemp              313\n",
       "MaxTemp              258\n",
       "Rainfall             645\n",
       "Evaporation        12444\n",
       "Sunshine           13943\n",
       "WindGustSpeed       2006\n",
       "WindSpeed9am         356\n",
       "WindSpeed3pm         596\n",
       "Humidity9am          550\n",
       "Humidity3pm          911\n",
       "Pressure9am         3080\n",
       "Pressure3pm         3076\n",
       "Cloud9am           11184\n",
       "Cloud3pm           11863\n",
       "Temp9am              391\n",
       "Temp3pm              732\n",
       "Day of The Year        0\n",
       "dtype: int64"
      ]
     },
     "execution_count": 702,
     "metadata": {},
     "output_type": "execute_result"
    }
   ],
   "source": [
    "X_test_num.isnull().sum()"
   ]
  },
  {
   "cell_type": "markdown",
   "metadata": {},
   "source": [
    "Kecuali `Day of the Year`, feature lain memiliki missing value."
   ]
  },
  {
   "cell_type": "markdown",
   "metadata": {},
   "source": [
    "Imputasi missing value sesuai tipe distribusinya."
   ]
  },
  {
   "cell_type": "code",
   "execution_count": 703,
   "metadata": {},
   "outputs": [],
   "source": [
    "for col in X_train_num.columns:\n",
    "    col_skewness = X_train_num[column].skew()\n",
    "\n",
    "    if (col_skewness >= -0.5) & (col_skewness <= 0.5):\n",
    "        X_train_num[col] = X_train_num[col].fillna(X_train_num[col].mean())\n",
    "        X_test_num[col] = X_test_num[col].fillna(X_train_num[col].mean()) \n",
    "\n",
    "    else:\n",
    "        X_train_num[col] = X_train_num[col].fillna(X_train_num[col].median())\n",
    "        X_test_num[col] = X_test_num[col].fillna(X_train_num[col].median()) "
   ]
  },
  {
   "cell_type": "markdown",
   "metadata": {},
   "source": [
    "Cek ulang jumlah missing value pada tiap feature."
   ]
  },
  {
   "cell_type": "code",
   "execution_count": 704,
   "metadata": {},
   "outputs": [
    {
     "data": {
      "text/plain": [
       "(0, 0)"
      ]
     },
     "execution_count": 704,
     "metadata": {},
     "output_type": "execute_result"
    }
   ],
   "source": [
    "X_train_num.isnull().sum().sum(), X_test_num.isnull().sum().sum()"
   ]
  },
  {
   "cell_type": "markdown",
   "metadata": {},
   "source": [
    "#### Target"
   ]
  },
  {
   "cell_type": "markdown",
   "metadata": {},
   "source": [
    "Missing value pada target perlu dicek juga. Jika ada missing value, maka akan dilakukan trimming untuk mencegah bias terhadap model karena hanya terdapat dua kelas pada target."
   ]
  },
  {
   "cell_type": "markdown",
   "metadata": {},
   "source": [
    "Cek jumlah missing value."
   ]
  },
  {
   "cell_type": "code",
   "execution_count": 705,
   "metadata": {},
   "outputs": [
    {
     "data": {
      "text/plain": [
       "(2462, 617)"
      ]
     },
     "execution_count": 705,
     "metadata": {},
     "output_type": "execute_result"
    }
   ],
   "source": [
    "y_train.isnull().sum(), y_test.isnull().sum()"
   ]
  },
  {
   "cell_type": "markdown",
   "metadata": {},
   "source": [
    "Drop missing value dari target dan feature berdasarkan index target yang mengandung missing value."
   ]
  },
  {
   "cell_type": "code",
   "execution_count": 706,
   "metadata": {},
   "outputs": [],
   "source": [
    "y_train_misval_index = y_train[y_train.isnull()==True].index.tolist()\n",
    "y_test_misval_index = y_test[y_test.isnull()==True].index.tolist()\n",
    "\n",
    "y_train = y_train.drop(index=y_train_misval_index)\n",
    "X_train_cat = X_train_cat.drop(index=y_train_misval_index)\n",
    "X_train_num = X_train_num.drop(index=y_train_misval_index)\n",
    "\n",
    "y_test = y_test.drop(index=y_test_misval_index)\n",
    "X_test_cat = X_test_cat.drop(index=y_test_misval_index)\n",
    "X_test_num = X_test_num.drop(index=y_test_misval_index)"
   ]
  },
  {
   "cell_type": "markdown",
   "metadata": {},
   "source": [
    "Cek ulang jumlah missing value."
   ]
  },
  {
   "cell_type": "code",
   "execution_count": 707,
   "metadata": {},
   "outputs": [
    {
     "data": {
      "text/plain": [
       "(0, 0)"
      ]
     },
     "execution_count": 707,
     "metadata": {},
     "output_type": "execute_result"
    }
   ],
   "source": [
    "y_train.isnull().sum(), y_test.isnull().sum()"
   ]
  },
  {
   "cell_type": "markdown",
   "metadata": {},
   "source": [
    "Tidak ada lagi missing value."
   ]
  },
  {
   "cell_type": "markdown",
   "metadata": {},
   "source": [
    "### 5.5. Feature Selection"
   ]
  },
  {
   "cell_type": "markdown",
   "metadata": {},
   "source": [
    "Dari feature yang sudah diolah, cek korelasi antar feature dengan heatmap."
   ]
  },
  {
   "cell_type": "code",
   "execution_count": 708,
   "metadata": {},
   "outputs": [
    {
     "data": {
      "image/png": "[encoded data removed]",
      "text/plain": [
       "<Figure size 1080x1080 with 2 Axes>"
      ]
     },
     "metadata": {
      "needs_background": "light"
     },
     "output_type": "display_data"
    }
   ],
   "source": [
    "plt.figure(figsize=(15,15))\n",
    "ax = sns.heatmap(X_train_num.corr(),annot=True)\n",
    "\n",
    "for t in ax.texts:\n",
    "    if (float(t.get_text()) > 0.7) | (float(t.get_text()) < -0.7):\n",
    "        t.set_text(t.get_text())\n",
    "    else:\n",
    "        t.set_text('')\n",
    "\n",
    "plt.show()"
   ]
  },
  {
   "cell_type": "markdown",
   "metadata": {},
   "source": [
    "Feature dengan korelasi antar feature di atas 0.7 atau dibawah -0.7 akan dihapus dari model karena dianggap bisa diwakili oleh feature lain yang berkorelasi."
   ]
  },
  {
   "cell_type": "markdown",
   "metadata": {},
   "source": [
    "Drop feature dari train dan test set."
   ]
  },
  {
   "cell_type": "code",
   "execution_count": 709,
   "metadata": {},
   "outputs": [],
   "source": [
    "X_train_num.drop(columns=['Temp9am', 'MinTemp', 'MaxTemp','Pressure9am'],inplace=True)\n",
    "X_test_num.drop(columns=['Temp9am', 'MinTemp', 'MaxTemp','Pressure9am'],inplace=True)"
   ]
  },
  {
   "cell_type": "markdown",
   "metadata": {},
   "source": [
    "Cek ulang heatmap."
   ]
  },
  {
   "cell_type": "code",
   "execution_count": 710,
   "metadata": {},
   "outputs": [
    {
     "data": {
      "image/png": "[encoded data removed]",
      "text/plain": [
       "<Figure size 1080x1080 with 2 Axes>"
      ]
     },
     "metadata": {
      "needs_background": "light"
     },
     "output_type": "display_data"
    }
   ],
   "source": [
    "plt.figure(figsize=(15,15))\n",
    "ax = sns.heatmap(X_train_num.corr(),annot=True)\n",
    "\n",
    "for t in ax.texts:\n",
    "    if (float(t.get_text()) > 0.7) | (float(t.get_text()) < -0.7):\n",
    "        t.set_text(t.get_text())\n",
    "    else:\n",
    "        t.set_text('')\n",
    "\n",
    "plt.show()"
   ]
  },
  {
   "cell_type": "markdown",
   "metadata": {},
   "source": [
    "Tidak ada lagi feature yang berkorelasi tinggi terhadap feature lain."
   ]
  },
  {
   "cell_type": "markdown",
   "metadata": {},
   "source": [
    "Update kolom numerik dan kategorik untuk processing data inference."
   ]
  },
  {
   "cell_type": "code",
   "execution_count": 711,
   "metadata": {},
   "outputs": [],
   "source": [
    "num_cols = X_train_num.columns.tolist()\n",
    "cat_cols = X_train_cat.columns.tolist()"
   ]
  },
  {
   "cell_type": "markdown",
   "metadata": {},
   "source": [
    "### 5.6. Feature Scaling"
   ]
  },
  {
   "cell_type": "markdown",
   "metadata": {},
   "source": [
    "Lakukan feature scaling dengan standard scaler untuk feature numerik karena model yang digunakan sensitif terhadap variance."
   ]
  },
  {
   "cell_type": "code",
   "execution_count": 712,
   "metadata": {},
   "outputs": [],
   "source": [
    "scaler = StandardScaler()\n",
    "scaler.fit(X_train_num)\n",
    "\n",
    "X_train_num_scaled = scaler.transform(X_train_num)\n",
    "X_test_num_scaled = scaler.transform(X_test_num)"
   ]
  },
  {
   "cell_type": "markdown",
   "metadata": {},
   "source": [
    "### 5.7. Feature Encoding"
   ]
  },
  {
   "cell_type": "markdown",
   "metadata": {},
   "source": [
    "Lakukan feature encoding dengan onehot encoder karena dari feature kategorik tidak ada tingkatan yang bermakna atau tidak bisa dibandingkan."
   ]
  },
  {
   "cell_type": "code",
   "execution_count": 713,
   "metadata": {},
   "outputs": [],
   "source": [
    "encoder = OneHotEncoder()\n",
    "encoder.fit(X_train_cat)\n",
    "\n",
    "X_train_cat_enc = encoder.transform(X_train_cat).toarray()\n",
    "X_test_cat_enc = encoder.transform(X_test_cat).toarray()"
   ]
  },
  {
   "cell_type": "markdown",
   "metadata": {},
   "source": [
    "Simpan label baru untuk feature kategorik."
   ]
  },
  {
   "cell_type": "code",
   "execution_count": 714,
   "metadata": {},
   "outputs": [],
   "source": [
    "enc_feature = []\n",
    "for i in range(len(cat_cols)):\n",
    "    enc_feature+=(encoder.categories_[i].tolist())"
   ]
  },
  {
   "cell_type": "markdown",
   "metadata": {},
   "source": [
    "### 5.8. Final Features"
   ]
  },
  {
   "cell_type": "markdown",
   "metadata": {},
   "source": [
    "Gabungkan feature numerik dan kategorik yang telah di-scale dan encode."
   ]
  },
  {
   "cell_type": "code",
   "execution_count": 715,
   "metadata": {},
   "outputs": [],
   "source": [
    "X_train_final = np.concatenate([X_train_num_scaled,X_train_cat_enc], axis=1)\n",
    "X_test_final = np.concatenate([X_test_num_scaled,X_test_cat_enc], axis=1)\n",
    "\n",
    "X_train_final = pd.DataFrame(X_train_final, columns=[num_cols + enc_feature])\n",
    "X_test_final = pd.DataFrame(X_test_final, columns=[num_cols + enc_feature])"
   ]
  },
  {
   "cell_type": "markdown",
   "metadata": {},
   "source": [
    "Lihat lima data teratas."
   ]
  },
  {
   "cell_type": "code",
   "execution_count": 716,
   "metadata": {},
   "outputs": [
    {
     "data": {
      "text/html": [
       "<div>\n",
       "<style scoped>\n",
       "    .dataframe tbody tr th:only-of-type {\n",
       "        vertical-align: middle;\n",
       "    }\n",
       "\n",
       "    .dataframe tbody tr th {\n",
       "        vertical-align: top;\n",
       "    }\n",
       "\n",
       "    .dataframe thead tr th {\n",
       "        text-align: left;\n",
       "    }\n",
       "</style>\n",
       "<table border=\"1\" class=\"dataframe\">\n",
       "  <thead>\n",
       "    <tr>\n",
       "      <th></th>\n",
       "      <th>Rainfall</th>\n",
       "      <th>Evaporation</th>\n",
       "      <th>Sunshine</th>\n",
       "      <th>WindGustSpeed</th>\n",
       "      <th>WindSpeed9am</th>\n",
       "      <th>WindSpeed3pm</th>\n",
       "      <th>Humidity9am</th>\n",
       "      <th>Humidity3pm</th>\n",
       "      <th>Pressure3pm</th>\n",
       "      <th>Cloud9am</th>\n",
       "      <th>Cloud3pm</th>\n",
       "      <th>Temp3pm</th>\n",
       "      <th>Day of The Year</th>\n",
       "      <th>E</th>\n",
       "      <th>N</th>\n",
       "      <th>NE</th>\n",
       "      <th>NW</th>\n",
       "      <th>S</th>\n",
       "      <th>SE</th>\n",
       "      <th>SW</th>\n",
       "      <th>W</th>\n",
       "      <th>E</th>\n",
       "      <th>N</th>\n",
       "      <th>NE</th>\n",
       "      <th>NW</th>\n",
       "      <th>S</th>\n",
       "      <th>SE</th>\n",
       "      <th>SW</th>\n",
       "      <th>W</th>\n",
       "      <th>E</th>\n",
       "      <th>N</th>\n",
       "      <th>NE</th>\n",
       "      <th>NW</th>\n",
       "      <th>S</th>\n",
       "      <th>SE</th>\n",
       "      <th>SW</th>\n",
       "      <th>W</th>\n",
       "      <th>0.0</th>\n",
       "      <th>1.0</th>\n",
       "    </tr>\n",
       "  </thead>\n",
       "  <tbody>\n",
       "    <tr>\n",
       "      <th>0</th>\n",
       "      <td>0.506172</td>\n",
       "      <td>-1.685835</td>\n",
       "      <td>-0.002375</td>\n",
       "      <td>-1.106773</td>\n",
       "      <td>-1.660465</td>\n",
       "      <td>-0.625819</td>\n",
       "      <td>1.611128</td>\n",
       "      <td>0.710227</td>\n",
       "      <td>0.225499</td>\n",
       "      <td>1.558869</td>\n",
       "      <td>1.667376</td>\n",
       "      <td>-1.227335</td>\n",
       "      <td>0.416639</td>\n",
       "      <td>0.0</td>\n",
       "      <td>0.0</td>\n",
       "      <td>0.0</td>\n",
       "      <td>1.0</td>\n",
       "      <td>0.0</td>\n",
       "      <td>0.0</td>\n",
       "      <td>0.0</td>\n",
       "      <td>0.0</td>\n",
       "      <td>0.0</td>\n",
       "      <td>0.0</td>\n",
       "      <td>0.0</td>\n",
       "      <td>0.0</td>\n",
       "      <td>0.0</td>\n",
       "      <td>1.0</td>\n",
       "      <td>0.0</td>\n",
       "      <td>0.0</td>\n",
       "      <td>0.0</td>\n",
       "      <td>0.0</td>\n",
       "      <td>0.0</td>\n",
       "      <td>0.0</td>\n",
       "      <td>0.0</td>\n",
       "      <td>0.0</td>\n",
       "      <td>0.0</td>\n",
       "      <td>1.0</td>\n",
       "      <td>0.0</td>\n",
       "      <td>1.0</td>\n",
       "    </tr>\n",
       "    <tr>\n",
       "      <th>1</th>\n",
       "      <td>-0.280588</td>\n",
       "      <td>-0.001054</td>\n",
       "      <td>-0.002375</td>\n",
       "      <td>-0.662033</td>\n",
       "      <td>-0.536605</td>\n",
       "      <td>-1.515600</td>\n",
       "      <td>1.228664</td>\n",
       "      <td>2.406396</td>\n",
       "      <td>0.489872</td>\n",
       "      <td>0.002674</td>\n",
       "      <td>0.001809</td>\n",
       "      <td>0.039199</td>\n",
       "      <td>-1.351381</td>\n",
       "      <td>0.0</td>\n",
       "      <td>0.0</td>\n",
       "      <td>0.0</td>\n",
       "      <td>0.0</td>\n",
       "      <td>1.0</td>\n",
       "      <td>0.0</td>\n",
       "      <td>0.0</td>\n",
       "      <td>0.0</td>\n",
       "      <td>0.0</td>\n",
       "      <td>0.0</td>\n",
       "      <td>0.0</td>\n",
       "      <td>0.0</td>\n",
       "      <td>0.0</td>\n",
       "      <td>0.0</td>\n",
       "      <td>1.0</td>\n",
       "      <td>0.0</td>\n",
       "      <td>0.0</td>\n",
       "      <td>0.0</td>\n",
       "      <td>0.0</td>\n",
       "      <td>0.0</td>\n",
       "      <td>0.0</td>\n",
       "      <td>1.0</td>\n",
       "      <td>0.0</td>\n",
       "      <td>0.0</td>\n",
       "      <td>1.0</td>\n",
       "      <td>0.0</td>\n",
       "    </tr>\n",
       "    <tr>\n",
       "      <th>2</th>\n",
       "      <td>-0.280588</td>\n",
       "      <td>-0.001054</td>\n",
       "      <td>-0.002375</td>\n",
       "      <td>-0.484137</td>\n",
       "      <td>-0.286859</td>\n",
       "      <td>-0.371596</td>\n",
       "      <td>-0.082640</td>\n",
       "      <td>0.311129</td>\n",
       "      <td>0.567629</td>\n",
       "      <td>0.002674</td>\n",
       "      <td>0.001809</td>\n",
       "      <td>-0.352823</td>\n",
       "      <td>-1.178423</td>\n",
       "      <td>0.0</td>\n",
       "      <td>0.0</td>\n",
       "      <td>0.0</td>\n",
       "      <td>0.0</td>\n",
       "      <td>0.0</td>\n",
       "      <td>1.0</td>\n",
       "      <td>0.0</td>\n",
       "      <td>0.0</td>\n",
       "      <td>0.0</td>\n",
       "      <td>0.0</td>\n",
       "      <td>0.0</td>\n",
       "      <td>0.0</td>\n",
       "      <td>1.0</td>\n",
       "      <td>0.0</td>\n",
       "      <td>0.0</td>\n",
       "      <td>0.0</td>\n",
       "      <td>0.0</td>\n",
       "      <td>0.0</td>\n",
       "      <td>0.0</td>\n",
       "      <td>0.0</td>\n",
       "      <td>0.0</td>\n",
       "      <td>1.0</td>\n",
       "      <td>0.0</td>\n",
       "      <td>0.0</td>\n",
       "      <td>1.0</td>\n",
       "      <td>0.0</td>\n",
       "    </tr>\n",
       "    <tr>\n",
       "      <th>3</th>\n",
       "      <td>-0.280588</td>\n",
       "      <td>-0.186885</td>\n",
       "      <td>-1.252762</td>\n",
       "      <td>-0.484137</td>\n",
       "      <td>0.837001</td>\n",
       "      <td>0.263962</td>\n",
       "      <td>-0.519741</td>\n",
       "      <td>0.710227</td>\n",
       "      <td>0.598732</td>\n",
       "      <td>0.679143</td>\n",
       "      <td>1.190917</td>\n",
       "      <td>0.340755</td>\n",
       "      <td>-0.774853</td>\n",
       "      <td>0.0</td>\n",
       "      <td>0.0</td>\n",
       "      <td>0.0</td>\n",
       "      <td>0.0</td>\n",
       "      <td>0.0</td>\n",
       "      <td>0.0</td>\n",
       "      <td>1.0</td>\n",
       "      <td>0.0</td>\n",
       "      <td>0.0</td>\n",
       "      <td>0.0</td>\n",
       "      <td>0.0</td>\n",
       "      <td>0.0</td>\n",
       "      <td>0.0</td>\n",
       "      <td>0.0</td>\n",
       "      <td>1.0</td>\n",
       "      <td>0.0</td>\n",
       "      <td>0.0</td>\n",
       "      <td>0.0</td>\n",
       "      <td>0.0</td>\n",
       "      <td>0.0</td>\n",
       "      <td>1.0</td>\n",
       "      <td>0.0</td>\n",
       "      <td>0.0</td>\n",
       "      <td>0.0</td>\n",
       "      <td>1.0</td>\n",
       "      <td>0.0</td>\n",
       "    </tr>\n",
       "    <tr>\n",
       "      <th>4</th>\n",
       "      <td>-0.001415</td>\n",
       "      <td>-1.728663</td>\n",
       "      <td>-2.503249</td>\n",
       "      <td>0.049550</td>\n",
       "      <td>0.462381</td>\n",
       "      <td>-0.625819</td>\n",
       "      <td>0.573012</td>\n",
       "      <td>1.608199</td>\n",
       "      <td>-0.318799</td>\n",
       "      <td>1.119006</td>\n",
       "      <td>1.190917</td>\n",
       "      <td>-0.880546</td>\n",
       "      <td>-0.092627</td>\n",
       "      <td>0.0</td>\n",
       "      <td>0.0</td>\n",
       "      <td>0.0</td>\n",
       "      <td>0.0</td>\n",
       "      <td>0.0</td>\n",
       "      <td>0.0</td>\n",
       "      <td>0.0</td>\n",
       "      <td>1.0</td>\n",
       "      <td>0.0</td>\n",
       "      <td>0.0</td>\n",
       "      <td>0.0</td>\n",
       "      <td>0.0</td>\n",
       "      <td>0.0</td>\n",
       "      <td>0.0</td>\n",
       "      <td>0.0</td>\n",
       "      <td>1.0</td>\n",
       "      <td>0.0</td>\n",
       "      <td>0.0</td>\n",
       "      <td>0.0</td>\n",
       "      <td>0.0</td>\n",
       "      <td>0.0</td>\n",
       "      <td>0.0</td>\n",
       "      <td>1.0</td>\n",
       "      <td>0.0</td>\n",
       "      <td>0.0</td>\n",
       "      <td>1.0</td>\n",
       "    </tr>\n",
       "  </tbody>\n",
       "</table>\n",
       "</div>"
      ],
      "text/plain": [
       "   Rainfall Evaporation  Sunshine WindGustSpeed WindSpeed9am WindSpeed3pm  \\\n",
       "0  0.506172   -1.685835 -0.002375     -1.106773    -1.660465    -0.625819   \n",
       "1 -0.280588   -0.001054 -0.002375     -0.662033    -0.536605    -1.515600   \n",
       "2 -0.280588   -0.001054 -0.002375     -0.484137    -0.286859    -0.371596   \n",
       "3 -0.280588   -0.186885 -1.252762     -0.484137     0.837001     0.263962   \n",
       "4 -0.001415   -1.728663 -2.503249      0.049550     0.462381    -0.625819   \n",
       "\n",
       "  Humidity9am Humidity3pm Pressure3pm  Cloud9am  Cloud3pm   Temp3pm  \\\n",
       "0    1.611128    0.710227    0.225499  1.558869  1.667376 -1.227335   \n",
       "1    1.228664    2.406396    0.489872  0.002674  0.001809  0.039199   \n",
       "2   -0.082640    0.311129    0.567629  0.002674  0.001809 -0.352823   \n",
       "3   -0.519741    0.710227    0.598732  0.679143  1.190917  0.340755   \n",
       "4    0.573012    1.608199   -0.318799  1.119006  1.190917 -0.880546   \n",
       "\n",
       "  Day of The Year    E    N   NE   NW    S   SE   SW    W    E    N   NE   NW  \\\n",
       "0        0.416639  0.0  0.0  0.0  1.0  0.0  0.0  0.0  0.0  0.0  0.0  0.0  0.0   \n",
       "1       -1.351381  0.0  0.0  0.0  0.0  1.0  0.0  0.0  0.0  0.0  0.0  0.0  0.0   \n",
       "2       -1.178423  0.0  0.0  0.0  0.0  0.0  1.0  0.0  0.0  0.0  0.0  0.0  0.0   \n",
       "3       -0.774853  0.0  0.0  0.0  0.0  0.0  0.0  1.0  0.0  0.0  0.0  0.0  0.0   \n",
       "4       -0.092627  0.0  0.0  0.0  0.0  0.0  0.0  0.0  1.0  0.0  0.0  0.0  0.0   \n",
       "\n",
       "     S   SE   SW    W    E    N   NE   NW    S   SE   SW    W  0.0  1.0  \n",
       "0  0.0  1.0  0.0  0.0  0.0  0.0  0.0  0.0  0.0  0.0  0.0  1.0  0.0  1.0  \n",
       "1  0.0  0.0  1.0  0.0  0.0  0.0  0.0  0.0  0.0  1.0  0.0  0.0  1.0  0.0  \n",
       "2  1.0  0.0  0.0  0.0  0.0  0.0  0.0  0.0  0.0  1.0  0.0  0.0  1.0  0.0  \n",
       "3  0.0  0.0  1.0  0.0  0.0  0.0  0.0  0.0  1.0  0.0  0.0  0.0  1.0  0.0  \n",
       "4  0.0  0.0  0.0  1.0  0.0  0.0  0.0  0.0  0.0  0.0  1.0  0.0  0.0  1.0  "
      ]
     },
     "execution_count": 716,
     "metadata": {},
     "output_type": "execute_result"
    }
   ],
   "source": [
    "X_train_final.head()"
   ]
  },
  {
   "cell_type": "markdown",
   "metadata": {},
   "source": [
    "Cek ukuran feature."
   ]
  },
  {
   "cell_type": "code",
   "execution_count": 717,
   "metadata": {},
   "outputs": [
    {
     "data": {
      "text/plain": [
       "(107034, 39)"
      ]
     },
     "execution_count": 717,
     "metadata": {},
     "output_type": "execute_result"
    }
   ],
   "source": [
    "X_train_final.shape"
   ]
  },
  {
   "cell_type": "markdown",
   "metadata": {},
   "source": [
    "## 6. Model Definition"
   ]
  },
  {
   "cell_type": "markdown",
   "metadata": {},
   "source": [
    "Model yang akan digunakan pada notebook ini adalah Logistic Regression sebagai bentuk sederhana dari model klasifikasi dan Support Vector Machine yang dikenal memiliki performa lebih tinggi untuk klasifikasi tetapi dengan computational cost yang tinggi."
   ]
  },
  {
   "cell_type": "markdown",
   "metadata": {},
   "source": [
    "Hyperparameter pada Logistic Regression yang di-set adalah solver `lbfgs`, sedangkan nilai penalty yang digunakan adalah *default* `L2` dengan C *default* 1.0."
   ]
  },
  {
   "cell_type": "markdown",
   "metadata": {},
   "source": [
    "Sedangkan hyperparameter pada Support Vector Machine yang di-set adalah kernel `poly` dengan derajat *default* 3 dan C *default* 1.0. Hyperparameter tambahan yang digunakan adalah cache size yang di-set 2000 untuk mempercepat training. Pada dasarnya cache size bukan hyperparameter dari model SVC, tetapi parameter untuk mempercepat processing speed algoritma SVC."
   ]
  },
  {
   "cell_type": "code",
   "execution_count": 718,
   "metadata": {},
   "outputs": [],
   "source": [
    "#Logistic Regression\n",
    "logreg = LogisticRegression(solver='lbfgs',random_state=random_state)\n",
    "\n",
    "#support vector classification\n",
    "svc = SVC(random_state=random_state,cache_size=2000,kernel='poly')"
   ]
  },
  {
   "cell_type": "markdown",
   "metadata": {},
   "source": [
    "## 7. Model Training"
   ]
  },
  {
   "cell_type": "markdown",
   "metadata": {},
   "source": [
    "Lakukan training untuk kedua model."
   ]
  },
  {
   "cell_type": "code",
   "execution_count": 719,
   "metadata": {},
   "outputs": [],
   "source": [
    "logreg.fit(X_train_final,y_train)\n",
    "\n",
    "y_train_pred_lr = logreg.predict(X_train_final)\n",
    "y_test_pred_lr = logreg.predict(X_test_final)"
   ]
  },
  {
   "cell_type": "code",
   "execution_count": 720,
   "metadata": {},
   "outputs": [],
   "source": [
    "svc.fit(X_train_final,y_train)\n",
    "\n",
    "y_train_pred_svc = svc.predict(X_train_final)\n",
    "y_test_pred_svc = svc.predict(X_test_final)"
   ]
  },
  {
   "cell_type": "markdown",
   "metadata": {},
   "source": [
    "## 8. Model Evaluation\n",
    "    > Pada bagian ini, dilakukan evaluasi model yang harus menunjukkan bagaimana performa model berdasarkan metrics yang dipilih. Hal ini harus dibuktikan dengan visualisasi tren performa dan/atau tingkat kesalahan model. **Lakukan analisis terkait dengan hasil pada model dan tuliskan hasil analisisnya**."
   ]
  },
  {
   "cell_type": "markdown",
   "metadata": {},
   "source": [
    "### 8.1. Classification Report"
   ]
  },
  {
   "cell_type": "markdown",
   "metadata": {},
   "source": [
    "#### Logistic Regression"
   ]
  },
  {
   "cell_type": "code",
   "execution_count": 721,
   "metadata": {},
   "outputs": [
    {
     "name": "stdout",
     "output_type": "stream",
     "text": [
      "Train Logistic Regression\n",
      "               precision    recall  f1-score   support\n",
      "\n",
      "         0.0       0.87      0.95      0.91     83934\n",
      "         1.0       0.71      0.47      0.57     23100\n",
      "\n",
      "    accuracy                           0.84    107034\n",
      "   macro avg       0.79      0.71      0.74    107034\n",
      "weighted avg       0.83      0.84      0.83    107034\n",
      "\n",
      "[[79451  4483]\n",
      " [12133 10967]]\n"
     ]
    }
   ],
   "source": [
    "print('Train Logistic Regression\\n',classification_report(y_train,y_train_pred_lr))\n",
    "print(confusion_matrix(y_train,y_train_pred_lr))"
   ]
  },
  {
   "cell_type": "markdown",
   "metadata": {},
   "source": [
    "Dari classification report train logistic regression dapat dilihat bahwa model yang digunakan memiliki performa yang baik untuk klasifikasi `Tidak Hujan Besok`, tetapi ketika memprediksi `Hujan Besok`, model yang digunakan memiliki performa yang buruk. Konteks performa buruk dalam hal ini adalah `sedikit lebih baik dari tebakan acak`.\n",
    "\n",
    "Performa buruk tersebut disebabkan oleh jumlah `prediksi Hujan Besok, sedangkan kenyataannya Tidak Hujan Besok` hanya berbeda sedikit dengan `prediksi dan kenyataan Hujan Besok`.\n",
    "\n",
    "Hal ini kemungkinan besar terjadi karena target yang digunakan imbalance pada sisi `Hujan Besok` sehingga model tidak dapat memprediksi `Hujan Besok` dengan tepat."
   ]
  },
  {
   "cell_type": "code",
   "execution_count": 722,
   "metadata": {},
   "outputs": [
    {
     "name": "stdout",
     "output_type": "stream",
     "text": [
      "Test Logistic Regression\n",
      "               precision    recall  f1-score   support\n",
      "\n",
      "         0.0       0.87      0.94      0.90     22130\n",
      "         1.0       0.71      0.50      0.59      6345\n",
      "\n",
      "    accuracy                           0.84     28475\n",
      "   macro avg       0.79      0.72      0.75     28475\n",
      "weighted avg       0.83      0.84      0.83     28475\n",
      "\n",
      "[[20855  1275]\n",
      " [ 3161  3184]]\n"
     ]
    }
   ],
   "source": [
    "print('Test Logistic Regression\\n',classification_report(y_test,y_test_pred_lr))\n",
    "print(confusion_matrix(y_test,y_test_pred_lr))"
   ]
  },
  {
   "cell_type": "markdown",
   "metadata": {},
   "source": [
    "Sama halnya dengan prediksi train, performa model baik untuk prediksi `Tidak Hujan Besok`, tetapi buruk untuk prediksi `Hujan Besok`.\n",
    "\n",
    "Secara model, bisa dikatakan bahwa model ini `good fit` karena `f1-score`-nya tidak berbeda jauh antara train dan test."
   ]
  },
  {
   "cell_type": "markdown",
   "metadata": {},
   "source": [
    "#### Support Vector Machine"
   ]
  },
  {
   "cell_type": "code",
   "execution_count": 723,
   "metadata": {},
   "outputs": [
    {
     "name": "stdout",
     "output_type": "stream",
     "text": [
      "Train Support Vector Machine\n",
      "               precision    recall  f1-score   support\n",
      "\n",
      "         0.0       0.86      0.97      0.92     83934\n",
      "         1.0       0.81      0.45      0.58     23100\n",
      "\n",
      "    accuracy                           0.86    107034\n",
      "   macro avg       0.84      0.71      0.75    107034\n",
      "weighted avg       0.85      0.86      0.84    107034\n",
      "\n",
      "[[81529  2405]\n",
      " [12732 10368]]\n"
     ]
    }
   ],
   "source": [
    "print('Train Support Vector Machine\\n',classification_report(y_train,y_train_pred_svc))\n",
    "print(confusion_matrix(y_train,y_train_pred_svc))"
   ]
  },
  {
   "cell_type": "markdown",
   "metadata": {},
   "source": [
    "Untuk train set, SVC memiliki performa yang sedikit lebih baik dibandingkan model logistic regression, tetapi masih mengalami masalah yang sama terkait data imbalance sehingga prediksi `Hujan Besok`-nya masih banyak yang tidak tepat."
   ]
  },
  {
   "cell_type": "code",
   "execution_count": 724,
   "metadata": {},
   "outputs": [
    {
     "name": "stdout",
     "output_type": "stream",
     "text": [
      "Test Logistic Regression\n",
      "               precision    recall  f1-score   support\n",
      "\n",
      "         0.0       0.87      0.94      0.90     22130\n",
      "         1.0       0.71      0.50      0.59      6345\n",
      "\n",
      "    accuracy                           0.84     28475\n",
      "   macro avg       0.79      0.72      0.75     28475\n",
      "weighted avg       0.83      0.84      0.83     28475\n",
      "\n",
      "[[20855  1275]\n",
      " [ 3161  3184]]\n"
     ]
    }
   ],
   "source": [
    "print('Test Logistic Regression\\n',classification_report(y_test,y_test_pred_lr))\n",
    "print(confusion_matrix(y_test,y_test_pred_lr))"
   ]
  },
  {
   "cell_type": "markdown",
   "metadata": {},
   "source": [
    "Untuk test set juga masih mengalami masalah yang sama. \n",
    "\n",
    "Model ini memiliki kecenderungan sedikit overfit, meskipun selisihnya tidak begitu jauh."
   ]
  },
  {
   "cell_type": "markdown",
   "metadata": {},
   "source": [
    "### 8.2. ROC Curve & AUC Score"
   ]
  },
  {
   "cell_type": "markdown",
   "metadata": {},
   "source": [
    "Visualisasikan hasil prediksi test set dengan ROC Curve dilengkapi dengan AUC Score."
   ]
  },
  {
   "cell_type": "code",
   "execution_count": 725,
   "metadata": {},
   "outputs": [
    {
     "data": {
      "image/png": "[encoded data removed]",
      "text/plain": [
       "<Figure size 432x288 with 1 Axes>"
      ]
     },
     "metadata": {
      "needs_background": "light"
     },
     "output_type": "display_data"
    }
   ],
   "source": [
    "#buat estimasi fpr dan tpr dari nilai prediksi, lalu plot\n",
    "plt.figure(0).clf()\n",
    "lr_fpr, lr_tpr, _ = roc_curve(y_test,y_test_pred_lr)\n",
    "lr_auc = roc_auc_score(y_test,y_test_pred_lr)\n",
    "plt.plot(lr_fpr, lr_tpr, label='Logistic Regression (area = %0.3f)' % lr_auc)\n",
    "\n",
    "svc_fpr, svc_tpr, _ = roc_curve(y_test,y_test_pred_svc)\n",
    "svc_auc = roc_auc_score(y_test,y_test_pred_svc)\n",
    "plt.plot(svc_fpr, svc_tpr, label='SVM (area = %0.3f)' % svc_auc)\n",
    "\n",
    "plt.legend()\n",
    "plt.show()"
   ]
  },
  {
   "cell_type": "markdown",
   "metadata": {},
   "source": [
    "Dari ROC curve dan AUC score kita lihat bahwa model Logistic Regression memiliki performa yang lebih baik dibandingkan model Support Vector Machine, meskipun dengan catatan bahwa untuk prediksi `Hujan Besok` belum sebaik prediksi `Tidak Hujan Besok`."
   ]
  },
  {
   "cell_type": "markdown",
   "metadata": {},
   "source": [
    "## 9. Model Inference"
   ]
  },
  {
   "cell_type": "markdown",
   "metadata": {},
   "source": [
    "Sebelum melakukan inference, cek data inference terlebih dahulu."
   ]
  },
  {
   "cell_type": "code",
   "execution_count": 726,
   "metadata": {},
   "outputs": [
    {
     "data": {
      "text/html": [
       "<div>\n",
       "<style scoped>\n",
       "    .dataframe tbody tr th:only-of-type {\n",
       "        vertical-align: middle;\n",
       "    }\n",
       "\n",
       "    .dataframe tbody tr th {\n",
       "        vertical-align: top;\n",
       "    }\n",
       "\n",
       "    .dataframe thead th {\n",
       "        text-align: right;\n",
       "    }\n",
       "</style>\n",
       "<table border=\"1\" class=\"dataframe\">\n",
       "  <thead>\n",
       "    <tr style=\"text-align: right;\">\n",
       "      <th></th>\n",
       "      <th>MinTemp</th>\n",
       "      <th>MaxTemp</th>\n",
       "      <th>Rainfall</th>\n",
       "      <th>Evaporation</th>\n",
       "      <th>Sunshine</th>\n",
       "      <th>WindGustDir</th>\n",
       "      <th>WindGustSpeed</th>\n",
       "      <th>WindDir9am</th>\n",
       "      <th>WindDir3pm</th>\n",
       "      <th>WindSpeed9am</th>\n",
       "      <th>WindSpeed3pm</th>\n",
       "      <th>Humidity9am</th>\n",
       "      <th>Humidity3pm</th>\n",
       "      <th>Pressure9am</th>\n",
       "      <th>Pressure3pm</th>\n",
       "      <th>Cloud9am</th>\n",
       "      <th>Cloud3pm</th>\n",
       "      <th>Temp9am</th>\n",
       "      <th>Temp3pm</th>\n",
       "      <th>RainToday</th>\n",
       "      <th>RainTomorrow</th>\n",
       "      <th>Day of The Year</th>\n",
       "    </tr>\n",
       "  </thead>\n",
       "  <tbody>\n",
       "    <tr>\n",
       "      <th>42120</th>\n",
       "      <td>11.5</td>\n",
       "      <td>23.3</td>\n",
       "      <td>0.0</td>\n",
       "      <td>5.0</td>\n",
       "      <td>4.7</td>\n",
       "      <td>SE</td>\n",
       "      <td>37.0</td>\n",
       "      <td>W</td>\n",
       "      <td>S</td>\n",
       "      <td>11.0</td>\n",
       "      <td>30.0</td>\n",
       "      <td>74.0</td>\n",
       "      <td>60.0</td>\n",
       "      <td>1031.1</td>\n",
       "      <td>1028.8</td>\n",
       "      <td>5.0</td>\n",
       "      <td>2.0</td>\n",
       "      <td>17.6</td>\n",
       "      <td>21.9</td>\n",
       "      <td>0.0</td>\n",
       "      <td>0.0</td>\n",
       "      <td>116</td>\n",
       "    </tr>\n",
       "    <tr>\n",
       "      <th>13909</th>\n",
       "      <td>13.9</td>\n",
       "      <td>27.4</td>\n",
       "      <td>0.0</td>\n",
       "      <td>4.4</td>\n",
       "      <td>10.8</td>\n",
       "      <td>SW</td>\n",
       "      <td>31.0</td>\n",
       "      <td>E</td>\n",
       "      <td>SW</td>\n",
       "      <td>17.0</td>\n",
       "      <td>20.0</td>\n",
       "      <td>50.0</td>\n",
       "      <td>27.0</td>\n",
       "      <td>1017.6</td>\n",
       "      <td>1014.4</td>\n",
       "      <td>1.0</td>\n",
       "      <td>3.0</td>\n",
       "      <td>21.1</td>\n",
       "      <td>26.0</td>\n",
       "      <td>0.0</td>\n",
       "      <td>0.0</td>\n",
       "      <td>106</td>\n",
       "    </tr>\n",
       "    <tr>\n",
       "      <th>76533</th>\n",
       "      <td>10.8</td>\n",
       "      <td>16.5</td>\n",
       "      <td>5.8</td>\n",
       "      <td>0.6</td>\n",
       "      <td>0.2</td>\n",
       "      <td>W</td>\n",
       "      <td>54.0</td>\n",
       "      <td>NW</td>\n",
       "      <td>NW</td>\n",
       "      <td>26.0</td>\n",
       "      <td>28.0</td>\n",
       "      <td>94.0</td>\n",
       "      <td>84.0</td>\n",
       "      <td>1021.3</td>\n",
       "      <td>1019.9</td>\n",
       "      <td>8.0</td>\n",
       "      <td>8.0</td>\n",
       "      <td>13.5</td>\n",
       "      <td>15.8</td>\n",
       "      <td>1.0</td>\n",
       "      <td>1.0</td>\n",
       "      <td>182</td>\n",
       "    </tr>\n",
       "  </tbody>\n",
       "</table>\n",
       "</div>"
      ],
      "text/plain": [
       "       MinTemp  MaxTemp  Rainfall  Evaporation  Sunshine WindGustDir  \\\n",
       "42120     11.5     23.3       0.0          5.0       4.7          SE   \n",
       "13909     13.9     27.4       0.0          4.4      10.8          SW   \n",
       "76533     10.8     16.5       5.8          0.6       0.2           W   \n",
       "\n",
       "       WindGustSpeed WindDir9am WindDir3pm  WindSpeed9am  WindSpeed3pm  \\\n",
       "42120           37.0          W          S          11.0          30.0   \n",
       "13909           31.0          E         SW          17.0          20.0   \n",
       "76533           54.0         NW         NW          26.0          28.0   \n",
       "\n",
       "       Humidity9am  Humidity3pm  Pressure9am  Pressure3pm  Cloud9am  Cloud3pm  \\\n",
       "42120         74.0         60.0       1031.1       1028.8       5.0       2.0   \n",
       "13909         50.0         27.0       1017.6       1014.4       1.0       3.0   \n",
       "76533         94.0         84.0       1021.3       1019.9       8.0       8.0   \n",
       "\n",
       "       Temp9am  Temp3pm  RainToday  RainTomorrow  Day of The Year  \n",
       "42120     17.6     21.9        0.0           0.0              116  \n",
       "13909     21.1     26.0        0.0           0.0              106  \n",
       "76533     13.5     15.8        1.0           1.0              182  "
      ]
     },
     "execution_count": 726,
     "metadata": {},
     "output_type": "execute_result"
    }
   ],
   "source": [
    "df_inf"
   ]
  },
  {
   "cell_type": "markdown",
   "metadata": {},
   "source": [
    "Split data menjadi numerik dan kategorik."
   ]
  },
  {
   "cell_type": "code",
   "execution_count": 727,
   "metadata": {},
   "outputs": [],
   "source": [
    "#split num and cat\n",
    "df_inf_num = df_inf[num_cols]\n",
    "df_inf_cat = df_inf[cat_cols]"
   ]
  },
  {
   "cell_type": "markdown",
   "metadata": {},
   "source": [
    "Lakukan scaling dan encoding."
   ]
  },
  {
   "cell_type": "code",
   "execution_count": 728,
   "metadata": {},
   "outputs": [],
   "source": [
    "df_inf_num_scaled = scaler.transform(df_inf_num)\n",
    "df_inf_cat_enc = encoder.transform(df_inf_cat).toarray()"
   ]
  },
  {
   "cell_type": "markdown",
   "metadata": {},
   "source": [
    "Gabungkan data yang sudah diproses."
   ]
  },
  {
   "cell_type": "code",
   "execution_count": 729,
   "metadata": {},
   "outputs": [
    {
     "data": {
      "text/html": [
       "<div>\n",
       "<style scoped>\n",
       "    .dataframe tbody tr th:only-of-type {\n",
       "        vertical-align: middle;\n",
       "    }\n",
       "\n",
       "    .dataframe tbody tr th {\n",
       "        vertical-align: top;\n",
       "    }\n",
       "\n",
       "    .dataframe thead tr th {\n",
       "        text-align: left;\n",
       "    }\n",
       "</style>\n",
       "<table border=\"1\" class=\"dataframe\">\n",
       "  <thead>\n",
       "    <tr>\n",
       "      <th></th>\n",
       "      <th>Rainfall</th>\n",
       "      <th>Evaporation</th>\n",
       "      <th>Sunshine</th>\n",
       "      <th>WindGustSpeed</th>\n",
       "      <th>WindSpeed9am</th>\n",
       "      <th>WindSpeed3pm</th>\n",
       "      <th>Humidity9am</th>\n",
       "      <th>Humidity3pm</th>\n",
       "      <th>Pressure3pm</th>\n",
       "      <th>Cloud9am</th>\n",
       "      <th>Cloud3pm</th>\n",
       "      <th>Temp3pm</th>\n",
       "      <th>Day of The Year</th>\n",
       "      <th>E</th>\n",
       "      <th>N</th>\n",
       "      <th>NE</th>\n",
       "      <th>NW</th>\n",
       "      <th>S</th>\n",
       "      <th>SE</th>\n",
       "      <th>SW</th>\n",
       "      <th>W</th>\n",
       "      <th>E</th>\n",
       "      <th>N</th>\n",
       "      <th>NE</th>\n",
       "      <th>NW</th>\n",
       "      <th>S</th>\n",
       "      <th>SE</th>\n",
       "      <th>SW</th>\n",
       "      <th>W</th>\n",
       "      <th>E</th>\n",
       "      <th>N</th>\n",
       "      <th>NE</th>\n",
       "      <th>NW</th>\n",
       "      <th>S</th>\n",
       "      <th>SE</th>\n",
       "      <th>SW</th>\n",
       "      <th>W</th>\n",
       "      <th>0.0</th>\n",
       "      <th>1.0</th>\n",
       "    </tr>\n",
       "  </thead>\n",
       "  <tbody>\n",
       "    <tr>\n",
       "      <th>0</th>\n",
       "      <td>-0.280588</td>\n",
       "      <td>-0.015576</td>\n",
       "      <td>-1.068867</td>\n",
       "      <td>-0.128345</td>\n",
       "      <td>-0.286859</td>\n",
       "      <td>1.535077</td>\n",
       "      <td>0.245186</td>\n",
       "      <td>0.410903</td>\n",
       "      <td>2.045009</td>\n",
       "      <td>0.239280</td>\n",
       "      <td>-1.191383</td>\n",
       "      <td>0.039199</td>\n",
       "      <td>-0.601894</td>\n",
       "      <td>0.0</td>\n",
       "      <td>0.0</td>\n",
       "      <td>0.0</td>\n",
       "      <td>0.0</td>\n",
       "      <td>0.0</td>\n",
       "      <td>1.0</td>\n",
       "      <td>0.0</td>\n",
       "      <td>0.0</td>\n",
       "      <td>0.0</td>\n",
       "      <td>0.0</td>\n",
       "      <td>0.0</td>\n",
       "      <td>0.0</td>\n",
       "      <td>0.0</td>\n",
       "      <td>0.0</td>\n",
       "      <td>0.0</td>\n",
       "      <td>1.0</td>\n",
       "      <td>0.0</td>\n",
       "      <td>0.0</td>\n",
       "      <td>0.0</td>\n",
       "      <td>0.0</td>\n",
       "      <td>1.0</td>\n",
       "      <td>0.0</td>\n",
       "      <td>0.0</td>\n",
       "      <td>0.0</td>\n",
       "      <td>1.0</td>\n",
       "      <td>0.0</td>\n",
       "    </tr>\n",
       "    <tr>\n",
       "      <th>1</th>\n",
       "      <td>-0.280588</td>\n",
       "      <td>-0.272539</td>\n",
       "      <td>1.174653</td>\n",
       "      <td>-0.662033</td>\n",
       "      <td>0.462381</td>\n",
       "      <td>0.263962</td>\n",
       "      <td>-1.066118</td>\n",
       "      <td>-1.235378</td>\n",
       "      <td>-0.194388</td>\n",
       "      <td>-1.520173</td>\n",
       "      <td>-0.714923</td>\n",
       "      <td>0.657389</td>\n",
       "      <td>-0.697982</td>\n",
       "      <td>0.0</td>\n",
       "      <td>0.0</td>\n",
       "      <td>0.0</td>\n",
       "      <td>0.0</td>\n",
       "      <td>0.0</td>\n",
       "      <td>0.0</td>\n",
       "      <td>1.0</td>\n",
       "      <td>0.0</td>\n",
       "      <td>1.0</td>\n",
       "      <td>0.0</td>\n",
       "      <td>0.0</td>\n",
       "      <td>0.0</td>\n",
       "      <td>0.0</td>\n",
       "      <td>0.0</td>\n",
       "      <td>0.0</td>\n",
       "      <td>0.0</td>\n",
       "      <td>0.0</td>\n",
       "      <td>0.0</td>\n",
       "      <td>0.0</td>\n",
       "      <td>0.0</td>\n",
       "      <td>0.0</td>\n",
       "      <td>0.0</td>\n",
       "      <td>1.0</td>\n",
       "      <td>0.0</td>\n",
       "      <td>1.0</td>\n",
       "      <td>0.0</td>\n",
       "    </tr>\n",
       "    <tr>\n",
       "      <th>2</th>\n",
       "      <td>0.455413</td>\n",
       "      <td>-1.899971</td>\n",
       "      <td>-2.723923</td>\n",
       "      <td>1.383770</td>\n",
       "      <td>1.586241</td>\n",
       "      <td>1.280854</td>\n",
       "      <td>1.337940</td>\n",
       "      <td>1.608199</td>\n",
       "      <td>0.660937</td>\n",
       "      <td>1.558869</td>\n",
       "      <td>1.667376</td>\n",
       "      <td>-0.880546</td>\n",
       "      <td>0.032287</td>\n",
       "      <td>0.0</td>\n",
       "      <td>0.0</td>\n",
       "      <td>0.0</td>\n",
       "      <td>0.0</td>\n",
       "      <td>0.0</td>\n",
       "      <td>0.0</td>\n",
       "      <td>0.0</td>\n",
       "      <td>1.0</td>\n",
       "      <td>0.0</td>\n",
       "      <td>0.0</td>\n",
       "      <td>0.0</td>\n",
       "      <td>1.0</td>\n",
       "      <td>0.0</td>\n",
       "      <td>0.0</td>\n",
       "      <td>0.0</td>\n",
       "      <td>0.0</td>\n",
       "      <td>0.0</td>\n",
       "      <td>0.0</td>\n",
       "      <td>0.0</td>\n",
       "      <td>1.0</td>\n",
       "      <td>0.0</td>\n",
       "      <td>0.0</td>\n",
       "      <td>0.0</td>\n",
       "      <td>0.0</td>\n",
       "      <td>0.0</td>\n",
       "      <td>1.0</td>\n",
       "    </tr>\n",
       "  </tbody>\n",
       "</table>\n",
       "</div>"
      ],
      "text/plain": [
       "   Rainfall Evaporation  Sunshine WindGustSpeed WindSpeed9am WindSpeed3pm  \\\n",
       "0 -0.280588   -0.015576 -1.068867     -0.128345    -0.286859     1.535077   \n",
       "1 -0.280588   -0.272539  1.174653     -0.662033     0.462381     0.263962   \n",
       "2  0.455413   -1.899971 -2.723923      1.383770     1.586241     1.280854   \n",
       "\n",
       "  Humidity9am Humidity3pm Pressure3pm  Cloud9am  Cloud3pm   Temp3pm  \\\n",
       "0    0.245186    0.410903    2.045009  0.239280 -1.191383  0.039199   \n",
       "1   -1.066118   -1.235378   -0.194388 -1.520173 -0.714923  0.657389   \n",
       "2    1.337940    1.608199    0.660937  1.558869  1.667376 -0.880546   \n",
       "\n",
       "  Day of The Year    E    N   NE   NW    S   SE   SW    W    E    N   NE   NW  \\\n",
       "0       -0.601894  0.0  0.0  0.0  0.0  0.0  1.0  0.0  0.0  0.0  0.0  0.0  0.0   \n",
       "1       -0.697982  0.0  0.0  0.0  0.0  0.0  0.0  1.0  0.0  1.0  0.0  0.0  0.0   \n",
       "2        0.032287  0.0  0.0  0.0  0.0  0.0  0.0  0.0  1.0  0.0  0.0  0.0  1.0   \n",
       "\n",
       "     S   SE   SW    W    E    N   NE   NW    S   SE   SW    W  0.0  1.0  \n",
       "0  0.0  0.0  0.0  1.0  0.0  0.0  0.0  0.0  1.0  0.0  0.0  0.0  1.0  0.0  \n",
       "1  0.0  0.0  0.0  0.0  0.0  0.0  0.0  0.0  0.0  0.0  1.0  0.0  1.0  0.0  \n",
       "2  0.0  0.0  0.0  0.0  0.0  0.0  0.0  1.0  0.0  0.0  0.0  0.0  0.0  1.0  "
      ]
     },
     "execution_count": 729,
     "metadata": {},
     "output_type": "execute_result"
    }
   ],
   "source": [
    "#concat\n",
    "df_inf_final = np.concatenate([df_inf_num_scaled,df_inf_cat_enc],axis=1)\n",
    "df_inf_final = pd.DataFrame(df_inf_final, columns=[num_cols + enc_feature])\n",
    "df_inf_final"
   ]
  },
  {
   "cell_type": "markdown",
   "metadata": {},
   "source": [
    "Prediksi nilai target."
   ]
  },
  {
   "cell_type": "code",
   "execution_count": 730,
   "metadata": {},
   "outputs": [
    {
     "data": {
      "text/html": [
       "<div>\n",
       "<style scoped>\n",
       "    .dataframe tbody tr th:only-of-type {\n",
       "        vertical-align: middle;\n",
       "    }\n",
       "\n",
       "    .dataframe tbody tr th {\n",
       "        vertical-align: top;\n",
       "    }\n",
       "\n",
       "    .dataframe thead th {\n",
       "        text-align: right;\n",
       "    }\n",
       "</style>\n",
       "<table border=\"1\" class=\"dataframe\">\n",
       "  <thead>\n",
       "    <tr style=\"text-align: right;\">\n",
       "      <th></th>\n",
       "      <th>y-pred-lr</th>\n",
       "      <th>y-pred-svc</th>\n",
       "    </tr>\n",
       "  </thead>\n",
       "  <tbody>\n",
       "    <tr>\n",
       "      <th>42120</th>\n",
       "      <td>0.0</td>\n",
       "      <td>0.0</td>\n",
       "    </tr>\n",
       "    <tr>\n",
       "      <th>13909</th>\n",
       "      <td>0.0</td>\n",
       "      <td>0.0</td>\n",
       "    </tr>\n",
       "    <tr>\n",
       "      <th>76533</th>\n",
       "      <td>1.0</td>\n",
       "      <td>1.0</td>\n",
       "    </tr>\n",
       "  </tbody>\n",
       "</table>\n",
       "</div>"
      ],
      "text/plain": [
       "       y-pred-lr  y-pred-svc\n",
       "42120        0.0         0.0\n",
       "13909        0.0         0.0\n",
       "76533        1.0         1.0"
      ]
     },
     "execution_count": 730,
     "metadata": {},
     "output_type": "execute_result"
    }
   ],
   "source": [
    "y_inf_pred_lr = logreg.predict(df_inf_final)\n",
    "y_inf_pred_svc = svc.predict(df_inf_final)\n",
    "\n",
    "df_inf['y-pred-lr'] = y_inf_pred_lr\n",
    "df_inf['y-pred-svc'] = y_inf_pred_svc\n",
    "df_inf[['y-pred-lr','y-pred-svc']]"
   ]
  },
  {
   "cell_type": "markdown",
   "metadata": {},
   "source": [
    "Kedua model memiliki prediksi yang sama."
   ]
  },
  {
   "cell_type": "markdown",
   "metadata": {},
   "source": [
    "## 10. Pengambilan Kesimpulan"
   ]
  },
  {
   "cell_type": "markdown",
   "metadata": {},
   "source": [
    "Berdasarkan analisis yang telah dilakukan, berikut kesimpulan yang didapat:\n",
    "1. Tidak ditemukan feature dengan korelasi yang kuat terhadap `RainTomorrow` atau `Hujan Besok`\n",
    "2. Beberapa feature memiliki korelasi antar feature yang kuat seperti `Temp` dan `Pressure`\n",
    "3. Model Logistic Regression dengan solver lbfgs memiliki performa yang lebih baik dibandingkan model Support Vector Machine polynomial derajat 3\n",
    "4. Performa model dapat ditingkatkan lagi dengan menyamakan distribusi jumlah target, pada kasus ini menyamakan jumlah data `Yes` pada `RainTomorrow` dengan up/over sampling."
   ]
  }
 ],
 "metadata": {
  "interpreter": {
   "hash": "c511a689884ea87b05d7e6308bcd3bc07b8326d80ebf1c46c0d8c6a4a82d4d0a"
  },
  "kernelspec": {
   "display_name": "Python 3.10.2 64-bit",
   "language": "python",
   "name": "python3"
  },
  "language_info": {
   "codemirror_mode": {
    "name": "ipython",
    "version": 3
   },
   "file_extension": ".py",
   "mimetype": "text/x-python",
   "name": "python",
   "nbconvert_exporter": "python",
   "pygments_lexer": "ipython3",
   "version": "3.10.2"
  },
  "orig_nbformat": 4
 },
 "nbformat": 4,
 "nbformat_minor": 2
}

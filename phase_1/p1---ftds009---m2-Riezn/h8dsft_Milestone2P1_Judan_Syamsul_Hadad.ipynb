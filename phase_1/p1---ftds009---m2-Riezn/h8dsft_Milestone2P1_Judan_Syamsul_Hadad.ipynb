{
 "cells": [
  {
   "cell_type": "markdown",
   "metadata": {},
   "source": [
    "# Milestone 2 Phase 1\n",
    "Nama: Judan Syamsul Hadad\n",
    "\n",
    "Batch: FTDS-009"
   ]
  },
  {
   "cell_type": "markdown",
   "metadata": {},
   "source": [
    "## 1. Perkenalan"
   ]
  },
  {
   "cell_type": "markdown",
   "metadata": {},
   "source": [
    "Selamat datang. Notebook ini dibuat sebagai pemenuhan penilaian kompetensi dari rangkaian <u>**Full Time Data Science (FTDS) Bootcamp Batch 9**</u> yang diadakan oleh Hacktiv8 dimana penulis atas nama **Judan Syamsul Hadad** dengan handlename **Riezn** merupakan salah satu pesertanya.\n",
    "\n",
    "Dataset yang digunakan pada notebook ini dapat diunduh [disini](https://www.kaggle.com/datasets/mirichoi0218/insurance). Dataset ini merupakan kumpulan data dari badan sensus Amerika Serikat yang disimulasikan berdasarkan demografi ril penduduk Amerika Serikat. Dataset ini digunakan untuk memprediksi biaya asuransi dari seseorang berdasarkan faktor-faktor yang ada. Berikut faktor yang dimaksud: \n",
    "\n",
    "- `age`: age of primary beneficiary\n",
    "- `sex`: insurance contractor gender, female, male\n",
    "- `bmi`: Body mass index, providing an understanding of body, weights that are relatively high or low relative to height, objective index of body weight (kg / m ^ 2) using the ratio of height to weight, ideally 18.5 to 24.9\n",
    "- `children`: Number of children covered by health insurance / Number of dependents\n",
    "- `smoker`: Smoking\n",
    "- `region`: the beneficiary's residential area in the US, northeast, southeast, southwest, northwest.\n",
    "- `charges`: Individual medical costs billed by health insurance"
   ]
  },
  {
   "cell_type": "markdown",
   "metadata": {},
   "source": [
    "### Deployment"
   ]
  },
  {
   "cell_type": "markdown",
   "metadata": {},
   "source": [
    "Dapat diakses di:\n",
    "- [Frontend](https://judan-ftds-009-p1m2-fe.herokuapp.com/)\n",
    "- [Backend](https://judan-ftds-009-p1m2-be.herokuapp.com/predict)"
   ]
  },
  {
   "cell_type": "markdown",
   "metadata": {},
   "source": [
    "### 1.1. Objective\n"
   ]
  },
  {
   "cell_type": "markdown",
   "metadata": {},
   "source": [
    "Pada notebook ini akan dilakukan pembuatan model regresi dengan tahapan berikut:\n",
    "1. Exploratory Data Analysis (EDA)\n",
    "2. Data Preprocessing:\n",
    "    - Data Splitting:\n",
    "        - Dataset ke inference set dan train-test set\n",
    "        - Train-test set ke train set dan test set\n",
    "    - Outliers Handling\n",
    "    - Missing Values Handling\n",
    "    - Feature Engineering (Scaling, Encoding)\n",
    "    - Principal Component Analysis\n",
    "3. Model Definition:\n",
    "    - Ridge regression\n",
    "    - Random forest regression\n",
    "    - AdaBoost regression\n",
    "    - XGBoost regression\n",
    "4. Model Training\n",
    "    - Cross validation\n",
    "5. Model Evaluation\n",
    "    - Pilih satu model terbaik berdasarkan cross validation\n",
    "    - Hyperparameter tuning pada model terbaik\n",
    "    - Evaluasi fit terhadap test set\n",
    "6. Model Saving\n",
    "    - Pipeline\n",
    "7. Model Inference\n",
    "8. Kesimpulan"
   ]
  },
  {
   "cell_type": "markdown",
   "metadata": {},
   "source": [
    "### 1.2. Problem Statement"
   ]
  },
  {
   "cell_type": "markdown",
   "metadata": {},
   "source": [
    "Bagaimana model untuk memprediksi biaya asuransi kesehatan seseorang?"
   ]
  },
  {
   "cell_type": "markdown",
   "metadata": {},
   "source": [
    "## 2. Import Libraries"
   ]
  },
  {
   "cell_type": "code",
   "execution_count": 1,
   "metadata": {},
   "outputs": [],
   "source": [
    "import numpy as np \n",
    "import pandas as pd\n",
    "import matplotlib.pyplot as plt\n",
    "import seaborn as sns\n",
    "import warnings\n",
    "import pickle\n",
    "warnings.filterwarnings('ignore')\n",
    "\n",
    "#preprocessing\n",
    "from sklearn.model_selection import train_test_split\n",
    "from sklearn.preprocessing import StandardScaler, OrdinalEncoder, OneHotEncoder\n",
    "from sklearn.compose import ColumnTransformer\n",
    "from sklearn.decomposition import PCA\n",
    "from sklearn.pipeline import Pipeline\n",
    "from statsmodels.stats.outliers_influence import variance_inflation_factor\n",
    "\n",
    "#models\n",
    "from sklearn.linear_model import Ridge\n",
    "from sklearn.ensemble import RandomForestRegressor, AdaBoostRegressor\n",
    "from xgboost import XGBRegressor\n",
    "\n",
    "\n",
    "#validation and evaluation\n",
    "from sklearn.model_selection import GridSearchCV, cross_val_score\n",
    "from sklearn.metrics import r2_score\n",
    "import shap"
   ]
  },
  {
   "cell_type": "markdown",
   "metadata": {},
   "source": [
    "## 3. Data Loading"
   ]
  },
  {
   "cell_type": "markdown",
   "metadata": {},
   "source": [
    "Definisikan random state dan seed untuk seluruh kode di notebook ini."
   ]
  },
  {
   "cell_type": "code",
   "execution_count": 2,
   "metadata": {},
   "outputs": [],
   "source": [
    "random_state = 34\n",
    "np.random.seed = 34"
   ]
  },
  {
   "cell_type": "markdown",
   "metadata": {},
   "source": [
    "Set display agar menampilkan seluruh kolom."
   ]
  },
  {
   "cell_type": "code",
   "execution_count": 3,
   "metadata": {},
   "outputs": [],
   "source": [
    "pd.set_option('display.max_columns', None)"
   ]
  },
  {
   "cell_type": "markdown",
   "metadata": {},
   "source": [
    "Load dataset."
   ]
  },
  {
   "cell_type": "code",
   "execution_count": 4,
   "metadata": {},
   "outputs": [],
   "source": [
    "data = pd.read_csv('insurance.csv')"
   ]
  },
  {
   "cell_type": "markdown",
   "metadata": {},
   "source": [
    "Copy dataset."
   ]
  },
  {
   "cell_type": "code",
   "execution_count": 5,
   "metadata": {},
   "outputs": [],
   "source": [
    "df = data.copy()"
   ]
  },
  {
   "cell_type": "markdown",
   "metadata": {},
   "source": [
    "Cek lima data teratas."
   ]
  },
  {
   "cell_type": "code",
   "execution_count": 6,
   "metadata": {},
   "outputs": [
    {
     "data": {
      "text/html": [
       "<div>\n",
       "<style scoped>\n",
       "    .dataframe tbody tr th:only-of-type {\n",
       "        vertical-align: middle;\n",
       "    }\n",
       "\n",
       "    .dataframe tbody tr th {\n",
       "        vertical-align: top;\n",
       "    }\n",
       "\n",
       "    .dataframe thead th {\n",
       "        text-align: right;\n",
       "    }\n",
       "</style>\n",
       "<table border=\"1\" class=\"dataframe\">\n",
       "  <thead>\n",
       "    <tr style=\"text-align: right;\">\n",
       "      <th></th>\n",
       "      <th>age</th>\n",
       "      <th>sex</th>\n",
       "      <th>bmi</th>\n",
       "      <th>children</th>\n",
       "      <th>smoker</th>\n",
       "      <th>region</th>\n",
       "      <th>charges</th>\n",
       "    </tr>\n",
       "  </thead>\n",
       "  <tbody>\n",
       "    <tr>\n",
       "      <th>0</th>\n",
       "      <td>19</td>\n",
       "      <td>female</td>\n",
       "      <td>27.900</td>\n",
       "      <td>0</td>\n",
       "      <td>yes</td>\n",
       "      <td>southwest</td>\n",
       "      <td>16884.92400</td>\n",
       "    </tr>\n",
       "    <tr>\n",
       "      <th>1</th>\n",
       "      <td>18</td>\n",
       "      <td>male</td>\n",
       "      <td>33.770</td>\n",
       "      <td>1</td>\n",
       "      <td>no</td>\n",
       "      <td>southeast</td>\n",
       "      <td>1725.55230</td>\n",
       "    </tr>\n",
       "    <tr>\n",
       "      <th>2</th>\n",
       "      <td>28</td>\n",
       "      <td>male</td>\n",
       "      <td>33.000</td>\n",
       "      <td>3</td>\n",
       "      <td>no</td>\n",
       "      <td>southeast</td>\n",
       "      <td>4449.46200</td>\n",
       "    </tr>\n",
       "    <tr>\n",
       "      <th>3</th>\n",
       "      <td>33</td>\n",
       "      <td>male</td>\n",
       "      <td>22.705</td>\n",
       "      <td>0</td>\n",
       "      <td>no</td>\n",
       "      <td>northwest</td>\n",
       "      <td>21984.47061</td>\n",
       "    </tr>\n",
       "    <tr>\n",
       "      <th>4</th>\n",
       "      <td>32</td>\n",
       "      <td>male</td>\n",
       "      <td>28.880</td>\n",
       "      <td>0</td>\n",
       "      <td>no</td>\n",
       "      <td>northwest</td>\n",
       "      <td>3866.85520</td>\n",
       "    </tr>\n",
       "  </tbody>\n",
       "</table>\n",
       "</div>"
      ],
      "text/plain": [
       "   age     sex     bmi  children smoker     region      charges\n",
       "0   19  female  27.900         0    yes  southwest  16884.92400\n",
       "1   18    male  33.770         1     no  southeast   1725.55230\n",
       "2   28    male  33.000         3     no  southeast   4449.46200\n",
       "3   33    male  22.705         0     no  northwest  21984.47061\n",
       "4   32    male  28.880         0     no  northwest   3866.85520"
      ]
     },
     "execution_count": 6,
     "metadata": {},
     "output_type": "execute_result"
    }
   ],
   "source": [
    "df.head()"
   ]
  },
  {
   "cell_type": "markdown",
   "metadata": {},
   "source": [
    "Cek properties dataset."
   ]
  },
  {
   "cell_type": "code",
   "execution_count": 7,
   "metadata": {},
   "outputs": [
    {
     "name": "stdout",
     "output_type": "stream",
     "text": [
      "<class 'pandas.core.frame.DataFrame'>\n",
      "RangeIndex: 1338 entries, 0 to 1337\n",
      "Data columns (total 7 columns):\n",
      " #   Column    Non-Null Count  Dtype  \n",
      "---  ------    --------------  -----  \n",
      " 0   age       1338 non-null   int64  \n",
      " 1   sex       1338 non-null   object \n",
      " 2   bmi       1338 non-null   float64\n",
      " 3   children  1338 non-null   int64  \n",
      " 4   smoker    1338 non-null   object \n",
      " 5   region    1338 non-null   object \n",
      " 6   charges   1338 non-null   float64\n",
      "dtypes: float64(2), int64(2), object(3)\n",
      "memory usage: 73.3+ KB\n"
     ]
    }
   ],
   "source": [
    "df.info()"
   ]
  },
  {
   "cell_type": "markdown",
   "metadata": {},
   "source": [
    "Ada 1338 baris dan 7 kolom. Ada data kategorik dan numerik. Tidak ditemukan missing value."
   ]
  },
  {
   "cell_type": "markdown",
   "metadata": {},
   "source": [
    "Cek jumlah nilai unik di masing-masing kolom."
   ]
  },
  {
   "cell_type": "code",
   "execution_count": 8,
   "metadata": {},
   "outputs": [
    {
     "data": {
      "text/plain": [
       "age           47\n",
       "sex            2\n",
       "bmi          548\n",
       "children       6\n",
       "smoker         2\n",
       "region         4\n",
       "charges     1337\n",
       "dtype: int64"
      ]
     },
     "execution_count": 8,
     "metadata": {},
     "output_type": "execute_result"
    }
   ],
   "source": [
    "df.nunique()"
   ]
  },
  {
   "cell_type": "markdown",
   "metadata": {},
   "source": [
    "Cek duplikat pada dataset."
   ]
  },
  {
   "cell_type": "code",
   "execution_count": 9,
   "metadata": {},
   "outputs": [
    {
     "data": {
      "text/plain": [
       "1"
      ]
     },
     "execution_count": 9,
     "metadata": {},
     "output_type": "execute_result"
    }
   ],
   "source": [
    "df.duplicated().sum()"
   ]
  },
  {
   "cell_type": "code",
   "execution_count": 10,
   "metadata": {},
   "outputs": [
    {
     "data": {
      "text/html": [
       "<div>\n",
       "<style scoped>\n",
       "    .dataframe tbody tr th:only-of-type {\n",
       "        vertical-align: middle;\n",
       "    }\n",
       "\n",
       "    .dataframe tbody tr th {\n",
       "        vertical-align: top;\n",
       "    }\n",
       "\n",
       "    .dataframe thead th {\n",
       "        text-align: right;\n",
       "    }\n",
       "</style>\n",
       "<table border=\"1\" class=\"dataframe\">\n",
       "  <thead>\n",
       "    <tr style=\"text-align: right;\">\n",
       "      <th></th>\n",
       "      <th>age</th>\n",
       "      <th>sex</th>\n",
       "      <th>bmi</th>\n",
       "      <th>children</th>\n",
       "      <th>smoker</th>\n",
       "      <th>region</th>\n",
       "      <th>charges</th>\n",
       "    </tr>\n",
       "  </thead>\n",
       "  <tbody>\n",
       "    <tr>\n",
       "      <th>581</th>\n",
       "      <td>19</td>\n",
       "      <td>male</td>\n",
       "      <td>30.59</td>\n",
       "      <td>0</td>\n",
       "      <td>no</td>\n",
       "      <td>northwest</td>\n",
       "      <td>1639.5631</td>\n",
       "    </tr>\n",
       "  </tbody>\n",
       "</table>\n",
       "</div>"
      ],
      "text/plain": [
       "     age   sex    bmi  children smoker     region    charges\n",
       "581   19  male  30.59         0     no  northwest  1639.5631"
      ]
     },
     "execution_count": 10,
     "metadata": {},
     "output_type": "execute_result"
    }
   ],
   "source": [
    "df[df.duplicated()==True]"
   ]
  },
  {
   "cell_type": "markdown",
   "metadata": {},
   "source": [
    "Ada satu duplikat pada dataset."
   ]
  },
  {
   "cell_type": "markdown",
   "metadata": {},
   "source": [
    "Cek statistika deskriptif dari dataset."
   ]
  },
  {
   "cell_type": "code",
   "execution_count": 11,
   "metadata": {},
   "outputs": [
    {
     "data": {
      "text/html": [
       "<div>\n",
       "<style scoped>\n",
       "    .dataframe tbody tr th:only-of-type {\n",
       "        vertical-align: middle;\n",
       "    }\n",
       "\n",
       "    .dataframe tbody tr th {\n",
       "        vertical-align: top;\n",
       "    }\n",
       "\n",
       "    .dataframe thead th {\n",
       "        text-align: right;\n",
       "    }\n",
       "</style>\n",
       "<table border=\"1\" class=\"dataframe\">\n",
       "  <thead>\n",
       "    <tr style=\"text-align: right;\">\n",
       "      <th></th>\n",
       "      <th>count</th>\n",
       "      <th>unique</th>\n",
       "      <th>top</th>\n",
       "      <th>freq</th>\n",
       "      <th>mean</th>\n",
       "      <th>std</th>\n",
       "      <th>min</th>\n",
       "      <th>25%</th>\n",
       "      <th>50%</th>\n",
       "      <th>75%</th>\n",
       "      <th>max</th>\n",
       "    </tr>\n",
       "  </thead>\n",
       "  <tbody>\n",
       "    <tr>\n",
       "      <th>charges</th>\n",
       "      <td>1338.0</td>\n",
       "      <td>NaN</td>\n",
       "      <td>NaN</td>\n",
       "      <td>NaN</td>\n",
       "      <td>13270.422265</td>\n",
       "      <td>12110.011237</td>\n",
       "      <td>1121.8739</td>\n",
       "      <td>4740.28715</td>\n",
       "      <td>9382.033</td>\n",
       "      <td>16639.912515</td>\n",
       "      <td>63770.42801</td>\n",
       "    </tr>\n",
       "    <tr>\n",
       "      <th>age</th>\n",
       "      <td>1338.0</td>\n",
       "      <td>NaN</td>\n",
       "      <td>NaN</td>\n",
       "      <td>NaN</td>\n",
       "      <td>39.207025</td>\n",
       "      <td>14.04996</td>\n",
       "      <td>18.0</td>\n",
       "      <td>27.0</td>\n",
       "      <td>39.0</td>\n",
       "      <td>51.0</td>\n",
       "      <td>64.0</td>\n",
       "    </tr>\n",
       "    <tr>\n",
       "      <th>bmi</th>\n",
       "      <td>1338.0</td>\n",
       "      <td>NaN</td>\n",
       "      <td>NaN</td>\n",
       "      <td>NaN</td>\n",
       "      <td>30.663397</td>\n",
       "      <td>6.098187</td>\n",
       "      <td>15.96</td>\n",
       "      <td>26.29625</td>\n",
       "      <td>30.4</td>\n",
       "      <td>34.69375</td>\n",
       "      <td>53.13</td>\n",
       "    </tr>\n",
       "    <tr>\n",
       "      <th>children</th>\n",
       "      <td>1338.0</td>\n",
       "      <td>NaN</td>\n",
       "      <td>NaN</td>\n",
       "      <td>NaN</td>\n",
       "      <td>1.094918</td>\n",
       "      <td>1.205493</td>\n",
       "      <td>0.0</td>\n",
       "      <td>0.0</td>\n",
       "      <td>1.0</td>\n",
       "      <td>2.0</td>\n",
       "      <td>5.0</td>\n",
       "    </tr>\n",
       "    <tr>\n",
       "      <th>sex</th>\n",
       "      <td>1338</td>\n",
       "      <td>2</td>\n",
       "      <td>male</td>\n",
       "      <td>676</td>\n",
       "      <td>NaN</td>\n",
       "      <td>NaN</td>\n",
       "      <td>NaN</td>\n",
       "      <td>NaN</td>\n",
       "      <td>NaN</td>\n",
       "      <td>NaN</td>\n",
       "      <td>NaN</td>\n",
       "    </tr>\n",
       "    <tr>\n",
       "      <th>smoker</th>\n",
       "      <td>1338</td>\n",
       "      <td>2</td>\n",
       "      <td>no</td>\n",
       "      <td>1064</td>\n",
       "      <td>NaN</td>\n",
       "      <td>NaN</td>\n",
       "      <td>NaN</td>\n",
       "      <td>NaN</td>\n",
       "      <td>NaN</td>\n",
       "      <td>NaN</td>\n",
       "      <td>NaN</td>\n",
       "    </tr>\n",
       "    <tr>\n",
       "      <th>region</th>\n",
       "      <td>1338</td>\n",
       "      <td>4</td>\n",
       "      <td>southeast</td>\n",
       "      <td>364</td>\n",
       "      <td>NaN</td>\n",
       "      <td>NaN</td>\n",
       "      <td>NaN</td>\n",
       "      <td>NaN</td>\n",
       "      <td>NaN</td>\n",
       "      <td>NaN</td>\n",
       "      <td>NaN</td>\n",
       "    </tr>\n",
       "  </tbody>\n",
       "</table>\n",
       "</div>"
      ],
      "text/plain": [
       "           count unique        top  freq          mean           std  \\\n",
       "charges   1338.0    NaN        NaN   NaN  13270.422265  12110.011237   \n",
       "age       1338.0    NaN        NaN   NaN     39.207025      14.04996   \n",
       "bmi       1338.0    NaN        NaN   NaN     30.663397      6.098187   \n",
       "children  1338.0    NaN        NaN   NaN      1.094918      1.205493   \n",
       "sex         1338      2       male   676           NaN           NaN   \n",
       "smoker      1338      2         no  1064           NaN           NaN   \n",
       "region      1338      4  southeast   364           NaN           NaN   \n",
       "\n",
       "                min         25%       50%           75%          max  \n",
       "charges   1121.8739  4740.28715  9382.033  16639.912515  63770.42801  \n",
       "age            18.0        27.0      39.0          51.0         64.0  \n",
       "bmi           15.96    26.29625      30.4      34.69375        53.13  \n",
       "children        0.0         0.0       1.0           2.0          5.0  \n",
       "sex             NaN         NaN       NaN           NaN          NaN  \n",
       "smoker          NaN         NaN       NaN           NaN          NaN  \n",
       "region          NaN         NaN       NaN           NaN          NaN  "
      ]
     },
     "execution_count": 11,
     "metadata": {},
     "output_type": "execute_result"
    }
   ],
   "source": [
    "df.describe(include='all').T.sort_values(by='mean', ascending=False)"
   ]
  },
  {
   "cell_type": "markdown",
   "metadata": {},
   "source": [
    "Simpan tipe feature untuk preprocessing pada bab-bab selanjutnya."
   ]
  },
  {
   "cell_type": "code",
   "execution_count": 12,
   "metadata": {},
   "outputs": [],
   "source": [
    "num_cols = df.drop(columns='charges').select_dtypes(include=['int64', 'float64']).columns.tolist()\n",
    "cat_cols = df.select_dtypes(include=['object']).columns.tolist()"
   ]
  },
  {
   "cell_type": "code",
   "execution_count": 13,
   "metadata": {},
   "outputs": [
    {
     "data": {
      "text/plain": [
       "['age', 'bmi', 'children']"
      ]
     },
     "execution_count": 13,
     "metadata": {},
     "output_type": "execute_result"
    }
   ],
   "source": [
    "num_cols"
   ]
  },
  {
   "cell_type": "code",
   "execution_count": 14,
   "metadata": {},
   "outputs": [
    {
     "data": {
      "text/plain": [
       "['sex', 'smoker', 'region']"
      ]
     },
     "execution_count": 14,
     "metadata": {},
     "output_type": "execute_result"
    }
   ],
   "source": [
    "cat_cols"
   ]
  },
  {
   "cell_type": "markdown",
   "metadata": {},
   "source": [
    "## 4. Exploratory Data Analysis (EDA)"
   ]
  },
  {
   "cell_type": "markdown",
   "metadata": {},
   "source": [
    "### 4.1. Pairplot"
   ]
  },
  {
   "cell_type": "markdown",
   "metadata": {},
   "source": [
    "Cek distribusi data."
   ]
  },
  {
   "cell_type": "code",
   "execution_count": 15,
   "metadata": {},
   "outputs": [
    {
     "data": {
      "image/png": "[encoded data removed]",
      "text/plain": [
       "<Figure size 720x720 with 20 Axes>"
      ]
     },
     "metadata": {
      "needs_background": "light"
     },
     "output_type": "display_data"
    }
   ],
   "source": [
    "sns.pairplot(df)\n",
    "plt.show()"
   ]
  },
  {
   "cell_type": "markdown",
   "metadata": {},
   "source": [
    "Tidak ada feature yang terlihat memiliki korelasi yang kuat."
   ]
  },
  {
   "cell_type": "markdown",
   "metadata": {},
   "source": [
    "### 4.2. Boxplot"
   ]
  },
  {
   "cell_type": "markdown",
   "metadata": {},
   "source": [
    "Cek sebaran data dengan boxplot untuk feature yang skewed."
   ]
  },
  {
   "cell_type": "code",
   "execution_count": 16,
   "metadata": {},
   "outputs": [
    {
     "data": {
      "text/plain": [
       "age         0.055673\n",
       "bmi         0.284047\n",
       "children    0.938380\n",
       "charges     1.515880\n",
       "dtype: float64"
      ]
     },
     "execution_count": 16,
     "metadata": {},
     "output_type": "execute_result"
    }
   ],
   "source": [
    "df.skew()"
   ]
  },
  {
   "cell_type": "code",
   "execution_count": 17,
   "metadata": {},
   "outputs": [
    {
     "data": {
      "image/png": "[encoded data removed]",
      "text/plain": [
       "<Figure size 360x360 with 1 Axes>"
      ]
     },
     "metadata": {
      "needs_background": "light"
     },
     "output_type": "display_data"
    }
   ],
   "source": [
    "plt.figure(figsize=(5,5))\n",
    "sns.boxplot(y=df['children'])\n",
    "plt.show()"
   ]
  },
  {
   "cell_type": "markdown",
   "metadata": {},
   "source": [
    "Tidak terindikasi ada outlier."
   ]
  },
  {
   "cell_type": "markdown",
   "metadata": {},
   "source": [
    "### 4.3. Heatmap"
   ]
  },
  {
   "cell_type": "markdown",
   "metadata": {},
   "source": [
    "Cek korelasi antar feature numerikal pada dataset."
   ]
  },
  {
   "cell_type": "code",
   "execution_count": 94,
   "metadata": {},
   "outputs": [
    {
     "data": {
      "image/png": "[encoded data removed]",
      "text/plain": [
       "<Figure size 720x720 with 2 Axes>"
      ]
     },
     "metadata": {
      "needs_background": "light"
     },
     "output_type": "display_data"
    }
   ],
   "source": [
    "plt.figure(figsize=(10,10))\n",
    "ax = sns.heatmap(df.corr(),annot=True, cmap='rocket')"
   ]
  },
  {
   "cell_type": "markdown",
   "metadata": {},
   "source": [
    "Dari heatmap tidak terlihat feature numerik yang memiliki korelasi di atas 0.7 atau di bawah -0.7."
   ]
  },
  {
   "cell_type": "markdown",
   "metadata": {},
   "source": [
    "### 4.4. Barplot"
   ]
  },
  {
   "cell_type": "markdown",
   "metadata": {},
   "source": [
    "Selanjutnya coba lihat hubungan `charges` terhadap feature kategorik."
   ]
  },
  {
   "cell_type": "code",
   "execution_count": 95,
   "metadata": {},
   "outputs": [
    {
     "data": {
      "image/png": "[encoded data removed]",
      "text/plain": [
       "<Figure size 1512x360 with 3 Axes>"
      ]
     },
     "metadata": {
      "needs_background": "light"
     },
     "output_type": "display_data"
    }
   ],
   "source": [
    "def cat_plot(dataframe,target):\n",
    "    fig, ax = plt.subplots(ncols=3,figsize=(21,5))\n",
    "    for i, cat_col in enumerate(cat_cols):\n",
    "        df_catplot = dataframe[[target,cat_col]].groupby(cat_col).mean().reset_index()\n",
    "        plt.subplot(1,3,i+1)\n",
    "        sns.barplot(y=df_catplot[target], x=df_catplot[cat_col], color=df_catplot[cat_col], palette='rocket', ax=ax[i])\n",
    "        ax[i] = plt.ylabel(target)\n",
    "        ax[i] = plt.xlabel(cat_col)\n",
    "    plt.show()\n",
    "cat_plot(df,'charges')"
   ]
  },
  {
   "cell_type": "markdown",
   "metadata": {},
   "source": [
    "- `male` memiliki `charges` yang sedikit lebih tinggi dari `female`, kemungkinan karena `male` disini berlaku sebagai kepala keluarga sehingga `charges` untuk keluarganya juga jatuh pada satu orang\n",
    "- `smoker` memiliki `charges` yang jauh lebih tinggi dari `non-smoker`, hal ini wajar karena seringkali `smoker` memiliki penyakit akibat merokok\n",
    "- `region` tidak terlihat memiliki perbedaan `charges` yang jauh"
   ]
  },
  {
   "cell_type": "markdown",
   "metadata": {},
   "source": [
    "## 5. Data Preprocessing"
   ]
  },
  {
   "cell_type": "markdown",
   "metadata": {},
   "source": [
    "Pada bab ini akan dilakukan pengolahan data sebelum digunakan untuk model."
   ]
  },
  {
   "cell_type": "markdown",
   "metadata": {},
   "source": [
    "### 5.1. Data Splitting"
   ]
  },
  {
   "cell_type": "markdown",
   "metadata": {},
   "source": [
    "Hapus duplikat terlebih dahulu."
   ]
  },
  {
   "cell_type": "code",
   "execution_count": 20,
   "metadata": {},
   "outputs": [],
   "source": [
    "df.drop(index=df[df.duplicated()==True].index,inplace=True)"
   ]
  },
  {
   "cell_type": "markdown",
   "metadata": {},
   "source": [
    "Bagi data menjadi inference, train, validation, dan test set."
   ]
  },
  {
   "cell_type": "markdown",
   "metadata": {},
   "source": [
    "Ambil data untuk inferensial dan hapus data tersebut dari dataset yang akan dipisahkan menjadi train dan test set."
   ]
  },
  {
   "cell_type": "code",
   "execution_count": 21,
   "metadata": {},
   "outputs": [
    {
     "data": {
      "text/html": [
       "<div>\n",
       "<style scoped>\n",
       "    .dataframe tbody tr th:only-of-type {\n",
       "        vertical-align: middle;\n",
       "    }\n",
       "\n",
       "    .dataframe tbody tr th {\n",
       "        vertical-align: top;\n",
       "    }\n",
       "\n",
       "    .dataframe thead th {\n",
       "        text-align: right;\n",
       "    }\n",
       "</style>\n",
       "<table border=\"1\" class=\"dataframe\">\n",
       "  <thead>\n",
       "    <tr style=\"text-align: right;\">\n",
       "      <th></th>\n",
       "      <th>age</th>\n",
       "      <th>sex</th>\n",
       "      <th>bmi</th>\n",
       "      <th>children</th>\n",
       "      <th>smoker</th>\n",
       "      <th>region</th>\n",
       "      <th>charges</th>\n",
       "    </tr>\n",
       "  </thead>\n",
       "  <tbody>\n",
       "    <tr>\n",
       "      <th>669</th>\n",
       "      <td>40</td>\n",
       "      <td>female</td>\n",
       "      <td>29.810</td>\n",
       "      <td>1</td>\n",
       "      <td>no</td>\n",
       "      <td>southeast</td>\n",
       "      <td>6500.23590</td>\n",
       "    </tr>\n",
       "    <tr>\n",
       "      <th>318</th>\n",
       "      <td>44</td>\n",
       "      <td>female</td>\n",
       "      <td>27.645</td>\n",
       "      <td>0</td>\n",
       "      <td>no</td>\n",
       "      <td>northwest</td>\n",
       "      <td>7421.19455</td>\n",
       "    </tr>\n",
       "    <tr>\n",
       "      <th>757</th>\n",
       "      <td>47</td>\n",
       "      <td>female</td>\n",
       "      <td>27.830</td>\n",
       "      <td>0</td>\n",
       "      <td>yes</td>\n",
       "      <td>southeast</td>\n",
       "      <td>23065.42070</td>\n",
       "    </tr>\n",
       "  </tbody>\n",
       "</table>\n",
       "</div>"
      ],
      "text/plain": [
       "     age     sex     bmi  children smoker     region      charges\n",
       "669   40  female  29.810         1     no  southeast   6500.23590\n",
       "318   44  female  27.645         0     no  northwest   7421.19455\n",
       "757   47  female  27.830         0    yes  southeast  23065.42070"
      ]
     },
     "execution_count": 21,
     "metadata": {},
     "output_type": "execute_result"
    }
   ],
   "source": [
    "#data inference\n",
    "df_inf = df.dropna().sample(3, random_state=random_state)\n",
    "df_tt = df.drop(index=df_inf.index)\n",
    "df_inf"
   ]
  },
  {
   "cell_type": "markdown",
   "metadata": {},
   "source": [
    "Deklarasikan feature dan target."
   ]
  },
  {
   "cell_type": "code",
   "execution_count": 22,
   "metadata": {},
   "outputs": [],
   "source": [
    "#deklarasi feature dan target\n",
    "X = df_tt.drop(columns='charges')\n",
    "y = df_tt['charges']"
   ]
  },
  {
   "cell_type": "markdown",
   "metadata": {},
   "source": [
    "Bagi data menjadi X (feature) dan y (target) untuk masing-masing train dan test set. Sample test set yang diambil sebanyak 20% dari total data pada dataset."
   ]
  },
  {
   "cell_type": "code",
   "execution_count": 23,
   "metadata": {},
   "outputs": [],
   "source": [
    "X_train, X_test, y_train, y_test = train_test_split(X,y,test_size=0.2,random_state=random_state)"
   ]
  },
  {
   "cell_type": "markdown",
   "metadata": {},
   "source": [
    "Pisahkan numeric dan categorical feature."
   ]
  },
  {
   "cell_type": "code",
   "execution_count": 24,
   "metadata": {},
   "outputs": [],
   "source": [
    "X_train_num = X_train[num_cols]\n",
    "X_train_cat = X_train[cat_cols]"
   ]
  },
  {
   "cell_type": "markdown",
   "metadata": {},
   "source": [
    "### 5.2. Outliers Handling"
   ]
  },
  {
   "cell_type": "markdown",
   "metadata": {},
   "source": [
    "Buat fungsi untuk deteksi outlier."
   ]
  },
  {
   "cell_type": "code",
   "execution_count": 25,
   "metadata": {},
   "outputs": [],
   "source": [
    "#deteksi outlier untuk distribusi normal\n",
    "def find_normal_boundaries(dataframe, variable):\n",
    "    upper_boundary = dataframe[variable].mean() + 3 * dataframe[variable].std()\n",
    "    lower_boundary = dataframe[variable].mean() - 3 * dataframe[variable].std()\n",
    "    return upper_boundary, lower_boundary\n",
    "\n",
    "#deteksi outlier untuk distribusi skewed\n",
    "def find_skewed_boundaries(dataframe, variable):\n",
    "    Q1 = dataframe[variable].quantile(0.25)\n",
    "    Q3 = dataframe[variable].quantile(0.75)\n",
    "    IQR = Q3 - Q1\n",
    "    upper_boundary = Q3 + 1.5 * IQR\n",
    "    lower_boundary = Q1 - 1.5 * IQR\n",
    "    return upper_boundary, lower_boundary\n",
    "\n",
    "def outliersum(dataframe):\n",
    "    #variable untuk summary\n",
    "    distribution = []\n",
    "    skewness = []\n",
    "    upper_limit = []\n",
    "    lower_limit = []\n",
    "    outliers_percent = []\n",
    "    mean = []\n",
    "    max = []\n",
    "    min = []\n",
    "\n",
    "    #loop untuk summary outlier\n",
    "    for column in dataframe.columns:\n",
    "\n",
    "        #cek skewness\n",
    "        col_skewness = dataframe[column].skew()\n",
    "\n",
    "        #conditional berdasarkan skewnewss\n",
    "        if (col_skewness >= -0.5) & (col_skewness <= 0.5):\n",
    "            col_distribution = 'Normal'\n",
    "            col_upper_limit, col_lower_limit = find_normal_boundaries(dataframe,column)      \n",
    "        else:\n",
    "            col_distribution = 'Skewed'\n",
    "            col_upper_limit, col_lower_limit = find_skewed_boundaries(dataframe,column)\n",
    "        \n",
    "        #cek mean, min,max, dan jumlah outlier\n",
    "        col_max = dataframe[column].max()\n",
    "        col_min = dataframe[column].min()\n",
    "        col_outliers_percent = (len(dataframe[dataframe[column] > col_upper_limit]) +  \\\n",
    "                                len(dataframe[dataframe[column] < col_lower_limit])) / \\\n",
    "                                len(dataframe) * 100\n",
    "        col_mean = dataframe[column].mean()\n",
    "\n",
    "        #update summary per loop\n",
    "        distribution.append(col_distribution)\n",
    "        skewness.append(col_skewness)\n",
    "        upper_limit.append(col_upper_limit)\n",
    "        max.append(col_max)\n",
    "        min.append(col_min)\n",
    "        lower_limit.append(col_lower_limit)\n",
    "        outliers_percent.append(col_outliers_percent)\n",
    "        mean.append(col_mean)\n",
    "\n",
    "    #df summary\n",
    "    outliers_summary = {'distribution_type':distribution,\n",
    "                        'skewnewss':skewness,\n",
    "                        'mean': mean,\n",
    "                        'min':min ,\n",
    "                        'lower_limit':lower_limit,\n",
    "                        'upper_limit':upper_limit,\n",
    "                        'max':max,\n",
    "                        'outliers_percent':outliers_percent}\n",
    "    outliers_summary = pd.DataFrame(outliers_summary,index=dataframe.columns)\n",
    "    outliers_summary = round(outliers_summary.sort_values(by='outliers_percent',ascending=False),2)\n",
    "    return outliers_summary"
   ]
  },
  {
   "cell_type": "markdown",
   "metadata": {},
   "source": [
    "Cek outlier pada setiap feature numerik."
   ]
  },
  {
   "cell_type": "code",
   "execution_count": 26,
   "metadata": {},
   "outputs": [
    {
     "data": {
      "text/html": [
       "<div>\n",
       "<style scoped>\n",
       "    .dataframe tbody tr th:only-of-type {\n",
       "        vertical-align: middle;\n",
       "    }\n",
       "\n",
       "    .dataframe tbody tr th {\n",
       "        vertical-align: top;\n",
       "    }\n",
       "\n",
       "    .dataframe thead th {\n",
       "        text-align: right;\n",
       "    }\n",
       "</style>\n",
       "<table border=\"1\" class=\"dataframe\">\n",
       "  <thead>\n",
       "    <tr style=\"text-align: right;\">\n",
       "      <th></th>\n",
       "      <th>distribution_type</th>\n",
       "      <th>skewnewss</th>\n",
       "      <th>mean</th>\n",
       "      <th>min</th>\n",
       "      <th>lower_limit</th>\n",
       "      <th>upper_limit</th>\n",
       "      <th>max</th>\n",
       "      <th>outliers_percent</th>\n",
       "    </tr>\n",
       "  </thead>\n",
       "  <tbody>\n",
       "    <tr>\n",
       "      <th>bmi</th>\n",
       "      <td>Normal</td>\n",
       "      <td>0.27</td>\n",
       "      <td>30.57</td>\n",
       "      <td>15.96</td>\n",
       "      <td>12.49</td>\n",
       "      <td>48.64</td>\n",
       "      <td>53.13</td>\n",
       "      <td>0.37</td>\n",
       "    </tr>\n",
       "    <tr>\n",
       "      <th>age</th>\n",
       "      <td>Normal</td>\n",
       "      <td>0.10</td>\n",
       "      <td>38.81</td>\n",
       "      <td>18.00</td>\n",
       "      <td>-3.41</td>\n",
       "      <td>81.03</td>\n",
       "      <td>64.00</td>\n",
       "      <td>0.00</td>\n",
       "    </tr>\n",
       "    <tr>\n",
       "      <th>children</th>\n",
       "      <td>Skewed</td>\n",
       "      <td>0.97</td>\n",
       "      <td>1.08</td>\n",
       "      <td>0.00</td>\n",
       "      <td>-3.00</td>\n",
       "      <td>5.00</td>\n",
       "      <td>5.00</td>\n",
       "      <td>0.00</td>\n",
       "    </tr>\n",
       "  </tbody>\n",
       "</table>\n",
       "</div>"
      ],
      "text/plain": [
       "         distribution_type  skewnewss   mean    min  lower_limit  upper_limit  \\\n",
       "bmi                 Normal       0.27  30.57  15.96        12.49        48.64   \n",
       "age                 Normal       0.10  38.81  18.00        -3.41        81.03   \n",
       "children            Skewed       0.97   1.08   0.00        -3.00         5.00   \n",
       "\n",
       "            max  outliers_percent  \n",
       "bmi       53.13              0.37  \n",
       "age       64.00              0.00  \n",
       "children   5.00              0.00  "
      ]
     },
     "execution_count": 26,
     "metadata": {},
     "output_type": "execute_result"
    }
   ],
   "source": [
    "outsum = outliersum(X_train_num)\n",
    "outsum"
   ]
  },
  {
   "cell_type": "markdown",
   "metadata": {},
   "source": [
    "Nilai outlier pada `bmi` masih dalam batas wajar sehingga tidak akan dilakukan handling outlier."
   ]
  },
  {
   "cell_type": "markdown",
   "metadata": {},
   "source": [
    "### 5.4. Missing Values Detection"
   ]
  },
  {
   "cell_type": "markdown",
   "metadata": {},
   "source": [
    "Pada bab Data Loading kita telah mengetahui bahwa tidak ada feature yang memiliki missing value."
   ]
  },
  {
   "cell_type": "code",
   "execution_count": 27,
   "metadata": {},
   "outputs": [
    {
     "data": {
      "text/plain": [
       "age         0\n",
       "sex         0\n",
       "bmi         0\n",
       "children    0\n",
       "smoker      0\n",
       "region      0\n",
       "dtype: int64"
      ]
     },
     "execution_count": 27,
     "metadata": {},
     "output_type": "execute_result"
    }
   ],
   "source": [
    "X_train.isnull().sum()"
   ]
  },
  {
   "cell_type": "markdown",
   "metadata": {},
   "source": [
    "### 5.5. Feature Engineering"
   ]
  },
  {
   "cell_type": "markdown",
   "metadata": {},
   "source": [
    "#### 5.5.1. Feature Scaling & Principal Component Analysis"
   ]
  },
  {
   "cell_type": "markdown",
   "metadata": {},
   "source": [
    "Pada tahap ini akan dilakukan scaling lalu reduksi komponen dengan PCA."
   ]
  },
  {
   "cell_type": "code",
   "execution_count": 28,
   "metadata": {},
   "outputs": [],
   "source": [
    "#scaling\n",
    "stdscaler = StandardScaler()\n",
    "X_train_scaled = stdscaler.fit_transform(X_train_num)\n",
    "X_train_scaled = pd.DataFrame(X_train_scaled, columns=num_cols)"
   ]
  },
  {
   "cell_type": "markdown",
   "metadata": {},
   "source": [
    "Cek nilai VIF."
   ]
  },
  {
   "cell_type": "code",
   "execution_count": 29,
   "metadata": {},
   "outputs": [
    {
     "data": {
      "text/html": [
       "<div>\n",
       "<style scoped>\n",
       "    .dataframe tbody tr th:only-of-type {\n",
       "        vertical-align: middle;\n",
       "    }\n",
       "\n",
       "    .dataframe tbody tr th {\n",
       "        vertical-align: top;\n",
       "    }\n",
       "\n",
       "    .dataframe thead th {\n",
       "        text-align: right;\n",
       "    }\n",
       "</style>\n",
       "<table border=\"1\" class=\"dataframe\">\n",
       "  <thead>\n",
       "    <tr style=\"text-align: right;\">\n",
       "      <th></th>\n",
       "      <th>Feature</th>\n",
       "      <th>VIF</th>\n",
       "    </tr>\n",
       "  </thead>\n",
       "  <tbody>\n",
       "    <tr>\n",
       "      <th>0</th>\n",
       "      <td>children</td>\n",
       "      <td>1.002474</td>\n",
       "    </tr>\n",
       "    <tr>\n",
       "      <th>1</th>\n",
       "      <td>bmi</td>\n",
       "      <td>1.015608</td>\n",
       "    </tr>\n",
       "    <tr>\n",
       "      <th>2</th>\n",
       "      <td>age</td>\n",
       "      <td>1.016016</td>\n",
       "    </tr>\n",
       "  </tbody>\n",
       "</table>\n",
       "</div>"
      ],
      "text/plain": [
       "    Feature       VIF\n",
       "0  children  1.002474\n",
       "1       bmi  1.015608\n",
       "2       age  1.016016"
      ]
     },
     "execution_count": 29,
     "metadata": {},
     "output_type": "execute_result"
    }
   ],
   "source": [
    "#pembuatan dataframe VIF\n",
    "df_vif = pd.DataFrame()\n",
    "df_vif[\"Feature\"] = X_train_scaled.columns\n",
    "  \n",
    "#hitung dan urutkan VIF dari kecil ke besar\n",
    "df_vif[\"VIF\"] = [variance_inflation_factor(X_train_scaled.values, i) for i in range(len(X_train_scaled.columns))]\n",
    "df_vif.sort_values('VIF',ascending=True,inplace=True)\n",
    "df_vif.reset_index(drop=True,inplace=True)\n",
    "df_vif"
   ]
  },
  {
   "cell_type": "markdown",
   "metadata": {},
   "source": [
    "Dari VIF tidak ada kolom yang bisa direduksi. Cek dengan EVR."
   ]
  },
  {
   "cell_type": "code",
   "execution_count": 30,
   "metadata": {},
   "outputs": [
    {
     "data": {
      "image/png": "[encoded data removed]",
      "text/plain": [
       "<Figure size 1152x360 with 2 Axes>"
      ]
     },
     "metadata": {
      "needs_background": "light"
     },
     "output_type": "display_data"
    }
   ],
   "source": [
    "df_evr = PCA().fit(X_train_scaled)\n",
    "col_length = len(X_train_scaled.columns) + 1\n",
    "\n",
    "#plot EVR terhadap jumlah feature\n",
    "fig,ax=plt.subplots(ncols=2, figsize=(16,5))\n",
    "ax[0].plot(range(1,col_length), df_evr.explained_variance_ratio_)\n",
    "ax[0].set_xlabel('Jumlah Komponen')\n",
    "ax[0].set_ylabel('Explained Variance Ratio')\n",
    "\n",
    "ax[1].plot(range(1,col_length), np.cumsum(df_evr.explained_variance_ratio_))\n",
    "ax[1].set_xlabel('Jumlah Komponen')\n",
    "ax[1].set_ylabel('Cummulative Explained Variance Ratio')\n",
    "plt.show()"
   ]
  },
  {
   "cell_type": "markdown",
   "metadata": {},
   "source": [
    "Jumlah feature yang dapat mencakup 95% EVR baru didapat di atas 3 feature, maka dari itu tidak akan dilakukan reduksi komponen."
   ]
  },
  {
   "cell_type": "markdown",
   "metadata": {},
   "source": [
    "#### 5.5.2. Feature Encoding"
   ]
  },
  {
   "cell_type": "markdown",
   "metadata": {},
   "source": [
    "Untuk feature kategorik perlu dilakukan encoding. Encoding yang dilakukan akan berbeda-beda tergantung unique value dari feature."
   ]
  },
  {
   "cell_type": "code",
   "execution_count": 31,
   "metadata": {},
   "outputs": [
    {
     "data": {
      "text/plain": [
       "sex       2\n",
       "smoker    2\n",
       "region    4\n",
       "dtype: int64"
      ]
     },
     "execution_count": 31,
     "metadata": {},
     "output_type": "execute_result"
    }
   ],
   "source": [
    "X_train_cat.nunique()"
   ]
  },
  {
   "cell_type": "markdown",
   "metadata": {},
   "source": [
    "`sex` dan `smoker` bisa di-encode dengan `LabelEncoder`/`OrdinalEncoder` karena hanya terdiri dari dua value, sedangkan untuk `region` sebaiknya menggunakan `OneHotEncoder` karena tidak ada hirarki pada `region`."
   ]
  },
  {
   "cell_type": "code",
   "execution_count": 32,
   "metadata": {},
   "outputs": [],
   "source": [
    "ohe = OneHotEncoder()\n",
    "oe = OrdinalEncoder()"
   ]
  },
  {
   "cell_type": "markdown",
   "metadata": {},
   "source": [
    "### 5.6. Preprocessing Pipeline"
   ]
  },
  {
   "cell_type": "markdown",
   "metadata": {},
   "source": [
    "Keseluruhan preprocessing ini bisa dirangkum menjadi satu pipeline yang akan disebut `prepline` yang dibuat menggunakan ColumnTransformer berikut:"
   ]
  },
  {
   "cell_type": "code",
   "execution_count": 33,
   "metadata": {},
   "outputs": [
    {
     "data": {
      "text/plain": [
       "Index(['age', 'sex', 'bmi', 'children', 'smoker', 'region'], dtype='object')"
      ]
     },
     "execution_count": 33,
     "metadata": {},
     "output_type": "execute_result"
    }
   ],
   "source": [
    "X_train.columns"
   ]
  },
  {
   "cell_type": "code",
   "execution_count": 34,
   "metadata": {},
   "outputs": [],
   "source": [
    "prepline = ColumnTransformer([\n",
    "    ('oe',oe,['sex', 'smoker']),\n",
    "    ('ohe',ohe,['region']),\n",
    "    ('scaler',stdscaler,num_cols)\n",
    "])"
   ]
  },
  {
   "cell_type": "code",
   "execution_count": 35,
   "metadata": {},
   "outputs": [],
   "source": [
    "X_train_final = prepline.fit_transform(X_train)"
   ]
  },
  {
   "cell_type": "markdown",
   "metadata": {},
   "source": [
    "## 6. Model Definition"
   ]
  },
  {
   "cell_type": "markdown",
   "metadata": {},
   "source": [
    "Pada bab ini akan ditentukan model yang digunakan dan hyperparameter yang akan di-tuning jika model tersebut terpilih berdasarkan `Cross Validation`.\n",
    "\n",
    "Model-model yang digunakan adalah:\n",
    "- `Ridge`\n",
    "- `Random Forest Regressor`\n",
    "- `AdaBoost Regressor`\n",
    "- `XGBoost Regressor`\n",
    "\n",
    "Scoring yang digunakan adalah `R2 score`."
   ]
  },
  {
   "cell_type": "markdown",
   "metadata": {},
   "source": [
    "### 6.1. Ridge"
   ]
  },
  {
   "cell_type": "code",
   "execution_count": 36,
   "metadata": {},
   "outputs": [],
   "source": [
    "#base model\n",
    "ridge = Ridge(random_state=random_state)\n",
    "\n",
    "#pipeline\n",
    "pipe_ridge = Pipeline([\n",
    "    ('prepline',prepline),\n",
    "    ('ridge',ridge)\n",
    "])"
   ]
  },
  {
   "cell_type": "markdown",
   "metadata": {},
   "source": [
    "### 6.2. Random Forest Regressor"
   ]
  },
  {
   "cell_type": "code",
   "execution_count": 37,
   "metadata": {},
   "outputs": [],
   "source": [
    "#base model\n",
    "rfr = RandomForestRegressor(random_state=random_state,n_jobs=-1)\n",
    "\n",
    "#pipeline\n",
    "pipe_rfr = Pipeline([\n",
    "    ('prepline',prepline),\n",
    "    ('rfr',rfr)\n",
    "])"
   ]
  },
  {
   "cell_type": "markdown",
   "metadata": {},
   "source": [
    "### 6.3. AdaBoost Regressor"
   ]
  },
  {
   "cell_type": "code",
   "execution_count": 38,
   "metadata": {},
   "outputs": [],
   "source": [
    "#base model\n",
    "abr = AdaBoostRegressor(random_state=random_state)\n",
    "\n",
    "#pipeline\n",
    "pipe_abr = Pipeline([\n",
    "    ('prepline',prepline),\n",
    "    ('abr',abr)\n",
    "])"
   ]
  },
  {
   "cell_type": "markdown",
   "metadata": {},
   "source": [
    "### 6.4. XGBoost Regressor"
   ]
  },
  {
   "cell_type": "code",
   "execution_count": 39,
   "metadata": {},
   "outputs": [],
   "source": [
    "#base model\n",
    "xgbr = XGBRegressor(random_state=random_state)\n",
    "\n",
    "#pipeline\n",
    "pipe_xgbr = Pipeline([\n",
    "    ('prepline',prepline),\n",
    "    ('xgbr',xgbr)\n",
    "])"
   ]
  },
  {
   "cell_type": "markdown",
   "metadata": {},
   "source": [
    "## 7. Model Training"
   ]
  },
  {
   "cell_type": "markdown",
   "metadata": {},
   "source": [
    "Pada bab ini akan dilakukan fitting terhadap train set menggunakan masing-masing base model yang telah didefinisikan lalu dilakukan cross validation. Hasil cross validation akan disimpan pada tabel `estimator summary`."
   ]
  },
  {
   "cell_type": "code",
   "execution_count": 40,
   "metadata": {},
   "outputs": [],
   "source": [
    "model = ['Ridge','Random Forest Regressor','AdaBoost Regressor','XGBoost Regressor']\n",
    "estimator = [pipe_ridge, pipe_rfr, pipe_abr, pipe_xgbr]\n",
    "\n",
    "mean_score = []\n",
    "stdev_score = []\n",
    "\n",
    "for est in estimator:\n",
    "    est.fit(X_train,y_train)\n",
    "    scores = cross_val_score(est,X_train,y_train,scoring='r2',cv=5,n_jobs=-1)\n",
    "    \n",
    "    mean_score.append(np.mean(scores))\n",
    "    stdev_score.append(np.std(scores))\n",
    "\n",
    "estimator_summary = pd.DataFrame({'estimator':model,'mean_score':mean_score,'stdev_score':stdev_score})\n",
    "estimator_summary.sort_values(by='mean_score',ascending=False,inplace=True)\n",
    "estimator_summary.reset_index(drop=True, inplace=True)"
   ]
  },
  {
   "cell_type": "markdown",
   "metadata": {},
   "source": [
    "## 8. Model Evaluation"
   ]
  },
  {
   "cell_type": "markdown",
   "metadata": {},
   "source": [
    "### 8.1. Cross Validation Result"
   ]
  },
  {
   "cell_type": "markdown",
   "metadata": {},
   "source": [
    "Berikut hasil dari cross validation di bab sebelumnya."
   ]
  },
  {
   "cell_type": "code",
   "execution_count": 41,
   "metadata": {},
   "outputs": [
    {
     "data": {
      "text/html": [
       "<div>\n",
       "<style scoped>\n",
       "    .dataframe tbody tr th:only-of-type {\n",
       "        vertical-align: middle;\n",
       "    }\n",
       "\n",
       "    .dataframe tbody tr th {\n",
       "        vertical-align: top;\n",
       "    }\n",
       "\n",
       "    .dataframe thead th {\n",
       "        text-align: right;\n",
       "    }\n",
       "</style>\n",
       "<table border=\"1\" class=\"dataframe\">\n",
       "  <thead>\n",
       "    <tr style=\"text-align: right;\">\n",
       "      <th></th>\n",
       "      <th>estimator</th>\n",
       "      <th>mean_score</th>\n",
       "      <th>stdev_score</th>\n",
       "    </tr>\n",
       "  </thead>\n",
       "  <tbody>\n",
       "    <tr>\n",
       "      <th>0</th>\n",
       "      <td>Random Forest Regressor</td>\n",
       "      <td>0.817435</td>\n",
       "      <td>0.025293</td>\n",
       "    </tr>\n",
       "    <tr>\n",
       "      <th>1</th>\n",
       "      <td>AdaBoost Regressor</td>\n",
       "      <td>0.809625</td>\n",
       "      <td>0.019567</td>\n",
       "    </tr>\n",
       "    <tr>\n",
       "      <th>2</th>\n",
       "      <td>XGBoost Regressor</td>\n",
       "      <td>0.791823</td>\n",
       "      <td>0.029427</td>\n",
       "    </tr>\n",
       "    <tr>\n",
       "      <th>3</th>\n",
       "      <td>Ridge</td>\n",
       "      <td>0.728315</td>\n",
       "      <td>0.021753</td>\n",
       "    </tr>\n",
       "  </tbody>\n",
       "</table>\n",
       "</div>"
      ],
      "text/plain": [
       "                 estimator  mean_score  stdev_score\n",
       "0  Random Forest Regressor    0.817435     0.025293\n",
       "1       AdaBoost Regressor    0.809625     0.019567\n",
       "2        XGBoost Regressor    0.791823     0.029427\n",
       "3                    Ridge    0.728315     0.021753"
      ]
     },
     "execution_count": 41,
     "metadata": {},
     "output_type": "execute_result"
    }
   ],
   "source": [
    "estimator_summary"
   ]
  },
  {
   "cell_type": "markdown",
   "metadata": {},
   "source": [
    "Dari hasil cross validation dengan mempertimbangkan standar deviasi, maka model dengan stabilitas yang baik dan score yang tinggi adalah `Random Forest`. Model ini yang akan digunakan untuk seterusnya."
   ]
  },
  {
   "cell_type": "markdown",
   "metadata": {},
   "source": [
    "### 8.2. Hyperparameter Tuning"
   ]
  },
  {
   "cell_type": "markdown",
   "metadata": {},
   "source": [
    "Pengaruh parameter terhadap target pada masing-masing model akan divisualisasikan. Parameter terbaik dari grid search akan digunakan untuk memprediksi test set dan memastikan apakah model underfit, good fit, atau overfit.\n",
    "\n",
    "Model yang akan di-tuning adalah `Random Forest`. Berikut hyperparameter untuk tuning."
   ]
  },
  {
   "cell_type": "code",
   "execution_count": 42,
   "metadata": {},
   "outputs": [],
   "source": [
    "params_rfr = {\n",
    "    'rfr__n_estimators':np.linspace(50,500,5,dtype=int),\n",
    "    'rfr__criterion':['squared_error', 'absolute_error', 'poisson'],\n",
    "    'rfr__max_depth':np.linspace(1,10,5,dtype=int),\n",
    "    'rfr__max_features':['auto','sqrt','log2']\n",
    "}"
   ]
  },
  {
   "cell_type": "markdown",
   "metadata": {},
   "source": [
    "Lakukan tuning dengan GridSearch."
   ]
  },
  {
   "cell_type": "code",
   "execution_count": 43,
   "metadata": {},
   "outputs": [
    {
     "name": "stdout",
     "output_type": "stream",
     "text": [
      "Fitting 5 folds for each of 225 candidates, totalling 1125 fits\n"
     ]
    }
   ],
   "source": [
    "grid_rfr = GridSearchCV(\n",
    "    pipe_rfr, params_rfr, scoring='r2', cv=5, n_jobs=-1, verbose=1\n",
    ").fit(X_train, y_train)"
   ]
  },
  {
   "cell_type": "markdown",
   "metadata": {},
   "source": [
    "Simpan hasil tuning."
   ]
  },
  {
   "cell_type": "code",
   "execution_count": 44,
   "metadata": {},
   "outputs": [],
   "source": [
    "best_params_rfr = grid_rfr.best_params_\n",
    "best_pipe_rfr = grid_rfr.best_estimator_\n",
    "df_result_rfr = pd.DataFrame.from_dict(grid_rfr.cv_results_,orient='columns')"
   ]
  },
  {
   "cell_type": "markdown",
   "metadata": {},
   "source": [
    "Buat fungsi untuk visualisasi pengaruh parameter terhadap R2 score."
   ]
  },
  {
   "cell_type": "code",
   "execution_count": 45,
   "metadata": {},
   "outputs": [],
   "source": [
    "#fungsi plot pengaruh parameter\n",
    "def param_plot(dataframe):\n",
    "    #param pada model\n",
    "    params = [col for col in dataframe.columns if 'param_' in col]\n",
    "    \n",
    "    \n",
    "    fig,ax = plt.subplots(1,len(params), figsize=(len(params)*5,5))\n",
    "    fig.suptitle('Pengaruh Params terhadap Mean R2 Score')\n",
    "    #initialize while loop\n",
    "    i = 0\n",
    "    \n",
    "    #while loop untuk plot masing-masing param\n",
    "    while i < len(params):\n",
    "        ax[i] = plt.subplot(1,len(params),i+1)\n",
    "        sns.lineplot(data=dataframe,x=params[i],y='mean_test_score',ax=ax[i])\n",
    "        ax[i] = plt.xticks(rotation=45)\n",
    "        i += 1\n",
    "    plt.show()"
   ]
  },
  {
   "cell_type": "markdown",
   "metadata": {},
   "source": [
    "Berikut visualisasi pengaruh parameter terhadap R2 score."
   ]
  },
  {
   "cell_type": "code",
   "execution_count": 46,
   "metadata": {},
   "outputs": [
    {
     "data": {
      "image/png": "[encoded data removed]",
      "text/plain": [
       "<Figure size 1440x360 with 4 Axes>"
      ]
     },
     "metadata": {
      "needs_background": "light"
     },
     "output_type": "display_data"
    }
   ],
   "source": [
    "param_plot(df_result_rfr)"
   ]
  },
  {
   "cell_type": "markdown",
   "metadata": {},
   "source": [
    "- `criterion` dengan mean R2 tertinggi dicapai dengan `mse` atau `squared_error`\n",
    "- `max_depth` dengan mean R2 tertinggi dicapai di nilai maksimum, tetapi pengaruhnya sudah tidak begitu signifikan setelah `Max Depth` 5\n",
    "- `max_features` dengan mean R2 tertinggi dicapai dengan `auto`\n",
    "- `n_estimators` dengan mean R2 tertinggi dicapai pada sekitar 150 estimator, tetapi untuk stabilitasnya tidak terlihat begitu baik di rentang mana pun"
   ]
  },
  {
   "cell_type": "markdown",
   "metadata": {},
   "source": [
    "Berikut hasil terbaik yang diperoleh dari tuning."
   ]
  },
  {
   "cell_type": "code",
   "execution_count": 47,
   "metadata": {},
   "outputs": [
    {
     "data": {
      "text/plain": [
       "{'rfr__criterion': 'squared_error',\n",
       " 'rfr__max_depth': 5,\n",
       " 'rfr__max_features': 'auto',\n",
       " 'rfr__n_estimators': 387}"
      ]
     },
     "execution_count": 47,
     "metadata": {},
     "output_type": "execute_result"
    }
   ],
   "source": [
    "best_params_rfr"
   ]
  },
  {
   "cell_type": "code",
   "execution_count": 48,
   "metadata": {},
   "outputs": [
    {
     "data": {
      "text/html": [
       "<div>\n",
       "<style scoped>\n",
       "    .dataframe tbody tr th:only-of-type {\n",
       "        vertical-align: middle;\n",
       "    }\n",
       "\n",
       "    .dataframe tbody tr th {\n",
       "        vertical-align: top;\n",
       "    }\n",
       "\n",
       "    .dataframe thead th {\n",
       "        text-align: right;\n",
       "    }\n",
       "</style>\n",
       "<table border=\"1\" class=\"dataframe\">\n",
       "  <thead>\n",
       "    <tr style=\"text-align: right;\">\n",
       "      <th></th>\n",
       "      <th>mean_fit_time</th>\n",
       "      <th>std_fit_time</th>\n",
       "      <th>mean_score_time</th>\n",
       "      <th>std_score_time</th>\n",
       "      <th>param_rfr__criterion</th>\n",
       "      <th>param_rfr__max_depth</th>\n",
       "      <th>param_rfr__max_features</th>\n",
       "      <th>param_rfr__n_estimators</th>\n",
       "      <th>params</th>\n",
       "      <th>split0_test_score</th>\n",
       "      <th>split1_test_score</th>\n",
       "      <th>split2_test_score</th>\n",
       "      <th>split3_test_score</th>\n",
       "      <th>split4_test_score</th>\n",
       "      <th>mean_test_score</th>\n",
       "      <th>std_test_score</th>\n",
       "      <th>rank_test_score</th>\n",
       "    </tr>\n",
       "  </thead>\n",
       "  <tbody>\n",
       "    <tr>\n",
       "      <th>33</th>\n",
       "      <td>0.68582</td>\n",
       "      <td>0.028607</td>\n",
       "      <td>0.070912</td>\n",
       "      <td>0.009485</td>\n",
       "      <td>squared_error</td>\n",
       "      <td>5</td>\n",
       "      <td>auto</td>\n",
       "      <td>387</td>\n",
       "      <td>{'rfr__criterion': 'squared_error', 'rfr__max_...</td>\n",
       "      <td>0.882322</td>\n",
       "      <td>0.814802</td>\n",
       "      <td>0.820218</td>\n",
       "      <td>0.817215</td>\n",
       "      <td>0.868317</td>\n",
       "      <td>0.840575</td>\n",
       "      <td>0.028764</td>\n",
       "      <td>1</td>\n",
       "    </tr>\n",
       "  </tbody>\n",
       "</table>\n",
       "</div>"
      ],
      "text/plain": [
       "    mean_fit_time  std_fit_time  mean_score_time  std_score_time  \\\n",
       "33        0.68582      0.028607         0.070912        0.009485   \n",
       "\n",
       "   param_rfr__criterion param_rfr__max_depth param_rfr__max_features  \\\n",
       "33        squared_error                    5                    auto   \n",
       "\n",
       "   param_rfr__n_estimators                                             params  \\\n",
       "33                     387  {'rfr__criterion': 'squared_error', 'rfr__max_...   \n",
       "\n",
       "    split0_test_score  split1_test_score  split2_test_score  \\\n",
       "33           0.882322           0.814802           0.820218   \n",
       "\n",
       "    split3_test_score  split4_test_score  mean_test_score  std_test_score  \\\n",
       "33           0.817215           0.868317         0.840575        0.028764   \n",
       "\n",
       "    rank_test_score  \n",
       "33                1  "
      ]
     },
     "execution_count": 48,
     "metadata": {},
     "output_type": "execute_result"
    }
   ],
   "source": [
    "df_result_rfr[df_result_rfr['params']==best_params_rfr]"
   ]
  },
  {
   "cell_type": "markdown",
   "metadata": {},
   "source": [
    "### 8.3. Evaluate Test Set"
   ]
  },
  {
   "cell_type": "markdown",
   "metadata": {},
   "source": [
    "Gunakan best pipeline yang telah dibuat untuk memprediksi test set."
   ]
  },
  {
   "cell_type": "code",
   "execution_count": 49,
   "metadata": {},
   "outputs": [
    {
     "name": "stdout",
     "output_type": "stream",
     "text": [
      "Train R2 Score: 0.878\n",
      "Test R2 Score: 0.9\n"
     ]
    }
   ],
   "source": [
    "print('Train R2 Score:', round(r2_score(y_train,best_pipe_rfr.predict(X_train)),3))\n",
    "print('Test R2 Score:', round(r2_score(y_test,best_pipe_rfr.predict(X_test)),3))"
   ]
  },
  {
   "cell_type": "markdown",
   "metadata": {},
   "source": [
    "Hasil prediksi dari test set cukup akurat dengan nilai yang sedikit lebih tinggi dibandingkan dengan train set. Model dapat dikatakan `Good Fit`."
   ]
  },
  {
   "cell_type": "markdown",
   "metadata": {},
   "source": [
    "### 8.4. Model Explainaability"
   ]
  },
  {
   "cell_type": "markdown",
   "metadata": {},
   "source": [
    "Untuk mengetahui pengaruh dari masing-masing feature, berikut penjelasan model dengan bantuan SHAP."
   ]
  },
  {
   "cell_type": "markdown",
   "metadata": {},
   "source": [
    "Definisikan ulang parameter terbaik model."
   ]
  },
  {
   "cell_type": "code",
   "execution_count": 50,
   "metadata": {},
   "outputs": [],
   "source": [
    "best_rfr = RandomForestRegressor(n_estimators=387, max_features='auto', max_depth=5, criterion='squared_error', random_state=random_state, n_jobs=-1)"
   ]
  },
  {
   "cell_type": "markdown",
   "metadata": {},
   "source": [
    "Ubah data train yang sudah melalui preprocessing menjadi dataframe."
   ]
  },
  {
   "cell_type": "code",
   "execution_count": 51,
   "metadata": {},
   "outputs": [],
   "source": [
    "final_col = ['Gender (F:0, M:1)', 'Smoker (N:0, Y:1)', 'Northeast', 'Northwest', 'Southeast', 'Southwest', 'Age', 'BMI', 'Children']\n",
    "df_train_final = pd.DataFrame(X_train_final, columns=final_col)"
   ]
  },
  {
   "cell_type": "markdown",
   "metadata": {},
   "source": [
    "Fit model dengan dataframe train, lalu hitung dan visualisasi dengan SHAP."
   ]
  },
  {
   "cell_type": "code",
   "execution_count": 1,
   "metadata": {},
   "outputs": [
    {
     "ename": "NameError",
     "evalue": "name 'best_rfr' is not defined",
     "output_type": "error",
     "traceback": [
      "\u001b[1;31m---------------------------------------------------------------------------\u001b[0m",
      "\u001b[1;31mNameError\u001b[0m                                 Traceback (most recent call last)",
      "\u001b[1;32me:\\hacktiv8\\ftds009\\tugas\\phase_1\\p1---ftds009---m2-Riezn\\h8dsft_Milestone2P1_Judan_Syamsul_Hadad.ipynb Cell 142'\u001b[0m in \u001b[0;36m<module>\u001b[1;34m\u001b[0m\n\u001b[1;32m----> <a href='vscode-notebook-cell:/e%3A/hacktiv8/ftds009/tugas/phase_1/p1---ftds009---m2-Riezn/h8dsft_Milestone2P1_Judan_Syamsul_Hadad.ipynb#ch0000138?line=0'>1</a>\u001b[0m best_rfr\u001b[39m.\u001b[39mfit(df_train_final,y_train)\n\u001b[0;32m      <a href='vscode-notebook-cell:/e%3A/hacktiv8/ftds009/tugas/phase_1/p1---ftds009---m2-Riezn/h8dsft_Milestone2P1_Judan_Syamsul_Hadad.ipynb#ch0000138?line=1'>2</a>\u001b[0m shap_values \u001b[39m=\u001b[39m shap\u001b[39m.\u001b[39mTreeExplainer(best_rfr)\u001b[39m.\u001b[39mshap_values(df_train_final)\n\u001b[0;32m      <a href='vscode-notebook-cell:/e%3A/hacktiv8/ftds009/tugas/phase_1/p1---ftds009---m2-Riezn/h8dsft_Milestone2P1_Judan_Syamsul_Hadad.ipynb#ch0000138?line=3'>4</a>\u001b[0m plt\u001b[39m.\u001b[39mfigure(figsize\u001b[39m=\u001b[39m(\u001b[39m20\u001b[39m,\u001b[39m20\u001b[39m))\n",
      "\u001b[1;31mNameError\u001b[0m: name 'best_rfr' is not defined"
     ]
    }
   ],
   "source": [
    "best_rfr.fit(df_train_final,y_train)\n",
    "shap_values = shap.TreeExplainer(best_rfr).shap_values(df_train_final)\n",
    "\n",
    "plt.figure(figsize=(20,20))\n",
    "shap.summary_plot(shap_values, df_train_final)"
   ]
  },
  {
   "cell_type": "markdown",
   "metadata": {},
   "source": [
    "Feature value menunjukkan pengaruh suatu feature terhadap target. Dari visualisasi di atas dapat kita simpulkan beberapa hal berikut:\n",
    "- `smoker` sangat mempengaruhi nilai target jauh dibandingkan feature lain\n",
    "- Feature lain yang memiliki pengaruh signifikan adalah `age`, `bmi`, dan `children`\n",
    "- `region` dan `sex` hampir tidak memiliki pengaruh terhadap target"
   ]
  },
  {
   "cell_type": "markdown",
   "metadata": {},
   "source": [
    "## 9. Model Inference"
   ]
  },
  {
   "cell_type": "markdown",
   "metadata": {},
   "source": [
    "Lakukan inference menggunakan inference set."
   ]
  },
  {
   "cell_type": "code",
   "execution_count": 53,
   "metadata": {},
   "outputs": [
    {
     "data": {
      "text/plain": [
       "669     7044.253544\n",
       "318     9732.743016\n",
       "757    27494.903045\n",
       "Name: y-pred, dtype: float64"
      ]
     },
     "execution_count": 53,
     "metadata": {},
     "output_type": "execute_result"
    }
   ],
   "source": [
    "df_inf['y-pred'] = best_pipe_rfr.predict(df_inf)\n",
    "df_inf['y-pred']"
   ]
  },
  {
   "cell_type": "markdown",
   "metadata": {},
   "source": [
    "Model berhasil memprediksi menggunakan data dari inference set melalui `best_pipe_adaboost`."
   ]
  },
  {
   "cell_type": "markdown",
   "metadata": {},
   "source": [
    "## 10. Model Saving"
   ]
  },
  {
   "cell_type": "markdown",
   "metadata": {},
   "source": [
    "Simpan pipeline yang menghasilkan model terbaik untuk digunakan pada deployment."
   ]
  },
  {
   "cell_type": "code",
   "execution_count": 54,
   "metadata": {},
   "outputs": [],
   "source": [
    "with open('model.pkl', 'wb') as f:\n",
    "    pickle.dump(best_pipe_rfr, f)"
   ]
  },
  {
   "cell_type": "markdown",
   "metadata": {},
   "source": [
    "## 11. Pengambilan Kesimpulan"
   ]
  },
  {
   "cell_type": "markdown",
   "metadata": {},
   "source": [
    "Berdasarkan analisis yang telah dilakukan, berikut beberapa hal yang disimpulkan:\n",
    "1. Feature yang digunakan adalah:\n",
    "    - `age`\n",
    "    - `sex`\n",
    "    - `bmi`\n",
    "    - `children`\n",
    "    - `smoker`\n",
    "    - `region`\n",
    "2. Model yang terpilih berdasarkan `Cross Validation` adalah `Random Forest Regressor` dengan mean R2 score 0.84 dan standar deviasi 0.029\n",
    "3. Hyperparameter terbaik yang digunakan adalah:\n",
    "    - `n_estimators` = 387\n",
    "    - `max_depth` = 5\n",
    "    - `max_features` = auto\n",
    "    - `criterion` = squared_error\n",
    "4. Model yang dihasilkan `Good Fit` antara train set (R2 score 0.877) dan test set (R2 score 0.9)\n",
    "5. Feature yang paling berpengaruh adalah:\n",
    "    - `smoker`\n",
    "    - `age`\n",
    "    - `bmi`\n",
    "    - `children`\n",
    "    \n",
    "    Dengan pengaruh dari `smoker` melampaui feature lain"
   ]
  }
 ],
 "metadata": {
  "interpreter": {
   "hash": "c511a689884ea87b05d7e6308bcd3bc07b8326d80ebf1c46c0d8c6a4a82d4d0a"
  },
  "kernelspec": {
   "display_name": "Python 3.10.2 64-bit",
   "language": "python",
   "name": "python3"
  },
  "language_info": {
   "codemirror_mode": {
    "name": "ipython",
    "version": 3
   },
   "file_extension": ".py",
   "mimetype": "text/x-python",
   "name": "python",
   "nbconvert_exporter": "python",
   "pygments_lexer": "ipython3",
   "version": "3.10.2"
  },
  "orig_nbformat": 4
 },
 "nbformat": 4,
 "nbformat_minor": 2
}

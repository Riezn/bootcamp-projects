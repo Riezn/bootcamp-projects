{
 "cells": [
  {
   "cell_type": "markdown",
   "metadata": {},
   "source": [
    "# Milestone 1 Phase 1\n",
    "Nama: Judan Syamsul Hadad\n",
    "\n",
    "Batch: FTDS-009"
   ]
  },
  {
   "cell_type": "markdown",
   "metadata": {},
   "source": [
    "## 1. Perkenalan"
   ]
  },
  {
   "cell_type": "markdown",
   "metadata": {},
   "source": [
    "Selamat datang. Notebook ini dibuat sebagai pemenuhan penilaian kompetensi dari rangkaian <u>**Full Time Data Science (FTDS) Bootcamp Batch 9**</u> yang diadakan oleh Hacktiv8 dimana penulis atas nama **Judan Syamsul Hadad** dengan handlename **Riezn** merupakan salah satu pesertanya.\n",
    "\n",
    "Dataset yang digunakan pada notebook ini dapat diunduh [disini](https://archive.ics.uci.edu/ml/machine-learning-databases/00222/bank-additional.zip) dengan nama file **bank-additional.csv**. Dataset ini merupakan data marketing campaign dari suatu insititusi perbankan di Portugal. Keterangan dataset sebagaimana dikutip dari sumber data adalah sebagai berikut:\n",
    "#### Bank Client Data:\n",
    "1. **age** (numeric)\n",
    "2. **job** : type of job (categorical: 'admin.','blue-collar','entrepreneur','housemaid','management','retired','self-employed','services','student','technician','unemployed','unknown')\n",
    "3. **marital** : marital status (categorical: 'divorced','married','single','unknown'; note: 'divorced' means divorced or widowed)\n",
    "4. **education** (categorical: 'basic.4y','basic.6y','basic.9y','high.school','illiterate','professional.course','university.degree','unknown')\n",
    "5. **default**: has credit in default? (categorical: 'no','yes','unknown')\n",
    "6. **housing**: has housing loan? (categorical: 'no','yes','unknown')\n",
    "7. **loan**: has personal loan? (categorical: 'no','yes','unknown')\n",
    "\n",
    "#### Related with the Last contact of the Current Campaign:\n",
    "\n",
    "8. **contact**: contact communication type (categorical: 'cellular','telephone')\n",
    "9. **month**: last contact month of year (categorical: 'jan', 'feb', 'mar', ..., 'nov', 'dec')\n",
    "10. **day_of_week**: last contact day of the week (categorical: 'mon','tue','wed','thu','fri')\n",
    "11. **duration**: last contact duration, in seconds (numeric). ```Important note: this attribute highly affects the output target (e.g., if duration=0 then y='no'). Yet, the duration is not known before a call is performed. Also, after the end of the call y is obviously known. Thus, this input should only be included for benchmark purposes and should be discarded if the intention is to have a realistic predictive model.```\n",
    "\n",
    "#### Other Attributes:\n",
    "\n",
    "12. **campaign**: number of contacts performed during this campaign and for this client (numeric, includes last contact)\n",
    "13. **pdays**: number of days that passed by after the client was last contacted from a previous campaign ```(numeric; 999 means client was not previously contacted)```\n",
    "14. **previous**: number of contacts performed before this campaign and for this client (numeric)\n",
    "15. **poutcome**: outcome of the previous marketing campaign (categorical: 'failure','nonexistent','success')\n",
    "\n",
    "#### Social and Economic Context Attributes:\n",
    "\n",
    "16. **emp.var.rate**: employment variation rate - quarterly indicator (numeric)\n",
    "17. **cons.price.idx**: consumer price index - monthly indicator (numeric)\n",
    "18. **cons.conf.idx**: consumer confidence index - monthly indicator (numeric)\n",
    "19. **euribor3m**: euribor 3 month rate - daily indicator (numeric)\n",
    "20. **nr.employed**: number of employees - quarterly indicator (numeric)\n",
    "\n",
    "#### Output Variable (Desired Target):\n",
    "\n",
    "21. **y** - has the client subscribed a term deposit? (binary: 'yes','no')"
   ]
  },
  {
   "cell_type": "markdown",
   "metadata": {},
   "source": [
    "### 1.1. Objective\n",
    "Pada notebook ini akan dilakukan pembuatan model klasifikasi dengan tahapan berikut:\n",
    "1. Exploratory Data Analysis (EDA)\n",
    "    - Cardinality\n",
    "2. Data preprocessing yang mencakup:\n",
    "    - Splitting:\n",
    "        - Dataset ke inference set dan train-test set\n",
    "        - Train-test set ke train set dan test set\n",
    "    - Handling outliers pada train set\n",
    "    - Handling missing values pada train set\n",
    "    - Feature engineering (selection, scaling, encoding)\n",
    "3. Model definition:\n",
    "    - Logistic regression\n",
    "    - Support vector classification\n",
    "    - Decision tree\n",
    "    - Random forest\n",
    "    - K-nearest neighbor\n",
    "    - Naive bayes\n",
    "    - Adaboost\n",
    "4. Model training\n",
    "    - Cross validation\n",
    "5. Model evaluation\n",
    "    - Pilih satu model terbaik berdasarkan cross validation\n",
    "    - Hyperparameter tuning pada model terbaik\n",
    "    - Evaluasi fit terhadap test set\n",
    "6. Model inference"
   ]
  },
  {
   "cell_type": "markdown",
   "metadata": {},
   "source": [
    "### 1.2. Problem Statement\n",
    "Model mana yang paling baik untuk memprediksi apakah seorang client akan mendaftar deposit atau tidak?"
   ]
  },
  {
   "cell_type": "markdown",
   "metadata": {},
   "source": [
    "## 2. Import Libraries"
   ]
  },
  {
   "cell_type": "code",
   "execution_count": 1,
   "metadata": {},
   "outputs": [],
   "source": [
    "import numpy as np \n",
    "import pandas as pd\n",
    "import matplotlib.pyplot as plt\n",
    "import seaborn as sns\n",
    "import warnings\n",
    "warnings.filterwarnings('ignore')\n",
    "\n",
    "#preprocessing\n",
    "from sklearn.model_selection import train_test_split\n",
    "from sklearn.preprocessing import StandardScaler, OneHotEncoder, OrdinalEncoder\n",
    "from feature_engine.outliers import Winsorizer, OutlierTrimmer\n",
    "from sklearn.pipeline import Pipeline\n",
    "from sklearn.compose import ColumnTransformer\n",
    "from sklearn.base import BaseEstimator, TransformerMixin\n",
    "\n",
    "#models\n",
    "from sklearn.linear_model import LogisticRegression\n",
    "from sklearn.svm import SVC\n",
    "from sklearn.tree import DecisionTreeClassifier\n",
    "from sklearn.ensemble import RandomForestClassifier, AdaBoostClassifier\n",
    "from sklearn.neighbors import KNeighborsClassifier\n",
    "from sklearn.naive_bayes import GaussianNB\n",
    "\n",
    "#validation and evaluation\n",
    "from sklearn.model_selection import GridSearchCV, cross_val_score\n",
    "from sklearn.metrics import classification_report, confusion_matrix, f1_score"
   ]
  },
  {
   "cell_type": "markdown",
   "metadata": {},
   "source": [
    "## 3. Data Loading"
   ]
  },
  {
   "cell_type": "markdown",
   "metadata": {},
   "source": [
    "Definisikan random state untuk seluruh kode di notebook ini."
   ]
  },
  {
   "cell_type": "code",
   "execution_count": 2,
   "metadata": {},
   "outputs": [],
   "source": [
    "random_state = 34"
   ]
  },
  {
   "cell_type": "markdown",
   "metadata": {},
   "source": [
    "Set display agar menampilkan seluruh kolom."
   ]
  },
  {
   "cell_type": "code",
   "execution_count": 3,
   "metadata": {},
   "outputs": [],
   "source": [
    "pd.set_option('display.max_columns', None)"
   ]
  },
  {
   "cell_type": "markdown",
   "metadata": {},
   "source": [
    "Load dataset."
   ]
  },
  {
   "cell_type": "code",
   "execution_count": 4,
   "metadata": {},
   "outputs": [],
   "source": [
    "data = pd.read_csv('bank-additional-full.csv',sep=';')"
   ]
  },
  {
   "cell_type": "markdown",
   "metadata": {},
   "source": [
    "Copy dataset."
   ]
  },
  {
   "cell_type": "code",
   "execution_count": 5,
   "metadata": {},
   "outputs": [],
   "source": [
    "df = data.copy()"
   ]
  },
  {
   "cell_type": "markdown",
   "metadata": {},
   "source": [
    "Cek lima data teratas."
   ]
  },
  {
   "cell_type": "code",
   "execution_count": 6,
   "metadata": {},
   "outputs": [
    {
     "data": {
      "text/html": [
       "<div>\n",
       "<style scoped>\n",
       "    .dataframe tbody tr th:only-of-type {\n",
       "        vertical-align: middle;\n",
       "    }\n",
       "\n",
       "    .dataframe tbody tr th {\n",
       "        vertical-align: top;\n",
       "    }\n",
       "\n",
       "    .dataframe thead th {\n",
       "        text-align: right;\n",
       "    }\n",
       "</style>\n",
       "<table border=\"1\" class=\"dataframe\">\n",
       "  <thead>\n",
       "    <tr style=\"text-align: right;\">\n",
       "      <th></th>\n",
       "      <th>age</th>\n",
       "      <th>job</th>\n",
       "      <th>marital</th>\n",
       "      <th>education</th>\n",
       "      <th>default</th>\n",
       "      <th>housing</th>\n",
       "      <th>loan</th>\n",
       "      <th>contact</th>\n",
       "      <th>month</th>\n",
       "      <th>day_of_week</th>\n",
       "      <th>duration</th>\n",
       "      <th>campaign</th>\n",
       "      <th>pdays</th>\n",
       "      <th>previous</th>\n",
       "      <th>poutcome</th>\n",
       "      <th>emp.var.rate</th>\n",
       "      <th>cons.price.idx</th>\n",
       "      <th>cons.conf.idx</th>\n",
       "      <th>euribor3m</th>\n",
       "      <th>nr.employed</th>\n",
       "      <th>y</th>\n",
       "    </tr>\n",
       "  </thead>\n",
       "  <tbody>\n",
       "    <tr>\n",
       "      <th>0</th>\n",
       "      <td>56</td>\n",
       "      <td>housemaid</td>\n",
       "      <td>married</td>\n",
       "      <td>basic.4y</td>\n",
       "      <td>no</td>\n",
       "      <td>no</td>\n",
       "      <td>no</td>\n",
       "      <td>telephone</td>\n",
       "      <td>may</td>\n",
       "      <td>mon</td>\n",
       "      <td>261</td>\n",
       "      <td>1</td>\n",
       "      <td>999</td>\n",
       "      <td>0</td>\n",
       "      <td>nonexistent</td>\n",
       "      <td>1.1</td>\n",
       "      <td>93.994</td>\n",
       "      <td>-36.4</td>\n",
       "      <td>4.857</td>\n",
       "      <td>5191.0</td>\n",
       "      <td>no</td>\n",
       "    </tr>\n",
       "    <tr>\n",
       "      <th>1</th>\n",
       "      <td>57</td>\n",
       "      <td>services</td>\n",
       "      <td>married</td>\n",
       "      <td>high.school</td>\n",
       "      <td>unknown</td>\n",
       "      <td>no</td>\n",
       "      <td>no</td>\n",
       "      <td>telephone</td>\n",
       "      <td>may</td>\n",
       "      <td>mon</td>\n",
       "      <td>149</td>\n",
       "      <td>1</td>\n",
       "      <td>999</td>\n",
       "      <td>0</td>\n",
       "      <td>nonexistent</td>\n",
       "      <td>1.1</td>\n",
       "      <td>93.994</td>\n",
       "      <td>-36.4</td>\n",
       "      <td>4.857</td>\n",
       "      <td>5191.0</td>\n",
       "      <td>no</td>\n",
       "    </tr>\n",
       "    <tr>\n",
       "      <th>2</th>\n",
       "      <td>37</td>\n",
       "      <td>services</td>\n",
       "      <td>married</td>\n",
       "      <td>high.school</td>\n",
       "      <td>no</td>\n",
       "      <td>yes</td>\n",
       "      <td>no</td>\n",
       "      <td>telephone</td>\n",
       "      <td>may</td>\n",
       "      <td>mon</td>\n",
       "      <td>226</td>\n",
       "      <td>1</td>\n",
       "      <td>999</td>\n",
       "      <td>0</td>\n",
       "      <td>nonexistent</td>\n",
       "      <td>1.1</td>\n",
       "      <td>93.994</td>\n",
       "      <td>-36.4</td>\n",
       "      <td>4.857</td>\n",
       "      <td>5191.0</td>\n",
       "      <td>no</td>\n",
       "    </tr>\n",
       "    <tr>\n",
       "      <th>3</th>\n",
       "      <td>40</td>\n",
       "      <td>admin.</td>\n",
       "      <td>married</td>\n",
       "      <td>basic.6y</td>\n",
       "      <td>no</td>\n",
       "      <td>no</td>\n",
       "      <td>no</td>\n",
       "      <td>telephone</td>\n",
       "      <td>may</td>\n",
       "      <td>mon</td>\n",
       "      <td>151</td>\n",
       "      <td>1</td>\n",
       "      <td>999</td>\n",
       "      <td>0</td>\n",
       "      <td>nonexistent</td>\n",
       "      <td>1.1</td>\n",
       "      <td>93.994</td>\n",
       "      <td>-36.4</td>\n",
       "      <td>4.857</td>\n",
       "      <td>5191.0</td>\n",
       "      <td>no</td>\n",
       "    </tr>\n",
       "    <tr>\n",
       "      <th>4</th>\n",
       "      <td>56</td>\n",
       "      <td>services</td>\n",
       "      <td>married</td>\n",
       "      <td>high.school</td>\n",
       "      <td>no</td>\n",
       "      <td>no</td>\n",
       "      <td>yes</td>\n",
       "      <td>telephone</td>\n",
       "      <td>may</td>\n",
       "      <td>mon</td>\n",
       "      <td>307</td>\n",
       "      <td>1</td>\n",
       "      <td>999</td>\n",
       "      <td>0</td>\n",
       "      <td>nonexistent</td>\n",
       "      <td>1.1</td>\n",
       "      <td>93.994</td>\n",
       "      <td>-36.4</td>\n",
       "      <td>4.857</td>\n",
       "      <td>5191.0</td>\n",
       "      <td>no</td>\n",
       "    </tr>\n",
       "  </tbody>\n",
       "</table>\n",
       "</div>"
      ],
      "text/plain": [
       "   age        job  marital    education  default housing loan    contact  \\\n",
       "0   56  housemaid  married     basic.4y       no      no   no  telephone   \n",
       "1   57   services  married  high.school  unknown      no   no  telephone   \n",
       "2   37   services  married  high.school       no     yes   no  telephone   \n",
       "3   40     admin.  married     basic.6y       no      no   no  telephone   \n",
       "4   56   services  married  high.school       no      no  yes  telephone   \n",
       "\n",
       "  month day_of_week  duration  campaign  pdays  previous     poutcome  \\\n",
       "0   may         mon       261         1    999         0  nonexistent   \n",
       "1   may         mon       149         1    999         0  nonexistent   \n",
       "2   may         mon       226         1    999         0  nonexistent   \n",
       "3   may         mon       151         1    999         0  nonexistent   \n",
       "4   may         mon       307         1    999         0  nonexistent   \n",
       "\n",
       "   emp.var.rate  cons.price.idx  cons.conf.idx  euribor3m  nr.employed   y  \n",
       "0           1.1          93.994          -36.4      4.857       5191.0  no  \n",
       "1           1.1          93.994          -36.4      4.857       5191.0  no  \n",
       "2           1.1          93.994          -36.4      4.857       5191.0  no  \n",
       "3           1.1          93.994          -36.4      4.857       5191.0  no  \n",
       "4           1.1          93.994          -36.4      4.857       5191.0  no  "
      ]
     },
     "execution_count": 6,
     "metadata": {},
     "output_type": "execute_result"
    }
   ],
   "source": [
    "df.head()"
   ]
  },
  {
   "cell_type": "markdown",
   "metadata": {},
   "source": [
    "Cek jumlah non-missing value dan tipe data."
   ]
  },
  {
   "cell_type": "code",
   "execution_count": 7,
   "metadata": {},
   "outputs": [
    {
     "name": "stdout",
     "output_type": "stream",
     "text": [
      "<class 'pandas.core.frame.DataFrame'>\n",
      "RangeIndex: 41188 entries, 0 to 41187\n",
      "Data columns (total 21 columns):\n",
      " #   Column          Non-Null Count  Dtype  \n",
      "---  ------          --------------  -----  \n",
      " 0   age             41188 non-null  int64  \n",
      " 1   job             41188 non-null  object \n",
      " 2   marital         41188 non-null  object \n",
      " 3   education       41188 non-null  object \n",
      " 4   default         41188 non-null  object \n",
      " 5   housing         41188 non-null  object \n",
      " 6   loan            41188 non-null  object \n",
      " 7   contact         41188 non-null  object \n",
      " 8   month           41188 non-null  object \n",
      " 9   day_of_week     41188 non-null  object \n",
      " 10  duration        41188 non-null  int64  \n",
      " 11  campaign        41188 non-null  int64  \n",
      " 12  pdays           41188 non-null  int64  \n",
      " 13  previous        41188 non-null  int64  \n",
      " 14  poutcome        41188 non-null  object \n",
      " 15  emp.var.rate    41188 non-null  float64\n",
      " 16  cons.price.idx  41188 non-null  float64\n",
      " 17  cons.conf.idx   41188 non-null  float64\n",
      " 18  euribor3m       41188 non-null  float64\n",
      " 19  nr.employed     41188 non-null  float64\n",
      " 20  y               41188 non-null  object \n",
      "dtypes: float64(5), int64(5), object(11)\n",
      "memory usage: 6.6+ MB\n"
     ]
    }
   ],
   "source": [
    "df.info()"
   ]
  },
  {
   "cell_type": "markdown",
   "metadata": {},
   "source": [
    "Terdapat 41188 baris dan 21 kolom pada dataset. Tidak ada missing value yang terdeteksi otomatis pada dataset."
   ]
  },
  {
   "cell_type": "markdown",
   "metadata": {},
   "source": [
    "Cek missing value pada dataset."
   ]
  },
  {
   "cell_type": "code",
   "execution_count": 8,
   "metadata": {},
   "outputs": [
    {
     "data": {
      "text/plain": [
       "0"
      ]
     },
     "execution_count": 8,
     "metadata": {},
     "output_type": "execute_result"
    }
   ],
   "source": [
    "df.isnull().sum().sum()"
   ]
  },
  {
   "cell_type": "markdown",
   "metadata": {},
   "source": [
    "Pengecekan missing value lebih lanjut akan dilakukan di Bab Data Preprocessing."
   ]
  },
  {
   "cell_type": "markdown",
   "metadata": {},
   "source": [
    "Mapping value `Yes` menjadi 1 dan `No` menjadi 0 pada kolom di kolom `y` ke kolom `y-num`."
   ]
  },
  {
   "cell_type": "markdown",
   "metadata": {},
   "source": [
    "Ubah tipe data `object` menjadi `category` untuk mengurangi penggunaan memory."
   ]
  },
  {
   "cell_type": "code",
   "execution_count": 9,
   "metadata": {},
   "outputs": [],
   "source": [
    "for col in df.columns:\n",
    "    if df[col].dtype == 'object':\n",
    "        df[col] = df[col].astype('category')"
   ]
  },
  {
   "cell_type": "markdown",
   "metadata": {},
   "source": [
    "Pada keterangan dataset terdapat informasi bahwa data yang tidak diketahui *outcome*-nya diisi dengan `unknown`. Pada kasus kali ini, `unknown` tidak akan dianggap sebagai missing value, tetapi bagian dari model dimana prediksi tetap harus dibuat dengan kondisi data-data tersebut bernilai `unknown`."
   ]
  },
  {
   "cell_type": "markdown",
   "metadata": {},
   "source": [
    "Cek jumlah nilai unik di masing-masing kolom."
   ]
  },
  {
   "cell_type": "code",
   "execution_count": 10,
   "metadata": {},
   "outputs": [
    {
     "data": {
      "text/plain": [
       "age                 78\n",
       "job                 12\n",
       "marital              4\n",
       "education            8\n",
       "default              3\n",
       "housing              3\n",
       "loan                 3\n",
       "contact              2\n",
       "month               10\n",
       "day_of_week          5\n",
       "duration          1544\n",
       "campaign            42\n",
       "pdays               27\n",
       "previous             8\n",
       "poutcome             3\n",
       "emp.var.rate        10\n",
       "cons.price.idx      26\n",
       "cons.conf.idx       26\n",
       "euribor3m          316\n",
       "nr.employed         11\n",
       "y                    2\n",
       "dtype: int64"
      ]
     },
     "execution_count": 10,
     "metadata": {},
     "output_type": "execute_result"
    }
   ],
   "source": [
    "df.nunique()"
   ]
  },
  {
   "cell_type": "markdown",
   "metadata": {},
   "source": [
    "Tidak ada kolom yang berfungsi sebagai primary key pada dataset ini. Pada kolom `month` hanya terdapat 10 unique value, berarti ada dua bulan yang tidak termasuk pada dataset ini."
   ]
  },
  {
   "cell_type": "code",
   "execution_count": 11,
   "metadata": {},
   "outputs": [
    {
     "data": {
      "text/plain": [
       "may    13769\n",
       "jul     7174\n",
       "aug     6178\n",
       "jun     5318\n",
       "nov     4101\n",
       "apr     2632\n",
       "oct      718\n",
       "sep      570\n",
       "mar      546\n",
       "dec      182\n",
       "Name: month, dtype: int64"
      ]
     },
     "execution_count": 11,
     "metadata": {},
     "output_type": "execute_result"
    }
   ],
   "source": [
    "df['month'].value_counts()"
   ]
  },
  {
   "cell_type": "markdown",
   "metadata": {},
   "source": [
    "Bulan Januari dan Februari tidak termasuk di dalam dataset."
   ]
  },
  {
   "cell_type": "markdown",
   "metadata": {},
   "source": [
    "Cek statistika deskriptif dari dataset."
   ]
  },
  {
   "cell_type": "code",
   "execution_count": 12,
   "metadata": {},
   "outputs": [
    {
     "data": {
      "text/html": [
       "<div>\n",
       "<style scoped>\n",
       "    .dataframe tbody tr th:only-of-type {\n",
       "        vertical-align: middle;\n",
       "    }\n",
       "\n",
       "    .dataframe tbody tr th {\n",
       "        vertical-align: top;\n",
       "    }\n",
       "\n",
       "    .dataframe thead th {\n",
       "        text-align: right;\n",
       "    }\n",
       "</style>\n",
       "<table border=\"1\" class=\"dataframe\">\n",
       "  <thead>\n",
       "    <tr style=\"text-align: right;\">\n",
       "      <th></th>\n",
       "      <th>unique</th>\n",
       "      <th>top</th>\n",
       "      <th>freq</th>\n",
       "      <th>mean</th>\n",
       "      <th>std</th>\n",
       "      <th>min</th>\n",
       "      <th>25%</th>\n",
       "      <th>50%</th>\n",
       "      <th>75%</th>\n",
       "      <th>max</th>\n",
       "    </tr>\n",
       "  </thead>\n",
       "  <tbody>\n",
       "    <tr>\n",
       "      <th>nr.employed</th>\n",
       "      <td>NaN</td>\n",
       "      <td>NaN</td>\n",
       "      <td>NaN</td>\n",
       "      <td>5167.035911</td>\n",
       "      <td>72.251528</td>\n",
       "      <td>4963.6</td>\n",
       "      <td>5099.1</td>\n",
       "      <td>5191.0</td>\n",
       "      <td>5228.1</td>\n",
       "      <td>5228.1</td>\n",
       "    </tr>\n",
       "    <tr>\n",
       "      <th>pdays</th>\n",
       "      <td>NaN</td>\n",
       "      <td>NaN</td>\n",
       "      <td>NaN</td>\n",
       "      <td>962.475454</td>\n",
       "      <td>186.910907</td>\n",
       "      <td>0.0</td>\n",
       "      <td>999.0</td>\n",
       "      <td>999.0</td>\n",
       "      <td>999.0</td>\n",
       "      <td>999.0</td>\n",
       "    </tr>\n",
       "    <tr>\n",
       "      <th>duration</th>\n",
       "      <td>NaN</td>\n",
       "      <td>NaN</td>\n",
       "      <td>NaN</td>\n",
       "      <td>258.28501</td>\n",
       "      <td>259.279249</td>\n",
       "      <td>0.0</td>\n",
       "      <td>102.0</td>\n",
       "      <td>180.0</td>\n",
       "      <td>319.0</td>\n",
       "      <td>4918.0</td>\n",
       "    </tr>\n",
       "    <tr>\n",
       "      <th>cons.price.idx</th>\n",
       "      <td>NaN</td>\n",
       "      <td>NaN</td>\n",
       "      <td>NaN</td>\n",
       "      <td>93.575664</td>\n",
       "      <td>0.57884</td>\n",
       "      <td>92.201</td>\n",
       "      <td>93.075</td>\n",
       "      <td>93.749</td>\n",
       "      <td>93.994</td>\n",
       "      <td>94.767</td>\n",
       "    </tr>\n",
       "    <tr>\n",
       "      <th>age</th>\n",
       "      <td>NaN</td>\n",
       "      <td>NaN</td>\n",
       "      <td>NaN</td>\n",
       "      <td>40.02406</td>\n",
       "      <td>10.42125</td>\n",
       "      <td>17.0</td>\n",
       "      <td>32.0</td>\n",
       "      <td>38.0</td>\n",
       "      <td>47.0</td>\n",
       "      <td>98.0</td>\n",
       "    </tr>\n",
       "    <tr>\n",
       "      <th>euribor3m</th>\n",
       "      <td>NaN</td>\n",
       "      <td>NaN</td>\n",
       "      <td>NaN</td>\n",
       "      <td>3.621291</td>\n",
       "      <td>1.734447</td>\n",
       "      <td>0.634</td>\n",
       "      <td>1.344</td>\n",
       "      <td>4.857</td>\n",
       "      <td>4.961</td>\n",
       "      <td>5.045</td>\n",
       "    </tr>\n",
       "    <tr>\n",
       "      <th>campaign</th>\n",
       "      <td>NaN</td>\n",
       "      <td>NaN</td>\n",
       "      <td>NaN</td>\n",
       "      <td>2.567593</td>\n",
       "      <td>2.770014</td>\n",
       "      <td>1.0</td>\n",
       "      <td>1.0</td>\n",
       "      <td>2.0</td>\n",
       "      <td>3.0</td>\n",
       "      <td>56.0</td>\n",
       "    </tr>\n",
       "    <tr>\n",
       "      <th>previous</th>\n",
       "      <td>NaN</td>\n",
       "      <td>NaN</td>\n",
       "      <td>NaN</td>\n",
       "      <td>0.172963</td>\n",
       "      <td>0.494901</td>\n",
       "      <td>0.0</td>\n",
       "      <td>0.0</td>\n",
       "      <td>0.0</td>\n",
       "      <td>0.0</td>\n",
       "      <td>7.0</td>\n",
       "    </tr>\n",
       "    <tr>\n",
       "      <th>emp.var.rate</th>\n",
       "      <td>NaN</td>\n",
       "      <td>NaN</td>\n",
       "      <td>NaN</td>\n",
       "      <td>0.081886</td>\n",
       "      <td>1.57096</td>\n",
       "      <td>-3.4</td>\n",
       "      <td>-1.8</td>\n",
       "      <td>1.1</td>\n",
       "      <td>1.4</td>\n",
       "      <td>1.4</td>\n",
       "    </tr>\n",
       "    <tr>\n",
       "      <th>cons.conf.idx</th>\n",
       "      <td>NaN</td>\n",
       "      <td>NaN</td>\n",
       "      <td>NaN</td>\n",
       "      <td>-40.5026</td>\n",
       "      <td>4.628198</td>\n",
       "      <td>-50.8</td>\n",
       "      <td>-42.7</td>\n",
       "      <td>-41.8</td>\n",
       "      <td>-36.4</td>\n",
       "      <td>-26.9</td>\n",
       "    </tr>\n",
       "    <tr>\n",
       "      <th>job</th>\n",
       "      <td>12</td>\n",
       "      <td>admin.</td>\n",
       "      <td>10422</td>\n",
       "      <td>NaN</td>\n",
       "      <td>NaN</td>\n",
       "      <td>NaN</td>\n",
       "      <td>NaN</td>\n",
       "      <td>NaN</td>\n",
       "      <td>NaN</td>\n",
       "      <td>NaN</td>\n",
       "    </tr>\n",
       "    <tr>\n",
       "      <th>marital</th>\n",
       "      <td>4</td>\n",
       "      <td>married</td>\n",
       "      <td>24928</td>\n",
       "      <td>NaN</td>\n",
       "      <td>NaN</td>\n",
       "      <td>NaN</td>\n",
       "      <td>NaN</td>\n",
       "      <td>NaN</td>\n",
       "      <td>NaN</td>\n",
       "      <td>NaN</td>\n",
       "    </tr>\n",
       "    <tr>\n",
       "      <th>education</th>\n",
       "      <td>8</td>\n",
       "      <td>university.degree</td>\n",
       "      <td>12168</td>\n",
       "      <td>NaN</td>\n",
       "      <td>NaN</td>\n",
       "      <td>NaN</td>\n",
       "      <td>NaN</td>\n",
       "      <td>NaN</td>\n",
       "      <td>NaN</td>\n",
       "      <td>NaN</td>\n",
       "    </tr>\n",
       "    <tr>\n",
       "      <th>default</th>\n",
       "      <td>3</td>\n",
       "      <td>no</td>\n",
       "      <td>32588</td>\n",
       "      <td>NaN</td>\n",
       "      <td>NaN</td>\n",
       "      <td>NaN</td>\n",
       "      <td>NaN</td>\n",
       "      <td>NaN</td>\n",
       "      <td>NaN</td>\n",
       "      <td>NaN</td>\n",
       "    </tr>\n",
       "    <tr>\n",
       "      <th>housing</th>\n",
       "      <td>3</td>\n",
       "      <td>yes</td>\n",
       "      <td>21576</td>\n",
       "      <td>NaN</td>\n",
       "      <td>NaN</td>\n",
       "      <td>NaN</td>\n",
       "      <td>NaN</td>\n",
       "      <td>NaN</td>\n",
       "      <td>NaN</td>\n",
       "      <td>NaN</td>\n",
       "    </tr>\n",
       "    <tr>\n",
       "      <th>loan</th>\n",
       "      <td>3</td>\n",
       "      <td>no</td>\n",
       "      <td>33950</td>\n",
       "      <td>NaN</td>\n",
       "      <td>NaN</td>\n",
       "      <td>NaN</td>\n",
       "      <td>NaN</td>\n",
       "      <td>NaN</td>\n",
       "      <td>NaN</td>\n",
       "      <td>NaN</td>\n",
       "    </tr>\n",
       "    <tr>\n",
       "      <th>contact</th>\n",
       "      <td>2</td>\n",
       "      <td>cellular</td>\n",
       "      <td>26144</td>\n",
       "      <td>NaN</td>\n",
       "      <td>NaN</td>\n",
       "      <td>NaN</td>\n",
       "      <td>NaN</td>\n",
       "      <td>NaN</td>\n",
       "      <td>NaN</td>\n",
       "      <td>NaN</td>\n",
       "    </tr>\n",
       "    <tr>\n",
       "      <th>month</th>\n",
       "      <td>10</td>\n",
       "      <td>may</td>\n",
       "      <td>13769</td>\n",
       "      <td>NaN</td>\n",
       "      <td>NaN</td>\n",
       "      <td>NaN</td>\n",
       "      <td>NaN</td>\n",
       "      <td>NaN</td>\n",
       "      <td>NaN</td>\n",
       "      <td>NaN</td>\n",
       "    </tr>\n",
       "    <tr>\n",
       "      <th>day_of_week</th>\n",
       "      <td>5</td>\n",
       "      <td>thu</td>\n",
       "      <td>8623</td>\n",
       "      <td>NaN</td>\n",
       "      <td>NaN</td>\n",
       "      <td>NaN</td>\n",
       "      <td>NaN</td>\n",
       "      <td>NaN</td>\n",
       "      <td>NaN</td>\n",
       "      <td>NaN</td>\n",
       "    </tr>\n",
       "    <tr>\n",
       "      <th>poutcome</th>\n",
       "      <td>3</td>\n",
       "      <td>nonexistent</td>\n",
       "      <td>35563</td>\n",
       "      <td>NaN</td>\n",
       "      <td>NaN</td>\n",
       "      <td>NaN</td>\n",
       "      <td>NaN</td>\n",
       "      <td>NaN</td>\n",
       "      <td>NaN</td>\n",
       "      <td>NaN</td>\n",
       "    </tr>\n",
       "    <tr>\n",
       "      <th>y</th>\n",
       "      <td>2</td>\n",
       "      <td>no</td>\n",
       "      <td>36548</td>\n",
       "      <td>NaN</td>\n",
       "      <td>NaN</td>\n",
       "      <td>NaN</td>\n",
       "      <td>NaN</td>\n",
       "      <td>NaN</td>\n",
       "      <td>NaN</td>\n",
       "      <td>NaN</td>\n",
       "    </tr>\n",
       "  </tbody>\n",
       "</table>\n",
       "</div>"
      ],
      "text/plain": [
       "               unique                top   freq         mean         std  \\\n",
       "nr.employed       NaN                NaN    NaN  5167.035911   72.251528   \n",
       "pdays             NaN                NaN    NaN   962.475454  186.910907   \n",
       "duration          NaN                NaN    NaN    258.28501  259.279249   \n",
       "cons.price.idx    NaN                NaN    NaN    93.575664     0.57884   \n",
       "age               NaN                NaN    NaN     40.02406    10.42125   \n",
       "euribor3m         NaN                NaN    NaN     3.621291    1.734447   \n",
       "campaign          NaN                NaN    NaN     2.567593    2.770014   \n",
       "previous          NaN                NaN    NaN     0.172963    0.494901   \n",
       "emp.var.rate      NaN                NaN    NaN     0.081886     1.57096   \n",
       "cons.conf.idx     NaN                NaN    NaN     -40.5026    4.628198   \n",
       "job                12             admin.  10422          NaN         NaN   \n",
       "marital             4            married  24928          NaN         NaN   \n",
       "education           8  university.degree  12168          NaN         NaN   \n",
       "default             3                 no  32588          NaN         NaN   \n",
       "housing             3                yes  21576          NaN         NaN   \n",
       "loan                3                 no  33950          NaN         NaN   \n",
       "contact             2           cellular  26144          NaN         NaN   \n",
       "month              10                may  13769          NaN         NaN   \n",
       "day_of_week         5                thu   8623          NaN         NaN   \n",
       "poutcome            3        nonexistent  35563          NaN         NaN   \n",
       "y                   2                 no  36548          NaN         NaN   \n",
       "\n",
       "                   min     25%     50%     75%     max  \n",
       "nr.employed     4963.6  5099.1  5191.0  5228.1  5228.1  \n",
       "pdays              0.0   999.0   999.0   999.0   999.0  \n",
       "duration           0.0   102.0   180.0   319.0  4918.0  \n",
       "cons.price.idx  92.201  93.075  93.749  93.994  94.767  \n",
       "age               17.0    32.0    38.0    47.0    98.0  \n",
       "euribor3m        0.634   1.344   4.857   4.961   5.045  \n",
       "campaign           1.0     1.0     2.0     3.0    56.0  \n",
       "previous           0.0     0.0     0.0     0.0     7.0  \n",
       "emp.var.rate      -3.4    -1.8     1.1     1.4     1.4  \n",
       "cons.conf.idx    -50.8   -42.7   -41.8   -36.4   -26.9  \n",
       "job                NaN     NaN     NaN     NaN     NaN  \n",
       "marital            NaN     NaN     NaN     NaN     NaN  \n",
       "education          NaN     NaN     NaN     NaN     NaN  \n",
       "default            NaN     NaN     NaN     NaN     NaN  \n",
       "housing            NaN     NaN     NaN     NaN     NaN  \n",
       "loan               NaN     NaN     NaN     NaN     NaN  \n",
       "contact            NaN     NaN     NaN     NaN     NaN  \n",
       "month              NaN     NaN     NaN     NaN     NaN  \n",
       "day_of_week        NaN     NaN     NaN     NaN     NaN  \n",
       "poutcome           NaN     NaN     NaN     NaN     NaN  \n",
       "y                  NaN     NaN     NaN     NaN     NaN  "
      ]
     },
     "execution_count": 12,
     "metadata": {},
     "output_type": "execute_result"
    }
   ],
   "source": [
    "df.describe(include='all').T.drop(columns='count').sort_values(by='mean', ascending=False)"
   ]
  },
  {
   "cell_type": "markdown",
   "metadata": {},
   "source": [
    "Berikut beberapa hal yang dapat diketahui dari dataset berdasarkan statistika deskriptif:\n",
    "- `age`: nilai min dan max terpaut cukup jauh antara 17 dan 98 tahun, sedangkan rata-ratanya hanya 40 tahun dengan standar deviasi 10 tahun\n",
    "- `campaign`: rata-rata bernilai 2.56, berarti tiap orang setidaknya dihubungi 2-3 kali, tetapi ada yang dihubungi sampai 56 kali\n",
    "- `previous`: rata-rata bernilai 0.17, hampir semua orang tidak pernah dihubungi sebelumnya, tetapi ada yang pernah dihubungi sebanyak 7 kali\n",
    "- `job`: terdapat 12 kategori dengan jumlah terbanyak adalah `admin`\n",
    "- `marital`: terdapat 4 kategori dengan mayoritas berstatus `married`\n",
    "- `y`: mayoritas memilih `no` (tidak membuat deposit), menandakan bahwa target pada dataset ini imbalance"
   ]
  },
  {
   "cell_type": "markdown",
   "metadata": {},
   "source": [
    "Selanjutnya cek apakah ada duplikat."
   ]
  },
  {
   "cell_type": "code",
   "execution_count": 13,
   "metadata": {},
   "outputs": [
    {
     "data": {
      "text/plain": [
       "12"
      ]
     },
     "execution_count": 13,
     "metadata": {},
     "output_type": "execute_result"
    }
   ],
   "source": [
    "df.duplicated().sum()"
   ]
  },
  {
   "cell_type": "markdown",
   "metadata": {},
   "source": [
    "Terdapat 12 data duplikat, yaitu:"
   ]
  },
  {
   "cell_type": "code",
   "execution_count": 14,
   "metadata": {},
   "outputs": [
    {
     "data": {
      "text/html": [
       "<div>\n",
       "<style scoped>\n",
       "    .dataframe tbody tr th:only-of-type {\n",
       "        vertical-align: middle;\n",
       "    }\n",
       "\n",
       "    .dataframe tbody tr th {\n",
       "        vertical-align: top;\n",
       "    }\n",
       "\n",
       "    .dataframe thead th {\n",
       "        text-align: right;\n",
       "    }\n",
       "</style>\n",
       "<table border=\"1\" class=\"dataframe\">\n",
       "  <thead>\n",
       "    <tr style=\"text-align: right;\">\n",
       "      <th></th>\n",
       "      <th>age</th>\n",
       "      <th>job</th>\n",
       "      <th>marital</th>\n",
       "      <th>education</th>\n",
       "      <th>default</th>\n",
       "      <th>housing</th>\n",
       "      <th>loan</th>\n",
       "      <th>contact</th>\n",
       "      <th>month</th>\n",
       "      <th>day_of_week</th>\n",
       "      <th>duration</th>\n",
       "      <th>campaign</th>\n",
       "      <th>pdays</th>\n",
       "      <th>previous</th>\n",
       "      <th>poutcome</th>\n",
       "      <th>emp.var.rate</th>\n",
       "      <th>cons.price.idx</th>\n",
       "      <th>cons.conf.idx</th>\n",
       "      <th>euribor3m</th>\n",
       "      <th>nr.employed</th>\n",
       "      <th>y</th>\n",
       "    </tr>\n",
       "  </thead>\n",
       "  <tbody>\n",
       "    <tr>\n",
       "      <th>1266</th>\n",
       "      <td>39</td>\n",
       "      <td>blue-collar</td>\n",
       "      <td>married</td>\n",
       "      <td>basic.6y</td>\n",
       "      <td>no</td>\n",
       "      <td>no</td>\n",
       "      <td>no</td>\n",
       "      <td>telephone</td>\n",
       "      <td>may</td>\n",
       "      <td>thu</td>\n",
       "      <td>124</td>\n",
       "      <td>1</td>\n",
       "      <td>999</td>\n",
       "      <td>0</td>\n",
       "      <td>nonexistent</td>\n",
       "      <td>1.1</td>\n",
       "      <td>93.994</td>\n",
       "      <td>-36.4</td>\n",
       "      <td>4.855</td>\n",
       "      <td>5191.0</td>\n",
       "      <td>no</td>\n",
       "    </tr>\n",
       "    <tr>\n",
       "      <th>12261</th>\n",
       "      <td>36</td>\n",
       "      <td>retired</td>\n",
       "      <td>married</td>\n",
       "      <td>unknown</td>\n",
       "      <td>no</td>\n",
       "      <td>no</td>\n",
       "      <td>no</td>\n",
       "      <td>telephone</td>\n",
       "      <td>jul</td>\n",
       "      <td>thu</td>\n",
       "      <td>88</td>\n",
       "      <td>1</td>\n",
       "      <td>999</td>\n",
       "      <td>0</td>\n",
       "      <td>nonexistent</td>\n",
       "      <td>1.4</td>\n",
       "      <td>93.918</td>\n",
       "      <td>-42.7</td>\n",
       "      <td>4.966</td>\n",
       "      <td>5228.1</td>\n",
       "      <td>no</td>\n",
       "    </tr>\n",
       "    <tr>\n",
       "      <th>14234</th>\n",
       "      <td>27</td>\n",
       "      <td>technician</td>\n",
       "      <td>single</td>\n",
       "      <td>professional.course</td>\n",
       "      <td>no</td>\n",
       "      <td>no</td>\n",
       "      <td>no</td>\n",
       "      <td>cellular</td>\n",
       "      <td>jul</td>\n",
       "      <td>mon</td>\n",
       "      <td>331</td>\n",
       "      <td>2</td>\n",
       "      <td>999</td>\n",
       "      <td>0</td>\n",
       "      <td>nonexistent</td>\n",
       "      <td>1.4</td>\n",
       "      <td>93.918</td>\n",
       "      <td>-42.7</td>\n",
       "      <td>4.962</td>\n",
       "      <td>5228.1</td>\n",
       "      <td>no</td>\n",
       "    </tr>\n",
       "    <tr>\n",
       "      <th>16956</th>\n",
       "      <td>47</td>\n",
       "      <td>technician</td>\n",
       "      <td>divorced</td>\n",
       "      <td>high.school</td>\n",
       "      <td>no</td>\n",
       "      <td>yes</td>\n",
       "      <td>no</td>\n",
       "      <td>cellular</td>\n",
       "      <td>jul</td>\n",
       "      <td>thu</td>\n",
       "      <td>43</td>\n",
       "      <td>3</td>\n",
       "      <td>999</td>\n",
       "      <td>0</td>\n",
       "      <td>nonexistent</td>\n",
       "      <td>1.4</td>\n",
       "      <td>93.918</td>\n",
       "      <td>-42.7</td>\n",
       "      <td>4.962</td>\n",
       "      <td>5228.1</td>\n",
       "      <td>no</td>\n",
       "    </tr>\n",
       "    <tr>\n",
       "      <th>18465</th>\n",
       "      <td>32</td>\n",
       "      <td>technician</td>\n",
       "      <td>single</td>\n",
       "      <td>professional.course</td>\n",
       "      <td>no</td>\n",
       "      <td>yes</td>\n",
       "      <td>no</td>\n",
       "      <td>cellular</td>\n",
       "      <td>jul</td>\n",
       "      <td>thu</td>\n",
       "      <td>128</td>\n",
       "      <td>1</td>\n",
       "      <td>999</td>\n",
       "      <td>0</td>\n",
       "      <td>nonexistent</td>\n",
       "      <td>1.4</td>\n",
       "      <td>93.918</td>\n",
       "      <td>-42.7</td>\n",
       "      <td>4.968</td>\n",
       "      <td>5228.1</td>\n",
       "      <td>no</td>\n",
       "    </tr>\n",
       "    <tr>\n",
       "      <th>20216</th>\n",
       "      <td>55</td>\n",
       "      <td>services</td>\n",
       "      <td>married</td>\n",
       "      <td>high.school</td>\n",
       "      <td>unknown</td>\n",
       "      <td>no</td>\n",
       "      <td>no</td>\n",
       "      <td>cellular</td>\n",
       "      <td>aug</td>\n",
       "      <td>mon</td>\n",
       "      <td>33</td>\n",
       "      <td>1</td>\n",
       "      <td>999</td>\n",
       "      <td>0</td>\n",
       "      <td>nonexistent</td>\n",
       "      <td>1.4</td>\n",
       "      <td>93.444</td>\n",
       "      <td>-36.1</td>\n",
       "      <td>4.965</td>\n",
       "      <td>5228.1</td>\n",
       "      <td>no</td>\n",
       "    </tr>\n",
       "    <tr>\n",
       "      <th>20534</th>\n",
       "      <td>41</td>\n",
       "      <td>technician</td>\n",
       "      <td>married</td>\n",
       "      <td>professional.course</td>\n",
       "      <td>no</td>\n",
       "      <td>yes</td>\n",
       "      <td>no</td>\n",
       "      <td>cellular</td>\n",
       "      <td>aug</td>\n",
       "      <td>tue</td>\n",
       "      <td>127</td>\n",
       "      <td>1</td>\n",
       "      <td>999</td>\n",
       "      <td>0</td>\n",
       "      <td>nonexistent</td>\n",
       "      <td>1.4</td>\n",
       "      <td>93.444</td>\n",
       "      <td>-36.1</td>\n",
       "      <td>4.966</td>\n",
       "      <td>5228.1</td>\n",
       "      <td>no</td>\n",
       "    </tr>\n",
       "    <tr>\n",
       "      <th>25217</th>\n",
       "      <td>39</td>\n",
       "      <td>admin.</td>\n",
       "      <td>married</td>\n",
       "      <td>university.degree</td>\n",
       "      <td>no</td>\n",
       "      <td>no</td>\n",
       "      <td>no</td>\n",
       "      <td>cellular</td>\n",
       "      <td>nov</td>\n",
       "      <td>tue</td>\n",
       "      <td>123</td>\n",
       "      <td>2</td>\n",
       "      <td>999</td>\n",
       "      <td>0</td>\n",
       "      <td>nonexistent</td>\n",
       "      <td>-0.1</td>\n",
       "      <td>93.200</td>\n",
       "      <td>-42.0</td>\n",
       "      <td>4.153</td>\n",
       "      <td>5195.8</td>\n",
       "      <td>no</td>\n",
       "    </tr>\n",
       "    <tr>\n",
       "      <th>28477</th>\n",
       "      <td>24</td>\n",
       "      <td>services</td>\n",
       "      <td>single</td>\n",
       "      <td>high.school</td>\n",
       "      <td>no</td>\n",
       "      <td>yes</td>\n",
       "      <td>no</td>\n",
       "      <td>cellular</td>\n",
       "      <td>apr</td>\n",
       "      <td>tue</td>\n",
       "      <td>114</td>\n",
       "      <td>1</td>\n",
       "      <td>999</td>\n",
       "      <td>0</td>\n",
       "      <td>nonexistent</td>\n",
       "      <td>-1.8</td>\n",
       "      <td>93.075</td>\n",
       "      <td>-47.1</td>\n",
       "      <td>1.423</td>\n",
       "      <td>5099.1</td>\n",
       "      <td>no</td>\n",
       "    </tr>\n",
       "    <tr>\n",
       "      <th>32516</th>\n",
       "      <td>35</td>\n",
       "      <td>admin.</td>\n",
       "      <td>married</td>\n",
       "      <td>university.degree</td>\n",
       "      <td>no</td>\n",
       "      <td>yes</td>\n",
       "      <td>no</td>\n",
       "      <td>cellular</td>\n",
       "      <td>may</td>\n",
       "      <td>fri</td>\n",
       "      <td>348</td>\n",
       "      <td>4</td>\n",
       "      <td>999</td>\n",
       "      <td>0</td>\n",
       "      <td>nonexistent</td>\n",
       "      <td>-1.8</td>\n",
       "      <td>92.893</td>\n",
       "      <td>-46.2</td>\n",
       "      <td>1.313</td>\n",
       "      <td>5099.1</td>\n",
       "      <td>no</td>\n",
       "    </tr>\n",
       "    <tr>\n",
       "      <th>36951</th>\n",
       "      <td>45</td>\n",
       "      <td>admin.</td>\n",
       "      <td>married</td>\n",
       "      <td>university.degree</td>\n",
       "      <td>no</td>\n",
       "      <td>no</td>\n",
       "      <td>no</td>\n",
       "      <td>cellular</td>\n",
       "      <td>jul</td>\n",
       "      <td>thu</td>\n",
       "      <td>252</td>\n",
       "      <td>1</td>\n",
       "      <td>999</td>\n",
       "      <td>0</td>\n",
       "      <td>nonexistent</td>\n",
       "      <td>-2.9</td>\n",
       "      <td>92.469</td>\n",
       "      <td>-33.6</td>\n",
       "      <td>1.072</td>\n",
       "      <td>5076.2</td>\n",
       "      <td>yes</td>\n",
       "    </tr>\n",
       "    <tr>\n",
       "      <th>38281</th>\n",
       "      <td>71</td>\n",
       "      <td>retired</td>\n",
       "      <td>single</td>\n",
       "      <td>university.degree</td>\n",
       "      <td>no</td>\n",
       "      <td>no</td>\n",
       "      <td>no</td>\n",
       "      <td>telephone</td>\n",
       "      <td>oct</td>\n",
       "      <td>tue</td>\n",
       "      <td>120</td>\n",
       "      <td>1</td>\n",
       "      <td>999</td>\n",
       "      <td>0</td>\n",
       "      <td>nonexistent</td>\n",
       "      <td>-3.4</td>\n",
       "      <td>92.431</td>\n",
       "      <td>-26.9</td>\n",
       "      <td>0.742</td>\n",
       "      <td>5017.5</td>\n",
       "      <td>no</td>\n",
       "    </tr>\n",
       "  </tbody>\n",
       "</table>\n",
       "</div>"
      ],
      "text/plain": [
       "       age          job   marital            education  default housing loan  \\\n",
       "1266    39  blue-collar   married             basic.6y       no      no   no   \n",
       "12261   36      retired   married              unknown       no      no   no   \n",
       "14234   27   technician    single  professional.course       no      no   no   \n",
       "16956   47   technician  divorced          high.school       no     yes   no   \n",
       "18465   32   technician    single  professional.course       no     yes   no   \n",
       "20216   55     services   married          high.school  unknown      no   no   \n",
       "20534   41   technician   married  professional.course       no     yes   no   \n",
       "25217   39       admin.   married    university.degree       no      no   no   \n",
       "28477   24     services    single          high.school       no     yes   no   \n",
       "32516   35       admin.   married    university.degree       no     yes   no   \n",
       "36951   45       admin.   married    university.degree       no      no   no   \n",
       "38281   71      retired    single    university.degree       no      no   no   \n",
       "\n",
       "         contact month day_of_week  duration  campaign  pdays  previous  \\\n",
       "1266   telephone   may         thu       124         1    999         0   \n",
       "12261  telephone   jul         thu        88         1    999         0   \n",
       "14234   cellular   jul         mon       331         2    999         0   \n",
       "16956   cellular   jul         thu        43         3    999         0   \n",
       "18465   cellular   jul         thu       128         1    999         0   \n",
       "20216   cellular   aug         mon        33         1    999         0   \n",
       "20534   cellular   aug         tue       127         1    999         0   \n",
       "25217   cellular   nov         tue       123         2    999         0   \n",
       "28477   cellular   apr         tue       114         1    999         0   \n",
       "32516   cellular   may         fri       348         4    999         0   \n",
       "36951   cellular   jul         thu       252         1    999         0   \n",
       "38281  telephone   oct         tue       120         1    999         0   \n",
       "\n",
       "          poutcome  emp.var.rate  cons.price.idx  cons.conf.idx  euribor3m  \\\n",
       "1266   nonexistent           1.1          93.994          -36.4      4.855   \n",
       "12261  nonexistent           1.4          93.918          -42.7      4.966   \n",
       "14234  nonexistent           1.4          93.918          -42.7      4.962   \n",
       "16956  nonexistent           1.4          93.918          -42.7      4.962   \n",
       "18465  nonexistent           1.4          93.918          -42.7      4.968   \n",
       "20216  nonexistent           1.4          93.444          -36.1      4.965   \n",
       "20534  nonexistent           1.4          93.444          -36.1      4.966   \n",
       "25217  nonexistent          -0.1          93.200          -42.0      4.153   \n",
       "28477  nonexistent          -1.8          93.075          -47.1      1.423   \n",
       "32516  nonexistent          -1.8          92.893          -46.2      1.313   \n",
       "36951  nonexistent          -2.9          92.469          -33.6      1.072   \n",
       "38281  nonexistent          -3.4          92.431          -26.9      0.742   \n",
       "\n",
       "       nr.employed    y  \n",
       "1266        5191.0   no  \n",
       "12261       5228.1   no  \n",
       "14234       5228.1   no  \n",
       "16956       5228.1   no  \n",
       "18465       5228.1   no  \n",
       "20216       5228.1   no  \n",
       "20534       5228.1   no  \n",
       "25217       5195.8   no  \n",
       "28477       5099.1   no  \n",
       "32516       5099.1   no  \n",
       "36951       5076.2  yes  \n",
       "38281       5017.5   no  "
      ]
     },
     "execution_count": 14,
     "metadata": {},
     "output_type": "execute_result"
    }
   ],
   "source": [
    "df.loc[df[df.duplicated()==True].index]"
   ]
  },
  {
   "cell_type": "markdown",
   "metadata": {},
   "source": [
    "Deklarasikan kolom dengan data kategorik dan kolom dengan data numerik untuk digunakan untuk pengolahan pada bab-bab berikutnya."
   ]
  },
  {
   "cell_type": "code",
   "execution_count": 15,
   "metadata": {},
   "outputs": [],
   "source": [
    "cat_cols = ['job','marital','education','default','housing','loan','contact','month','day_of_week','poutcome']\n",
    "num_cols = ['age','duration','campaign','pdays','previous','emp.var.rate','cons.price.idx','cons.conf.idx','euribor3m','nr.employed']"
   ]
  },
  {
   "cell_type": "markdown",
   "metadata": {},
   "source": [
    "Cek kolom data kategorik."
   ]
  },
  {
   "cell_type": "code",
   "execution_count": 16,
   "metadata": {},
   "outputs": [
    {
     "data": {
      "text/plain": [
       "['job',\n",
       " 'marital',\n",
       " 'education',\n",
       " 'default',\n",
       " 'housing',\n",
       " 'loan',\n",
       " 'contact',\n",
       " 'month',\n",
       " 'day_of_week',\n",
       " 'poutcome']"
      ]
     },
     "execution_count": 16,
     "metadata": {},
     "output_type": "execute_result"
    }
   ],
   "source": [
    "cat_cols"
   ]
  },
  {
   "cell_type": "markdown",
   "metadata": {},
   "source": [
    "Cek kolom data numerik."
   ]
  },
  {
   "cell_type": "code",
   "execution_count": 17,
   "metadata": {},
   "outputs": [
    {
     "data": {
      "text/plain": [
       "['age',\n",
       " 'duration',\n",
       " 'campaign',\n",
       " 'pdays',\n",
       " 'previous',\n",
       " 'emp.var.rate',\n",
       " 'cons.price.idx',\n",
       " 'cons.conf.idx',\n",
       " 'euribor3m',\n",
       " 'nr.employed']"
      ]
     },
     "execution_count": 17,
     "metadata": {},
     "output_type": "execute_result"
    }
   ],
   "source": [
    "num_cols"
   ]
  },
  {
   "cell_type": "markdown",
   "metadata": {},
   "source": [
    "## 4. Exploratory Data Analysis (EDA)"
   ]
  },
  {
   "cell_type": "markdown",
   "metadata": {},
   "source": [
    "Cek persentase value data pada target."
   ]
  },
  {
   "cell_type": "code",
   "execution_count": 18,
   "metadata": {},
   "outputs": [
    {
     "data": {
      "image/png": "[encoded data removed]",
      "text/plain": [
       "<Figure size 576x576 with 1 Axes>"
      ]
     },
     "metadata": {},
     "output_type": "display_data"
    }
   ],
   "source": [
    "plt.figure(figsize=(8,8))\n",
    "plt.pie(df['y'].value_counts().values.tolist(), labels=['No','Yes'], autopct='%1.1f%%',textprops={'fontsize': 15})\n",
    "plt.title('Membuat Deposit Setelah Marketing Campaign', fontsize=20)\n",
    "plt.show()"
   ]
  },
  {
   "cell_type": "markdown",
   "metadata": {},
   "source": [
    "Seperti yang telah diperkirakan pada Bab Data Loading, target yang dimiliki imbalance dengan rasio 8:1 antara `No` dan `Yes`."
   ]
  },
  {
   "cell_type": "markdown",
   "metadata": {},
   "source": [
    "### 4.1. Numerical Feature"
   ]
  },
  {
   "cell_type": "markdown",
   "metadata": {},
   "source": [
    "Cek korelasi antar feature numerikal pada dataset."
   ]
  },
  {
   "cell_type": "code",
   "execution_count": 19,
   "metadata": {},
   "outputs": [
    {
     "data": {
      "image/png": "[encoded data removed]",
      "text/plain": [
       "<Figure size 1080x1080 with 2 Axes>"
      ]
     },
     "metadata": {
      "needs_background": "light"
     },
     "output_type": "display_data"
    }
   ],
   "source": [
    "plt.figure(figsize=(15,15))\n",
    "ax = sns.heatmap(df.corr(),annot=True)\n",
    "\n",
    "for t in ax.texts:\n",
    "    if (float(t.get_text()) > 0.7) | (float(t.get_text()) < -0.7):\n",
    "        t.set_text(t.get_text())\n",
    "    else:\n",
    "        t.set_text('')"
   ]
  },
  {
   "cell_type": "markdown",
   "metadata": {},
   "source": [
    "Pada kasus ini, feature yang memiliki korelasi kuat diasumsikan memiliki nilai korelasi Pearson lebih dari 0.7 atau kurang dari -0.7. Ada beberapa feature yang memiliki korelasi yang kuat, yaitu `emp.var.rate`, `cons.price.idx`, `euribor3m`, dan `nr.employed`. Feature ini nantinya bisa diwakilkan dengan `emp.var.rate` saja setelah pengecekan ulang pada train set."
   ]
  },
  {
   "cell_type": "markdown",
   "metadata": {},
   "source": [
    "### 4.2. Categorical Feature"
   ]
  },
  {
   "cell_type": "markdown",
   "metadata": {},
   "source": [
    "Selanjutnya eksplorasi kemungkinan korelasi target terhadap feature kategorik. Fungsi berikut merupakan fungsi umum yang digunakan. Buat kolom dummy tambahan untuk plotting."
   ]
  },
  {
   "cell_type": "code",
   "execution_count": 20,
   "metadata": {},
   "outputs": [],
   "source": [
    "#kolom dummy\n",
    "df['y-num'] = df['y'].replace(to_replace = dict(yes = 1, no = 0)).astype('float64')\n",
    "\n",
    "#function untuk plotting feature kategorik\n",
    "def cat_plot(dataframe, feature):\n",
    "    #grouping dataframe berdasarkan kolom feature\n",
    "    feature_count = dataframe[[feature,'y','y-num']].groupby([feature,'y']).count().sort_values(by=['y','y-num'],ascending=False).reset_index()\n",
    "    feature_chance = df[[feature,'y-num']].groupby(feature).mean().sort_values(by='y-num',ascending=False).reset_index()\n",
    "\n",
    "    #plotting jumlah\n",
    "    fig,ax = plt.subplots(1,2, figsize=(20,10))\n",
    "    ax[0] = plt.subplot(1,2,1)\n",
    "    ax[0] = sns.barplot(x=feature,y='y-num',data=feature_count,hue='y')\n",
    "    ax[0].set_title('Jumlah Klien Berdasarkan Keputusan Deposit')\n",
    "    ax[0] = plt.xticks(rotation=90)\n",
    "\n",
    "    #plotting rata-rata y atau peluang suatu feature untuk positif y\n",
    "    ax[1] = plt.subplot(1,2,2)\n",
    "    ax[1] = plt.bar(x=feature_chance[feature], height=feature_chance['y-num'])\n",
    "    ax[1] = plt.xticks(rotation=90)\n",
    "    ax[1] = plt.title('Kemungkinan Deposit Setelah Marketing Campaign')\n",
    "    plt.show()"
   ]
  },
  {
   "cell_type": "markdown",
   "metadata": {},
   "source": [
    "Cek respon marketing campaign ini terhadap jenis pekerjaan client."
   ]
  },
  {
   "cell_type": "code",
   "execution_count": 21,
   "metadata": {},
   "outputs": [
    {
     "data": {
      "image/png": "[encoded data removed]",
      "text/plain": [
       "<Figure size 1440x720 with 2 Axes>"
      ]
     },
     "metadata": {
      "needs_background": "light"
     },
     "output_type": "display_data"
    }
   ],
   "source": [
    "cat_plot(df,'job')"
   ]
  },
  {
   "cell_type": "markdown",
   "metadata": {},
   "source": [
    "Dari grafik dapat diketahui bahwa jenis pekerjaan client yang paling banyak dihubungi adalah `admin`, `blue-collar`, dan `technician`, tetapi ketiga pekerjaan ini justru tidak termasuk ke dalam tiga pekerjaan dengan kemungkinan membuat deposit tertinggi. Pekerjaan dengan kemungkinan membuat deposit tertinggi adalah `student`, `retired`, dan `unemployed`.\n",
    "\n",
    "Artificial ordinality bisa dibuat berdasarkan kemungkinan suatu pekerjaan untuk membuat deposit dengan urutan sebagai berikut:\n",
    "\n",
    "    'blue-collar':0,\n",
    "    'services':1,\n",
    "    'enterpreneur':2,\n",
    "    'housemaid':3,\n",
    "    'self-employed':4,\n",
    "    'technician':5,\n",
    "    'unknown':6,\n",
    "    'management':7,\n",
    "    'admin.':8,\n",
    "    'unemployed':9,\n",
    "    'retired':10,\n",
    "    'student':11"
   ]
  },
  {
   "cell_type": "markdown",
   "metadata": {},
   "source": [
    "Selanjutnya coba lihat client berdasarkan tingkat pendidikan."
   ]
  },
  {
   "cell_type": "code",
   "execution_count": 22,
   "metadata": {},
   "outputs": [
    {
     "data": {
      "image/png": "[encoded data removed]",
      "text/plain": [
       "<Figure size 1440x720 with 2 Axes>"
      ]
     },
     "metadata": {
      "needs_background": "light"
     },
     "output_type": "display_data"
    }
   ],
   "source": [
    "cat_plot(df,'education')"
   ]
  },
  {
   "cell_type": "markdown",
   "metadata": {},
   "source": [
    "Dari grafik dapat diketahui bahwa client yang paling banyak dihubungi berdasarkan tingkat pendidikan adalah `university.degree`, `high.school`, dan `basic.9y`. Client dengan tingkat pendidikan `illiterate`, `unknown`, dan `university.degree` memiliki kemungkinan membuat deposit tertinggi.\n",
    "\n",
    "Artificial ordinality bisa dibuat berdasarkan kemungkinan tingkat pendidikan client untuk membuat deposit dengan urutan sebagai berikut:\n",
    "\n",
    "    'basic.9y':0,\n",
    "    'basic.6y':1,\n",
    "    'basic.4y':2,\n",
    "    'high.school':3,\n",
    "    'professional.course':4,\n",
    "    'university.degree':5,\n",
    "    'unknown':6,\n",
    "    'illiterate':7"
   ]
  },
  {
   "cell_type": "code",
   "execution_count": 23,
   "metadata": {},
   "outputs": [
    {
     "data": {
      "text/plain": [
       "job            12\n",
       "marital         4\n",
       "education       8\n",
       "default         3\n",
       "housing         3\n",
       "loan            3\n",
       "contact         2\n",
       "month          10\n",
       "day_of_week     5\n",
       "poutcome        3\n",
       "dtype: int64"
      ]
     },
     "execution_count": 23,
     "metadata": {},
     "output_type": "execute_result"
    }
   ],
   "source": [
    "df[cat_cols].nunique()"
   ]
  },
  {
   "cell_type": "markdown",
   "metadata": {},
   "source": [
    "Cek respon marketing campaign ini terhadap bulan client dihubungi."
   ]
  },
  {
   "cell_type": "code",
   "execution_count": 24,
   "metadata": {},
   "outputs": [
    {
     "data": {
      "image/png": "[encoded data removed]",
      "text/plain": [
       "<Figure size 1440x720 with 2 Axes>"
      ]
     },
     "metadata": {
      "needs_background": "light"
     },
     "output_type": "display_data"
    }
   ],
   "source": [
    "cat_plot(df,'month')"
   ]
  },
  {
   "cell_type": "markdown",
   "metadata": {},
   "source": [
    "Dari grafik dapat diketahui bahwa client paling banyak dihubungi pada bulan `may`, sedangkan berdasarkan kemungkinan untuk membuat depositnya paling tinggi adalah `mar`.\n",
    "\n",
    "Artificial ordinality bisa dibuat berdasarkan bulan dihubunginya client dengan urutan sebagai berikut:\n",
    "\n",
    "    'may':0,\n",
    "    'jul':1,\n",
    "    'nov':2,\n",
    "    'jun':3,\n",
    "    'aug':4,\n",
    "    'apr':5,\n",
    "    'oct':6,\n",
    "    'sep':7,\n",
    "    'dec':8,\n",
    "    'mar':9"
   ]
  },
  {
   "cell_type": "markdown",
   "metadata": {},
   "source": [
    "### Cardinality"
   ]
  },
  {
   "cell_type": "markdown",
   "metadata": {},
   "source": [
    "Kita perlu pastikan bahwa data yang kita gunakan tidak memiliki cardinality tinggi ataupun memiliki cardinality sama dengan satu."
   ]
  },
  {
   "cell_type": "code",
   "execution_count": 25,
   "metadata": {},
   "outputs": [
    {
     "data": {
      "text/plain": [
       "job            12\n",
       "marital         4\n",
       "education       8\n",
       "default         3\n",
       "housing         3\n",
       "loan            3\n",
       "contact         2\n",
       "month          10\n",
       "day_of_week     5\n",
       "poutcome        3\n",
       "dtype: int64"
      ]
     },
     "execution_count": 25,
     "metadata": {},
     "output_type": "execute_result"
    }
   ],
   "source": [
    "df[cat_cols].nunique()"
   ]
  },
  {
   "cell_type": "markdown",
   "metadata": {},
   "source": [
    "Tidak ada feature kategorik dengan cardinality yang tinggi ataupun cardinality sama dengan satu. Pastikan jumlah unique value pada setiap feature kategorik."
   ]
  },
  {
   "cell_type": "code",
   "execution_count": 26,
   "metadata": {},
   "outputs": [
    {
     "name": "stdout",
     "output_type": "stream",
     "text": [
      "job\n",
      "admin.           10422\n",
      "blue-collar       9254\n",
      "technician        6743\n",
      "services          3969\n",
      "management        2924\n",
      "retired           1720\n",
      "entrepreneur      1456\n",
      "self-employed     1421\n",
      "housemaid         1060\n",
      "unemployed        1014\n",
      "student            875\n",
      "unknown            330\n",
      "Name: job, dtype: int64 \n",
      "\n",
      "marital\n",
      "married     24928\n",
      "single      11568\n",
      "divorced     4612\n",
      "unknown        80\n",
      "Name: marital, dtype: int64 \n",
      "\n",
      "education\n",
      "university.degree      12168\n",
      "high.school             9515\n",
      "basic.9y                6045\n",
      "professional.course     5243\n",
      "basic.4y                4176\n",
      "basic.6y                2292\n",
      "unknown                 1731\n",
      "illiterate                18\n",
      "Name: education, dtype: int64 \n",
      "\n",
      "default\n",
      "no         32588\n",
      "unknown     8597\n",
      "yes            3\n",
      "Name: default, dtype: int64 \n",
      "\n",
      "housing\n",
      "yes        21576\n",
      "no         18622\n",
      "unknown      990\n",
      "Name: housing, dtype: int64 \n",
      "\n",
      "loan\n",
      "no         33950\n",
      "yes         6248\n",
      "unknown      990\n",
      "Name: loan, dtype: int64 \n",
      "\n",
      "contact\n",
      "cellular     26144\n",
      "telephone    15044\n",
      "Name: contact, dtype: int64 \n",
      "\n",
      "month\n",
      "may    13769\n",
      "jul     7174\n",
      "aug     6178\n",
      "jun     5318\n",
      "nov     4101\n",
      "apr     2632\n",
      "oct      718\n",
      "sep      570\n",
      "mar      546\n",
      "dec      182\n",
      "Name: month, dtype: int64 \n",
      "\n",
      "day_of_week\n",
      "thu    8623\n",
      "mon    8514\n",
      "wed    8134\n",
      "tue    8090\n",
      "fri    7827\n",
      "Name: day_of_week, dtype: int64 \n",
      "\n",
      "poutcome\n",
      "nonexistent    35563\n",
      "failure         4252\n",
      "success         1373\n",
      "Name: poutcome, dtype: int64 \n",
      "\n"
     ]
    }
   ],
   "source": [
    "for i in cat_cols:\n",
    "    print(i)\n",
    "    print(df[i].value_counts(),'\\n')"
   ]
  },
  {
   "cell_type": "markdown",
   "metadata": {},
   "source": [
    "Ada beberapa feature yang memiliki unique value dengan jumlah yang sangat rendah, yaitu `marital`, `education`, dan `default`."
   ]
  },
  {
   "cell_type": "code",
   "execution_count": 27,
   "metadata": {},
   "outputs": [
    {
     "data": {
      "text/plain": [
       "married     24928\n",
       "single      11568\n",
       "divorced     4612\n",
       "unknown        80\n",
       "Name: marital, dtype: int64"
      ]
     },
     "execution_count": 27,
     "metadata": {},
     "output_type": "execute_result"
    }
   ],
   "source": [
    "df['marital'].value_counts()"
   ]
  },
  {
   "cell_type": "code",
   "execution_count": 28,
   "metadata": {},
   "outputs": [
    {
     "data": {
      "text/plain": [
       "university.degree      12168\n",
       "high.school             9515\n",
       "basic.9y                6045\n",
       "professional.course     5243\n",
       "basic.4y                4176\n",
       "basic.6y                2292\n",
       "unknown                 1731\n",
       "illiterate                18\n",
       "Name: education, dtype: int64"
      ]
     },
     "execution_count": 28,
     "metadata": {},
     "output_type": "execute_result"
    }
   ],
   "source": [
    "df['education'].value_counts()"
   ]
  },
  {
   "cell_type": "code",
   "execution_count": 29,
   "metadata": {},
   "outputs": [
    {
     "data": {
      "text/plain": [
       "no         32588\n",
       "unknown     8597\n",
       "yes            3\n",
       "Name: default, dtype: int64"
      ]
     },
     "execution_count": 29,
     "metadata": {},
     "output_type": "execute_result"
    }
   ],
   "source": [
    "df['default'].value_counts()"
   ]
  },
  {
   "cell_type": "markdown",
   "metadata": {},
   "source": [
    "`marital` dan `education` bisa dijadikan parameter stratify saat splitting dataset."
   ]
  },
  {
   "cell_type": "markdown",
   "metadata": {},
   "source": [
    "## 5. Data Preprocessing\n",
    "Pada bab ini akan dilakukan pengolahan data sebelum digunakan untuk model."
   ]
  },
  {
   "cell_type": "markdown",
   "metadata": {},
   "source": [
    "Drop duplikat dari model terlebih dahulu. Duplikat ini di-drop karena dari keseluruhan feature, semua nilainya sama sehingga bisa diasumsikan bahwa data duplikat tersebut merupakan data independent yang memang kebetulan memiliki nilai sama."
   ]
  },
  {
   "cell_type": "code",
   "execution_count": 30,
   "metadata": {},
   "outputs": [],
   "source": [
    "df.drop(index=df[df.duplicated()==True].index, inplace=True)"
   ]
  },
  {
   "cell_type": "markdown",
   "metadata": {},
   "source": [
    "### 5.1. Data Splitting"
   ]
  },
  {
   "cell_type": "markdown",
   "metadata": {},
   "source": [
    "Tahap berikutnya adalah membagi data menjadi inference, train, validation, dan test set."
   ]
  },
  {
   "cell_type": "markdown",
   "metadata": {},
   "source": [
    "Ambil data untuk inferensial dan hapus data tersebut dari dataset yang akan dipisahkan menjadi train dan test set."
   ]
  },
  {
   "cell_type": "code",
   "execution_count": 31,
   "metadata": {},
   "outputs": [
    {
     "data": {
      "text/html": [
       "<div>\n",
       "<style scoped>\n",
       "    .dataframe tbody tr th:only-of-type {\n",
       "        vertical-align: middle;\n",
       "    }\n",
       "\n",
       "    .dataframe tbody tr th {\n",
       "        vertical-align: top;\n",
       "    }\n",
       "\n",
       "    .dataframe thead th {\n",
       "        text-align: right;\n",
       "    }\n",
       "</style>\n",
       "<table border=\"1\" class=\"dataframe\">\n",
       "  <thead>\n",
       "    <tr style=\"text-align: right;\">\n",
       "      <th></th>\n",
       "      <th>age</th>\n",
       "      <th>job</th>\n",
       "      <th>marital</th>\n",
       "      <th>education</th>\n",
       "      <th>default</th>\n",
       "      <th>housing</th>\n",
       "      <th>loan</th>\n",
       "      <th>contact</th>\n",
       "      <th>month</th>\n",
       "      <th>day_of_week</th>\n",
       "      <th>duration</th>\n",
       "      <th>campaign</th>\n",
       "      <th>pdays</th>\n",
       "      <th>previous</th>\n",
       "      <th>poutcome</th>\n",
       "      <th>emp.var.rate</th>\n",
       "      <th>cons.price.idx</th>\n",
       "      <th>cons.conf.idx</th>\n",
       "      <th>euribor3m</th>\n",
       "      <th>nr.employed</th>\n",
       "      <th>y</th>\n",
       "      <th>y-num</th>\n",
       "    </tr>\n",
       "  </thead>\n",
       "  <tbody>\n",
       "    <tr>\n",
       "      <th>1260</th>\n",
       "      <td>48</td>\n",
       "      <td>technician</td>\n",
       "      <td>married</td>\n",
       "      <td>professional.course</td>\n",
       "      <td>unknown</td>\n",
       "      <td>yes</td>\n",
       "      <td>no</td>\n",
       "      <td>telephone</td>\n",
       "      <td>may</td>\n",
       "      <td>thu</td>\n",
       "      <td>306</td>\n",
       "      <td>1</td>\n",
       "      <td>999</td>\n",
       "      <td>0</td>\n",
       "      <td>nonexistent</td>\n",
       "      <td>1.1</td>\n",
       "      <td>93.994</td>\n",
       "      <td>-36.4</td>\n",
       "      <td>4.855</td>\n",
       "      <td>5191.0</td>\n",
       "      <td>no</td>\n",
       "      <td>0.0</td>\n",
       "    </tr>\n",
       "    <tr>\n",
       "      <th>9721</th>\n",
       "      <td>60</td>\n",
       "      <td>retired</td>\n",
       "      <td>divorced</td>\n",
       "      <td>basic.4y</td>\n",
       "      <td>unknown</td>\n",
       "      <td>yes</td>\n",
       "      <td>no</td>\n",
       "      <td>telephone</td>\n",
       "      <td>jun</td>\n",
       "      <td>mon</td>\n",
       "      <td>253</td>\n",
       "      <td>4</td>\n",
       "      <td>999</td>\n",
       "      <td>0</td>\n",
       "      <td>nonexistent</td>\n",
       "      <td>1.4</td>\n",
       "      <td>94.465</td>\n",
       "      <td>-41.8</td>\n",
       "      <td>4.961</td>\n",
       "      <td>5228.1</td>\n",
       "      <td>no</td>\n",
       "      <td>0.0</td>\n",
       "    </tr>\n",
       "    <tr>\n",
       "      <th>40943</th>\n",
       "      <td>35</td>\n",
       "      <td>admin.</td>\n",
       "      <td>married</td>\n",
       "      <td>university.degree</td>\n",
       "      <td>no</td>\n",
       "      <td>no</td>\n",
       "      <td>no</td>\n",
       "      <td>cellular</td>\n",
       "      <td>oct</td>\n",
       "      <td>wed</td>\n",
       "      <td>194</td>\n",
       "      <td>1</td>\n",
       "      <td>3</td>\n",
       "      <td>2</td>\n",
       "      <td>success</td>\n",
       "      <td>-1.1</td>\n",
       "      <td>94.601</td>\n",
       "      <td>-49.5</td>\n",
       "      <td>0.985</td>\n",
       "      <td>4963.6</td>\n",
       "      <td>yes</td>\n",
       "      <td>1.0</td>\n",
       "    </tr>\n",
       "  </tbody>\n",
       "</table>\n",
       "</div>"
      ],
      "text/plain": [
       "       age         job   marital            education  default housing loan  \\\n",
       "1260    48  technician   married  professional.course  unknown     yes   no   \n",
       "9721    60     retired  divorced             basic.4y  unknown     yes   no   \n",
       "40943   35      admin.   married    university.degree       no      no   no   \n",
       "\n",
       "         contact month day_of_week  duration  campaign  pdays  previous  \\\n",
       "1260   telephone   may         thu       306         1    999         0   \n",
       "9721   telephone   jun         mon       253         4    999         0   \n",
       "40943   cellular   oct         wed       194         1      3         2   \n",
       "\n",
       "          poutcome  emp.var.rate  cons.price.idx  cons.conf.idx  euribor3m  \\\n",
       "1260   nonexistent           1.1          93.994          -36.4      4.855   \n",
       "9721   nonexistent           1.4          94.465          -41.8      4.961   \n",
       "40943      success          -1.1          94.601          -49.5      0.985   \n",
       "\n",
       "       nr.employed    y  y-num  \n",
       "1260        5191.0   no    0.0  \n",
       "9721        5228.1   no    0.0  \n",
       "40943       4963.6  yes    1.0  "
      ]
     },
     "execution_count": 31,
     "metadata": {},
     "output_type": "execute_result"
    }
   ],
   "source": [
    "#data inference\n",
    "df_inf = df.dropna().sample(3, random_state=random_state)\n",
    "df_tt = df.drop(index=df_inf.index)\n",
    "df_inf"
   ]
  },
  {
   "cell_type": "markdown",
   "metadata": {},
   "source": [
    "Deklarasikan feature dan target."
   ]
  },
  {
   "cell_type": "code",
   "execution_count": 32,
   "metadata": {},
   "outputs": [],
   "source": [
    "#deklarasi feature dan target\n",
    "X = df_tt[num_cols+cat_cols]\n",
    "y = df_tt['y-num']"
   ]
  },
  {
   "cell_type": "markdown",
   "metadata": {},
   "source": [
    "Bagi data menjadi X (feature) dan y (target) untuk masing-masing train dan test set. Sample test set yang diambil sebanyak 20% dari total data pada dataset."
   ]
  },
  {
   "cell_type": "code",
   "execution_count": 33,
   "metadata": {},
   "outputs": [],
   "source": [
    "X_train, X_test, y_train, y_test = train_test_split(X,y,test_size=0.2,random_state=random_state,stratify=pd.concat([X['default'],y],axis=1))"
   ]
  },
  {
   "cell_type": "markdown",
   "metadata": {},
   "source": [
    "Pastikan jumlah unique value antara train dan test set agar tidak ada kategori yang hilang dari kedua set."
   ]
  },
  {
   "cell_type": "code",
   "execution_count": 34,
   "metadata": {},
   "outputs": [
    {
     "data": {
      "text/plain": [
       "job            12\n",
       "marital         4\n",
       "education       8\n",
       "default         3\n",
       "housing         3\n",
       "loan            3\n",
       "contact         2\n",
       "month          10\n",
       "day_of_week     5\n",
       "poutcome        3\n",
       "dtype: int64"
      ]
     },
     "execution_count": 34,
     "metadata": {},
     "output_type": "execute_result"
    }
   ],
   "source": [
    "X_train[cat_cols].nunique()"
   ]
  },
  {
   "cell_type": "code",
   "execution_count": 35,
   "metadata": {},
   "outputs": [
    {
     "data": {
      "text/plain": [
       "job            12\n",
       "marital         4\n",
       "education       8\n",
       "default         3\n",
       "housing         3\n",
       "loan            3\n",
       "contact         2\n",
       "month          10\n",
       "day_of_week     5\n",
       "poutcome        3\n",
       "dtype: int64"
      ]
     },
     "execution_count": 35,
     "metadata": {},
     "output_type": "execute_result"
    }
   ],
   "source": [
    "X_test[cat_cols].nunique()"
   ]
  },
  {
   "cell_type": "markdown",
   "metadata": {},
   "source": [
    "Jumlah nilai kategorik sudah sama."
   ]
  },
  {
   "cell_type": "markdown",
   "metadata": {},
   "source": [
    "### 5.2. Outliers Handling"
   ]
  },
  {
   "cell_type": "markdown",
   "metadata": {},
   "source": [
    "Pisahkan feature kategorik dan feature numerik."
   ]
  },
  {
   "cell_type": "code",
   "execution_count": 36,
   "metadata": {},
   "outputs": [],
   "source": [
    "X_train_cat = X_train[cat_cols]\n",
    "X_train_num = X_train[num_cols]"
   ]
  },
  {
   "cell_type": "markdown",
   "metadata": {},
   "source": [
    "Buat fungsi untuk deteksi outlier."
   ]
  },
  {
   "cell_type": "code",
   "execution_count": 37,
   "metadata": {},
   "outputs": [],
   "source": [
    "#deteksi outlier untuk distribusi normal\n",
    "def find_normal_boundaries(dataframe, variable):\n",
    "    upper_boundary = dataframe[variable].mean() + 3 * dataframe[variable].std()\n",
    "    lower_boundary = dataframe[variable].mean() - 3 * dataframe[variable].std()\n",
    "    return upper_boundary, lower_boundary\n",
    "\n",
    "#deteksi outlier untuk distribusi skewed\n",
    "def find_skewed_boundaries(dataframe, variable):\n",
    "    Q1 = dataframe[variable].quantile(0.25)\n",
    "    Q3 = dataframe[variable].quantile(0.75)\n",
    "    IQR = Q3 - Q1\n",
    "    upper_boundary = Q3 + 1.5 * IQR\n",
    "    lower_boundary = Q1 - 1.5 * IQR\n",
    "    return upper_boundary, lower_boundary"
   ]
  },
  {
   "cell_type": "markdown",
   "metadata": {},
   "source": [
    "Cek outlier pada setiap feature numerik."
   ]
  },
  {
   "cell_type": "code",
   "execution_count": 38,
   "metadata": {},
   "outputs": [
    {
     "data": {
      "text/html": [
       "<div>\n",
       "<style scoped>\n",
       "    .dataframe tbody tr th:only-of-type {\n",
       "        vertical-align: middle;\n",
       "    }\n",
       "\n",
       "    .dataframe tbody tr th {\n",
       "        vertical-align: top;\n",
       "    }\n",
       "\n",
       "    .dataframe thead th {\n",
       "        text-align: right;\n",
       "    }\n",
       "</style>\n",
       "<table border=\"1\" class=\"dataframe\">\n",
       "  <thead>\n",
       "    <tr style=\"text-align: right;\">\n",
       "      <th></th>\n",
       "      <th>distribution_type</th>\n",
       "      <th>skewnewss</th>\n",
       "      <th>upper_limit</th>\n",
       "      <th>lower_limit</th>\n",
       "      <th>max</th>\n",
       "      <th>min</th>\n",
       "      <th>outliers_percent</th>\n",
       "    </tr>\n",
       "  </thead>\n",
       "  <tbody>\n",
       "    <tr>\n",
       "      <th>previous</th>\n",
       "      <td>Skewed</td>\n",
       "      <td>3.82</td>\n",
       "      <td>0.0</td>\n",
       "      <td>0.0</td>\n",
       "      <td>7.0</td>\n",
       "      <td>0.0</td>\n",
       "      <td>13.72</td>\n",
       "    </tr>\n",
       "    <tr>\n",
       "      <th>duration</th>\n",
       "      <td>Skewed</td>\n",
       "      <td>3.21</td>\n",
       "      <td>644.5</td>\n",
       "      <td>-223.5</td>\n",
       "      <td>4918.0</td>\n",
       "      <td>0.0</td>\n",
       "      <td>7.20</td>\n",
       "    </tr>\n",
       "    <tr>\n",
       "      <th>campaign</th>\n",
       "      <td>Skewed</td>\n",
       "      <td>4.59</td>\n",
       "      <td>6.0</td>\n",
       "      <td>-2.0</td>\n",
       "      <td>43.0</td>\n",
       "      <td>1.0</td>\n",
       "      <td>5.77</td>\n",
       "    </tr>\n",
       "    <tr>\n",
       "      <th>pdays</th>\n",
       "      <td>Skewed</td>\n",
       "      <td>-4.90</td>\n",
       "      <td>999.0</td>\n",
       "      <td>999.0</td>\n",
       "      <td>999.0</td>\n",
       "      <td>0.0</td>\n",
       "      <td>3.71</td>\n",
       "    </tr>\n",
       "    <tr>\n",
       "      <th>age</th>\n",
       "      <td>Skewed</td>\n",
       "      <td>0.80</td>\n",
       "      <td>69.5</td>\n",
       "      <td>9.5</td>\n",
       "      <td>98.0</td>\n",
       "      <td>17.0</td>\n",
       "      <td>1.17</td>\n",
       "    </tr>\n",
       "  </tbody>\n",
       "</table>\n",
       "</div>"
      ],
      "text/plain": [
       "         distribution_type  skewnewss  upper_limit  lower_limit     max   min  \\\n",
       "previous            Skewed       3.82          0.0          0.0     7.0   0.0   \n",
       "duration            Skewed       3.21        644.5       -223.5  4918.0   0.0   \n",
       "campaign            Skewed       4.59          6.0         -2.0    43.0   1.0   \n",
       "pdays               Skewed      -4.90        999.0        999.0   999.0   0.0   \n",
       "age                 Skewed       0.80         69.5          9.5    98.0  17.0   \n",
       "\n",
       "          outliers_percent  \n",
       "previous             13.72  \n",
       "duration              7.20  \n",
       "campaign              5.77  \n",
       "pdays                 3.71  \n",
       "age                   1.17  "
      ]
     },
     "execution_count": 38,
     "metadata": {},
     "output_type": "execute_result"
    }
   ],
   "source": [
    "#variable untuk summary\n",
    "distribution = []\n",
    "skewness = []\n",
    "upper_limit = []\n",
    "lower_limit = []\n",
    "outliers_percent = []\n",
    "max = []\n",
    "min = []\n",
    "\n",
    "#loop untuk summary outlier\n",
    "for column in X_train_num.columns:\n",
    "\n",
    "    #cek skewness\n",
    "    col_skewness = X_train_num[column].skew()\n",
    "\n",
    "    #conditional berdasarkan skewnewss\n",
    "    if (col_skewness >= -0.5) & (col_skewness <= 0.5):\n",
    "        col_distribution = 'Normal'\n",
    "        col_upper_limit, col_lower_limit = find_normal_boundaries(X_train_num,column)      \n",
    "    else:\n",
    "        col_distribution = 'Skewed'\n",
    "        col_upper_limit, col_lower_limit = find_skewed_boundaries(X_train_num,column)\n",
    "    \n",
    "    #cek min,max, dan jumlah outlier\n",
    "    col_max = X_train_num[column].max()\n",
    "    col_min = X_train_num[column].min()\n",
    "    col_outliers_percent = (len(X_train_num[X_train_num[column] > col_upper_limit]) + len(X_train_num[X_train_num[column] < col_lower_limit])) / len(X_train_num) * 100\n",
    "    \n",
    "    #update summary per loop\n",
    "    distribution.append(col_distribution)\n",
    "    skewness.append(col_skewness)\n",
    "    upper_limit.append(col_upper_limit)\n",
    "    max.append(col_max)\n",
    "    min.append(col_min)\n",
    "    lower_limit.append(col_lower_limit)\n",
    "    outliers_percent.append(col_outliers_percent)\n",
    "\n",
    "#df summary\n",
    "outliers_summary = {'distribution_type':distribution, 'skewnewss':skewness, 'upper_limit':upper_limit, 'lower_limit':lower_limit, 'max':max, 'min':min , 'outliers_percent':outliers_percent}\n",
    "outliers_summary = pd.DataFrame(outliers_summary,index=X_train_num.columns)\n",
    "outliers_summary = outliers_summary[outliers_summary['outliers_percent'] > 0]\n",
    "outliers_summary = round(outliers_summary.sort_values(by='outliers_percent',ascending=False),2)\n",
    "outliers_summary"
   ]
  },
  {
   "cell_type": "markdown",
   "metadata": {},
   "source": [
    "Outlier pada `campaign` akan di-cap dengan metode IQR, sedangkan outlier pada `age` akan di-trim."
   ]
  },
  {
   "cell_type": "markdown",
   "metadata": {},
   "source": [
    "Bagaimana dengan `previous`, `duration`, dan `pdays`?\n",
    "\n",
    "Berdasarkan keterangan dataset, `duration` dapat di-drop karena sangat berpengaruh terhadap target. Hal ini disebabkan jika `duration` bernilai 0, maka otomatis client dianggap menolak untuk membuka deposit.\n",
    "\n",
    "Sedangkan pada `previous` dan `pdays`, jika dilihat pada upper dan lower limit-nya, data ini menjadi bernilai cardinality 1 sehingga bisa kita drop saja dari feature."
   ]
  },
  {
   "cell_type": "code",
   "execution_count": 39,
   "metadata": {},
   "outputs": [],
   "source": [
    "#capping campaign\n",
    "winsorizer_skewed = Winsorizer(capping_method='iqr',tail='both',fold=1.5,variables=['campaign'])\n",
    "X_train = winsorizer_skewed.fit_transform(X_train)"
   ]
  },
  {
   "cell_type": "code",
   "execution_count": 40,
   "metadata": {},
   "outputs": [],
   "source": [
    "#trimming age\n",
    "trimmer = OutlierTrimmer(capping_method='iqr',tail='both',fold=1.5,variables=['age'])\n",
    "X_train = trimmer.fit_transform(X_train)\n",
    "y_train = y_train.loc[X_train.index]"
   ]
  },
  {
   "cell_type": "markdown",
   "metadata": {},
   "source": [
    "### 5.4. Missing Values Detection"
   ]
  },
  {
   "cell_type": "markdown",
   "metadata": {},
   "source": [
    "Tidak ada missing value pada keseluruhan dataset ini."
   ]
  },
  {
   "cell_type": "code",
   "execution_count": 41,
   "metadata": {},
   "outputs": [
    {
     "data": {
      "text/plain": [
       "0"
      ]
     },
     "execution_count": 41,
     "metadata": {},
     "output_type": "execute_result"
    }
   ],
   "source": [
    "df.isnull().sum().sum()"
   ]
  },
  {
   "cell_type": "markdown",
   "metadata": {},
   "source": [
    "### 5.5. Feature Engineering"
   ]
  },
  {
   "cell_type": "markdown",
   "metadata": {},
   "source": [
    "Pada EDA kita sudah mengetahui bahwa `emp.var.rate`, `cons.price.idx`, `euribor3m`, dan `nr.employed` memiliki hubungan antar variabel yang kuat. Kumpulan feature ini akan diwakilkan dengan `emp.var.rate` saja. Pastikan kembali korelasinya dengan heatmap."
   ]
  },
  {
   "cell_type": "code",
   "execution_count": 42,
   "metadata": {},
   "outputs": [
    {
     "data": {
      "image/png": "[encoded data removed]",
      "text/plain": [
       "<Figure size 1080x1080 with 2 Axes>"
      ]
     },
     "metadata": {
      "needs_background": "light"
     },
     "output_type": "display_data"
    }
   ],
   "source": [
    "plt.figure(figsize=(15,15))\n",
    "ax = sns.heatmap(X_train_num.corr(),annot=True)\n",
    "\n",
    "for t in ax.texts:\n",
    "    if (float(t.get_text()) > 0.7) | (float(t.get_text()) < -0.7):\n",
    "        t.set_text(t.get_text())\n",
    "    else:\n",
    "        t.set_text('')"
   ]
  },
  {
   "cell_type": "markdown",
   "metadata": {},
   "source": [
    "Feature numerik yang tersisa adalah `age`, `campaign`, `emp.var.rate`, dan `cons.conf.idx`."
   ]
  },
  {
   "cell_type": "code",
   "execution_count": 43,
   "metadata": {},
   "outputs": [],
   "source": [
    "num_cols = ['age', 'campaign', 'emp.var.rate', 'cons.conf.idx']"
   ]
  },
  {
   "cell_type": "markdown",
   "metadata": {},
   "source": [
    "Feature kategorik yang digunakan adalah `job`, `marital`, `education`, `default`, `housing`, `loan`, `contact`, `month`, `day_of_week`,  dan `poutcome`."
   ]
  },
  {
   "cell_type": "markdown",
   "metadata": {},
   "source": [
    "Buat Column Transformer untuk feature-feature tersebut."
   ]
  },
  {
   "cell_type": "markdown",
   "metadata": {},
   "source": [
    "Numerik (Standard Scaler):\n",
    "- `age`\n",
    "- `campaign`\n",
    "- `emp.var.rate`\n",
    "- `cons.conf.idx`\n",
    "\n",
    "Kategorik (Ordinal Encoder):\n",
    "- `job`\n",
    "- `education`\n",
    "- `month`\n",
    "\n",
    "Kategorik (One-Hot Encoder):\n",
    "- `marital`\n",
    "- `default`\n",
    "- `housing`\n",
    "- `loan`\n",
    "- `contact`\n",
    "- `day_of_week`\n",
    "- `poutcome`"
   ]
  },
  {
   "cell_type": "code",
   "execution_count": 44,
   "metadata": {},
   "outputs": [],
   "source": [
    "ohe_cols = ['marital', 'default', 'housing', 'loan', 'contact', 'day_of_week', 'poutcome']"
   ]
  },
  {
   "cell_type": "code",
   "execution_count": 45,
   "metadata": {},
   "outputs": [],
   "source": [
    "#ordinal encoder untuk masing-masing feature ordinal\n",
    "job_ordenc = OrdinalEncoder(categories=[['blue-collar','services','entrepreneur','housemaid','self-employed',\n",
    "                                        'technician','unknown','management','admin.','unemployed','retired','student']])\n",
    "\n",
    "edu_ordenc = OrdinalEncoder(categories=[['basic.9y','basic.6y','basic.4y','high.school','professional.course',\n",
    "                                        'university.degree','unknown','illiterate']])\n",
    "\n",
    "month_ordenc = OrdinalEncoder(categories=[['may','jul','nov','jun','aug','apr','oct','sep','dec','mar']])"
   ]
  },
  {
   "cell_type": "code",
   "execution_count": 46,
   "metadata": {},
   "outputs": [],
   "source": [
    "#column transformer untuk semua feature yang dipilih\n",
    "prepline = ColumnTransformer([\n",
    "    ('stdscaler',StandardScaler(),num_cols),\n",
    "    ('job',job_ordenc,['job']),\n",
    "    ('education',edu_ordenc,['education']),\n",
    "    ('month',month_ordenc,['month']),\n",
    "    ('onehot',OneHotEncoder(),ohe_cols)\n",
    "])"
   ]
  },
  {
   "cell_type": "markdown",
   "metadata": {},
   "source": [
    "## 6. Model Definition"
   ]
  },
  {
   "cell_type": "markdown",
   "metadata": {},
   "source": [
    "Pada bab ini akan ditentukan model yang digunakan dan hyperparameter yang akan di-tuning jika model tersebut terpilih berdasarkan `Cross Validation`.\n",
    "\n",
    "Karena target-nya imbalance, maka scoring yang digunakan adalah `F1-weighted`."
   ]
  },
  {
   "cell_type": "markdown",
   "metadata": {},
   "source": [
    "### 6.1. Logistic Regression"
   ]
  },
  {
   "cell_type": "markdown",
   "metadata": {},
   "source": [
    "Tuning parameter yang digunakan pada logistic regression adalah jenis penalti, C, dan tipe solver."
   ]
  },
  {
   "cell_type": "code",
   "execution_count": 47,
   "metadata": {},
   "outputs": [],
   "source": [
    "#base model\n",
    "logreg = LogisticRegression(random_state=random_state,n_jobs=-1)\n",
    "\n",
    "#pipeline\n",
    "pipe_logreg = Pipeline([\n",
    "    ('prep',prepline),\n",
    "    ('logreg',logreg)\n",
    "])\n",
    "\n",
    "#hyperparameter tuner\n",
    "params_logreg = {\n",
    "    'logreg__penalty':['l1','l2','none','elasticnet'],\n",
    "    'logreg__C':[0.01,0.1,1,10,100],\n",
    "    'logreg__solver':['newton-cg','lbfgs','liblinear','sag','saga']\n",
    "}"
   ]
  },
  {
   "cell_type": "markdown",
   "metadata": {},
   "source": [
    "### 6.2. Support Vector Classification"
   ]
  },
  {
   "cell_type": "markdown",
   "metadata": {},
   "source": [
    "Tuning parameter yang digunakan pada SVC adalah C, jenis loss, dan penalti. Model SVC yang digunakan adalah derivat dari SVC berupa LinearSVC."
   ]
  },
  {
   "cell_type": "code",
   "execution_count": 48,
   "metadata": {},
   "outputs": [],
   "source": [
    "#base model\n",
    "svc = SVC(random_state=random_state)\n",
    "\n",
    "#pipeline\n",
    "pipe_svc = Pipeline([\n",
    "    ('prep',prepline),\n",
    "    ('svc',svc)\n",
    "])\n",
    "\n",
    "#hyperparameter tuner\n",
    "params_svc = {\n",
    "    'svc__C':[0.01,0.1,1,10,100],\n",
    "    'svc__loss':['hinge','squared_hinge'],\n",
    "    'svc__penalty':['l1','l2']\n",
    "}"
   ]
  },
  {
   "cell_type": "markdown",
   "metadata": {},
   "source": [
    "### 6.3. Decision Tree"
   ]
  },
  {
   "cell_type": "markdown",
   "metadata": {},
   "source": [
    "Tuning parameter yang digunakan pada decision tree adalah jenis splitter, max depth, min sample split, dan max feature."
   ]
  },
  {
   "cell_type": "code",
   "execution_count": 49,
   "metadata": {},
   "outputs": [],
   "source": [
    "#base model\n",
    "dtree = DecisionTreeClassifier(random_state=random_state)\n",
    "\n",
    "#pipeline\n",
    "pipe_dtree = Pipeline([\n",
    "    ('prep',prepline),\n",
    "    ('dtree',dtree)\n",
    "])\n",
    "\n",
    "#hyperparameter tuner\n",
    "params_dtree = {\n",
    "    'dtree__splitter':['best','random'],\n",
    "    'dtree__max_depth':np.arange(1,10),\n",
    "    'dtree__min_samples_split':np.arange(2,10),\n",
    "    'dtree__max_features':['None','sqrt','log2','auto']\n",
    "}"
   ]
  },
  {
   "cell_type": "markdown",
   "metadata": {},
   "source": [
    "### 6.4. Random Forest"
   ]
  },
  {
   "cell_type": "markdown",
   "metadata": {},
   "source": [
    "Tuning parameter yang digunakan pada random forest adalah jumlah estimator/tree, max depth, min sample split, dan max feature."
   ]
  },
  {
   "cell_type": "code",
   "execution_count": 50,
   "metadata": {},
   "outputs": [],
   "source": [
    "#base model\n",
    "rforest = RandomForestClassifier(random_state=random_state,n_jobs=-1)\n",
    "\n",
    "#pipeline\n",
    "pipe_rforest = Pipeline([\n",
    "    ('prep',prepline),\n",
    "    ('rforest',rforest)\n",
    "])\n",
    "\n",
    "#hyperparameter tuner\n",
    "params_rforest = {\n",
    "    'rforest__n_estimators':np.arange(10,100,20),\n",
    "    'rforest__max_depth':np.arange(1,10),\n",
    "    'rforest__min_samples_split':np.arange(2,10,2),\n",
    "    'rforest__max_features':['None','sqrt','log2','auto']\n",
    "}"
   ]
  },
  {
   "cell_type": "markdown",
   "metadata": {},
   "source": [
    "### 6.5. K-Nearest Neighbors"
   ]
  },
  {
   "cell_type": "markdown",
   "metadata": {},
   "source": [
    "Tuning parameter yang digunakan pada KNN adalah jumlah neighbor, faktor pembobotan untuk `neighbor`, dan algoritma yang digunakan untuk menghitung `neighbor` terdekat."
   ]
  },
  {
   "cell_type": "code",
   "execution_count": 51,
   "metadata": {},
   "outputs": [],
   "source": [
    "#base model\n",
    "knn = KNeighborsClassifier(n_jobs=-1)\n",
    "\n",
    "#pipeline\n",
    "pipe_knn = Pipeline([\n",
    "    ('prep',prepline),\n",
    "    ('knn',knn)\n",
    "])\n",
    "\n",
    "#hyperparameter tuner\n",
    "params_knn = {\n",
    "    'knn__n_neighbors':np.arange(3,12,2),\n",
    "    'knn__weights':['uniform','distance'],\n",
    "    'knn__algorithm':['auto','ball_tree','kd_tree','brute']\n",
    "}"
   ]
  },
  {
   "cell_type": "markdown",
   "metadata": {},
   "source": [
    "### 6.6. Naive Bayes"
   ]
  },
  {
   "cell_type": "markdown",
   "metadata": {},
   "source": [
    "Tuning parameter yang digunakan pada Naive Bayes adalah variance smoothing karena hyperparameter-nya hanya ini saja."
   ]
  },
  {
   "cell_type": "code",
   "execution_count": 52,
   "metadata": {},
   "outputs": [],
   "source": [
    "#base model\n",
    "nb = GaussianNB()\n",
    "\n",
    "#pipeline\n",
    "pipe_nb = Pipeline([\n",
    "    ('prep',prepline),\n",
    "    ('nb',nb)\n",
    "])\n",
    "\n",
    "#hyperparameter tuner\n",
    "params_nb = {\n",
    "    'nb__var_smoothing':[1e-9,1e-8,1e-7,1e-6,1e-5,1e-4,1e-3,1e-2,1e-1,1,10,100,1000]\n",
    "}"
   ]
  },
  {
   "cell_type": "markdown",
   "metadata": {},
   "source": [
    "### 6.7. AdaBoost"
   ]
  },
  {
   "cell_type": "markdown",
   "metadata": {},
   "source": [
    "`AdaBoost` merupakan model tambahan yang dipilih pada notebook ini. Tuning parameter yang digunakan adalah jumlah estimator, learning rate, dan jenis algoritma."
   ]
  },
  {
   "cell_type": "code",
   "execution_count": 53,
   "metadata": {},
   "outputs": [],
   "source": [
    "#base model\n",
    "adaboost = AdaBoostClassifier(random_state=random_state)\n",
    "\n",
    "#pipeline\n",
    "pipe_adaboost = Pipeline([\n",
    "    ('prep',prepline),\n",
    "    ('adaboost',adaboost)\n",
    "])\n",
    "\n",
    "#hyperparameter tuner\n",
    "params_adaboost = {\n",
    "    'adaboost__n_estimators':np.arange(10,100,10),\n",
    "    'adaboost__learning_rate':[0.01,0.1,1,10,100],\n",
    "    'adaboost__algorithm':['SAMME','SAMME.R']\n",
    "}"
   ]
  },
  {
   "cell_type": "markdown",
   "metadata": {},
   "source": [
    "## 7. Model Training"
   ]
  },
  {
   "cell_type": "markdown",
   "metadata": {},
   "source": [
    "Pada bab ini akan dilakukan fitting terhadap train set menggunakan masing-masing base model yang telah didefinisikan lalu dilakukan cross validation. Hasil cross validation akan disimpan pada tabel `estimator summary`."
   ]
  },
  {
   "cell_type": "code",
   "execution_count": 54,
   "metadata": {},
   "outputs": [],
   "source": [
    "model = ['logistic_regression','support_vector_classification','decision_tree','random_forest','k_nearest_neighbors','naive_bayes','adaboost']\n",
    "estimator = [pipe_logreg, pipe_svc, pipe_dtree, pipe_rforest, pipe_knn, pipe_nb, pipe_adaboost]\n",
    "\n",
    "mean_score = []\n",
    "stdev_score = []\n",
    "\n",
    "for est in estimator:\n",
    "    est.fit(X_train,y_train)\n",
    "    scores = cross_val_score(est,X_train,y_train,scoring='f1_weighted',cv=5,n_jobs=-1)\n",
    "    \n",
    "    mean_score.append(np.mean(scores))\n",
    "    stdev_score.append(np.std(scores))\n",
    "\n",
    "estimator_summary = pd.DataFrame({'estimator':model,'mean_score':mean_score,'stdev_score':stdev_score})\n",
    "estimator_summary.sort_values(by='mean_score',ascending=False,inplace=True)\n",
    "estimator_summary.reset_index(drop=True, inplace=True)"
   ]
  },
  {
   "cell_type": "markdown",
   "metadata": {},
   "source": [
    "## 8. Model Evaluation"
   ]
  },
  {
   "cell_type": "markdown",
   "metadata": {},
   "source": [
    "### 8.1. Cross Validation Result"
   ]
  },
  {
   "cell_type": "markdown",
   "metadata": {},
   "source": [
    "Berikut hasil dari cross validation di bab sebelumnya."
   ]
  },
  {
   "cell_type": "code",
   "execution_count": 55,
   "metadata": {},
   "outputs": [
    {
     "data": {
      "text/html": [
       "<div>\n",
       "<style scoped>\n",
       "    .dataframe tbody tr th:only-of-type {\n",
       "        vertical-align: middle;\n",
       "    }\n",
       "\n",
       "    .dataframe tbody tr th {\n",
       "        vertical-align: top;\n",
       "    }\n",
       "\n",
       "    .dataframe thead th {\n",
       "        text-align: right;\n",
       "    }\n",
       "</style>\n",
       "<table border=\"1\" class=\"dataframe\">\n",
       "  <thead>\n",
       "    <tr style=\"text-align: right;\">\n",
       "      <th></th>\n",
       "      <th>estimator</th>\n",
       "      <th>mean_score</th>\n",
       "      <th>stdev_score</th>\n",
       "    </tr>\n",
       "  </thead>\n",
       "  <tbody>\n",
       "    <tr>\n",
       "      <th>0</th>\n",
       "      <td>random_forest</td>\n",
       "      <td>0.877643</td>\n",
       "      <td>0.003012</td>\n",
       "    </tr>\n",
       "    <tr>\n",
       "      <th>1</th>\n",
       "      <td>adaboost</td>\n",
       "      <td>0.877335</td>\n",
       "      <td>0.002585</td>\n",
       "    </tr>\n",
       "    <tr>\n",
       "      <th>2</th>\n",
       "      <td>support_vector_classification</td>\n",
       "      <td>0.874553</td>\n",
       "      <td>0.002062</td>\n",
       "    </tr>\n",
       "    <tr>\n",
       "      <th>3</th>\n",
       "      <td>logistic_regression</td>\n",
       "      <td>0.874398</td>\n",
       "      <td>0.001633</td>\n",
       "    </tr>\n",
       "    <tr>\n",
       "      <th>4</th>\n",
       "      <td>k_nearest_neighbors</td>\n",
       "      <td>0.869712</td>\n",
       "      <td>0.002541</td>\n",
       "    </tr>\n",
       "    <tr>\n",
       "      <th>5</th>\n",
       "      <td>decision_tree</td>\n",
       "      <td>0.845159</td>\n",
       "      <td>0.002677</td>\n",
       "    </tr>\n",
       "    <tr>\n",
       "      <th>6</th>\n",
       "      <td>naive_bayes</td>\n",
       "      <td>0.679319</td>\n",
       "      <td>0.018923</td>\n",
       "    </tr>\n",
       "  </tbody>\n",
       "</table>\n",
       "</div>"
      ],
      "text/plain": [
       "                       estimator  mean_score  stdev_score\n",
       "0                  random_forest    0.877643     0.003012\n",
       "1                       adaboost    0.877335     0.002585\n",
       "2  support_vector_classification    0.874553     0.002062\n",
       "3            logistic_regression    0.874398     0.001633\n",
       "4            k_nearest_neighbors    0.869712     0.002541\n",
       "5                  decision_tree    0.845159     0.002677\n",
       "6                    naive_bayes    0.679319     0.018923"
      ]
     },
     "execution_count": 55,
     "metadata": {},
     "output_type": "execute_result"
    }
   ],
   "source": [
    "estimator_summary"
   ]
  },
  {
   "cell_type": "markdown",
   "metadata": {},
   "source": [
    "Dari hasil cross validation, diketahui bahwa model yang terbaik adalah model `Random Forest` diikuti oleh `AdaBoost`. Hal ini berdasarkan mean_score yang paling tinggi, tetapi jika mempertimbangkan stdev_score juga (lebih kecil lebih baik), maka secara subyektif akan dipilih `AdaBoost` untuk dilanjutkan dengan `Grid Search`."
   ]
  },
  {
   "cell_type": "markdown",
   "metadata": {},
   "source": [
    "### 8.2. Hyperparameter Tuning"
   ]
  },
  {
   "cell_type": "markdown",
   "metadata": {},
   "source": [
    "Pengaruh parameter terhadap target pada masing-masing model akan divisualisasikan. Parameter terbaik dari grid search akan digunakan untuk memprediksi test set dan memastikan apakah model underfit, good fit, atau overfit.\n",
    "\n",
    "Model yang akan di-tuning adalah `AdaBoost`."
   ]
  },
  {
   "cell_type": "code",
   "execution_count": 56,
   "metadata": {},
   "outputs": [
    {
     "name": "stdout",
     "output_type": "stream",
     "text": [
      "Fitting 5 folds for each of 90 candidates, totalling 450 fits\n"
     ]
    }
   ],
   "source": [
    "grid_adaboost = GridSearchCV(\n",
    "    pipe_adaboost, params_adaboost, scoring='f1_weighted', cv=5, n_jobs=-1, verbose=1\n",
    ").fit(X_train, y_train)\n",
    "\n",
    "best_params_adaboost = grid_adaboost.best_params_\n",
    "best_pipe_adaboost = grid_adaboost.best_estimator_\n",
    "df_result_adaboost = pd.DataFrame.from_dict(grid_adaboost.cv_results_,orient='columns')"
   ]
  },
  {
   "cell_type": "markdown",
   "metadata": {},
   "source": [
    "Buat fungsi untuk visualisasi pengaruh parameter terhadap `F1 weighted` score dan visualisasi confusion matrix."
   ]
  },
  {
   "cell_type": "code",
   "execution_count": 57,
   "metadata": {},
   "outputs": [],
   "source": [
    "#fungsi plot pengaruh parameter\n",
    "def param_plot(dataframe):\n",
    "    #param pada model\n",
    "    params = [col for col in dataframe.columns if 'param_' in col]\n",
    "    \n",
    "    \n",
    "    fig,ax = plt.subplots(1,len(params), figsize=(len(params)*5,5))\n",
    "    fig.suptitle('Pengaruh Params terhadap Mean F1 wt.Score')\n",
    "    #initialize while loop\n",
    "    i = 0\n",
    "    \n",
    "    #while loop untuk plot masing-masing param\n",
    "    while i < len(params):\n",
    "        ax[i] = plt.subplot(1,len(params),i+1)\n",
    "        sns.lineplot(data=dataframe,x=params[i],y='mean_test_score',ax=ax[i])\n",
    "        ax[i] = plt.xticks(rotation=45)\n",
    "        i += 1\n",
    "    plt.show()"
   ]
  },
  {
   "cell_type": "code",
   "execution_count": 58,
   "metadata": {},
   "outputs": [],
   "source": [
    "#fungsi plot confusion matrix\n",
    "def cf_graph(best_pipe,X,y):\n",
    "    #confusion matrix\n",
    "    cf_matrix = confusion_matrix(y, best_pipe.predict(X))\n",
    "\n",
    "    #figure size\n",
    "    sns.set(rc={'figure.figsize':(5,5)})\n",
    "\n",
    "    #plotting confusion matrix\n",
    "    ax = sns.heatmap(cf_matrix, annot=True, cmap='Blues', fmt='g', annot_kws={'size':20})\n",
    "    ax.set_title('Confusion Matrix', fontsize=20)\n",
    "    ax.set_xlabel('Predicted', fontsize=15)\n",
    "    ax.set_ylabel('Actual', fontsize=15)\n",
    "    ax.set_xticklabels([\"Tidak Deposit\", \"Deposit\"], fontsize=15)\n",
    "    ax.set_yticklabels([\"Tidak Deposit\", \"Deposit\"], fontsize=15)\n",
    "    plt.show()"
   ]
  },
  {
   "cell_type": "markdown",
   "metadata": {},
   "source": [
    "Parameter terbaik yang dihasilkan adalah sebagai berikut:"
   ]
  },
  {
   "cell_type": "code",
   "execution_count": 59,
   "metadata": {},
   "outputs": [
    {
     "name": "stdout",
     "output_type": "stream",
     "text": [
      "{'adaboost__algorithm': 'SAMME.R', 'adaboost__learning_rate': 1, 'adaboost__n_estimators': 90}\n"
     ]
    }
   ],
   "source": [
    "print(best_params_adaboost)"
   ]
  },
  {
   "cell_type": "code",
   "execution_count": 60,
   "metadata": {},
   "outputs": [
    {
     "data": {
      "text/html": [
       "<div>\n",
       "<style scoped>\n",
       "    .dataframe tbody tr th:only-of-type {\n",
       "        vertical-align: middle;\n",
       "    }\n",
       "\n",
       "    .dataframe tbody tr th {\n",
       "        vertical-align: top;\n",
       "    }\n",
       "\n",
       "    .dataframe thead th {\n",
       "        text-align: right;\n",
       "    }\n",
       "</style>\n",
       "<table border=\"1\" class=\"dataframe\">\n",
       "  <thead>\n",
       "    <tr style=\"text-align: right;\">\n",
       "      <th></th>\n",
       "      <th>mean_fit_time</th>\n",
       "      <th>std_fit_time</th>\n",
       "      <th>mean_score_time</th>\n",
       "      <th>std_score_time</th>\n",
       "      <th>param_adaboost__algorithm</th>\n",
       "      <th>param_adaboost__learning_rate</th>\n",
       "      <th>param_adaboost__n_estimators</th>\n",
       "      <th>params</th>\n",
       "      <th>split0_test_score</th>\n",
       "      <th>split1_test_score</th>\n",
       "      <th>split2_test_score</th>\n",
       "      <th>split3_test_score</th>\n",
       "      <th>split4_test_score</th>\n",
       "      <th>mean_test_score</th>\n",
       "      <th>std_test_score</th>\n",
       "      <th>rank_test_score</th>\n",
       "    </tr>\n",
       "  </thead>\n",
       "  <tbody>\n",
       "    <tr>\n",
       "      <th>71</th>\n",
       "      <td>3.856978</td>\n",
       "      <td>0.567354</td>\n",
       "      <td>0.240342</td>\n",
       "      <td>0.105697</td>\n",
       "      <td>SAMME.R</td>\n",
       "      <td>1</td>\n",
       "      <td>90</td>\n",
       "      <td>{'adaboost__algorithm': 'SAMME.R', 'adaboost__...</td>\n",
       "      <td>0.876808</td>\n",
       "      <td>0.880465</td>\n",
       "      <td>0.880918</td>\n",
       "      <td>0.878356</td>\n",
       "      <td>0.875528</td>\n",
       "      <td>0.878415</td>\n",
       "      <td>0.002068</td>\n",
       "      <td>1</td>\n",
       "    </tr>\n",
       "  </tbody>\n",
       "</table>\n",
       "</div>"
      ],
      "text/plain": [
       "    mean_fit_time  std_fit_time  mean_score_time  std_score_time  \\\n",
       "71       3.856978      0.567354         0.240342        0.105697   \n",
       "\n",
       "   param_adaboost__algorithm param_adaboost__learning_rate  \\\n",
       "71                   SAMME.R                             1   \n",
       "\n",
       "   param_adaboost__n_estimators  \\\n",
       "71                           90   \n",
       "\n",
       "                                               params  split0_test_score  \\\n",
       "71  {'adaboost__algorithm': 'SAMME.R', 'adaboost__...           0.876808   \n",
       "\n",
       "    split1_test_score  split2_test_score  split3_test_score  \\\n",
       "71           0.880465           0.880918           0.878356   \n",
       "\n",
       "    split4_test_score  mean_test_score  std_test_score  rank_test_score  \n",
       "71           0.875528         0.878415        0.002068                1  "
      ]
     },
     "execution_count": 60,
     "metadata": {},
     "output_type": "execute_result"
    }
   ],
   "source": [
    "df_result_adaboost[df_result_adaboost['params']==best_params_adaboost]"
   ]
  },
  {
   "cell_type": "code",
   "execution_count": 61,
   "metadata": {},
   "outputs": [
    {
     "data": {
      "image/png": "[encoded data removed]",
      "text/plain": [
       "<Figure size 1080x360 with 3 Axes>"
      ]
     },
     "metadata": {
      "needs_background": "light"
     },
     "output_type": "display_data"
    }
   ],
   "source": [
    "param_plot(df_result_adaboost)"
   ]
  },
  {
   "cell_type": "markdown",
   "metadata": {},
   "source": [
    "Dari tiga parameter pada tuning `AdaBoost`, ketiga-tiganya memiliki pengaruh terhadap `F1 weighted` score sebagai berikut:\n",
    "- SAMME diidentifikasi lebih baik dibandingkan SAMME.R\n",
    "- Pada nilai learning rate rendah masih terjadi kenaikan test score, tetapi setelah menyentuh nilai tertentu, test score akan terus menurun\n",
    "- Kenaikan jumlah estimator tidak sejalan dengan nilai test score"
   ]
  },
  {
   "cell_type": "markdown",
   "metadata": {},
   "source": [
    "Berikut classification report dan confusion matrix yang dihasilkan dari train set."
   ]
  },
  {
   "cell_type": "code",
   "execution_count": 62,
   "metadata": {},
   "outputs": [
    {
     "name": "stdout",
     "output_type": "stream",
     "text": [
      "              precision    recall  f1-score   support\n",
      "\n",
      "         0.0       0.91      0.99      0.95     29031\n",
      "         1.0       0.68      0.20      0.31      3523\n",
      "\n",
      "    accuracy                           0.90     32554\n",
      "   macro avg       0.79      0.60      0.63     32554\n",
      "weighted avg       0.89      0.90      0.88     32554\n",
      "\n"
     ]
    }
   ],
   "source": [
    "print(classification_report(y_train,best_pipe_adaboost.predict(X_train)))"
   ]
  },
  {
   "cell_type": "code",
   "execution_count": 63,
   "metadata": {},
   "outputs": [
    {
     "data": {
      "image/png": "[encoded data removed]",
      "text/plain": [
       "<Figure size 360x360 with 2 Axes>"
      ]
     },
     "metadata": {},
     "output_type": "display_data"
    }
   ],
   "source": [
    "cf_graph(best_pipe_adaboost,X_train,y_train)"
   ]
  },
  {
   "cell_type": "markdown",
   "metadata": {},
   "source": [
    "Dari classification report dan confusion matrix diketahui bahwa model dapat memprediksi ketika seorang client tidak membuat deposit dengan sangat akurat. Tetapi ketika memprediksi seseorang membuat deposit, masih banyak prediksi yang salah. Hal ini disebabkan oleh jumlah kelas yang imbalance pada target."
   ]
  },
  {
   "cell_type": "markdown",
   "metadata": {},
   "source": [
    "### 8.3. Evaluate Test Set"
   ]
  },
  {
   "cell_type": "markdown",
   "metadata": {},
   "source": [
    "Gunakan best pipeline yang telah dibuat untuk memprediksi test set."
   ]
  },
  {
   "cell_type": "code",
   "execution_count": 64,
   "metadata": {},
   "outputs": [
    {
     "name": "stdout",
     "output_type": "stream",
     "text": [
      "F1 weighted score Train: 0.8790202938736359\n",
      "F1 weighted score Test: 0.8751879665572595\n"
     ]
    }
   ],
   "source": [
    "#uji fit\n",
    "print('F1 weighted score Train:',f1_score(y_train, best_pipe_adaboost.predict(X_train), average='weighted'))\n",
    "print('F1 weighted score Test:',f1_score(y_test, best_pipe_adaboost.predict(X_test), average='weighted'))"
   ]
  },
  {
   "cell_type": "markdown",
   "metadata": {},
   "source": [
    "Hasil prediksi dari test set cukup akurat dengan nilai yang sedikit lebih kecil dibandingkan dengan train set. Model dapat dikatakan `Good Fit`."
   ]
  },
  {
   "cell_type": "markdown",
   "metadata": {},
   "source": [
    "## 9. Model Inference"
   ]
  },
  {
   "cell_type": "markdown",
   "metadata": {},
   "source": [
    "Lakukan inference menggunakan inference set."
   ]
  },
  {
   "cell_type": "code",
   "execution_count": 65,
   "metadata": {},
   "outputs": [
    {
     "data": {
      "text/plain": [
       "1260     0.0\n",
       "9721     0.0\n",
       "40943    1.0\n",
       "Name: y-pred, dtype: float64"
      ]
     },
     "execution_count": 65,
     "metadata": {},
     "output_type": "execute_result"
    }
   ],
   "source": [
    "df_inf['y-pred'] = best_pipe_adaboost.predict(df_inf)\n",
    "df_inf['y-pred']"
   ]
  },
  {
   "cell_type": "markdown",
   "metadata": {},
   "source": [
    "Model berhasil memprediksi menggunakan data dari inference set melalui `best_pipe_adaboost`."
   ]
  },
  {
   "cell_type": "markdown",
   "metadata": {},
   "source": [
    "## 10. Pengambilan Kesimpulan"
   ]
  },
  {
   "cell_type": "markdown",
   "metadata": {},
   "source": [
    "Berdasarkan analisis yang telah dilakukan, berikut beberapa hal yang disimpulkan:\n",
    "1. Feature yang digunakan adalah:\n",
    "    - `age`\n",
    "    - `campaign`\n",
    "    - `emp.var.rate`\n",
    "    - `cons.conf.idx`\n",
    "    - `job`\n",
    "    - `education`\n",
    "    - `month`\n",
    "    - `marital`\n",
    "    - `default`\n",
    "    - `housing`\n",
    "    - `loan`\n",
    "    - `contact`\n",
    "    - `day_of_week`\n",
    "    - `poutcome`\n",
    "2. Model yang terpilih berdasarkan `Cross Validation` adalah `AdaBoost` dengan hyperparameter terbaik yaitu:\n",
    "    - `n_estimators` = 90\n",
    "    - `learning_rate` = 1\n",
    "    - `algorithm` = 'SAMME.R'\n",
    "3. Model yang dihasilkan dapat memprediksi `Tidak Deposit` dengan sangat baik, tetapi belum bisa memprediksi `Deposit` dengan baik karena target-nya imbalance (rasio 8:1 untuk `Tidak Deposit`:`Deposit`)\n",
    "4. Model yang dihasilkan `Good Fit` antara train set (F1 score 0.879) dan test set (F1 score 0.875)"
   ]
  }
 ],
 "metadata": {
  "interpreter": {
   "hash": "c511a689884ea87b05d7e6308bcd3bc07b8326d80ebf1c46c0d8c6a4a82d4d0a"
  },
  "kernelspec": {
   "display_name": "Python 3.10.2 64-bit",
   "language": "python",
   "name": "python3"
  },
  "language_info": {
   "codemirror_mode": {
    "name": "ipython",
    "version": 3
   },
   "file_extension": ".py",
   "mimetype": "text/x-python",
   "name": "python",
   "nbconvert_exporter": "python",
   "pygments_lexer": "ipython3",
   "version": "3.10.2"
  },
  "orig_nbformat": 4
 },
 "nbformat": 4,
 "nbformat_minor": 2
}

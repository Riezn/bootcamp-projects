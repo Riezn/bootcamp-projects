{
 "cells": [
  {
   "cell_type": "markdown",
   "metadata": {},
   "source": [
    "# Graded Challenge 3 Phase 1\n",
    "Nama: Judan Syamsul Hadad\n",
    "\n",
    "Batch: FTDS-009"
   ]
  },
  {
   "cell_type": "markdown",
   "metadata": {},
   "source": [
    "## 1. Perkenalan"
   ]
  },
  {
   "cell_type": "markdown",
   "metadata": {},
   "source": [
    "Selamat datang. Notebook ini dibuat sebagai pemenuhan penilaian kompetensi dari rangkaian <u>**Full Time Data Science (FTDS) Bootcamp Batch 9**</u> yang diadakan oleh Hacktiv8 dimana penulis atas nama **Judan Syamsul Hadad** dengan handlename **Riezn** merupakan salah satu pesertanya.\n",
    "\n",
    "Dataset yang digunakan pada notebook ini dapat diunduh [disini](https://www.kaggle.com/datasets/andrewmvd/heart-failure-clinical-data). Dataset ini merupakan data penderita penyakit jantung yang dilengkapi dengan indikator kesehatan lain seperti diabetes dan anemia. "
   ]
  },
  {
   "cell_type": "markdown",
   "metadata": {},
   "source": [
    "### 1.1. Objective\n",
    "Pada notebook ini akan dilakukan pembuatan model klasifikasi dengan tahapan berikut:\n",
    "1. Exploratory Data Analysis (EDA)\n",
    "    - Cardinality\n",
    "2. Data preprocessing yang mencakup:\n",
    "    - Splitting:\n",
    "        - Dataset ke inference set dan train-test set\n",
    "        - Train-test set ke train set dan test set\n",
    "    - Handling outliers pada train set\n",
    "    - Handling missing values pada train set\n",
    "    - Feature engineering (selection, scaling, encoding)\n",
    "3. Model definition:\n",
    "    - Random forest\n",
    "    - Adaboost\n",
    "4. Model training\n",
    "    - Cross validation\n",
    "5. Model evaluation\n",
    "    - Pilih satu model terbaik berdasarkan cross validation\n",
    "    - Hyperparameter tuning pada model terbaik\n",
    "    - Evaluasi fit terhadap test set\n",
    "6. Model inference"
   ]
  },
  {
   "cell_type": "markdown",
   "metadata": {},
   "source": [
    "### 1.2. Problem Statement\n",
    "Model mana yang paling baik untuk memprediksi apakah seorang client akan mendaftar deposit atau tidak?"
   ]
  },
  {
   "cell_type": "markdown",
   "metadata": {},
   "source": [
    "## 2. Import Libraries"
   ]
  },
  {
   "cell_type": "code",
   "execution_count": 1,
   "metadata": {},
   "outputs": [],
   "source": [
    "import numpy as np \n",
    "import pandas as pd\n",
    "import matplotlib.pyplot as plt\n",
    "import seaborn as sns\n",
    "import warnings\n",
    "warnings.filterwarnings('ignore')\n",
    "\n",
    "#preprocessing\n",
    "from sklearn.model_selection import train_test_split\n",
    "from sklearn.preprocessing import OneHotEncoder\n",
    "from sklearn.pipeline import Pipeline\n",
    "from sklearn.compose import ColumnTransformer\n",
    "\n",
    "#models\n",
    "from sklearn.ensemble import RandomForestClassifier, AdaBoostClassifier\n",
    "\n",
    "#validation and evaluation\n",
    "from sklearn.model_selection import GridSearchCV, cross_val_score\n",
    "from sklearn.metrics import classification_report, f1_score"
   ]
  },
  {
   "cell_type": "markdown",
   "metadata": {},
   "source": [
    "## 3. Data Loading"
   ]
  },
  {
   "cell_type": "markdown",
   "metadata": {},
   "source": [
    "Definisikan random state untuk seluruh kode di notebook ini."
   ]
  },
  {
   "cell_type": "code",
   "execution_count": 2,
   "metadata": {},
   "outputs": [],
   "source": [
    "random_state = 34"
   ]
  },
  {
   "cell_type": "markdown",
   "metadata": {},
   "source": [
    "Set display agar menampilkan seluruh kolom."
   ]
  },
  {
   "cell_type": "code",
   "execution_count": 3,
   "metadata": {},
   "outputs": [],
   "source": [
    "pd.set_option('display.max_columns', None)"
   ]
  },
  {
   "cell_type": "markdown",
   "metadata": {},
   "source": [
    "Load dataset."
   ]
  },
  {
   "cell_type": "code",
   "execution_count": 4,
   "metadata": {},
   "outputs": [],
   "source": [
    "data = pd.read_csv('heart_failure_clinical_records_dataset.csv')"
   ]
  },
  {
   "cell_type": "markdown",
   "metadata": {},
   "source": [
    "Copy dataset."
   ]
  },
  {
   "cell_type": "code",
   "execution_count": 5,
   "metadata": {},
   "outputs": [],
   "source": [
    "df = data.copy()"
   ]
  },
  {
   "cell_type": "markdown",
   "metadata": {},
   "source": [
    "Cek lima data teratas."
   ]
  },
  {
   "cell_type": "code",
   "execution_count": 6,
   "metadata": {},
   "outputs": [
    {
     "data": {
      "text/html": [
       "<div>\n",
       "<style scoped>\n",
       "    .dataframe tbody tr th:only-of-type {\n",
       "        vertical-align: middle;\n",
       "    }\n",
       "\n",
       "    .dataframe tbody tr th {\n",
       "        vertical-align: top;\n",
       "    }\n",
       "\n",
       "    .dataframe thead th {\n",
       "        text-align: right;\n",
       "    }\n",
       "</style>\n",
       "<table border=\"1\" class=\"dataframe\">\n",
       "  <thead>\n",
       "    <tr style=\"text-align: right;\">\n",
       "      <th></th>\n",
       "      <th>age</th>\n",
       "      <th>anaemia</th>\n",
       "      <th>creatinine_phosphokinase</th>\n",
       "      <th>diabetes</th>\n",
       "      <th>ejection_fraction</th>\n",
       "      <th>high_blood_pressure</th>\n",
       "      <th>platelets</th>\n",
       "      <th>serum_creatinine</th>\n",
       "      <th>serum_sodium</th>\n",
       "      <th>sex</th>\n",
       "      <th>smoking</th>\n",
       "      <th>time</th>\n",
       "      <th>DEATH_EVENT</th>\n",
       "    </tr>\n",
       "  </thead>\n",
       "  <tbody>\n",
       "    <tr>\n",
       "      <th>0</th>\n",
       "      <td>75.0</td>\n",
       "      <td>0</td>\n",
       "      <td>582</td>\n",
       "      <td>0</td>\n",
       "      <td>20</td>\n",
       "      <td>1</td>\n",
       "      <td>265000.00</td>\n",
       "      <td>1.9</td>\n",
       "      <td>130</td>\n",
       "      <td>1</td>\n",
       "      <td>0</td>\n",
       "      <td>4</td>\n",
       "      <td>1</td>\n",
       "    </tr>\n",
       "    <tr>\n",
       "      <th>1</th>\n",
       "      <td>55.0</td>\n",
       "      <td>0</td>\n",
       "      <td>7861</td>\n",
       "      <td>0</td>\n",
       "      <td>38</td>\n",
       "      <td>0</td>\n",
       "      <td>263358.03</td>\n",
       "      <td>1.1</td>\n",
       "      <td>136</td>\n",
       "      <td>1</td>\n",
       "      <td>0</td>\n",
       "      <td>6</td>\n",
       "      <td>1</td>\n",
       "    </tr>\n",
       "    <tr>\n",
       "      <th>2</th>\n",
       "      <td>65.0</td>\n",
       "      <td>0</td>\n",
       "      <td>146</td>\n",
       "      <td>0</td>\n",
       "      <td>20</td>\n",
       "      <td>0</td>\n",
       "      <td>162000.00</td>\n",
       "      <td>1.3</td>\n",
       "      <td>129</td>\n",
       "      <td>1</td>\n",
       "      <td>1</td>\n",
       "      <td>7</td>\n",
       "      <td>1</td>\n",
       "    </tr>\n",
       "    <tr>\n",
       "      <th>3</th>\n",
       "      <td>50.0</td>\n",
       "      <td>1</td>\n",
       "      <td>111</td>\n",
       "      <td>0</td>\n",
       "      <td>20</td>\n",
       "      <td>0</td>\n",
       "      <td>210000.00</td>\n",
       "      <td>1.9</td>\n",
       "      <td>137</td>\n",
       "      <td>1</td>\n",
       "      <td>0</td>\n",
       "      <td>7</td>\n",
       "      <td>1</td>\n",
       "    </tr>\n",
       "    <tr>\n",
       "      <th>4</th>\n",
       "      <td>65.0</td>\n",
       "      <td>1</td>\n",
       "      <td>160</td>\n",
       "      <td>1</td>\n",
       "      <td>20</td>\n",
       "      <td>0</td>\n",
       "      <td>327000.00</td>\n",
       "      <td>2.7</td>\n",
       "      <td>116</td>\n",
       "      <td>0</td>\n",
       "      <td>0</td>\n",
       "      <td>8</td>\n",
       "      <td>1</td>\n",
       "    </tr>\n",
       "  </tbody>\n",
       "</table>\n",
       "</div>"
      ],
      "text/plain": [
       "    age  anaemia  creatinine_phosphokinase  diabetes  ejection_fraction  \\\n",
       "0  75.0        0                       582         0                 20   \n",
       "1  55.0        0                      7861         0                 38   \n",
       "2  65.0        0                       146         0                 20   \n",
       "3  50.0        1                       111         0                 20   \n",
       "4  65.0        1                       160         1                 20   \n",
       "\n",
       "   high_blood_pressure  platelets  serum_creatinine  serum_sodium  sex  \\\n",
       "0                    1  265000.00               1.9           130    1   \n",
       "1                    0  263358.03               1.1           136    1   \n",
       "2                    0  162000.00               1.3           129    1   \n",
       "3                    0  210000.00               1.9           137    1   \n",
       "4                    0  327000.00               2.7           116    0   \n",
       "\n",
       "   smoking  time  DEATH_EVENT  \n",
       "0        0     4            1  \n",
       "1        0     6            1  \n",
       "2        1     7            1  \n",
       "3        0     7            1  \n",
       "4        0     8            1  "
      ]
     },
     "execution_count": 6,
     "metadata": {},
     "output_type": "execute_result"
    }
   ],
   "source": [
    "df.head()"
   ]
  },
  {
   "cell_type": "markdown",
   "metadata": {},
   "source": [
    "Cek jumlah non-missing value dan tipe data."
   ]
  },
  {
   "cell_type": "code",
   "execution_count": 7,
   "metadata": {},
   "outputs": [
    {
     "name": "stdout",
     "output_type": "stream",
     "text": [
      "<class 'pandas.core.frame.DataFrame'>\n",
      "RangeIndex: 299 entries, 0 to 298\n",
      "Data columns (total 13 columns):\n",
      " #   Column                    Non-Null Count  Dtype  \n",
      "---  ------                    --------------  -----  \n",
      " 0   age                       299 non-null    float64\n",
      " 1   anaemia                   299 non-null    int64  \n",
      " 2   creatinine_phosphokinase  299 non-null    int64  \n",
      " 3   diabetes                  299 non-null    int64  \n",
      " 4   ejection_fraction         299 non-null    int64  \n",
      " 5   high_blood_pressure       299 non-null    int64  \n",
      " 6   platelets                 299 non-null    float64\n",
      " 7   serum_creatinine          299 non-null    float64\n",
      " 8   serum_sodium              299 non-null    int64  \n",
      " 9   sex                       299 non-null    int64  \n",
      " 10  smoking                   299 non-null    int64  \n",
      " 11  time                      299 non-null    int64  \n",
      " 12  DEATH_EVENT               299 non-null    int64  \n",
      "dtypes: float64(3), int64(10)\n",
      "memory usage: 30.5 KB\n"
     ]
    }
   ],
   "source": [
    "df.info()"
   ]
  },
  {
   "cell_type": "markdown",
   "metadata": {},
   "source": [
    "Terdapat 299 baris dan 13 kolom pada dataset. Tidak ada missing value yang terdeteksi otomatis pada dataset."
   ]
  },
  {
   "cell_type": "markdown",
   "metadata": {},
   "source": [
    "Cek missing value pada dataset."
   ]
  },
  {
   "cell_type": "code",
   "execution_count": 8,
   "metadata": {},
   "outputs": [
    {
     "data": {
      "text/plain": [
       "0"
      ]
     },
     "execution_count": 8,
     "metadata": {},
     "output_type": "execute_result"
    }
   ],
   "source": [
    "df.isnull().sum().sum()"
   ]
  },
  {
   "cell_type": "markdown",
   "metadata": {},
   "source": [
    "Cek jumlah nilai unik di masing-masing kolom."
   ]
  },
  {
   "cell_type": "code",
   "execution_count": 9,
   "metadata": {},
   "outputs": [
    {
     "data": {
      "text/plain": [
       "age                          47\n",
       "anaemia                       2\n",
       "creatinine_phosphokinase    208\n",
       "diabetes                      2\n",
       "ejection_fraction            17\n",
       "high_blood_pressure           2\n",
       "platelets                   176\n",
       "serum_creatinine             40\n",
       "serum_sodium                 27\n",
       "sex                           2\n",
       "smoking                       2\n",
       "time                        148\n",
       "DEATH_EVENT                   2\n",
       "dtype: int64"
      ]
     },
     "execution_count": 9,
     "metadata": {},
     "output_type": "execute_result"
    }
   ],
   "source": [
    "df.nunique()"
   ]
  },
  {
   "cell_type": "markdown",
   "metadata": {},
   "source": [
    "Tidak ada kolom yang berfungsi sebagai primary key pada dataset ini."
   ]
  },
  {
   "cell_type": "markdown",
   "metadata": {},
   "source": [
    "Cek statistika deskriptif dari dataset."
   ]
  },
  {
   "cell_type": "code",
   "execution_count": 10,
   "metadata": {},
   "outputs": [
    {
     "data": {
      "text/html": [
       "<div>\n",
       "<style scoped>\n",
       "    .dataframe tbody tr th:only-of-type {\n",
       "        vertical-align: middle;\n",
       "    }\n",
       "\n",
       "    .dataframe tbody tr th {\n",
       "        vertical-align: top;\n",
       "    }\n",
       "\n",
       "    .dataframe thead th {\n",
       "        text-align: right;\n",
       "    }\n",
       "</style>\n",
       "<table border=\"1\" class=\"dataframe\">\n",
       "  <thead>\n",
       "    <tr style=\"text-align: right;\">\n",
       "      <th></th>\n",
       "      <th>mean</th>\n",
       "      <th>std</th>\n",
       "      <th>min</th>\n",
       "      <th>25%</th>\n",
       "      <th>50%</th>\n",
       "      <th>75%</th>\n",
       "      <th>max</th>\n",
       "    </tr>\n",
       "  </thead>\n",
       "  <tbody>\n",
       "    <tr>\n",
       "      <th>age</th>\n",
       "      <td>60.833893</td>\n",
       "      <td>11.894809</td>\n",
       "      <td>40.0</td>\n",
       "      <td>51.0</td>\n",
       "      <td>60.0</td>\n",
       "      <td>70.0</td>\n",
       "      <td>95.0</td>\n",
       "    </tr>\n",
       "    <tr>\n",
       "      <th>anaemia</th>\n",
       "      <td>0.431438</td>\n",
       "      <td>0.496107</td>\n",
       "      <td>0.0</td>\n",
       "      <td>0.0</td>\n",
       "      <td>0.0</td>\n",
       "      <td>1.0</td>\n",
       "      <td>1.0</td>\n",
       "    </tr>\n",
       "    <tr>\n",
       "      <th>creatinine_phosphokinase</th>\n",
       "      <td>581.839465</td>\n",
       "      <td>970.287881</td>\n",
       "      <td>23.0</td>\n",
       "      <td>116.5</td>\n",
       "      <td>250.0</td>\n",
       "      <td>582.0</td>\n",
       "      <td>7861.0</td>\n",
       "    </tr>\n",
       "    <tr>\n",
       "      <th>diabetes</th>\n",
       "      <td>0.418060</td>\n",
       "      <td>0.494067</td>\n",
       "      <td>0.0</td>\n",
       "      <td>0.0</td>\n",
       "      <td>0.0</td>\n",
       "      <td>1.0</td>\n",
       "      <td>1.0</td>\n",
       "    </tr>\n",
       "    <tr>\n",
       "      <th>ejection_fraction</th>\n",
       "      <td>38.083612</td>\n",
       "      <td>11.834841</td>\n",
       "      <td>14.0</td>\n",
       "      <td>30.0</td>\n",
       "      <td>38.0</td>\n",
       "      <td>45.0</td>\n",
       "      <td>80.0</td>\n",
       "    </tr>\n",
       "    <tr>\n",
       "      <th>high_blood_pressure</th>\n",
       "      <td>0.351171</td>\n",
       "      <td>0.478136</td>\n",
       "      <td>0.0</td>\n",
       "      <td>0.0</td>\n",
       "      <td>0.0</td>\n",
       "      <td>1.0</td>\n",
       "      <td>1.0</td>\n",
       "    </tr>\n",
       "    <tr>\n",
       "      <th>platelets</th>\n",
       "      <td>263358.029264</td>\n",
       "      <td>97804.236869</td>\n",
       "      <td>25100.0</td>\n",
       "      <td>212500.0</td>\n",
       "      <td>262000.0</td>\n",
       "      <td>303500.0</td>\n",
       "      <td>850000.0</td>\n",
       "    </tr>\n",
       "    <tr>\n",
       "      <th>serum_creatinine</th>\n",
       "      <td>1.393880</td>\n",
       "      <td>1.034510</td>\n",
       "      <td>0.5</td>\n",
       "      <td>0.9</td>\n",
       "      <td>1.1</td>\n",
       "      <td>1.4</td>\n",
       "      <td>9.4</td>\n",
       "    </tr>\n",
       "    <tr>\n",
       "      <th>serum_sodium</th>\n",
       "      <td>136.625418</td>\n",
       "      <td>4.412477</td>\n",
       "      <td>113.0</td>\n",
       "      <td>134.0</td>\n",
       "      <td>137.0</td>\n",
       "      <td>140.0</td>\n",
       "      <td>148.0</td>\n",
       "    </tr>\n",
       "    <tr>\n",
       "      <th>sex</th>\n",
       "      <td>0.648829</td>\n",
       "      <td>0.478136</td>\n",
       "      <td>0.0</td>\n",
       "      <td>0.0</td>\n",
       "      <td>1.0</td>\n",
       "      <td>1.0</td>\n",
       "      <td>1.0</td>\n",
       "    </tr>\n",
       "    <tr>\n",
       "      <th>smoking</th>\n",
       "      <td>0.321070</td>\n",
       "      <td>0.467670</td>\n",
       "      <td>0.0</td>\n",
       "      <td>0.0</td>\n",
       "      <td>0.0</td>\n",
       "      <td>1.0</td>\n",
       "      <td>1.0</td>\n",
       "    </tr>\n",
       "    <tr>\n",
       "      <th>time</th>\n",
       "      <td>130.260870</td>\n",
       "      <td>77.614208</td>\n",
       "      <td>4.0</td>\n",
       "      <td>73.0</td>\n",
       "      <td>115.0</td>\n",
       "      <td>203.0</td>\n",
       "      <td>285.0</td>\n",
       "    </tr>\n",
       "    <tr>\n",
       "      <th>DEATH_EVENT</th>\n",
       "      <td>0.321070</td>\n",
       "      <td>0.467670</td>\n",
       "      <td>0.0</td>\n",
       "      <td>0.0</td>\n",
       "      <td>0.0</td>\n",
       "      <td>1.0</td>\n",
       "      <td>1.0</td>\n",
       "    </tr>\n",
       "  </tbody>\n",
       "</table>\n",
       "</div>"
      ],
      "text/plain": [
       "                                   mean           std      min       25%  \\\n",
       "age                           60.833893     11.894809     40.0      51.0   \n",
       "anaemia                        0.431438      0.496107      0.0       0.0   \n",
       "creatinine_phosphokinase     581.839465    970.287881     23.0     116.5   \n",
       "diabetes                       0.418060      0.494067      0.0       0.0   \n",
       "ejection_fraction             38.083612     11.834841     14.0      30.0   \n",
       "high_blood_pressure            0.351171      0.478136      0.0       0.0   \n",
       "platelets                 263358.029264  97804.236869  25100.0  212500.0   \n",
       "serum_creatinine               1.393880      1.034510      0.5       0.9   \n",
       "serum_sodium                 136.625418      4.412477    113.0     134.0   \n",
       "sex                            0.648829      0.478136      0.0       0.0   \n",
       "smoking                        0.321070      0.467670      0.0       0.0   \n",
       "time                         130.260870     77.614208      4.0      73.0   \n",
       "DEATH_EVENT                    0.321070      0.467670      0.0       0.0   \n",
       "\n",
       "                               50%       75%       max  \n",
       "age                           60.0      70.0      95.0  \n",
       "anaemia                        0.0       1.0       1.0  \n",
       "creatinine_phosphokinase     250.0     582.0    7861.0  \n",
       "diabetes                       0.0       1.0       1.0  \n",
       "ejection_fraction             38.0      45.0      80.0  \n",
       "high_blood_pressure            0.0       1.0       1.0  \n",
       "platelets                 262000.0  303500.0  850000.0  \n",
       "serum_creatinine               1.1       1.4       9.4  \n",
       "serum_sodium                 137.0     140.0     148.0  \n",
       "sex                            1.0       1.0       1.0  \n",
       "smoking                        0.0       1.0       1.0  \n",
       "time                         115.0     203.0     285.0  \n",
       "DEATH_EVENT                    0.0       1.0       1.0  "
      ]
     },
     "execution_count": 10,
     "metadata": {},
     "output_type": "execute_result"
    }
   ],
   "source": [
    "df.describe(include='all').T.drop(columns=['count'])"
   ]
  },
  {
   "cell_type": "markdown",
   "metadata": {},
   "source": [
    "Berikut beberapa hal yang dapat diketahui dari dataset berdasarkan statistika deskriptif:\n",
    "- `age`: Pasien termuda yang diamati berumur 40 tahun, sedangkan yang tertua 95 tahun\n",
    "- `creatinine_phosphokinase`, `ejection_fraction`, `platelets`, `serum_creatinine`: Terdapat outlier pada kolom ini jika dilihat nilai maksimum terhadap Q3-nya\n",
    "- `DEATH_EVENT`: Rata-rata satu dari tiga orang meninggal, target imbalance"
   ]
  },
  {
   "cell_type": "markdown",
   "metadata": {},
   "source": [
    "Selanjutnya cek apakah ada duplikat."
   ]
  },
  {
   "cell_type": "code",
   "execution_count": 11,
   "metadata": {},
   "outputs": [
    {
     "data": {
      "text/plain": [
       "0"
      ]
     },
     "execution_count": 11,
     "metadata": {},
     "output_type": "execute_result"
    }
   ],
   "source": [
    "df.duplicated().sum()"
   ]
  },
  {
   "cell_type": "markdown",
   "metadata": {},
   "source": [
    "Tidak ada duplikat pada dataset."
   ]
  },
  {
   "cell_type": "markdown",
   "metadata": {},
   "source": [
    "Deklarasikan kolom dengan data kategorik dan kolom dengan data numerik untuk digunakan untuk pengolahan pada bab-bab berikutnya."
   ]
  },
  {
   "cell_type": "code",
   "execution_count": 12,
   "metadata": {},
   "outputs": [],
   "source": [
    "cat_cols = ['anaemia', 'diabetes', 'high_blood_pressure', 'sex', 'smoking']\n",
    "num_cols = df.drop(columns=cat_cols + ['DEATH_EVENT']).columns.tolist()"
   ]
  },
  {
   "cell_type": "markdown",
   "metadata": {},
   "source": [
    "Cek kolom data kategorik."
   ]
  },
  {
   "cell_type": "code",
   "execution_count": 13,
   "metadata": {},
   "outputs": [
    {
     "data": {
      "text/plain": [
       "['anaemia', 'diabetes', 'high_blood_pressure', 'sex', 'smoking']"
      ]
     },
     "execution_count": 13,
     "metadata": {},
     "output_type": "execute_result"
    }
   ],
   "source": [
    "cat_cols"
   ]
  },
  {
   "cell_type": "markdown",
   "metadata": {},
   "source": [
    "Cek kolom data numerik."
   ]
  },
  {
   "cell_type": "code",
   "execution_count": 14,
   "metadata": {},
   "outputs": [
    {
     "data": {
      "text/plain": [
       "['age',\n",
       " 'creatinine_phosphokinase',\n",
       " 'ejection_fraction',\n",
       " 'platelets',\n",
       " 'serum_creatinine',\n",
       " 'serum_sodium',\n",
       " 'time']"
      ]
     },
     "execution_count": 14,
     "metadata": {},
     "output_type": "execute_result"
    }
   ],
   "source": [
    "num_cols"
   ]
  },
  {
   "cell_type": "markdown",
   "metadata": {},
   "source": [
    "## 4. Exploratory Data Analysis (EDA)"
   ]
  },
  {
   "cell_type": "markdown",
   "metadata": {},
   "source": [
    "Cek persentase value data pada target."
   ]
  },
  {
   "cell_type": "code",
   "execution_count": 15,
   "metadata": {},
   "outputs": [
    {
     "data": {
      "image/png": "[encoded data removed]",
      "text/plain": [
       "<Figure size 576x576 with 1 Axes>"
      ]
     },
     "metadata": {},
     "output_type": "display_data"
    }
   ],
   "source": [
    "plt.figure(figsize=(8,8))\n",
    "plt.pie(df['DEATH_EVENT'].value_counts().values.tolist(), labels=['Survived','Died'], autopct='%1.1f%%',textprops={'fontsize': 15})\n",
    "plt.title('Persentase Kematian Penderita Penyakit Jantung', fontsize=20)\n",
    "plt.show()"
   ]
  },
  {
   "cell_type": "markdown",
   "metadata": {},
   "source": [
    "### 4.1. Numerical Feature"
   ]
  },
  {
   "cell_type": "markdown",
   "metadata": {},
   "source": [
    "Cek korelasi antar feature numerikal pada dataset."
   ]
  },
  {
   "cell_type": "code",
   "execution_count": 16,
   "metadata": {},
   "outputs": [
    {
     "data": {
      "image/png": "[encoded data removed]",
      "text/plain": [
       "<Figure size 1080x1080 with 2 Axes>"
      ]
     },
     "metadata": {
      "needs_background": "light"
     },
     "output_type": "display_data"
    }
   ],
   "source": [
    "plt.figure(figsize=(15,15))\n",
    "ax = sns.heatmap(df[num_cols].corr(),annot=True)\n",
    "\n",
    "for t in ax.texts:\n",
    "    if (float(t.get_text()) > 0.7) | (float(t.get_text()) < -0.7):\n",
    "        t.set_text(t.get_text())\n",
    "    else:\n",
    "        t.set_text('')"
   ]
  },
  {
   "cell_type": "markdown",
   "metadata": {},
   "source": [
    "Heatmap tidak menunjukkan ada feature yang memiliki korelasi yang signifikan dengan target maupun antar feature."
   ]
  },
  {
   "cell_type": "markdown",
   "metadata": {},
   "source": [
    "### 4.2. Categorical Feature"
   ]
  },
  {
   "cell_type": "markdown",
   "metadata": {},
   "source": [
    "Selanjutnya eksplorasi kemungkinan korelasi target terhadap feature kategorik. Fungsi berikut merupakan fungsi umum yang digunakan untuk seluruh feature kategorik."
   ]
  },
  {
   "cell_type": "code",
   "execution_count": 17,
   "metadata": {},
   "outputs": [],
   "source": [
    "#function untuk plotting feature kategorik\n",
    "def cat_plot(dataframe, feature):\n",
    "    event_legend = {0: 'Survived', 1: 'Died'}\n",
    "    feature_legend = {0: 'No', 1: 'Yes'}\n",
    "\n",
    "    #grouping dataframe berdasarkan kolom feature\n",
    "    feature_count = df[[feature,'DEATH_EVENT']] \\\n",
    "        .replace({'DEATH_EVENT':event_legend}) \\\n",
    "        .reset_index(drop=False) \\\n",
    "        .groupby([feature,'DEATH_EVENT']) \\\n",
    "        .count() \\\n",
    "        .sort_values(by=['DEATH_EVENT'],ascending=False) \\\n",
    "        .rename({'index':'count'},axis=1) \\\n",
    "        .reset_index()\n",
    "    \n",
    "    feature_chance = df[[feature,'DEATH_EVENT']] \\\n",
    "        .replace({feature:feature_legend}) \\\n",
    "        .groupby(feature) \\\n",
    "        .mean() \\\n",
    "        .reset_index()\n",
    "\n",
    "    #plotting jumlah\n",
    "    fig,ax = plt.subplots(1,2, figsize=(20,10))\n",
    "    ax[0] = plt.subplot(1,2,1)\n",
    "    ax[0] = sns.barplot(x=feature,y='count',data=feature_count,hue='DEATH_EVENT')\n",
    "    ax[0].set_title('Jumlah Kematian Terhadap {Feature}'.format(Feature=feature))\n",
    "    ax[0].set_xticklabels(['No','Yes'])\n",
    "\n",
    "    #plotting rata-rata y atau peluang suatu feature untuk positif y\n",
    "    ax[1] = plt.subplot(1,2,2)\n",
    "    ax[1] = plt.bar(x=feature_chance[feature], height=feature_chance['DEATH_EVENT'])\n",
    "    ax[1] = plt.title('Peluang {Feature} Terhadap Kematian Akibat Serangan Jantung'.format(Feature=feature))\n",
    "    ax[1] = plt.ylabel('Peluang Kematian')\n",
    "    ax[1] = plt.xlabel(feature)\n",
    "    plt.show()"
   ]
  },
  {
   "cell_type": "markdown",
   "metadata": {},
   "source": [
    "Cek pengaruh diabetes terhadap kematian dari serangan jantung."
   ]
  },
  {
   "cell_type": "code",
   "execution_count": 18,
   "metadata": {},
   "outputs": [
    {
     "data": {
      "image/png": "[encoded data removed]",
      "text/plain": [
       "<Figure size 1440x720 with 2 Axes>"
      ]
     },
     "metadata": {
      "needs_background": "light"
     },
     "output_type": "display_data"
    }
   ],
   "source": [
    "cat_plot(df,'diabetes')"
   ]
  },
  {
   "cell_type": "markdown",
   "metadata": {},
   "source": [
    "Jika dilihat dari jumlah data, tidak bisa disimpulkan bahwa seseorang yang tidak mengidap diabetes tidak akan meninggal akibat serangan jantung. Jika dilihat peluangnya, baik yang mengidap diabetes ataupun tidak, memiliki peluang yang sama untuk mengalami serangan jantung."
   ]
  },
  {
   "cell_type": "markdown",
   "metadata": {},
   "source": [
    "Selanjutnya coba lihat client berdasarkan anemia."
   ]
  },
  {
   "cell_type": "code",
   "execution_count": 19,
   "metadata": {},
   "outputs": [
    {
     "data": {
      "image/png": "[encoded data removed]",
      "text/plain": [
       "<Figure size 1440x720 with 2 Axes>"
      ]
     },
     "metadata": {
      "needs_background": "light"
     },
     "output_type": "display_data"
    }
   ],
   "source": [
    "cat_plot(df,'anaemia')"
   ]
  },
  {
   "cell_type": "markdown",
   "metadata": {},
   "source": [
    "Sama seperti diabetes, tidak bisa disimpulkan bahwa seseorang yang tidak mengidap anemia tidak akan meninggal akibat serangan jantung. Secara peluang, pengidap anemia memiliki kemungkinan lebih tinggi untuk meninggal akibat serangan jantung."
   ]
  },
  {
   "cell_type": "markdown",
   "metadata": {},
   "source": [
    "Cek pengaruh feature kategorik lainnya."
   ]
  },
  {
   "cell_type": "code",
   "execution_count": 20,
   "metadata": {},
   "outputs": [
    {
     "data": {
      "image/png": "[encoded data removed]",
      "text/plain": [
       "<Figure size 1440x720 with 2 Axes>"
      ]
     },
     "metadata": {
      "needs_background": "light"
     },
     "output_type": "display_data"
    }
   ],
   "source": [
    "cat_plot(df,'high_blood_pressure')"
   ]
  },
  {
   "cell_type": "markdown",
   "metadata": {},
   "source": [
    "Pengidap tekanan darah tinggi memiliki peluang yang lebih tinggi untuk mengalami kematian akibat serangan jantung."
   ]
  },
  {
   "cell_type": "code",
   "execution_count": 21,
   "metadata": {},
   "outputs": [
    {
     "data": {
      "image/png": "[encoded data removed]",
      "text/plain": [
       "<Figure size 1440x720 with 2 Axes>"
      ]
     },
     "metadata": {
      "needs_background": "light"
     },
     "output_type": "display_data"
    }
   ],
   "source": [
    "cat_plot(df,'sex')"
   ]
  },
  {
   "cell_type": "markdown",
   "metadata": {},
   "source": [
    "Jenis kelamin tidak memiliki beda peluang yang signifikan terhadap kemungkinan mengalami kematian akibat serangan jantung."
   ]
  },
  {
   "cell_type": "code",
   "execution_count": 22,
   "metadata": {},
   "outputs": [
    {
     "data": {
      "image/png": "[encoded data removed]",
      "text/plain": [
       "<Figure size 1440x720 with 2 Axes>"
      ]
     },
     "metadata": {
      "needs_background": "light"
     },
     "output_type": "display_data"
    }
   ],
   "source": [
    "cat_plot(df,'smoking')"
   ]
  },
  {
   "cell_type": "markdown",
   "metadata": {},
   "source": [
    "Grafik menujukkan hal yang cukup menarik. Orang yang tidak merokok malah menandakan kemungkinan yang lebih tinggi untuk mengalami kematian akibat serangan jantung."
   ]
  },
  {
   "cell_type": "markdown",
   "metadata": {},
   "source": [
    "### Cardinality"
   ]
  },
  {
   "cell_type": "markdown",
   "metadata": {},
   "source": [
    "Kita perlu pastikan bahwa data yang kita gunakan tidak memiliki cardinality tinggi ataupun memiliki cardinality sama dengan satu."
   ]
  },
  {
   "cell_type": "code",
   "execution_count": 23,
   "metadata": {},
   "outputs": [
    {
     "data": {
      "text/plain": [
       "anaemia                2\n",
       "diabetes               2\n",
       "high_blood_pressure    2\n",
       "sex                    2\n",
       "smoking                2\n",
       "dtype: int64"
      ]
     },
     "execution_count": 23,
     "metadata": {},
     "output_type": "execute_result"
    }
   ],
   "source": [
    "df[cat_cols].nunique()"
   ]
  },
  {
   "cell_type": "markdown",
   "metadata": {},
   "source": [
    "Tidak ada feature kategorik dengan cardinality yang tinggi ataupun cardinality sama dengan satu. Pastikan jumlah unique value pada setiap feature kategorik."
   ]
  },
  {
   "cell_type": "code",
   "execution_count": 24,
   "metadata": {},
   "outputs": [
    {
     "name": "stdout",
     "output_type": "stream",
     "text": [
      "anaemia\n",
      "0    170\n",
      "1    129\n",
      "Name: anaemia, dtype: int64 \n",
      "\n",
      "diabetes\n",
      "0    174\n",
      "1    125\n",
      "Name: diabetes, dtype: int64 \n",
      "\n",
      "high_blood_pressure\n",
      "0    194\n",
      "1    105\n",
      "Name: high_blood_pressure, dtype: int64 \n",
      "\n",
      "sex\n",
      "1    194\n",
      "0    105\n",
      "Name: sex, dtype: int64 \n",
      "\n",
      "smoking\n",
      "0    203\n",
      "1     96\n",
      "Name: smoking, dtype: int64 \n",
      "\n"
     ]
    }
   ],
   "source": [
    "for i in cat_cols:\n",
    "    print(i)\n",
    "    print(df[i].value_counts(),'\\n')"
   ]
  },
  {
   "cell_type": "markdown",
   "metadata": {},
   "source": [
    "Tidak ada feature dengan jumlah kategori yang kecil sekali."
   ]
  },
  {
   "cell_type": "markdown",
   "metadata": {},
   "source": [
    "## 5. Data Preprocessing\n",
    "Pada bab ini akan dilakukan pengolahan data sebelum digunakan untuk model."
   ]
  },
  {
   "cell_type": "markdown",
   "metadata": {},
   "source": [
    "### 5.1. Data Splitting"
   ]
  },
  {
   "cell_type": "markdown",
   "metadata": {},
   "source": [
    "Tahap berikutnya adalah membagi data menjadi inference, train, validation, dan test set."
   ]
  },
  {
   "cell_type": "markdown",
   "metadata": {},
   "source": [
    "Ambil data untuk inferensial dan hapus data tersebut dari dataset yang akan dipisahkan menjadi train dan test set."
   ]
  },
  {
   "cell_type": "code",
   "execution_count": 25,
   "metadata": {},
   "outputs": [
    {
     "data": {
      "text/html": [
       "<div>\n",
       "<style scoped>\n",
       "    .dataframe tbody tr th:only-of-type {\n",
       "        vertical-align: middle;\n",
       "    }\n",
       "\n",
       "    .dataframe tbody tr th {\n",
       "        vertical-align: top;\n",
       "    }\n",
       "\n",
       "    .dataframe thead th {\n",
       "        text-align: right;\n",
       "    }\n",
       "</style>\n",
       "<table border=\"1\" class=\"dataframe\">\n",
       "  <thead>\n",
       "    <tr style=\"text-align: right;\">\n",
       "      <th></th>\n",
       "      <th>age</th>\n",
       "      <th>anaemia</th>\n",
       "      <th>creatinine_phosphokinase</th>\n",
       "      <th>diabetes</th>\n",
       "      <th>ejection_fraction</th>\n",
       "      <th>high_blood_pressure</th>\n",
       "      <th>platelets</th>\n",
       "      <th>serum_creatinine</th>\n",
       "      <th>serum_sodium</th>\n",
       "      <th>sex</th>\n",
       "      <th>smoking</th>\n",
       "      <th>time</th>\n",
       "      <th>DEATH_EVENT</th>\n",
       "    </tr>\n",
       "  </thead>\n",
       "  <tbody>\n",
       "    <tr>\n",
       "      <th>75</th>\n",
       "      <td>60.000</td>\n",
       "      <td>1</td>\n",
       "      <td>47</td>\n",
       "      <td>0</td>\n",
       "      <td>20</td>\n",
       "      <td>0</td>\n",
       "      <td>204000.0</td>\n",
       "      <td>0.7</td>\n",
       "      <td>139</td>\n",
       "      <td>1</td>\n",
       "      <td>1</td>\n",
       "      <td>73</td>\n",
       "      <td>1</td>\n",
       "    </tr>\n",
       "    <tr>\n",
       "      <th>188</th>\n",
       "      <td>60.667</td>\n",
       "      <td>1</td>\n",
       "      <td>151</td>\n",
       "      <td>1</td>\n",
       "      <td>40</td>\n",
       "      <td>1</td>\n",
       "      <td>201000.0</td>\n",
       "      <td>1.0</td>\n",
       "      <td>136</td>\n",
       "      <td>0</td>\n",
       "      <td>0</td>\n",
       "      <td>172</td>\n",
       "      <td>0</td>\n",
       "    </tr>\n",
       "    <tr>\n",
       "      <th>63</th>\n",
       "      <td>45.000</td>\n",
       "      <td>0</td>\n",
       "      <td>582</td>\n",
       "      <td>0</td>\n",
       "      <td>35</td>\n",
       "      <td>0</td>\n",
       "      <td>385000.0</td>\n",
       "      <td>1.0</td>\n",
       "      <td>145</td>\n",
       "      <td>1</td>\n",
       "      <td>0</td>\n",
       "      <td>61</td>\n",
       "      <td>1</td>\n",
       "    </tr>\n",
       "  </tbody>\n",
       "</table>\n",
       "</div>"
      ],
      "text/plain": [
       "        age  anaemia  creatinine_phosphokinase  diabetes  ejection_fraction  \\\n",
       "75   60.000        1                        47         0                 20   \n",
       "188  60.667        1                       151         1                 40   \n",
       "63   45.000        0                       582         0                 35   \n",
       "\n",
       "     high_blood_pressure  platelets  serum_creatinine  serum_sodium  sex  \\\n",
       "75                     0   204000.0               0.7           139    1   \n",
       "188                    1   201000.0               1.0           136    0   \n",
       "63                     0   385000.0               1.0           145    1   \n",
       "\n",
       "     smoking  time  DEATH_EVENT  \n",
       "75         1    73            1  \n",
       "188        0   172            0  \n",
       "63         0    61            1  "
      ]
     },
     "execution_count": 25,
     "metadata": {},
     "output_type": "execute_result"
    }
   ],
   "source": [
    "#data inference\n",
    "df_inf = df.dropna().sample(3, random_state=random_state)\n",
    "df_tt = df.drop(index=df_inf.index)\n",
    "df_inf"
   ]
  },
  {
   "cell_type": "markdown",
   "metadata": {},
   "source": [
    "Deklarasikan feature dan target."
   ]
  },
  {
   "cell_type": "code",
   "execution_count": 26,
   "metadata": {},
   "outputs": [],
   "source": [
    "#deklarasi feature dan target\n",
    "X = df_tt[num_cols+cat_cols]\n",
    "y = df_tt['DEATH_EVENT']"
   ]
  },
  {
   "cell_type": "markdown",
   "metadata": {},
   "source": [
    "Bagi data menjadi X (feature) dan y (target) untuk masing-masing train dan test set. Sample test set yang diambil sebanyak 20% dari total data pada dataset."
   ]
  },
  {
   "cell_type": "code",
   "execution_count": 27,
   "metadata": {},
   "outputs": [],
   "source": [
    "X_train, X_test, y_train, y_test = train_test_split(X,y,test_size=0.2,random_state=random_state,stratify=y)"
   ]
  },
  {
   "cell_type": "markdown",
   "metadata": {},
   "source": [
    "Pastikan jumlah unique value antara train dan test set agar tidak ada kategori yang hilang dari kedua set."
   ]
  },
  {
   "cell_type": "code",
   "execution_count": 28,
   "metadata": {},
   "outputs": [
    {
     "data": {
      "text/plain": [
       "anaemia                2\n",
       "diabetes               2\n",
       "high_blood_pressure    2\n",
       "sex                    2\n",
       "smoking                2\n",
       "dtype: int64"
      ]
     },
     "execution_count": 28,
     "metadata": {},
     "output_type": "execute_result"
    }
   ],
   "source": [
    "X_train[cat_cols].nunique()"
   ]
  },
  {
   "cell_type": "code",
   "execution_count": 29,
   "metadata": {},
   "outputs": [
    {
     "data": {
      "text/plain": [
       "anaemia                2\n",
       "diabetes               2\n",
       "high_blood_pressure    2\n",
       "sex                    2\n",
       "smoking                2\n",
       "dtype: int64"
      ]
     },
     "execution_count": 29,
     "metadata": {},
     "output_type": "execute_result"
    }
   ],
   "source": [
    "X_test[cat_cols].nunique()"
   ]
  },
  {
   "cell_type": "markdown",
   "metadata": {},
   "source": [
    "Jumlah nilai kategorik sudah sama."
   ]
  },
  {
   "cell_type": "code",
   "execution_count": 30,
   "metadata": {},
   "outputs": [
    {
     "name": "stdout",
     "output_type": "stream",
     "text": [
      "anaemia\n",
      "0    131\n",
      "1    105\n",
      "Name: anaemia, dtype: int64 \n",
      "\n",
      "diabetes\n",
      "0    133\n",
      "1    103\n",
      "Name: diabetes, dtype: int64 \n",
      "\n",
      "high_blood_pressure\n",
      "0    151\n",
      "1     85\n",
      "Name: high_blood_pressure, dtype: int64 \n",
      "\n",
      "sex\n",
      "1    149\n",
      "0     87\n",
      "Name: sex, dtype: int64 \n",
      "\n",
      "smoking\n",
      "0    161\n",
      "1     75\n",
      "Name: smoking, dtype: int64 \n",
      "\n"
     ]
    }
   ],
   "source": [
    "for i in cat_cols:\n",
    "    print(i)\n",
    "    print(X_train[i].value_counts(),'\\n')"
   ]
  },
  {
   "cell_type": "markdown",
   "metadata": {},
   "source": [
    "### 5.2. Outliers Handling"
   ]
  },
  {
   "cell_type": "markdown",
   "metadata": {},
   "source": [
    "Pisahkan feature kategorik dan feature numerik."
   ]
  },
  {
   "cell_type": "code",
   "execution_count": 31,
   "metadata": {},
   "outputs": [],
   "source": [
    "X_train_cat = X_train[cat_cols]\n",
    "X_train_num = X_train[num_cols]"
   ]
  },
  {
   "cell_type": "markdown",
   "metadata": {},
   "source": [
    "Buat fungsi untuk deteksi outlier."
   ]
  },
  {
   "cell_type": "code",
   "execution_count": 32,
   "metadata": {},
   "outputs": [],
   "source": [
    "#deteksi outlier untuk distribusi normal\n",
    "def find_normal_boundaries(dataframe, variable):\n",
    "    upper_boundary = dataframe[variable].mean() + 3 * dataframe[variable].std()\n",
    "    lower_boundary = dataframe[variable].mean() - 3 * dataframe[variable].std()\n",
    "    return upper_boundary, lower_boundary\n",
    "\n",
    "#deteksi outlier untuk distribusi skewed\n",
    "def find_skewed_boundaries(dataframe, variable):\n",
    "    Q1 = dataframe[variable].quantile(0.25)\n",
    "    Q3 = dataframe[variable].quantile(0.75)\n",
    "    IQR = Q3 - Q1\n",
    "    upper_boundary = Q3 + 1.5 * IQR\n",
    "    lower_boundary = Q1 - 1.5 * IQR\n",
    "    return upper_boundary, lower_boundary"
   ]
  },
  {
   "cell_type": "markdown",
   "metadata": {},
   "source": [
    "Cek outlier pada setiap feature numerik."
   ]
  },
  {
   "cell_type": "code",
   "execution_count": 33,
   "metadata": {},
   "outputs": [
    {
     "data": {
      "text/html": [
       "<div>\n",
       "<style scoped>\n",
       "    .dataframe tbody tr th:only-of-type {\n",
       "        vertical-align: middle;\n",
       "    }\n",
       "\n",
       "    .dataframe tbody tr th {\n",
       "        vertical-align: top;\n",
       "    }\n",
       "\n",
       "    .dataframe thead th {\n",
       "        text-align: right;\n",
       "    }\n",
       "</style>\n",
       "<table border=\"1\" class=\"dataframe\">\n",
       "  <thead>\n",
       "    <tr style=\"text-align: right;\">\n",
       "      <th></th>\n",
       "      <th>distribution_type</th>\n",
       "      <th>skewnewss</th>\n",
       "      <th>min</th>\n",
       "      <th>lower_limit</th>\n",
       "      <th>upper_limit</th>\n",
       "      <th>max</th>\n",
       "      <th>outliers_percent</th>\n",
       "    </tr>\n",
       "  </thead>\n",
       "  <tbody>\n",
       "    <tr>\n",
       "      <th>serum_creatinine</th>\n",
       "      <td>Skewed</td>\n",
       "      <td>4.31</td>\n",
       "      <td>0.5</td>\n",
       "      <td>0.00</td>\n",
       "      <td>2.40</td>\n",
       "      <td>9.4</td>\n",
       "      <td>8.47</td>\n",
       "    </tr>\n",
       "    <tr>\n",
       "      <th>creatinine_phosphokinase</th>\n",
       "      <td>Skewed</td>\n",
       "      <td>5.09</td>\n",
       "      <td>23.0</td>\n",
       "      <td>-576.12</td>\n",
       "      <td>1276.88</td>\n",
       "      <td>7861.0</td>\n",
       "      <td>7.63</td>\n",
       "    </tr>\n",
       "    <tr>\n",
       "      <th>platelets</th>\n",
       "      <td>Skewed</td>\n",
       "      <td>0.62</td>\n",
       "      <td>25100.0</td>\n",
       "      <td>76375.00</td>\n",
       "      <td>437375.00</td>\n",
       "      <td>621000.0</td>\n",
       "      <td>7.63</td>\n",
       "    </tr>\n",
       "    <tr>\n",
       "      <th>serum_sodium</th>\n",
       "      <td>Skewed</td>\n",
       "      <td>-0.72</td>\n",
       "      <td>116.0</td>\n",
       "      <td>125.00</td>\n",
       "      <td>149.00</td>\n",
       "      <td>148.0</td>\n",
       "      <td>1.27</td>\n",
       "    </tr>\n",
       "    <tr>\n",
       "      <th>ejection_fraction</th>\n",
       "      <td>Skewed</td>\n",
       "      <td>0.56</td>\n",
       "      <td>14.0</td>\n",
       "      <td>7.50</td>\n",
       "      <td>67.50</td>\n",
       "      <td>80.0</td>\n",
       "      <td>0.85</td>\n",
       "    </tr>\n",
       "  </tbody>\n",
       "</table>\n",
       "</div>"
      ],
      "text/plain": [
       "                         distribution_type  skewnewss      min  lower_limit  \\\n",
       "serum_creatinine                    Skewed       4.31      0.5         0.00   \n",
       "creatinine_phosphokinase            Skewed       5.09     23.0      -576.12   \n",
       "platelets                           Skewed       0.62  25100.0     76375.00   \n",
       "serum_sodium                        Skewed      -0.72    116.0       125.00   \n",
       "ejection_fraction                   Skewed       0.56     14.0         7.50   \n",
       "\n",
       "                          upper_limit       max  outliers_percent  \n",
       "serum_creatinine                 2.40       9.4              8.47  \n",
       "creatinine_phosphokinase      1276.88    7861.0              7.63  \n",
       "platelets                   437375.00  621000.0              7.63  \n",
       "serum_sodium                   149.00     148.0              1.27  \n",
       "ejection_fraction               67.50      80.0              0.85  "
      ]
     },
     "execution_count": 33,
     "metadata": {},
     "output_type": "execute_result"
    }
   ],
   "source": [
    "#variable untuk summary\n",
    "distribution = []\n",
    "skewness = []\n",
    "upper_limit = []\n",
    "lower_limit = []\n",
    "outliers_percent = []\n",
    "max = []\n",
    "min = []\n",
    "\n",
    "#loop untuk summary outlier\n",
    "for column in X_train_num.columns:\n",
    "\n",
    "    #cek skewness\n",
    "    col_skewness = X_train_num[column].skew()\n",
    "\n",
    "    #conditional berdasarkan skewnewss\n",
    "    if (col_skewness >= -0.5) & (col_skewness <= 0.5):\n",
    "        col_distribution = 'Normal'\n",
    "        col_upper_limit, col_lower_limit = find_normal_boundaries(X_train_num,column)      \n",
    "    else:\n",
    "        col_distribution = 'Skewed'\n",
    "        col_upper_limit, col_lower_limit = find_skewed_boundaries(X_train_num,column)\n",
    "    \n",
    "    #cek min,max, dan jumlah outlier\n",
    "    col_max = X_train_num[column].max()\n",
    "    col_min = X_train_num[column].min()\n",
    "    col_outliers_percent = (len(X_train_num[X_train_num[column] > col_upper_limit]) + len(X_train_num[X_train_num[column] < col_lower_limit])) / len(X_train_num) * 100\n",
    "    \n",
    "    #update summary per loop\n",
    "    distribution.append(col_distribution)\n",
    "    skewness.append(col_skewness)\n",
    "    upper_limit.append(col_upper_limit)\n",
    "    max.append(col_max)\n",
    "    min.append(col_min)\n",
    "    lower_limit.append(col_lower_limit)\n",
    "    outliers_percent.append(col_outliers_percent)\n",
    "\n",
    "#df summary\n",
    "outliers_summary = {'distribution_type':distribution, 'skewnewss':skewness, 'min':min , 'lower_limit':lower_limit, 'upper_limit':upper_limit, 'max':max, 'outliers_percent':outliers_percent}\n",
    "outliers_summary = pd.DataFrame(outliers_summary,index=X_train_num.columns)\n",
    "outliers_summary = outliers_summary[outliers_summary['outliers_percent'] > 0]\n",
    "outliers_summary = round(outliers_summary.sort_values(by='outliers_percent',ascending=False),2)\n",
    "outliers_summary"
   ]
  },
  {
   "cell_type": "markdown",
   "metadata": {},
   "source": [
    "Semua outlier pada data ini pada dasarnya masih merupakan nilai yang bisa ditemukan pada seseorang sehingga outlier akan dibiarkan."
   ]
  },
  {
   "cell_type": "markdown",
   "metadata": {},
   "source": [
    "### 5.4. Missing Values Detection"
   ]
  },
  {
   "cell_type": "markdown",
   "metadata": {},
   "source": [
    "Tidak ada missing value pada keseluruhan dataset ini."
   ]
  },
  {
   "cell_type": "code",
   "execution_count": 34,
   "metadata": {},
   "outputs": [
    {
     "data": {
      "text/plain": [
       "0"
      ]
     },
     "execution_count": 34,
     "metadata": {},
     "output_type": "execute_result"
    }
   ],
   "source": [
    "df.isnull().sum().sum()"
   ]
  },
  {
   "cell_type": "markdown",
   "metadata": {},
   "source": [
    "### 5.5. Feature Engineering"
   ]
  },
  {
   "cell_type": "markdown",
   "metadata": {},
   "source": [
    "Pada EDA kita sudah mengetahui bahwa `emp.var.rate`, `cons.price.idx`, `euribor3m`, dan `nr.employed` memiliki hubungan antar variabel yang kuat. Kumpulan feature ini akan diwakilkan dengan `emp.var.rate` saja. Pastikan kembali korelasinya dengan heatmap."
   ]
  },
  {
   "cell_type": "code",
   "execution_count": 35,
   "metadata": {},
   "outputs": [
    {
     "data": {
      "image/png": "[encoded data removed]",
      "text/plain": [
       "<Figure size 1080x1080 with 2 Axes>"
      ]
     },
     "metadata": {
      "needs_background": "light"
     },
     "output_type": "display_data"
    }
   ],
   "source": [
    "plt.figure(figsize=(15,15))\n",
    "ax = sns.heatmap(pd.concat([X_train_num],axis=1).corr(),annot=True)\n",
    "\n",
    "for t in ax.texts:\n",
    "    if (float(t.get_text()) > 0.7) | (float(t.get_text()) < -0.7):\n",
    "        t.set_text(t.get_text())\n",
    "    else:\n",
    "        t.set_text('')"
   ]
  },
  {
   "cell_type": "markdown",
   "metadata": {},
   "source": [
    "Karena antar feature tidak memiliki korelasi yang kuat, tidak ada feature yang di-drop."
   ]
  },
  {
   "cell_type": "markdown",
   "metadata": {},
   "source": [
    "Feature numerik yang digunakan adalah:"
   ]
  },
  {
   "cell_type": "code",
   "execution_count": 36,
   "metadata": {},
   "outputs": [
    {
     "data": {
      "text/plain": [
       "['age',\n",
       " 'creatinine_phosphokinase',\n",
       " 'ejection_fraction',\n",
       " 'platelets',\n",
       " 'serum_creatinine',\n",
       " 'serum_sodium',\n",
       " 'time']"
      ]
     },
     "execution_count": 36,
     "metadata": {},
     "output_type": "execute_result"
    }
   ],
   "source": [
    "num_cols"
   ]
  },
  {
   "cell_type": "markdown",
   "metadata": {},
   "source": [
    "Model nonlinear (dalam kasus ini adalah Random Forest dan AdaBoost) tidak memerlukan scaling."
   ]
  },
  {
   "cell_type": "markdown",
   "metadata": {},
   "source": [
    "Feature kategorik yang digunakan adalah:"
   ]
  },
  {
   "cell_type": "code",
   "execution_count": 37,
   "metadata": {},
   "outputs": [
    {
     "data": {
      "text/plain": [
       "['anaemia', 'diabetes', 'high_blood_pressure', 'sex', 'smoking']"
      ]
     },
     "execution_count": 37,
     "metadata": {},
     "output_type": "execute_result"
    }
   ],
   "source": [
    "cat_cols"
   ]
  },
  {
   "cell_type": "markdown",
   "metadata": {},
   "source": [
    "Feature kategorik akan di-one-hot encode."
   ]
  },
  {
   "cell_type": "markdown",
   "metadata": {},
   "source": [
    "Buat Column Transformer untuk feature-feature tersebut."
   ]
  },
  {
   "cell_type": "code",
   "execution_count": 38,
   "metadata": {},
   "outputs": [],
   "source": [
    "#column transformer untuk semua feature yang dipilih\n",
    "prepline = ColumnTransformer([\n",
    "    ('onehot',OneHotEncoder(),cat_cols)\n",
    "], remainder='passthrough')"
   ]
  },
  {
   "cell_type": "markdown",
   "metadata": {},
   "source": [
    "## 6. Model Definition"
   ]
  },
  {
   "cell_type": "markdown",
   "metadata": {},
   "source": [
    "Pada bab ini akan ditentukan model yang digunakan dan hyperparameter yang akan di-tuning.\n",
    "\n",
    "Karena target-nya imbalance, maka scoring yang digunakan adalah `F1-weighted`."
   ]
  },
  {
   "cell_type": "markdown",
   "metadata": {},
   "source": [
    "### 6.1. Random Forest"
   ]
  },
  {
   "cell_type": "markdown",
   "metadata": {},
   "source": [
    "Tuning parameter yang digunakan pada random forest adalah jumlah estimator/tree, max depth, min sample split, dan max feature."
   ]
  },
  {
   "cell_type": "code",
   "execution_count": 39,
   "metadata": {},
   "outputs": [],
   "source": [
    "#base model\n",
    "rforest = RandomForestClassifier(random_state=random_state,n_jobs=-1)\n",
    "\n",
    "#pipeline\n",
    "pipe_rforest = Pipeline([\n",
    "    ('prep',prepline),\n",
    "    ('rforest',rforest)\n",
    "])\n",
    "\n",
    "#hyperparameter tuner\n",
    "params_rforest = {\n",
    "    'rforest__n_estimators':np.arange(50,210,50),\n",
    "    'rforest__max_depth':np.arange(1,10,2),\n",
    "    'rforest__min_samples_split':np.arange(2,10,2),\n",
    "    'rforest__max_features':['None','sqrt','log2','auto']\n",
    "}"
   ]
  },
  {
   "cell_type": "markdown",
   "metadata": {},
   "source": [
    "### 6.2. AdaBoost"
   ]
  },
  {
   "cell_type": "markdown",
   "metadata": {},
   "source": [
    "Tuning parameter yang digunakan adalah jumlah estimator, learning rate, dan jenis algoritma."
   ]
  },
  {
   "cell_type": "code",
   "execution_count": 40,
   "metadata": {},
   "outputs": [],
   "source": [
    "#base model\n",
    "adaboost = AdaBoostClassifier(random_state=random_state)\n",
    "\n",
    "#pipeline\n",
    "pipe_adaboost = Pipeline([\n",
    "    ('prep',prepline),\n",
    "    ('adaboost',adaboost)\n",
    "])\n",
    "\n",
    "#hyperparameter tuner\n",
    "params_adaboost = {\n",
    "    'adaboost__n_estimators':np.arange(20,210,40),\n",
    "    'adaboost__learning_rate':[0.01,0.05,0.1,0.5,1],\n",
    "    'adaboost__algorithm':['SAMME','SAMME.R']\n",
    "}"
   ]
  },
  {
   "cell_type": "markdown",
   "metadata": {},
   "source": [
    "## 7. Model Training"
   ]
  },
  {
   "cell_type": "markdown",
   "metadata": {},
   "source": [
    "Pada bab ini akan dilakukan fitting terhadap train set menggunakan masing-masing base model yang telah didefinisikan lalu dilakukan cross validation. Hasil cross validation akan disimpan pada tabel `estimator summary`."
   ]
  },
  {
   "cell_type": "code",
   "execution_count": 41,
   "metadata": {},
   "outputs": [],
   "source": [
    "model = ['random_forest','adaboost']\n",
    "estimator = [pipe_rforest, pipe_adaboost]\n",
    "\n",
    "mean_score = []\n",
    "stdev_score = []\n",
    "\n",
    "for est in estimator:\n",
    "    est.fit(X_train,y_train)\n",
    "    scores = cross_val_score(est,X_train,y_train,scoring='f1_weighted',cv=5,n_jobs=-1)\n",
    "    \n",
    "    mean_score.append(np.mean(scores))\n",
    "    stdev_score.append(np.std(scores))\n",
    "\n",
    "estimator_summary = pd.DataFrame({'estimator':model,'mean_score':mean_score,'stdev_score':stdev_score})\n",
    "estimator_summary.sort_values(by='mean_score',ascending=False,inplace=True)\n",
    "estimator_summary.reset_index(drop=True, inplace=True)"
   ]
  },
  {
   "cell_type": "markdown",
   "metadata": {},
   "source": [
    "## 8. Model Evaluation"
   ]
  },
  {
   "cell_type": "markdown",
   "metadata": {},
   "source": [
    "### 8.1. Cross Validation Result"
   ]
  },
  {
   "cell_type": "markdown",
   "metadata": {},
   "source": [
    "Berikut hasil dari cross validation di bab sebelumnya."
   ]
  },
  {
   "cell_type": "code",
   "execution_count": 42,
   "metadata": {},
   "outputs": [
    {
     "data": {
      "text/html": [
       "<div>\n",
       "<style scoped>\n",
       "    .dataframe tbody tr th:only-of-type {\n",
       "        vertical-align: middle;\n",
       "    }\n",
       "\n",
       "    .dataframe tbody tr th {\n",
       "        vertical-align: top;\n",
       "    }\n",
       "\n",
       "    .dataframe thead th {\n",
       "        text-align: right;\n",
       "    }\n",
       "</style>\n",
       "<table border=\"1\" class=\"dataframe\">\n",
       "  <thead>\n",
       "    <tr style=\"text-align: right;\">\n",
       "      <th></th>\n",
       "      <th>estimator</th>\n",
       "      <th>mean_score</th>\n",
       "      <th>stdev_score</th>\n",
       "    </tr>\n",
       "  </thead>\n",
       "  <tbody>\n",
       "    <tr>\n",
       "      <th>0</th>\n",
       "      <td>random_forest</td>\n",
       "      <td>0.853390</td>\n",
       "      <td>0.037111</td>\n",
       "    </tr>\n",
       "    <tr>\n",
       "      <th>1</th>\n",
       "      <td>adaboost</td>\n",
       "      <td>0.793158</td>\n",
       "      <td>0.085198</td>\n",
       "    </tr>\n",
       "  </tbody>\n",
       "</table>\n",
       "</div>"
      ],
      "text/plain": [
       "       estimator  mean_score  stdev_score\n",
       "0  random_forest    0.853390     0.037111\n",
       "1       adaboost    0.793158     0.085198"
      ]
     },
     "execution_count": 42,
     "metadata": {},
     "output_type": "execute_result"
    }
   ],
   "source": [
    "estimator_summary"
   ]
  },
  {
   "cell_type": "markdown",
   "metadata": {},
   "source": [
    "Dari hasil cross validation, diketahui bahwa model yang terbaik adalah model `Random Forest` diikuti oleh `AdaBoost`. Hal ini berdasarkan mean_score yang paling tinggi dan stdev_score juga yang rendah."
   ]
  },
  {
   "cell_type": "markdown",
   "metadata": {},
   "source": [
    "Kedua model tetap akan dilanjutkan untuk hyperparameter tuning dan nantinya akan dibandingkan model dengan hasil terbaik pada train dan test set."
   ]
  },
  {
   "cell_type": "markdown",
   "metadata": {},
   "source": [
    "### 8.2. Hyperparameter Tuning"
   ]
  },
  {
   "cell_type": "markdown",
   "metadata": {},
   "source": [
    "Pengaruh parameter terhadap target pada masing-masing model akan divisualisasikan. Parameter terbaik dari grid search akan digunakan untuk memprediksi test set dan memastikan apakah model underfit, good fit, atau overfit."
   ]
  },
  {
   "cell_type": "code",
   "execution_count": 43,
   "metadata": {},
   "outputs": [
    {
     "name": "stdout",
     "output_type": "stream",
     "text": [
      "Fitting 5 folds for each of 320 candidates, totalling 1600 fits\n"
     ]
    }
   ],
   "source": [
    "#grid search Random Forest\n",
    "grid_rforest = GridSearchCV(\n",
    "    pipe_rforest, params_rforest, scoring='f1_weighted', cv=5, n_jobs=-1, verbose=1\n",
    ").fit(X_train, y_train)\n",
    "\n",
    "best_params_rforest = grid_rforest.best_params_\n",
    "best_pipe_rforest = grid_rforest.best_estimator_\n",
    "df_result_rforest = pd.DataFrame.from_dict(grid_rforest.cv_results_,orient='columns')"
   ]
  },
  {
   "cell_type": "code",
   "execution_count": null,
   "metadata": {},
   "outputs": [
    {
     "name": "stdout",
     "output_type": "stream",
     "text": [
      "Fitting 5 folds for each of 50 candidates, totalling 250 fits\n"
     ]
    }
   ],
   "source": [
    "#grid search AdaBoost\n",
    "grid_adaboost = GridSearchCV(\n",
    "    pipe_adaboost, params_adaboost, scoring='f1_weighted', cv=5, n_jobs=-1, verbose=1\n",
    ").fit(X_train, y_train)\n",
    "\n",
    "best_params_adaboost = grid_adaboost.best_params_\n",
    "best_pipe_adaboost = grid_adaboost.best_estimator_\n",
    "df_result_adaboost = pd.DataFrame.from_dict(grid_adaboost.cv_results_,orient='columns')"
   ]
  },
  {
   "cell_type": "markdown",
   "metadata": {},
   "source": [
    "Buat fungsi untuk visualisasi pengaruh parameter terhadap `F1 weighted` score."
   ]
  },
  {
   "cell_type": "code",
   "execution_count": null,
   "metadata": {},
   "outputs": [],
   "source": [
    "#fungsi plot pengaruh parameter\n",
    "def param_plot(dataframe):\n",
    "    #param pada model\n",
    "    params = [col for col in dataframe.columns if 'param_' in col]\n",
    "    \n",
    "    \n",
    "    fig,ax = plt.subplots(1,len(params), figsize=(len(params)*5,5))\n",
    "    fig.suptitle('Pengaruh Params terhadap Mean F1 wt.Score')\n",
    "    #initialize while loop\n",
    "    i = 0\n",
    "    \n",
    "    #while loop untuk plot masing-masing param\n",
    "    while i < len(params):\n",
    "        ax[i] = plt.subplot(1,len(params),i+1)\n",
    "        sns.lineplot(data=dataframe,x=params[i],y='mean_test_score',ax=ax[i])\n",
    "        ax[i] = plt.xticks(rotation=45)\n",
    "        i += 1\n",
    "    plt.show()"
   ]
  },
  {
   "cell_type": "markdown",
   "metadata": {},
   "source": [
    "#### 8.2.1. Random Forest"
   ]
  },
  {
   "cell_type": "markdown",
   "metadata": {},
   "source": [
    "Parameter terbaik yang dihasilkan adalah sebagai berikut:"
   ]
  },
  {
   "cell_type": "code",
   "execution_count": null,
   "metadata": {},
   "outputs": [
    {
     "name": "stdout",
     "output_type": "stream",
     "text": [
      "{'rforest__max_depth': 9, 'rforest__max_features': 'sqrt', 'rforest__min_samples_split': 8, 'rforest__n_estimators': 200}\n"
     ]
    }
   ],
   "source": [
    "print(best_params_rforest)"
   ]
  },
  {
   "cell_type": "code",
   "execution_count": null,
   "metadata": {},
   "outputs": [
    {
     "data": {
      "text/html": [
       "<div>\n",
       "<style scoped>\n",
       "    .dataframe tbody tr th:only-of-type {\n",
       "        vertical-align: middle;\n",
       "    }\n",
       "\n",
       "    .dataframe tbody tr th {\n",
       "        vertical-align: top;\n",
       "    }\n",
       "\n",
       "    .dataframe thead th {\n",
       "        text-align: right;\n",
       "    }\n",
       "</style>\n",
       "<table border=\"1\" class=\"dataframe\">\n",
       "  <thead>\n",
       "    <tr style=\"text-align: right;\">\n",
       "      <th></th>\n",
       "      <th>mean_fit_time</th>\n",
       "      <th>std_fit_time</th>\n",
       "      <th>mean_score_time</th>\n",
       "      <th>std_score_time</th>\n",
       "      <th>param_rforest__max_depth</th>\n",
       "      <th>param_rforest__max_features</th>\n",
       "      <th>param_rforest__min_samples_split</th>\n",
       "      <th>param_rforest__n_estimators</th>\n",
       "      <th>params</th>\n",
       "      <th>split0_test_score</th>\n",
       "      <th>split1_test_score</th>\n",
       "      <th>split2_test_score</th>\n",
       "      <th>split3_test_score</th>\n",
       "      <th>split4_test_score</th>\n",
       "      <th>mean_test_score</th>\n",
       "      <th>std_test_score</th>\n",
       "      <th>rank_test_score</th>\n",
       "    </tr>\n",
       "  </thead>\n",
       "  <tbody>\n",
       "    <tr>\n",
       "      <th>287</th>\n",
       "      <td>0.430675</td>\n",
       "      <td>0.031733</td>\n",
       "      <td>0.046208</td>\n",
       "      <td>0.010271</td>\n",
       "      <td>9</td>\n",
       "      <td>sqrt</td>\n",
       "      <td>8</td>\n",
       "      <td>200</td>\n",
       "      <td>{'rforest__max_depth': 9, 'rforest__max_featur...</td>\n",
       "      <td>0.889085</td>\n",
       "      <td>0.806682</td>\n",
       "      <td>0.810079</td>\n",
       "      <td>0.916181</td>\n",
       "      <td>0.91085</td>\n",
       "      <td>0.866575</td>\n",
       "      <td>0.048387</td>\n",
       "      <td>1</td>\n",
       "    </tr>\n",
       "  </tbody>\n",
       "</table>\n",
       "</div>"
      ],
      "text/plain": [
       "     mean_fit_time  std_fit_time  mean_score_time  std_score_time  \\\n",
       "287       0.430675      0.031733         0.046208        0.010271   \n",
       "\n",
       "    param_rforest__max_depth param_rforest__max_features  \\\n",
       "287                        9                        sqrt   \n",
       "\n",
       "    param_rforest__min_samples_split param_rforest__n_estimators  \\\n",
       "287                                8                         200   \n",
       "\n",
       "                                                params  split0_test_score  \\\n",
       "287  {'rforest__max_depth': 9, 'rforest__max_featur...           0.889085   \n",
       "\n",
       "     split1_test_score  split2_test_score  split3_test_score  \\\n",
       "287           0.806682           0.810079           0.916181   \n",
       "\n",
       "     split4_test_score  mean_test_score  std_test_score  rank_test_score  \n",
       "287            0.91085         0.866575        0.048387                1  "
      ]
     },
     "execution_count": 129,
     "metadata": {},
     "output_type": "execute_result"
    }
   ],
   "source": [
    "df_result_rforest[df_result_rforest['params']==best_params_rforest]"
   ]
  },
  {
   "cell_type": "code",
   "execution_count": null,
   "metadata": {},
   "outputs": [
    {
     "data": {
      "image/png": "[encoded data removed]",
      "text/plain": [
       "<Figure size 1440x360 with 4 Axes>"
      ]
     },
     "metadata": {
      "needs_background": "light"
     },
     "output_type": "display_data"
    }
   ],
   "source": [
    "param_plot(df_result_rforest)"
   ]
  },
  {
   "cell_type": "markdown",
   "metadata": {},
   "source": [
    "Dari parameter yang di-tuning untuk `Random Forest`, berikut pengaruhnya terhadap mean test score (F1 weighted):\n",
    "- `max_depth`: memiliki pengaruh signifikan hingga 5, setelah itu perubahan terhadap akurasi tidak signifikan\n",
    "- `max_features`: semua metode terlihat memiliki stabilitas yang kurang baik dilihat dari rentang mean test score-nya, tetapi pada grafik terlihat kalau `sqrt` memiliki sebaran yang lebih sempit\n",
    "- `min_samples_split`: akurasi meningkat hingga nilai tertinggi didapat pada 8\n",
    "- `n_estimators`: akurasi naik sampai estimator 100, setelah itu turun dan naik lagi di puncaknya pada estimator 200"
   ]
  },
  {
   "cell_type": "markdown",
   "metadata": {},
   "source": [
    "Jika dilihat dari parameter-nya, kemungkinan besar model ini overfit karena `max_depth` sudah mendekati jumlah feature. Lihat performanya pada classification report dan hasil ujinya di subbab berikutnya."
   ]
  },
  {
   "cell_type": "code",
   "execution_count": null,
   "metadata": {},
   "outputs": [
    {
     "name": "stdout",
     "output_type": "stream",
     "text": [
      "              precision    recall  f1-score   support\n",
      "\n",
      "           0       0.98      0.99      0.98       161\n",
      "           1       0.97      0.95      0.96        75\n",
      "\n",
      "    accuracy                           0.97       236\n",
      "   macro avg       0.97      0.97      0.97       236\n",
      "weighted avg       0.97      0.97      0.97       236\n",
      "\n"
     ]
    }
   ],
   "source": [
    "print(classification_report(y_train,best_pipe_rforest.predict(X_train)))"
   ]
  },
  {
   "cell_type": "markdown",
   "metadata": {},
   "source": [
    "Model yang dihasilkan dapat memprediksi dengan hampir sempurna untuk kedua kelas."
   ]
  },
  {
   "cell_type": "markdown",
   "metadata": {},
   "source": [
    "#### 8.2.2. AdaBoost"
   ]
  },
  {
   "cell_type": "markdown",
   "metadata": {},
   "source": [
    "Parameter terbaik yang dihasilkan adalah sebagai berikut:"
   ]
  },
  {
   "cell_type": "code",
   "execution_count": null,
   "metadata": {},
   "outputs": [
    {
     "name": "stdout",
     "output_type": "stream",
     "text": [
      "{'adaboost__algorithm': 'SAMME', 'adaboost__learning_rate': 0.5, 'adaboost__n_estimators': 20}\n"
     ]
    }
   ],
   "source": [
    "print(best_params_adaboost)"
   ]
  },
  {
   "cell_type": "code",
   "execution_count": null,
   "metadata": {},
   "outputs": [
    {
     "data": {
      "text/html": [
       "<div>\n",
       "<style scoped>\n",
       "    .dataframe tbody tr th:only-of-type {\n",
       "        vertical-align: middle;\n",
       "    }\n",
       "\n",
       "    .dataframe tbody tr th {\n",
       "        vertical-align: top;\n",
       "    }\n",
       "\n",
       "    .dataframe thead th {\n",
       "        text-align: right;\n",
       "    }\n",
       "</style>\n",
       "<table border=\"1\" class=\"dataframe\">\n",
       "  <thead>\n",
       "    <tr style=\"text-align: right;\">\n",
       "      <th></th>\n",
       "      <th>mean_fit_time</th>\n",
       "      <th>std_fit_time</th>\n",
       "      <th>mean_score_time</th>\n",
       "      <th>std_score_time</th>\n",
       "      <th>param_adaboost__algorithm</th>\n",
       "      <th>param_adaboost__learning_rate</th>\n",
       "      <th>param_adaboost__n_estimators</th>\n",
       "      <th>params</th>\n",
       "      <th>split0_test_score</th>\n",
       "      <th>split1_test_score</th>\n",
       "      <th>split2_test_score</th>\n",
       "      <th>split3_test_score</th>\n",
       "      <th>split4_test_score</th>\n",
       "      <th>mean_test_score</th>\n",
       "      <th>std_test_score</th>\n",
       "      <th>rank_test_score</th>\n",
       "    </tr>\n",
       "  </thead>\n",
       "  <tbody>\n",
       "    <tr>\n",
       "      <th>15</th>\n",
       "      <td>0.029305</td>\n",
       "      <td>0.00175</td>\n",
       "      <td>0.005701</td>\n",
       "      <td>0.0004</td>\n",
       "      <td>SAMME</td>\n",
       "      <td>0.5</td>\n",
       "      <td>20</td>\n",
       "      <td>{'adaboost__algorithm': 'SAMME', 'adaboost__le...</td>\n",
       "      <td>0.868956</td>\n",
       "      <td>0.777125</td>\n",
       "      <td>0.829787</td>\n",
       "      <td>0.894489</td>\n",
       "      <td>0.886833</td>\n",
       "      <td>0.851438</td>\n",
       "      <td>0.043369</td>\n",
       "      <td>1</td>\n",
       "    </tr>\n",
       "  </tbody>\n",
       "</table>\n",
       "</div>"
      ],
      "text/plain": [
       "    mean_fit_time  std_fit_time  mean_score_time  std_score_time  \\\n",
       "15       0.029305       0.00175         0.005701          0.0004   \n",
       "\n",
       "   param_adaboost__algorithm param_adaboost__learning_rate  \\\n",
       "15                     SAMME                           0.5   \n",
       "\n",
       "   param_adaboost__n_estimators  \\\n",
       "15                           20   \n",
       "\n",
       "                                               params  split0_test_score  \\\n",
       "15  {'adaboost__algorithm': 'SAMME', 'adaboost__le...           0.868956   \n",
       "\n",
       "    split1_test_score  split2_test_score  split3_test_score  \\\n",
       "15           0.777125           0.829787           0.894489   \n",
       "\n",
       "    split4_test_score  mean_test_score  std_test_score  rank_test_score  \n",
       "15           0.886833         0.851438        0.043369                1  "
      ]
     },
     "execution_count": 141,
     "metadata": {},
     "output_type": "execute_result"
    }
   ],
   "source": [
    "df_result_adaboost[df_result_adaboost['params']==best_params_adaboost]"
   ]
  },
  {
   "cell_type": "code",
   "execution_count": null,
   "metadata": {},
   "outputs": [
    {
     "data": {
      "image/png": "[encoded data removed]",
      "text/plain": [
       "<Figure size 1080x360 with 3 Axes>"
      ]
     },
     "metadata": {
      "needs_background": "light"
     },
     "output_type": "display_data"
    }
   ],
   "source": [
    "param_plot(df_result_adaboost)"
   ]
  },
  {
   "cell_type": "markdown",
   "metadata": {},
   "source": [
    "Dari tiga parameter pada tuning `AdaBoost`, ketiga-tiganya memiliki pengaruh terhadap `F1 weighted` score sebagai berikut:\n",
    "- SAMME diidentifikasi memiliki akurasi lebih baik dibandingkan SAMME.R\n",
    "- Akurasi tertinggi dicapai pada learning rate sekitar 0.05, kemudian turun ketika mendekati 1\n",
    "- Kenaikan jumlah estimator tidak sejalan dengan nilai test score, tetapi sebaran terkecil didapat pada jumlah estimator 25"
   ]
  },
  {
   "cell_type": "markdown",
   "metadata": {},
   "source": [
    "Berikut classification report yang dihasilkan dari train set."
   ]
  },
  {
   "cell_type": "code",
   "execution_count": null,
   "metadata": {},
   "outputs": [
    {
     "name": "stdout",
     "output_type": "stream",
     "text": [
      "              precision    recall  f1-score   support\n",
      "\n",
      "           0       0.92      0.95      0.94       161\n",
      "           1       0.89      0.83      0.86        75\n",
      "\n",
      "    accuracy                           0.91       236\n",
      "   macro avg       0.90      0.89      0.90       236\n",
      "weighted avg       0.91      0.91      0.91       236\n",
      "\n"
     ]
    }
   ],
   "source": [
    "print(classification_report(y_train,best_pipe_adaboost.predict(X_train)))"
   ]
  },
  {
   "cell_type": "markdown",
   "metadata": {},
   "source": [
    "Model dapat memprediksi penderita serangan jantung yang tidak meninggal dengan baik, tetapi performanya untuk mendeteksi penderita yang meninggal tidak sama baiknya. Pastikan akurasi model pada test set."
   ]
  },
  {
   "cell_type": "markdown",
   "metadata": {},
   "source": [
    "### 8.3. Evaluate Test Set"
   ]
  },
  {
   "cell_type": "markdown",
   "metadata": {},
   "source": [
    "Gunakan best pipeline yang telah dibuat untuk memprediksi test set."
   ]
  },
  {
   "cell_type": "code",
   "execution_count": null,
   "metadata": {},
   "outputs": [
    {
     "name": "stdout",
     "output_type": "stream",
     "text": [
      "Random Forest\n",
      "F1 weighted score Train: 0.974482957533805\n",
      "F1 weighted score Test: 0.827405380756954\n"
     ]
    }
   ],
   "source": [
    "#uji fit\n",
    "print('Random Forest')\n",
    "print('F1 weighted score Train:',f1_score(y_train, best_pipe_rforest.predict(X_train), average='weighted'))\n",
    "print('F1 weighted score Test:',f1_score(y_test, best_pipe_rforest.predict(X_test), average='weighted'))"
   ]
  },
  {
   "cell_type": "code",
   "execution_count": null,
   "metadata": {},
   "outputs": [
    {
     "name": "stdout",
     "output_type": "stream",
     "text": [
      "AdaBoost\n",
      "F1 weighted score Train: 0.9101630571745692\n",
      "F1 weighted score Test: 0.8462184873949582\n"
     ]
    }
   ],
   "source": [
    "#uji fit\n",
    "print('AdaBoost')\n",
    "print('F1 weighted score Train:',f1_score(y_train, best_pipe_adaboost.predict(X_train), average='weighted'))\n",
    "print('F1 weighted score Test:',f1_score(y_test, best_pipe_adaboost.predict(X_test), average='weighted'))"
   ]
  },
  {
   "cell_type": "markdown",
   "metadata": {},
   "source": [
    "Hasil prediksi kedua model ternyata overfit dengan selisih terbesar pada Random Forest. Disimpulkan bahwa model `AdaBoost` memiliki fit yang lebih baik dibanding `Random Forest`."
   ]
  },
  {
   "cell_type": "markdown",
   "metadata": {},
   "source": [
    "## 9. Model Inference"
   ]
  },
  {
   "cell_type": "markdown",
   "metadata": {},
   "source": [
    "Lakukan inference menggunakan inference set."
   ]
  },
  {
   "cell_type": "code",
   "execution_count": null,
   "metadata": {},
   "outputs": [
    {
     "data": {
      "text/html": [
       "<div>\n",
       "<style scoped>\n",
       "    .dataframe tbody tr th:only-of-type {\n",
       "        vertical-align: middle;\n",
       "    }\n",
       "\n",
       "    .dataframe tbody tr th {\n",
       "        vertical-align: top;\n",
       "    }\n",
       "\n",
       "    .dataframe thead th {\n",
       "        text-align: right;\n",
       "    }\n",
       "</style>\n",
       "<table border=\"1\" class=\"dataframe\">\n",
       "  <thead>\n",
       "    <tr style=\"text-align: right;\">\n",
       "      <th></th>\n",
       "      <th>y-pred-adaboost</th>\n",
       "      <th>y-pred-rforest</th>\n",
       "    </tr>\n",
       "  </thead>\n",
       "  <tbody>\n",
       "    <tr>\n",
       "      <th>75</th>\n",
       "      <td>0</td>\n",
       "      <td>0</td>\n",
       "    </tr>\n",
       "    <tr>\n",
       "      <th>188</th>\n",
       "      <td>0</td>\n",
       "      <td>0</td>\n",
       "    </tr>\n",
       "    <tr>\n",
       "      <th>63</th>\n",
       "      <td>1</td>\n",
       "      <td>0</td>\n",
       "    </tr>\n",
       "  </tbody>\n",
       "</table>\n",
       "</div>"
      ],
      "text/plain": [
       "     y-pred-adaboost  y-pred-rforest\n",
       "75                 0               0\n",
       "188                0               0\n",
       "63                 1               0"
      ]
     },
     "execution_count": 146,
     "metadata": {},
     "output_type": "execute_result"
    }
   ],
   "source": [
    "df_inf['y-pred-adaboost'] = best_pipe_adaboost.predict(df_inf)\n",
    "df_inf['y-pred-rforest'] = best_pipe_rforest.predict(df_inf)\n",
    "df_inf[['y-pred-adaboost','y-pred-rforest']]"
   ]
  },
  {
   "cell_type": "markdown",
   "metadata": {},
   "source": [
    "Model berhasil memprediksi menggunakan data dari inference set dan ada perbedaan hasil prediksi pada indeks 63."
   ]
  },
  {
   "cell_type": "markdown",
   "metadata": {},
   "source": [
    "## 10. Pengambilan Kesimpulan"
   ]
  },
  {
   "cell_type": "markdown",
   "metadata": {},
   "source": [
    "Berdasarkan analisis yang telah dilakukan, berikut beberapa hal yang disimpulkan:\n",
    "1. Semua feature digunakan pada modeling\n",
    "2. Parameter terbaik untuk masing-masing model adalah :\n",
    "    - Random Forest:\n",
    "        - max_depth: 9\n",
    "        - max_features: sqrt\n",
    "        - min_samples_split: 8\n",
    "        - n_estimators: 200\n",
    "    - AdaBoost:\n",
    "        - learning_rate: 0.5\n",
    "        - n_estimators: 20\n",
    "        - algorithm: SAMME\n",
    "3. Model yang dihasilkan dapat memprediksi ketika penderita tidak meninggal dengan baik, tetapi performa menurun ketika mendeteksi penderita yang meninggal.\n",
    "4. Kedua Model yang dihasilkan `Overfit` antara train set dan test set, baik Random Forest maupun AdaBoost. Model AdaBoost memiliki selisih akurasi yang lebih kecil antara train dan test set"
   ]
  }
 ],
 "metadata": {
  "interpreter": {
   "hash": "c511a689884ea87b05d7e6308bcd3bc07b8326d80ebf1c46c0d8c6a4a82d4d0a"
  },
  "kernelspec": {
   "display_name": "Python 3.10.2 64-bit",
   "language": "python",
   "name": "python3"
  },
  "language_info": {
   "codemirror_mode": {
    "name": "ipython",
    "version": 3
   },
   "file_extension": ".py",
   "mimetype": "text/x-python",
   "name": "python",
   "nbconvert_exporter": "python",
   "pygments_lexer": "ipython3",
   "version": "3.10.2"
  },
  "orig_nbformat": 4
 },
 "nbformat": 4,
 "nbformat_minor": 2
}

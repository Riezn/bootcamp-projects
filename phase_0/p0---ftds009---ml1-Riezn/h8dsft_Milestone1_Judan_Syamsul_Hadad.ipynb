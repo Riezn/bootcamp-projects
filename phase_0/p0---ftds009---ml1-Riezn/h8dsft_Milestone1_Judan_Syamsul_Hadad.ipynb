{
 "cells": [
  {
   "cell_type": "markdown",
   "metadata": {},
   "source": [
    "# Milestone 1"
   ]
  },
  {
   "cell_type": "markdown",
   "metadata": {},
   "source": [
    "## 1. Introduction"
   ]
  },
  {
   "cell_type": "markdown",
   "metadata": {},
   "source": [
    "Selamat datang. Notebook ini dibuat sebagai pemenuhan penilaian kompetensi dari rangkaian <u>**Full Time Data Science (FTDS) Bootcamp Batch 9**</u> yang diadakan oleh Hacktiv8 dimana penulis atas nama **Judan Syamsul Hadad** dengan handlename **Riezn** merupakan salah satu pesertanya.\n",
    "\n",
    "Dataset atau gambar yang digunakan pada notebook ini dapat diunduh [disini](https://www.kaggle.com/aungpyaeap/supermarket-sales).\n",
    "\n",
    "Data set ini merupakan data historikal sebuah perusahaan supermarket di tiga cabang selama tiga bulan. Berikut penjelasan untuk masing-masing Kolom pada dataset ini (dikutip langsung dari kaggle):\n",
    "- **Invoice id**: Computer generated sales slip invoice identification number\n",
    "- **Branch**: Branch of supercenter (3 branches are available identified by A, B and C).\n",
    "- **City**: Location of supercenters\n",
    "- **Customer type**: Type of customers, recorded by Members for customers using member card and Normal for without member card.\n",
    "- **Gender**: Gender type of customer\n",
    "- **Product line**: General item categorization groups - Electronic accessories, Fashion accessories, Food and beverages, Health and beauty, Home and lifestyle, Sports and travel\n",
    "- **Unit price**: Price of each product in $\n",
    "- **Quantity**: Number of products purchased by customer\n",
    "- **Tax**: 5% tax fee for customer buying\n",
    "- **Total**: Total price including tax\n",
    "- **Date**: Date of purchase (Record available from January 2019 to March 2019)\n",
    "- **Time**: Purchase time (10am to 9pm)\n",
    "- **Payment**: Payment used by customer for purchase (3 methods are available – Cash, Credit card and Ewallet)\n",
    "- **COGS**: Cost of goods sold\n",
    "- **Gross margin percentage**: Gross margin percentage\n",
    "- **Gross income**: Gross income\n",
    "- **Rating**: Customer stratification rating on their overall shopping experience (On a scale of 1 to 10)"
   ]
  },
  {
   "cell_type": "markdown",
   "metadata": {},
   "source": [
    "### Deployment\n",
    "Deployment notebook ini dapat diakses di [https://judan-ftds-009-p0m1.herokuapp.com](https://judan-ftds-009-p0m1.herokuapp.com)."
   ]
  },
  {
   "cell_type": "markdown",
   "metadata": {},
   "source": [
    "### 1.1. Objective"
   ]
  },
  {
   "cell_type": "markdown",
   "metadata": {},
   "source": [
    "Pada notebook ini akan dilakukan pengolahan data secara statistik deskriptif dan inferensial yang meliputi:\n",
    "1. Central tendency yang terdiri dari mean, median, dan modus\n",
    "2. Variance yang terdiri dari range, variance, dan standard deviation\n",
    "3. Uji hipotesis one tailed paired test"
   ]
  },
  {
   "cell_type": "markdown",
   "metadata": {},
   "source": [
    "### 1.2. Problem Statement"
   ]
  },
  {
   "cell_type": "markdown",
   "metadata": {},
   "source": [
    "Perusahaan berniat meningkatkan keuntungan dengan menaikkan penjualan pada product line yang penjualannya paling rendah. Bagaimana target marketing campaign-nya? Apakah cukup tipe customer Member saja?"
   ]
  },
  {
   "cell_type": "markdown",
   "metadata": {},
   "source": [
    "## 2. Import Library"
   ]
  },
  {
   "cell_type": "code",
   "execution_count": 1,
   "metadata": {},
   "outputs": [],
   "source": [
    "import numpy as np\n",
    "import pandas as pd\n",
    "import seaborn as sns\n",
    "from scipy import stats\n",
    "import matplotlib.pyplot as plt"
   ]
  },
  {
   "cell_type": "markdown",
   "metadata": {},
   "source": [
    "## 3. Data Loading"
   ]
  },
  {
   "cell_type": "markdown",
   "metadata": {},
   "source": [
    "Load dataset."
   ]
  },
  {
   "cell_type": "code",
   "execution_count": 2,
   "metadata": {},
   "outputs": [
    {
     "data": {
      "text/html": [
       "<div>\n",
       "<style scoped>\n",
       "    .dataframe tbody tr th:only-of-type {\n",
       "        vertical-align: middle;\n",
       "    }\n",
       "\n",
       "    .dataframe tbody tr th {\n",
       "        vertical-align: top;\n",
       "    }\n",
       "\n",
       "    .dataframe thead th {\n",
       "        text-align: right;\n",
       "    }\n",
       "</style>\n",
       "<table border=\"1\" class=\"dataframe\">\n",
       "  <thead>\n",
       "    <tr style=\"text-align: right;\">\n",
       "      <th></th>\n",
       "      <th>Invoice ID</th>\n",
       "      <th>Branch</th>\n",
       "      <th>City</th>\n",
       "      <th>Customer type</th>\n",
       "      <th>Gender</th>\n",
       "      <th>Product line</th>\n",
       "      <th>Unit price</th>\n",
       "      <th>Quantity</th>\n",
       "      <th>Tax 5%</th>\n",
       "      <th>Total</th>\n",
       "      <th>Date</th>\n",
       "      <th>Time</th>\n",
       "      <th>Payment</th>\n",
       "      <th>cogs</th>\n",
       "      <th>gross margin percentage</th>\n",
       "      <th>gross income</th>\n",
       "      <th>Rating</th>\n",
       "    </tr>\n",
       "  </thead>\n",
       "  <tbody>\n",
       "    <tr>\n",
       "      <th>0</th>\n",
       "      <td>750-67-8428</td>\n",
       "      <td>A</td>\n",
       "      <td>Yangon</td>\n",
       "      <td>Member</td>\n",
       "      <td>Female</td>\n",
       "      <td>Health and beauty</td>\n",
       "      <td>74.69</td>\n",
       "      <td>7</td>\n",
       "      <td>26.1415</td>\n",
       "      <td>548.9715</td>\n",
       "      <td>1/5/2019</td>\n",
       "      <td>13:08</td>\n",
       "      <td>Ewallet</td>\n",
       "      <td>522.83</td>\n",
       "      <td>4.761905</td>\n",
       "      <td>26.1415</td>\n",
       "      <td>9.1</td>\n",
       "    </tr>\n",
       "    <tr>\n",
       "      <th>1</th>\n",
       "      <td>226-31-3081</td>\n",
       "      <td>C</td>\n",
       "      <td>Naypyitaw</td>\n",
       "      <td>Normal</td>\n",
       "      <td>Female</td>\n",
       "      <td>Electronic accessories</td>\n",
       "      <td>15.28</td>\n",
       "      <td>5</td>\n",
       "      <td>3.8200</td>\n",
       "      <td>80.2200</td>\n",
       "      <td>3/8/2019</td>\n",
       "      <td>10:29</td>\n",
       "      <td>Cash</td>\n",
       "      <td>76.40</td>\n",
       "      <td>4.761905</td>\n",
       "      <td>3.8200</td>\n",
       "      <td>9.6</td>\n",
       "    </tr>\n",
       "    <tr>\n",
       "      <th>2</th>\n",
       "      <td>631-41-3108</td>\n",
       "      <td>A</td>\n",
       "      <td>Yangon</td>\n",
       "      <td>Normal</td>\n",
       "      <td>Male</td>\n",
       "      <td>Home and lifestyle</td>\n",
       "      <td>46.33</td>\n",
       "      <td>7</td>\n",
       "      <td>16.2155</td>\n",
       "      <td>340.5255</td>\n",
       "      <td>3/3/2019</td>\n",
       "      <td>13:23</td>\n",
       "      <td>Credit card</td>\n",
       "      <td>324.31</td>\n",
       "      <td>4.761905</td>\n",
       "      <td>16.2155</td>\n",
       "      <td>7.4</td>\n",
       "    </tr>\n",
       "    <tr>\n",
       "      <th>3</th>\n",
       "      <td>123-19-1176</td>\n",
       "      <td>A</td>\n",
       "      <td>Yangon</td>\n",
       "      <td>Member</td>\n",
       "      <td>Male</td>\n",
       "      <td>Health and beauty</td>\n",
       "      <td>58.22</td>\n",
       "      <td>8</td>\n",
       "      <td>23.2880</td>\n",
       "      <td>489.0480</td>\n",
       "      <td>1/27/2019</td>\n",
       "      <td>20:33</td>\n",
       "      <td>Ewallet</td>\n",
       "      <td>465.76</td>\n",
       "      <td>4.761905</td>\n",
       "      <td>23.2880</td>\n",
       "      <td>8.4</td>\n",
       "    </tr>\n",
       "    <tr>\n",
       "      <th>4</th>\n",
       "      <td>373-73-7910</td>\n",
       "      <td>A</td>\n",
       "      <td>Yangon</td>\n",
       "      <td>Normal</td>\n",
       "      <td>Male</td>\n",
       "      <td>Sports and travel</td>\n",
       "      <td>86.31</td>\n",
       "      <td>7</td>\n",
       "      <td>30.2085</td>\n",
       "      <td>634.3785</td>\n",
       "      <td>2/8/2019</td>\n",
       "      <td>10:37</td>\n",
       "      <td>Ewallet</td>\n",
       "      <td>604.17</td>\n",
       "      <td>4.761905</td>\n",
       "      <td>30.2085</td>\n",
       "      <td>5.3</td>\n",
       "    </tr>\n",
       "  </tbody>\n",
       "</table>\n",
       "</div>"
      ],
      "text/plain": [
       "    Invoice ID Branch       City Customer type  Gender  \\\n",
       "0  750-67-8428      A     Yangon        Member  Female   \n",
       "1  226-31-3081      C  Naypyitaw        Normal  Female   \n",
       "2  631-41-3108      A     Yangon        Normal    Male   \n",
       "3  123-19-1176      A     Yangon        Member    Male   \n",
       "4  373-73-7910      A     Yangon        Normal    Male   \n",
       "\n",
       "             Product line  Unit price  Quantity   Tax 5%     Total       Date  \\\n",
       "0       Health and beauty       74.69         7  26.1415  548.9715   1/5/2019   \n",
       "1  Electronic accessories       15.28         5   3.8200   80.2200   3/8/2019   \n",
       "2      Home and lifestyle       46.33         7  16.2155  340.5255   3/3/2019   \n",
       "3       Health and beauty       58.22         8  23.2880  489.0480  1/27/2019   \n",
       "4       Sports and travel       86.31         7  30.2085  634.3785   2/8/2019   \n",
       "\n",
       "    Time      Payment    cogs  gross margin percentage  gross income  Rating  \n",
       "0  13:08      Ewallet  522.83                 4.761905       26.1415     9.1  \n",
       "1  10:29         Cash   76.40                 4.761905        3.8200     9.6  \n",
       "2  13:23  Credit card  324.31                 4.761905       16.2155     7.4  \n",
       "3  20:33      Ewallet  465.76                 4.761905       23.2880     8.4  \n",
       "4  10:37      Ewallet  604.17                 4.761905       30.2085     5.3  "
      ]
     },
     "execution_count": 2,
     "metadata": {},
     "output_type": "execute_result"
    }
   ],
   "source": [
    "df = pd.read_csv('supermarket_sales - Sheet1.csv')\n",
    "df.head()"
   ]
  },
  {
   "cell_type": "code",
   "execution_count": 3,
   "metadata": {},
   "outputs": [
    {
     "name": "stdout",
     "output_type": "stream",
     "text": [
      "<class 'pandas.core.frame.DataFrame'>\n",
      "RangeIndex: 1000 entries, 0 to 999\n",
      "Data columns (total 17 columns):\n",
      " #   Column                   Non-Null Count  Dtype  \n",
      "---  ------                   --------------  -----  \n",
      " 0   Invoice ID               1000 non-null   object \n",
      " 1   Branch                   1000 non-null   object \n",
      " 2   City                     1000 non-null   object \n",
      " 3   Customer type            1000 non-null   object \n",
      " 4   Gender                   1000 non-null   object \n",
      " 5   Product line             1000 non-null   object \n",
      " 6   Unit price               1000 non-null   float64\n",
      " 7   Quantity                 1000 non-null   int64  \n",
      " 8   Tax 5%                   1000 non-null   float64\n",
      " 9   Total                    1000 non-null   float64\n",
      " 10  Date                     1000 non-null   object \n",
      " 11  Time                     1000 non-null   object \n",
      " 12  Payment                  1000 non-null   object \n",
      " 13  cogs                     1000 non-null   float64\n",
      " 14  gross margin percentage  1000 non-null   float64\n",
      " 15  gross income             1000 non-null   float64\n",
      " 16  Rating                   1000 non-null   float64\n",
      "dtypes: float64(7), int64(1), object(9)\n",
      "memory usage: 132.9+ KB\n"
     ]
    }
   ],
   "source": [
    "df.info() #cek property dataframe"
   ]
  },
  {
   "cell_type": "markdown",
   "metadata": {},
   "source": [
    "Dataframe ini terdiri dari 1000 baris dan 17 kolom. Dari pengecekan di atas tidak ditemukan missing value pada data.\n",
    "\n",
    "Kalau kita lihat kolom Date, tipe datanya masih berupa object. Pada bab Data Cleaning akan kita ubah menjadi date."
   ]
  },
  {
   "cell_type": "markdown",
   "metadata": {},
   "source": [
    "## 4. Data Cleaning"
   ]
  },
  {
   "cell_type": "markdown",
   "metadata": {},
   "source": [
    "Pertama-tama kita ubah kolom Date menjadi tipe datetime terlebih dahulu."
   ]
  },
  {
   "cell_type": "code",
   "execution_count": 4,
   "metadata": {},
   "outputs": [
    {
     "name": "stdout",
     "output_type": "stream",
     "text": [
      "<class 'pandas.core.series.Series'>\n",
      "RangeIndex: 1000 entries, 0 to 999\n",
      "Series name: Date\n",
      "Non-Null Count  Dtype         \n",
      "--------------  -----         \n",
      "1000 non-null   datetime64[ns]\n",
      "dtypes: datetime64[ns](1)\n",
      "memory usage: 7.9 KB\n"
     ]
    }
   ],
   "source": [
    "df['Date'] = pd.to_datetime(df['Date'])\n",
    "df['Date'].info()"
   ]
  },
  {
   "cell_type": "markdown",
   "metadata": {},
   "source": [
    "Selanjutnya kita akan hapus kolom yang tidak akan dipakai untuk visualisasi dan analisis dataset."
   ]
  },
  {
   "cell_type": "code",
   "execution_count": 5,
   "metadata": {},
   "outputs": [
    {
     "data": {
      "text/html": [
       "<div>\n",
       "<style scoped>\n",
       "    .dataframe tbody tr th:only-of-type {\n",
       "        vertical-align: middle;\n",
       "    }\n",
       "\n",
       "    .dataframe tbody tr th {\n",
       "        vertical-align: top;\n",
       "    }\n",
       "\n",
       "    .dataframe thead th {\n",
       "        text-align: right;\n",
       "    }\n",
       "</style>\n",
       "<table border=\"1\" class=\"dataframe\">\n",
       "  <thead>\n",
       "    <tr style=\"text-align: right;\">\n",
       "      <th></th>\n",
       "      <th>Invoice ID</th>\n",
       "      <th>City</th>\n",
       "      <th>Customer type</th>\n",
       "      <th>Gender</th>\n",
       "      <th>Product line</th>\n",
       "      <th>Total</th>\n",
       "      <th>Date</th>\n",
       "      <th>Time</th>\n",
       "      <th>Payment</th>\n",
       "      <th>gross income</th>\n",
       "      <th>Rating</th>\n",
       "    </tr>\n",
       "  </thead>\n",
       "  <tbody>\n",
       "    <tr>\n",
       "      <th>0</th>\n",
       "      <td>750-67-8428</td>\n",
       "      <td>Yangon</td>\n",
       "      <td>Member</td>\n",
       "      <td>Female</td>\n",
       "      <td>Health and beauty</td>\n",
       "      <td>548.9715</td>\n",
       "      <td>2019-01-05</td>\n",
       "      <td>13:08</td>\n",
       "      <td>Ewallet</td>\n",
       "      <td>26.1415</td>\n",
       "      <td>9.1</td>\n",
       "    </tr>\n",
       "    <tr>\n",
       "      <th>1</th>\n",
       "      <td>226-31-3081</td>\n",
       "      <td>Naypyitaw</td>\n",
       "      <td>Normal</td>\n",
       "      <td>Female</td>\n",
       "      <td>Electronic accessories</td>\n",
       "      <td>80.2200</td>\n",
       "      <td>2019-03-08</td>\n",
       "      <td>10:29</td>\n",
       "      <td>Cash</td>\n",
       "      <td>3.8200</td>\n",
       "      <td>9.6</td>\n",
       "    </tr>\n",
       "    <tr>\n",
       "      <th>2</th>\n",
       "      <td>631-41-3108</td>\n",
       "      <td>Yangon</td>\n",
       "      <td>Normal</td>\n",
       "      <td>Male</td>\n",
       "      <td>Home and lifestyle</td>\n",
       "      <td>340.5255</td>\n",
       "      <td>2019-03-03</td>\n",
       "      <td>13:23</td>\n",
       "      <td>Credit card</td>\n",
       "      <td>16.2155</td>\n",
       "      <td>7.4</td>\n",
       "    </tr>\n",
       "    <tr>\n",
       "      <th>3</th>\n",
       "      <td>123-19-1176</td>\n",
       "      <td>Yangon</td>\n",
       "      <td>Member</td>\n",
       "      <td>Male</td>\n",
       "      <td>Health and beauty</td>\n",
       "      <td>489.0480</td>\n",
       "      <td>2019-01-27</td>\n",
       "      <td>20:33</td>\n",
       "      <td>Ewallet</td>\n",
       "      <td>23.2880</td>\n",
       "      <td>8.4</td>\n",
       "    </tr>\n",
       "    <tr>\n",
       "      <th>4</th>\n",
       "      <td>373-73-7910</td>\n",
       "      <td>Yangon</td>\n",
       "      <td>Normal</td>\n",
       "      <td>Male</td>\n",
       "      <td>Sports and travel</td>\n",
       "      <td>634.3785</td>\n",
       "      <td>2019-02-08</td>\n",
       "      <td>10:37</td>\n",
       "      <td>Ewallet</td>\n",
       "      <td>30.2085</td>\n",
       "      <td>5.3</td>\n",
       "    </tr>\n",
       "  </tbody>\n",
       "</table>\n",
       "</div>"
      ],
      "text/plain": [
       "    Invoice ID       City Customer type  Gender            Product line  \\\n",
       "0  750-67-8428     Yangon        Member  Female       Health and beauty   \n",
       "1  226-31-3081  Naypyitaw        Normal  Female  Electronic accessories   \n",
       "2  631-41-3108     Yangon        Normal    Male      Home and lifestyle   \n",
       "3  123-19-1176     Yangon        Member    Male       Health and beauty   \n",
       "4  373-73-7910     Yangon        Normal    Male       Sports and travel   \n",
       "\n",
       "      Total       Date   Time      Payment  gross income  Rating  \n",
       "0  548.9715 2019-01-05  13:08      Ewallet       26.1415     9.1  \n",
       "1   80.2200 2019-03-08  10:29         Cash        3.8200     9.6  \n",
       "2  340.5255 2019-03-03  13:23  Credit card       16.2155     7.4  \n",
       "3  489.0480 2019-01-27  20:33      Ewallet       23.2880     8.4  \n",
       "4  634.3785 2019-02-08  10:37      Ewallet       30.2085     5.3  "
      ]
     },
     "execution_count": 5,
     "metadata": {},
     "output_type": "execute_result"
    }
   ],
   "source": [
    "df.drop(columns=['Branch','Unit price','Quantity','Tax 5%','cogs','gross margin percentage'],inplace=True)\n",
    "df.head()"
   ]
  },
  {
   "cell_type": "markdown",
   "metadata": {},
   "source": [
    "Sekarang kita urutkan data berdasarkan tanggal dan jam."
   ]
  },
  {
   "cell_type": "code",
   "execution_count": 6,
   "metadata": {},
   "outputs": [
    {
     "data": {
      "text/html": [
       "<div>\n",
       "<style scoped>\n",
       "    .dataframe tbody tr th:only-of-type {\n",
       "        vertical-align: middle;\n",
       "    }\n",
       "\n",
       "    .dataframe tbody tr th {\n",
       "        vertical-align: top;\n",
       "    }\n",
       "\n",
       "    .dataframe thead th {\n",
       "        text-align: right;\n",
       "    }\n",
       "</style>\n",
       "<table border=\"1\" class=\"dataframe\">\n",
       "  <thead>\n",
       "    <tr style=\"text-align: right;\">\n",
       "      <th></th>\n",
       "      <th>Invoice ID</th>\n",
       "      <th>City</th>\n",
       "      <th>Customer type</th>\n",
       "      <th>Gender</th>\n",
       "      <th>Product line</th>\n",
       "      <th>Total</th>\n",
       "      <th>Date</th>\n",
       "      <th>Time</th>\n",
       "      <th>Payment</th>\n",
       "      <th>gross income</th>\n",
       "      <th>Rating</th>\n",
       "    </tr>\n",
       "  </thead>\n",
       "  <tbody>\n",
       "    <tr>\n",
       "      <th>0</th>\n",
       "      <td>765-26-6951</td>\n",
       "      <td>Yangon</td>\n",
       "      <td>Normal</td>\n",
       "      <td>Male</td>\n",
       "      <td>Sports and travel</td>\n",
       "      <td>457.443</td>\n",
       "      <td>2019-01-01</td>\n",
       "      <td>10:39</td>\n",
       "      <td>Credit card</td>\n",
       "      <td>21.783</td>\n",
       "      <td>6.9</td>\n",
       "    </tr>\n",
       "    <tr>\n",
       "      <th>1</th>\n",
       "      <td>746-04-1077</td>\n",
       "      <td>Mandalay</td>\n",
       "      <td>Member</td>\n",
       "      <td>Female</td>\n",
       "      <td>Food and beverages</td>\n",
       "      <td>888.615</td>\n",
       "      <td>2019-01-01</td>\n",
       "      <td>11:36</td>\n",
       "      <td>Credit card</td>\n",
       "      <td>42.315</td>\n",
       "      <td>9.0</td>\n",
       "    </tr>\n",
       "    <tr>\n",
       "      <th>2</th>\n",
       "      <td>271-77-8740</td>\n",
       "      <td>Naypyitaw</td>\n",
       "      <td>Member</td>\n",
       "      <td>Female</td>\n",
       "      <td>Sports and travel</td>\n",
       "      <td>184.086</td>\n",
       "      <td>2019-01-01</td>\n",
       "      <td>11:40</td>\n",
       "      <td>Ewallet</td>\n",
       "      <td>8.766</td>\n",
       "      <td>5.0</td>\n",
       "    </tr>\n",
       "    <tr>\n",
       "      <th>3</th>\n",
       "      <td>133-14-7229</td>\n",
       "      <td>Naypyitaw</td>\n",
       "      <td>Normal</td>\n",
       "      <td>Male</td>\n",
       "      <td>Health and beauty</td>\n",
       "      <td>132.027</td>\n",
       "      <td>2019-01-01</td>\n",
       "      <td>11:43</td>\n",
       "      <td>Cash</td>\n",
       "      <td>6.287</td>\n",
       "      <td>5.0</td>\n",
       "    </tr>\n",
       "    <tr>\n",
       "      <th>4</th>\n",
       "      <td>651-88-7328</td>\n",
       "      <td>Yangon</td>\n",
       "      <td>Normal</td>\n",
       "      <td>Female</td>\n",
       "      <td>Fashion accessories</td>\n",
       "      <td>621.243</td>\n",
       "      <td>2019-01-01</td>\n",
       "      <td>13:55</td>\n",
       "      <td>Cash</td>\n",
       "      <td>29.583</td>\n",
       "      <td>7.7</td>\n",
       "    </tr>\n",
       "  </tbody>\n",
       "</table>\n",
       "</div>"
      ],
      "text/plain": [
       "    Invoice ID       City Customer type  Gender         Product line    Total  \\\n",
       "0  765-26-6951     Yangon        Normal    Male    Sports and travel  457.443   \n",
       "1  746-04-1077   Mandalay        Member  Female   Food and beverages  888.615   \n",
       "2  271-77-8740  Naypyitaw        Member  Female    Sports and travel  184.086   \n",
       "3  133-14-7229  Naypyitaw        Normal    Male    Health and beauty  132.027   \n",
       "4  651-88-7328     Yangon        Normal  Female  Fashion accessories  621.243   \n",
       "\n",
       "        Date   Time      Payment  gross income  Rating  \n",
       "0 2019-01-01  10:39  Credit card        21.783     6.9  \n",
       "1 2019-01-01  11:36  Credit card        42.315     9.0  \n",
       "2 2019-01-01  11:40      Ewallet         8.766     5.0  \n",
       "3 2019-01-01  11:43         Cash         6.287     5.0  \n",
       "4 2019-01-01  13:55         Cash        29.583     7.7  "
      ]
     },
     "execution_count": 6,
     "metadata": {},
     "output_type": "execute_result"
    }
   ],
   "source": [
    "df.sort_values(['Date','Time'],inplace=True)\n",
    "df.reset_index(drop=True,inplace=True)\n",
    "df.head()"
   ]
  },
  {
   "cell_type": "markdown",
   "metadata": {},
   "source": [
    "Tambahkan kolom Day (nama hari) dan Day of the Month pada dataframe."
   ]
  },
  {
   "cell_type": "code",
   "execution_count": 7,
   "metadata": {},
   "outputs": [],
   "source": [
    "df['Day'] = df['Date'].dt.strftime('%w')\n",
    "df['Day Name'] = df['Date'].dt.strftime('%a')\n",
    "df['Day of the Month'] = df['Date'].dt.strftime('%d')"
   ]
  },
  {
   "cell_type": "markdown",
   "metadata": {},
   "source": [
    "Cek nilai statistika deskriptif. Seharusnya hanya  kolom total, gross income, dan rating saja yang akan keluar hasilnya."
   ]
  },
  {
   "cell_type": "code",
   "execution_count": 8,
   "metadata": {},
   "outputs": [
    {
     "data": {
      "text/html": [
       "<div>\n",
       "<style scoped>\n",
       "    .dataframe tbody tr th:only-of-type {\n",
       "        vertical-align: middle;\n",
       "    }\n",
       "\n",
       "    .dataframe tbody tr th {\n",
       "        vertical-align: top;\n",
       "    }\n",
       "\n",
       "    .dataframe thead th {\n",
       "        text-align: right;\n",
       "    }\n",
       "</style>\n",
       "<table border=\"1\" class=\"dataframe\">\n",
       "  <thead>\n",
       "    <tr style=\"text-align: right;\">\n",
       "      <th></th>\n",
       "      <th>Total</th>\n",
       "      <th>gross income</th>\n",
       "      <th>Rating</th>\n",
       "    </tr>\n",
       "  </thead>\n",
       "  <tbody>\n",
       "    <tr>\n",
       "      <th>count</th>\n",
       "      <td>1000.000000</td>\n",
       "      <td>1000.000000</td>\n",
       "      <td>1000.00000</td>\n",
       "    </tr>\n",
       "    <tr>\n",
       "      <th>mean</th>\n",
       "      <td>322.966749</td>\n",
       "      <td>15.379369</td>\n",
       "      <td>6.97270</td>\n",
       "    </tr>\n",
       "    <tr>\n",
       "      <th>std</th>\n",
       "      <td>245.885335</td>\n",
       "      <td>11.708825</td>\n",
       "      <td>1.71858</td>\n",
       "    </tr>\n",
       "    <tr>\n",
       "      <th>min</th>\n",
       "      <td>10.678500</td>\n",
       "      <td>0.508500</td>\n",
       "      <td>4.00000</td>\n",
       "    </tr>\n",
       "    <tr>\n",
       "      <th>25%</th>\n",
       "      <td>124.422375</td>\n",
       "      <td>5.924875</td>\n",
       "      <td>5.50000</td>\n",
       "    </tr>\n",
       "    <tr>\n",
       "      <th>50%</th>\n",
       "      <td>253.848000</td>\n",
       "      <td>12.088000</td>\n",
       "      <td>7.00000</td>\n",
       "    </tr>\n",
       "    <tr>\n",
       "      <th>75%</th>\n",
       "      <td>471.350250</td>\n",
       "      <td>22.445250</td>\n",
       "      <td>8.50000</td>\n",
       "    </tr>\n",
       "    <tr>\n",
       "      <th>max</th>\n",
       "      <td>1042.650000</td>\n",
       "      <td>49.650000</td>\n",
       "      <td>10.00000</td>\n",
       "    </tr>\n",
       "  </tbody>\n",
       "</table>\n",
       "</div>"
      ],
      "text/plain": [
       "             Total  gross income      Rating\n",
       "count  1000.000000   1000.000000  1000.00000\n",
       "mean    322.966749     15.379369     6.97270\n",
       "std     245.885335     11.708825     1.71858\n",
       "min      10.678500      0.508500     4.00000\n",
       "25%     124.422375      5.924875     5.50000\n",
       "50%     253.848000     12.088000     7.00000\n",
       "75%     471.350250     22.445250     8.50000\n",
       "max    1042.650000     49.650000    10.00000"
      ]
     },
     "execution_count": 8,
     "metadata": {},
     "output_type": "execute_result"
    }
   ],
   "source": [
    "df.describe()"
   ]
  },
  {
   "cell_type": "markdown",
   "metadata": {},
   "source": [
    "Hapus duplikat pada dataset."
   ]
  },
  {
   "cell_type": "code",
   "execution_count": 9,
   "metadata": {},
   "outputs": [],
   "source": [
    "df.drop_duplicates(inplace=True)"
   ]
  },
  {
   "cell_type": "markdown",
   "metadata": {},
   "source": [
    "Simpan dataset yang sudah disederhanakan untuk deployment di heroku"
   ]
  },
  {
   "cell_type": "code",
   "execution_count": 10,
   "metadata": {},
   "outputs": [],
   "source": [
    "df.to_csv('deployment/cleandf.csv',index=False)"
   ]
  },
  {
   "cell_type": "markdown",
   "metadata": {},
   "source": [
    "Sesuai penjelasan di bab Introduction, hanya terdapat Member dan Normal saja. Bagi dua dataset menjadi dataset Member dan data Normal."
   ]
  },
  {
   "cell_type": "code",
   "execution_count": 11,
   "metadata": {},
   "outputs": [
    {
     "data": {
      "text/plain": [
       "array(['Normal', 'Member'], dtype=object)"
      ]
     },
     "execution_count": 11,
     "metadata": {},
     "output_type": "execute_result"
    }
   ],
   "source": [
    "df['Customer type'].unique()"
   ]
  },
  {
   "cell_type": "code",
   "execution_count": 12,
   "metadata": {},
   "outputs": [
    {
     "data": {
      "text/html": [
       "<div>\n",
       "<style scoped>\n",
       "    .dataframe tbody tr th:only-of-type {\n",
       "        vertical-align: middle;\n",
       "    }\n",
       "\n",
       "    .dataframe tbody tr th {\n",
       "        vertical-align: top;\n",
       "    }\n",
       "\n",
       "    .dataframe thead th {\n",
       "        text-align: right;\n",
       "    }\n",
       "</style>\n",
       "<table border=\"1\" class=\"dataframe\">\n",
       "  <thead>\n",
       "    <tr style=\"text-align: right;\">\n",
       "      <th></th>\n",
       "      <th>Invoice ID</th>\n",
       "      <th>City</th>\n",
       "      <th>Customer type</th>\n",
       "      <th>Gender</th>\n",
       "      <th>Product line</th>\n",
       "      <th>Total</th>\n",
       "      <th>Date</th>\n",
       "      <th>Time</th>\n",
       "      <th>Payment</th>\n",
       "      <th>gross income</th>\n",
       "      <th>Rating</th>\n",
       "      <th>Day</th>\n",
       "      <th>Day Name</th>\n",
       "      <th>Day of the Month</th>\n",
       "    </tr>\n",
       "  </thead>\n",
       "  <tbody>\n",
       "    <tr>\n",
       "      <th>0</th>\n",
       "      <td>746-04-1077</td>\n",
       "      <td>Mandalay</td>\n",
       "      <td>Member</td>\n",
       "      <td>Female</td>\n",
       "      <td>Food and beverages</td>\n",
       "      <td>888.615</td>\n",
       "      <td>2019-01-01</td>\n",
       "      <td>11:36</td>\n",
       "      <td>Credit card</td>\n",
       "      <td>42.315</td>\n",
       "      <td>9.0</td>\n",
       "      <td>2</td>\n",
       "      <td>Tue</td>\n",
       "      <td>01</td>\n",
       "    </tr>\n",
       "    <tr>\n",
       "      <th>1</th>\n",
       "      <td>271-77-8740</td>\n",
       "      <td>Naypyitaw</td>\n",
       "      <td>Member</td>\n",
       "      <td>Female</td>\n",
       "      <td>Sports and travel</td>\n",
       "      <td>184.086</td>\n",
       "      <td>2019-01-01</td>\n",
       "      <td>11:40</td>\n",
       "      <td>Ewallet</td>\n",
       "      <td>8.766</td>\n",
       "      <td>5.0</td>\n",
       "      <td>2</td>\n",
       "      <td>Tue</td>\n",
       "      <td>01</td>\n",
       "    </tr>\n",
       "    <tr>\n",
       "      <th>2</th>\n",
       "      <td>416-17-9926</td>\n",
       "      <td>Yangon</td>\n",
       "      <td>Member</td>\n",
       "      <td>Female</td>\n",
       "      <td>Electronic accessories</td>\n",
       "      <td>779.310</td>\n",
       "      <td>2019-01-01</td>\n",
       "      <td>14:42</td>\n",
       "      <td>Credit card</td>\n",
       "      <td>37.110</td>\n",
       "      <td>4.3</td>\n",
       "      <td>2</td>\n",
       "      <td>Tue</td>\n",
       "      <td>01</td>\n",
       "    </tr>\n",
       "    <tr>\n",
       "      <th>3</th>\n",
       "      <td>530-90-9855</td>\n",
       "      <td>Yangon</td>\n",
       "      <td>Member</td>\n",
       "      <td>Male</td>\n",
       "      <td>Home and lifestyle</td>\n",
       "      <td>399.756</td>\n",
       "      <td>2019-01-01</td>\n",
       "      <td>14:47</td>\n",
       "      <td>Cash</td>\n",
       "      <td>19.036</td>\n",
       "      <td>5.7</td>\n",
       "      <td>2</td>\n",
       "      <td>Tue</td>\n",
       "      <td>01</td>\n",
       "    </tr>\n",
       "    <tr>\n",
       "      <th>4</th>\n",
       "      <td>493-65-6248</td>\n",
       "      <td>Naypyitaw</td>\n",
       "      <td>Member</td>\n",
       "      <td>Female</td>\n",
       "      <td>Sports and travel</td>\n",
       "      <td>388.290</td>\n",
       "      <td>2019-01-01</td>\n",
       "      <td>19:48</td>\n",
       "      <td>Credit card</td>\n",
       "      <td>18.490</td>\n",
       "      <td>7.0</td>\n",
       "      <td>2</td>\n",
       "      <td>Tue</td>\n",
       "      <td>01</td>\n",
       "    </tr>\n",
       "  </tbody>\n",
       "</table>\n",
       "</div>"
      ],
      "text/plain": [
       "    Invoice ID       City Customer type  Gender            Product line  \\\n",
       "0  746-04-1077   Mandalay        Member  Female      Food and beverages   \n",
       "1  271-77-8740  Naypyitaw        Member  Female       Sports and travel   \n",
       "2  416-17-9926     Yangon        Member  Female  Electronic accessories   \n",
       "3  530-90-9855     Yangon        Member    Male      Home and lifestyle   \n",
       "4  493-65-6248  Naypyitaw        Member  Female       Sports and travel   \n",
       "\n",
       "     Total       Date   Time      Payment  gross income  Rating Day Day Name  \\\n",
       "0  888.615 2019-01-01  11:36  Credit card        42.315     9.0   2      Tue   \n",
       "1  184.086 2019-01-01  11:40      Ewallet         8.766     5.0   2      Tue   \n",
       "2  779.310 2019-01-01  14:42  Credit card        37.110     4.3   2      Tue   \n",
       "3  399.756 2019-01-01  14:47         Cash        19.036     5.7   2      Tue   \n",
       "4  388.290 2019-01-01  19:48  Credit card        18.490     7.0   2      Tue   \n",
       "\n",
       "  Day of the Month  \n",
       "0               01  \n",
       "1               01  \n",
       "2               01  \n",
       "3               01  \n",
       "4               01  "
      ]
     },
     "execution_count": 12,
     "metadata": {},
     "output_type": "execute_result"
    }
   ],
   "source": [
    "df_member = df[df['Customer type']=='Member'].reset_index(drop=True)\n",
    "df_member.head()"
   ]
  },
  {
   "cell_type": "code",
   "execution_count": 13,
   "metadata": {},
   "outputs": [
    {
     "data": {
      "text/html": [
       "<div>\n",
       "<style scoped>\n",
       "    .dataframe tbody tr th:only-of-type {\n",
       "        vertical-align: middle;\n",
       "    }\n",
       "\n",
       "    .dataframe tbody tr th {\n",
       "        vertical-align: top;\n",
       "    }\n",
       "\n",
       "    .dataframe thead th {\n",
       "        text-align: right;\n",
       "    }\n",
       "</style>\n",
       "<table border=\"1\" class=\"dataframe\">\n",
       "  <thead>\n",
       "    <tr style=\"text-align: right;\">\n",
       "      <th></th>\n",
       "      <th>Invoice ID</th>\n",
       "      <th>City</th>\n",
       "      <th>Customer type</th>\n",
       "      <th>Gender</th>\n",
       "      <th>Product line</th>\n",
       "      <th>Total</th>\n",
       "      <th>Date</th>\n",
       "      <th>Time</th>\n",
       "      <th>Payment</th>\n",
       "      <th>gross income</th>\n",
       "      <th>Rating</th>\n",
       "      <th>Day</th>\n",
       "      <th>Day Name</th>\n",
       "      <th>Day of the Month</th>\n",
       "    </tr>\n",
       "  </thead>\n",
       "  <tbody>\n",
       "    <tr>\n",
       "      <th>0</th>\n",
       "      <td>765-26-6951</td>\n",
       "      <td>Yangon</td>\n",
       "      <td>Normal</td>\n",
       "      <td>Male</td>\n",
       "      <td>Sports and travel</td>\n",
       "      <td>457.443</td>\n",
       "      <td>2019-01-01</td>\n",
       "      <td>10:39</td>\n",
       "      <td>Credit card</td>\n",
       "      <td>21.783</td>\n",
       "      <td>6.9</td>\n",
       "      <td>2</td>\n",
       "      <td>Tue</td>\n",
       "      <td>01</td>\n",
       "    </tr>\n",
       "    <tr>\n",
       "      <th>1</th>\n",
       "      <td>133-14-7229</td>\n",
       "      <td>Naypyitaw</td>\n",
       "      <td>Normal</td>\n",
       "      <td>Male</td>\n",
       "      <td>Health and beauty</td>\n",
       "      <td>132.027</td>\n",
       "      <td>2019-01-01</td>\n",
       "      <td>11:43</td>\n",
       "      <td>Cash</td>\n",
       "      <td>6.287</td>\n",
       "      <td>5.0</td>\n",
       "      <td>2</td>\n",
       "      <td>Tue</td>\n",
       "      <td>01</td>\n",
       "    </tr>\n",
       "    <tr>\n",
       "      <th>2</th>\n",
       "      <td>651-88-7328</td>\n",
       "      <td>Yangon</td>\n",
       "      <td>Normal</td>\n",
       "      <td>Female</td>\n",
       "      <td>Fashion accessories</td>\n",
       "      <td>621.243</td>\n",
       "      <td>2019-01-01</td>\n",
       "      <td>13:55</td>\n",
       "      <td>Cash</td>\n",
       "      <td>29.583</td>\n",
       "      <td>7.7</td>\n",
       "      <td>2</td>\n",
       "      <td>Tue</td>\n",
       "      <td>01</td>\n",
       "    </tr>\n",
       "    <tr>\n",
       "      <th>3</th>\n",
       "      <td>556-97-7101</td>\n",
       "      <td>Naypyitaw</td>\n",
       "      <td>Normal</td>\n",
       "      <td>Female</td>\n",
       "      <td>Electronic accessories</td>\n",
       "      <td>132.762</td>\n",
       "      <td>2019-01-01</td>\n",
       "      <td>15:51</td>\n",
       "      <td>Cash</td>\n",
       "      <td>6.322</td>\n",
       "      <td>8.5</td>\n",
       "      <td>2</td>\n",
       "      <td>Tue</td>\n",
       "      <td>01</td>\n",
       "    </tr>\n",
       "    <tr>\n",
       "      <th>4</th>\n",
       "      <td>891-01-7034</td>\n",
       "      <td>Mandalay</td>\n",
       "      <td>Normal</td>\n",
       "      <td>Female</td>\n",
       "      <td>Electronic accessories</td>\n",
       "      <td>470.673</td>\n",
       "      <td>2019-01-01</td>\n",
       "      <td>19:07</td>\n",
       "      <td>Cash</td>\n",
       "      <td>22.413</td>\n",
       "      <td>6.7</td>\n",
       "      <td>2</td>\n",
       "      <td>Tue</td>\n",
       "      <td>01</td>\n",
       "    </tr>\n",
       "  </tbody>\n",
       "</table>\n",
       "</div>"
      ],
      "text/plain": [
       "    Invoice ID       City Customer type  Gender            Product line  \\\n",
       "0  765-26-6951     Yangon        Normal    Male       Sports and travel   \n",
       "1  133-14-7229  Naypyitaw        Normal    Male       Health and beauty   \n",
       "2  651-88-7328     Yangon        Normal  Female     Fashion accessories   \n",
       "3  556-97-7101  Naypyitaw        Normal  Female  Electronic accessories   \n",
       "4  891-01-7034   Mandalay        Normal  Female  Electronic accessories   \n",
       "\n",
       "     Total       Date   Time      Payment  gross income  Rating Day Day Name  \\\n",
       "0  457.443 2019-01-01  10:39  Credit card        21.783     6.9   2      Tue   \n",
       "1  132.027 2019-01-01  11:43         Cash         6.287     5.0   2      Tue   \n",
       "2  621.243 2019-01-01  13:55         Cash        29.583     7.7   2      Tue   \n",
       "3  132.762 2019-01-01  15:51         Cash         6.322     8.5   2      Tue   \n",
       "4  470.673 2019-01-01  19:07         Cash        22.413     6.7   2      Tue   \n",
       "\n",
       "  Day of the Month  \n",
       "0               01  \n",
       "1               01  \n",
       "2               01  \n",
       "3               01  \n",
       "4               01  "
      ]
     },
     "execution_count": 13,
     "metadata": {},
     "output_type": "execute_result"
    }
   ],
   "source": [
    "df_normal = df[df['Customer type']=='Normal'].reset_index(drop=True)\n",
    "df_normal.head()"
   ]
  },
  {
   "cell_type": "markdown",
   "metadata": {},
   "source": [
    "Data sudah siap untuk dieksplorasi."
   ]
  },
  {
   "cell_type": "markdown",
   "metadata": {},
   "source": [
    "## 5. Data Exploration"
   ]
  },
  {
   "cell_type": "markdown",
   "metadata": {},
   "source": [
    "Dari dataset ini, kita akan coba eksplorasi beberapa hal berikut untuk membantu menjawab problem statement:\n",
    "- Product line yang paling rendah menghasilkan gross income\n",
    "- Metode pembayaran preferensi pelanggan\n",
    "- Gross income kumulatif di ketiga cabang selama tiga bulan\n",
    "- Rata-rata jumlah transaksi dan total belanja harian\n",
    "- Total belanja berdasarkan tanggal"
   ]
  },
  {
   "cell_type": "markdown",
   "metadata": {},
   "source": [
    "### 5.1. Product Line Gross Income"
   ]
  },
  {
   "cell_type": "markdown",
   "metadata": {},
   "source": [
    "Hitung jumlah gross income dari masing-masing product line, kemudian kita visualisasikan ke dalam bar chart vertical untuk menemukan product line terlemah."
   ]
  },
  {
   "cell_type": "code",
   "execution_count": 14,
   "metadata": {},
   "outputs": [
    {
     "data": {
      "image/png": "[encoded data removed]",
      "text/plain": [
       "<Figure size 576x432 with 1 Axes>"
      ]
     },
     "metadata": {
      "needs_background": "light"
     },
     "output_type": "display_data"
    }
   ],
   "source": [
    "plt.figure(figsize=(8,6))\n",
    "plt.bar(df[['Product line','gross income']].groupby('Product line').sum().sort_values('gross income',ascending=False).index,df[['Product line','gross income']] \\\n",
    "    .groupby('Product line').sum().sort_values('gross income',ascending=False)['gross income'],color=['#1f77b4','#1f77b4','#1f77b4','#1f77b4','#1f77b4','y'])\n",
    "plt.ylim(2200,2800)\n",
    "plt.xticks(rotation=90)\n",
    "plt.xlabel('Product Line',fontsize=12)\n",
    "plt.ylabel('Total Gross Income',fontsize=12)\n",
    "plt.title('Total Gross Income Berdasarkan Product Line',fontsize=15)\n",
    "#ax.get_legend().remove()\n",
    "plt.show()"
   ]
  },
  {
   "cell_type": "markdown",
   "metadata": {},
   "source": [
    "Dari grafik terlihat kalau gross income dari product line Health and Beauty paling rendah. Pada product line ini bisa dilakukan marketing campaign untuk meningkatkan penjualan dan secara langsung gross income. "
   ]
  },
  {
   "cell_type": "markdown",
   "metadata": {},
   "source": [
    "### 5.2. Metode Pembayaran"
   ]
  },
  {
   "cell_type": "markdown",
   "metadata": {},
   "source": [
    "Sekarang kita akan menentukan apakah ada metode pembayaran tertentu yang dapat kita sasar. Hitung jumlah masing-masing metode pembayaran, kemudian visualisasikan ke dalam pie chart."
   ]
  },
  {
   "cell_type": "code",
   "execution_count": 15,
   "metadata": {},
   "outputs": [
    {
     "data": {
      "image/png": "[encoded data removed]",
      "text/plain": [
       "<Figure size 576x432 with 1 Axes>"
      ]
     },
     "metadata": {},
     "output_type": "display_data"
    }
   ],
   "source": [
    "plt.figure(figsize=(8,6),facecolor='w')\n",
    "plt.title('Preferensi Metode Pembayaran',fontsize=15)\n",
    "plt.pie(df['Payment'].value_counts(),labels=df['Payment'].value_counts().keys(),autopct='%1.1f%%', textprops={'fontsize':12}) #plot piechart dengan menunjukkan persentase dan label\n",
    "plt.show()"
   ]
  },
  {
   "cell_type": "markdown",
   "metadata": {},
   "source": [
    "Secara persentase, ketiga metode pembayaran hampir terbagi rata. Strategi marketing tidak perlu menyasar metode pembayaran tertentu kecuali ada faktor eksternal seperti diskon dari provider ewallet atau credit card."
   ]
  },
  {
   "cell_type": "markdown",
   "metadata": {},
   "source": [
    "### 5.3. Gross Income Kumulatif Cabang"
   ]
  },
  {
   "cell_type": "markdown",
   "metadata": {},
   "source": [
    "Selanjutnya kita akan melihat di cabang mana kita akan melakukan marketing campaign ini berdasarkan gross income kumulatif selama tiga bulan.\n",
    "\n",
    "Kelompokkan data berdasarkan kota, kemudian gabung menjadi satu dataframe dan hitung nilai kumulatif gross income. Setelah itu visualisasikan ke dalam area chart."
   ]
  },
  {
   "cell_type": "code",
   "execution_count": 16,
   "metadata": {},
   "outputs": [],
   "source": [
    "A_income = df[df['City']=='Yangon'][['Date','gross income']].groupby('Date').sum()\n",
    "B_income = df[df['City']=='Mandalay'][['Date','gross income']].groupby('Date').sum()\n",
    "C_income = df[df['City']=='Naypyitaw'][['Date','gross income']].groupby('Date').sum()"
   ]
  },
  {
   "cell_type": "code",
   "execution_count": 17,
   "metadata": {},
   "outputs": [],
   "source": [
    "df_income = A_income.merge(B_income,how='outer',left_index=True,right_index=True)\n",
    "df_income = df_income.merge(C_income,how='outer',left_index=True,right_index=True)\n",
    "df_income.rename(columns={'gross income_x':'Yangon','gross income_y':'Mandalay','gross income':'Naypyitaw'},inplace=True)\n",
    "df_income.fillna(method='pad',inplace=True)\n",
    "df_income = np.cumsum(df_income)"
   ]
  },
  {
   "cell_type": "code",
   "execution_count": 18,
   "metadata": {},
   "outputs": [
    {
     "data": {
      "image/png": "[encoded data removed]",
      "text/plain": [
       "<Figure size 1440x360 with 1 Axes>"
      ]
     },
     "metadata": {
      "needs_background": "light"
     },
     "output_type": "display_data"
    }
   ],
   "source": [
    "ax = df_income.plot(kind='area',stacked=False,figsize=(20,5),alpha=0.5)\n",
    "ax.set_title('Gross Income Kumulatif di Ketiga Cabang Supermarket dalam Tiga Bulan')\n",
    "ax.set_ylabel('Gross Income Kumulatif, USD')\n",
    "ax.set_xlabel('Tanggal')\n",
    "plt.show()"
   ]
  },
  {
   "cell_type": "markdown",
   "metadata": {},
   "source": [
    "Marketing campaign bisa kita lakukan di ketiga cabang karena performa penjualannya tidak berbeda jauh."
   ]
  },
  {
   "cell_type": "markdown",
   "metadata": {},
   "source": [
    "### 5.4. Rata-Rata Jumlah Transaksi Harian dan Total Belanja Harian"
   ]
  },
  {
   "cell_type": "markdown",
   "metadata": {},
   "source": [
    "Di tahap ini kita akan lihat kira-kira di hari apa agar banyak customer yang melihat marketing campaign ini."
   ]
  },
  {
   "cell_type": "code",
   "execution_count": 19,
   "metadata": {},
   "outputs": [],
   "source": [
    "days = ['Minggu','Senin','Selasa','Rabu','Kamis','Jumat','Sabtu']\n",
    "daily = pd.merge(pd.DataFrame(df[['Day','Invoice ID']].groupby('Day').count()), \\\n",
    "    pd.DataFrame(df[['Day','Total']].groupby('Day').sum()), left_index=True, right_index=True)\n",
    "daily['Days'] = days\n",
    "daily.set_index(daily['Days'],inplace=True)"
   ]
  },
  {
   "cell_type": "code",
   "execution_count": 20,
   "metadata": {},
   "outputs": [
    {
     "data": {
      "image/png": "[encoded data removed]",
      "text/plain": [
       "<Figure size 720x432 with 2 Axes>"
      ]
     },
     "metadata": {
      "needs_background": "light"
     },
     "output_type": "display_data"
    }
   ],
   "source": [
    "fig, ax1 = plt.subplots(figsize=(10,6))\n",
    "ax1.set_xlabel('Hari')\n",
    "ax1.set_ylabel('Jumlah Transaksi')\n",
    "ax1.plot(daily.index,daily['Invoice ID'],color='r',label='Jumlah Transaksi')\n",
    "ax2 = ax1.twinx()\n",
    "ax2.set_ylabel('Jumlah Total Belanja')\n",
    "ax2.plot(daily.index,daily['Total'],label='Total Belanja')\n",
    "fig.tight_layout()\n",
    "fig.legend()\n",
    "plt.show()"
   ]
  },
  {
   "cell_type": "markdown",
   "metadata": {},
   "source": [
    "Kalau dilihat dari jumlah transaksi dan jumlah total belanja, puncak tertingginya berada di hari Sabtu, sedangkan terendahnya di hari Senin. Jika ingin ada campaign marketing, sebaiknya dilakukan pada hari Sabtu sebagai pilihan pertama atau Selasa."
   ]
  },
  {
   "cell_type": "markdown",
   "metadata": {},
   "source": [
    "### 5.5. Total Belanja Berdasarkan Tanggal"
   ]
  },
  {
   "cell_type": "markdown",
   "metadata": {},
   "source": [
    "Selanjutnya kita akan melihat pada tanggal berapa sebaiknya kita lakukan marketing campaign. Apakah di awal bulan atau akhir bulan."
   ]
  },
  {
   "cell_type": "code",
   "execution_count": 21,
   "metadata": {},
   "outputs": [],
   "source": [
    "day = pd.merge(pd.DataFrame(df[['Day of the Month','Invoice ID']].groupby('Day of the Month').count()), \\\n",
    "    pd.DataFrame(df[['Day of the Month','Total']].groupby('Day of the Month').sum()), left_index=True, right_index=True)"
   ]
  },
  {
   "cell_type": "code",
   "execution_count": 22,
   "metadata": {},
   "outputs": [
    {
     "data": {
      "image/png": "[encoded data removed]",
      "text/plain": [
       "<Figure size 1440x432 with 2 Axes>"
      ]
     },
     "metadata": {
      "needs_background": "light"
     },
     "output_type": "display_data"
    }
   ],
   "source": [
    "fig, ax1 = plt.subplots(figsize=(20,6))\n",
    "ax1.set_xlabel('Tanggal')\n",
    "ax1.set_ylabel('Jumlah Transaksi')\n",
    "ax1.plot(day.index,day['Invoice ID'],color='r',label='Jumlah Transaksi')\n",
    "ax2 = ax1.twinx()\n",
    "ax2.set_ylabel('Jumlah Total Belanja')\n",
    "ax2.plot(day.index,day['Total'],label='Total Belanja')\n",
    "fig.tight_layout()\n",
    "fig.legend()\n",
    "plt.show()"
   ]
  },
  {
   "cell_type": "markdown",
   "metadata": {},
   "source": [
    "Kalau kita lihat, jumlah transaksi dan nilai total belanja cukup konsisten mulai dari tanggal 1 sampai dengan 8. Setelah itu mulai terjadi kenaikan dan penurunan fluktuatif dan di akhir bulan setelah tanggal 25 keduanya konsisten turun hingga tanggal 31. Berdasarkan data ini, sebaiknya marketing campaign dilakukan di awal bulan dari tanggal 1 sampai dengan 8."
   ]
  },
  {
   "cell_type": "markdown",
   "metadata": {},
   "source": [
    "Terakhir kita akan tentukan target marketing utama apakah member atau normal. Kita akan gunakan uji hipotesis pada bab-bab berikutnya."
   ]
  },
  {
   "cell_type": "markdown",
   "metadata": {},
   "source": [
    "## 6. Descriptive Statistics"
   ]
  },
  {
   "cell_type": "markdown",
   "metadata": {},
   "source": [
    "### 6.1. Measure of Central Tendency"
   ]
  },
  {
   "cell_type": "markdown",
   "metadata": {},
   "source": [
    "Selanjutnya kita akan melihat central tendency dari dataset yang kita miliki."
   ]
  },
  {
   "cell_type": "code",
   "execution_count": 23,
   "metadata": {},
   "outputs": [
    {
     "name": "stdout",
     "output_type": "stream",
     "text": [
      "Central Tendency Member\n",
      "Mean:  327.79 USD\n",
      "Median:  266.03 USD\n",
      "Modus:  93.74 USD\n"
     ]
    }
   ],
   "source": [
    "print('Central Tendency Member')\n",
    "print('Mean: ', \"{:.2f}\".format(np.mean(df_member['Total'])), 'USD') #mean dalam dua desimal\n",
    "print('Median: ', \"{:.2f}\".format(np.median(df_member['Total'])), 'USD') #median dalam dua desimal\n",
    "print('Modus: ', \"{:.2f}\".format(df_member['Total'].mode()[0]), 'USD') #modus dalam dua desimal"
   ]
  },
  {
   "cell_type": "code",
   "execution_count": 24,
   "metadata": {},
   "outputs": [
    {
     "name": "stdout",
     "output_type": "stream",
     "text": [
      "Central Tendency Normal\n",
      "Mean:  318.12 USD\n",
      "Median:  237.43 USD\n",
      "Modus:  12.69 USD\n"
     ]
    }
   ],
   "source": [
    "print('Central Tendency Normal')\n",
    "print('Mean: ', \"{:.2f}\".format(np.mean(df_normal['Total'])), 'USD') #mean dalam dua desimal\n",
    "print('Median: ', \"{:.2f}\".format(np.median(df_normal['Total'])), 'USD') #median dalam dua desimal\n",
    "print('Modus: ', \"{:.2f}\".format(df_normal['Total'].mode()[0]), 'USD') #modus dalam dua desimal"
   ]
  },
  {
   "cell_type": "markdown",
   "metadata": {},
   "source": [
    "Dari analisis statistik deskriptif kita temukan bahwa mean dan median keduanya hampir sama, tetapi modusnya berbeda. Untuk lebih detailnya kita perlu melihat distribusi datanya."
   ]
  },
  {
   "cell_type": "markdown",
   "metadata": {},
   "source": [
    "### 6.2. Measure of Variance"
   ]
  },
  {
   "cell_type": "markdown",
   "metadata": {},
   "source": [
    "Di Bab 6.1 telah kita lihat bahwa central tendency dataset ini mirip. Sekarang kita akan cek rentang dataset untuk memastikan selisih nilai median dan maksimum serta selisih nilai minimum dan maksimum dari kedua dataset."
   ]
  },
  {
   "cell_type": "code",
   "execution_count": 25,
   "metadata": {},
   "outputs": [
    {
     "name": "stdout",
     "output_type": "stream",
     "text": [
      "Range Dataset Member\n",
      "Nilai minimum:  10.68 USD\n",
      "Nilai Q1:  118.25 USD\n",
      "Nilai Q2:  266.03 USD\n",
      "Nilai Q3:  485.57 USD\n",
      "Nilai maksimum:  1042.65 USD\n",
      "Range:  1029.96 USD\n"
     ]
    }
   ],
   "source": [
    "print('Range Dataset Member')\n",
    "print('Nilai minimum: ', \"{:.2f}\".format((df_member['Total'].quantile(0))), 'USD') #min dalam dua desimal\n",
    "print('Nilai Q1: ', \"{:.2f}\".format((df_member['Total'].quantile(0.25))), 'USD') #Q1 dalam dua desimal\n",
    "print('Nilai Q2: ', \"{:.2f}\".format((df_member['Total'].quantile(0.5))), 'USD') #median dalam dua desimal\n",
    "print('Nilai Q3: ', \"{:.2f}\".format((df_member['Total'].quantile(0.75))), 'USD') #Q3 dalam dua desimal\n",
    "print('Nilai maksimum: ', \"{:.2f}\".format((df_member['Total'].quantile(1))), 'USD') #max dalam dua desimal\n",
    "print('Range: ', \"{:.2f}\".format((df_member['Total'].quantile(1))-(df_normal['Total'].quantile(0))), 'USD') #range = max - min"
   ]
  },
  {
   "cell_type": "code",
   "execution_count": 26,
   "metadata": {},
   "outputs": [
    {
     "name": "stdout",
     "output_type": "stream",
     "text": [
      "Range Dataset Normal\n",
      "Nilai minimum:  12.69 USD\n",
      "Nilai Q1:  129.23 USD\n",
      "Nilai Q2:  237.43 USD\n",
      "Nilai Q3:  462.61 USD\n",
      "Nilai maksimum:  1039.29 USD\n",
      "Range:  1026.60 USD\n"
     ]
    }
   ],
   "source": [
    "print('Range Dataset Normal')\n",
    "print('Nilai minimum: ', \"{:.2f}\".format((df_normal['Total'].quantile(0))), 'USD') #min dalam dua desimal\n",
    "print('Nilai Q1: ', \"{:.2f}\".format((df_normal['Total'].quantile(0.25))), 'USD') #Q1 dalam dua desimal\n",
    "print('Nilai Q2: ', \"{:.2f}\".format((df_normal['Total'].quantile(0.5))), 'USD') #median dalam dua desimal\n",
    "print('Nilai Q3: ', \"{:.2f}\".format((df_normal['Total'].quantile(0.75))), 'USD') #Q3 dalam dua desimal\n",
    "print('Nilai maksimum: ', \"{:.2f}\".format((df_normal['Total'].quantile(1))), 'USD') #max dalam dua desimal\n",
    "print('Range: ', \"{:.2f}\".format((df_normal['Total'].quantile(1))-(df_normal['Total'].quantile(0))), 'USD') #range = max - min"
   ]
  },
  {
   "cell_type": "markdown",
   "metadata": {},
   "source": [
    "Kalau kita lihat keduanya memiliki distribusi data yang mirip. Sekarang coba kita cek boxplot kedua data ini agar mendapat gambaran lebih jelas."
   ]
  },
  {
   "cell_type": "code",
   "execution_count": 27,
   "metadata": {},
   "outputs": [
    {
     "data": {
      "image/png": "[encoded data removed]",
      "text/plain": [
       "<Figure size 720x720 with 1 Axes>"
      ]
     },
     "metadata": {
      "needs_background": "light"
     },
     "output_type": "display_data"
    }
   ],
   "source": [
    "plt.figure(figsize=(10,10))\n",
    "plt.boxplot([df_member['Total'],df_normal['Total']])\n",
    "plt.ylabel(\"Total, USD\")\n",
    "plt.title(\"Boxplot Member dan Normal\",fontsize=20)\n",
    "plt.xticks([1,2],['Member','Normal'])\n",
    "plt.show()"
   ]
  },
  {
   "cell_type": "markdown",
   "metadata": {},
   "source": [
    "Dari boxplot kita berhasil mendeteksi outlier. Sekarang coba kita identifikasi batas atas dan bawah dari outlier menggunakan IQR dan Z-score."
   ]
  },
  {
   "cell_type": "markdown",
   "metadata": {},
   "source": [
    "### 6.3. IQR"
   ]
  },
  {
   "cell_type": "markdown",
   "metadata": {},
   "source": [
    "Cek outlier menggunakan IQR. Outlier didefinisikan dengan Q3 + 3 x IQR sebagai upper limit atau Q1 - 3 x IQR sebagai lower limit."
   ]
  },
  {
   "cell_type": "code",
   "execution_count": 28,
   "metadata": {},
   "outputs": [
    {
     "data": {
      "text/plain": [
       "(-432.73125000000005, 1036.55475)"
      ]
     },
     "execution_count": 28,
     "metadata": {},
     "output_type": "execute_result"
    }
   ],
   "source": [
    "#deklarasi quartil\n",
    "Q1 = df_member['Total'].quantile(0.25)\n",
    "Q3 = df_member['Total'].quantile(0.75)\n",
    "IQR = Q3 - Q1\n",
    "\n",
    "#deklarasi batas bawah dan batas atas data menggunakan IQR\n",
    "lower_limit_member = Q1 - 1.5 * IQR\n",
    "upper_limit_member = Q3 + 1.5 * IQR\n",
    "lower_limit_member, upper_limit_member"
   ]
  },
  {
   "cell_type": "code",
   "execution_count": 29,
   "metadata": {},
   "outputs": [
    {
     "data": {
      "text/plain": [
       "(-370.8285, 962.6714999999999)"
      ]
     },
     "execution_count": 29,
     "metadata": {},
     "output_type": "execute_result"
    }
   ],
   "source": [
    "#deklarasi quartil\n",
    "Q1 = df_normal['Total'].quantile(0.25)\n",
    "Q3 = df_normal['Total'].quantile(0.75)\n",
    "IQR = Q3 - Q1\n",
    "\n",
    "#deklarasi batas bawah dan batas atas data menggunakan IQR\n",
    "lower_limit_normal = Q1 - 1.5 * IQR\n",
    "upper_limit_normal = Q3 + 1.5 * IQR\n",
    "lower_limit_normal, upper_limit_normal"
   ]
  },
  {
   "cell_type": "markdown",
   "metadata": {},
   "source": [
    "Pada kedua dataset kita temukan bahwa nilai maksimum dan mungkin beberapa data point lain ada di atas upper limit. Dataset ini nanti akan kita filter setelah pengecekan dengan Z-score."
   ]
  },
  {
   "cell_type": "markdown",
   "metadata": {},
   "source": [
    "### 6.4. Z-Score"
   ]
  },
  {
   "cell_type": "code",
   "execution_count": 30,
   "metadata": {},
   "outputs": [
    {
     "data": {
      "text/plain": [
       "max    2.885448\n",
       "min   -1.279991\n",
       "Name: Total, dtype: float64"
      ]
     },
     "execution_count": 30,
     "metadata": {},
     "output_type": "execute_result"
    }
   ],
   "source": [
    "stats.zscore(df_member['Total']).aggregate(['max','min'])"
   ]
  },
  {
   "cell_type": "code",
   "execution_count": 31,
   "metadata": {},
   "outputs": [
    {
     "data": {
      "text/plain": [
       "max    2.959748\n",
       "min   -1.253511\n",
       "Name: Total, dtype: float64"
      ]
     },
     "execution_count": 31,
     "metadata": {},
     "output_type": "execute_result"
    }
   ],
   "source": [
    "stats.zscore(df_normal['Total']).aggregate(['max','min'])"
   ]
  },
  {
   "cell_type": "markdown",
   "metadata": {},
   "source": [
    "Dari Z-score, tidak ada data yang perlu di-filter karena masih dalam rentang -3 sampai dengan 3."
   ]
  },
  {
   "cell_type": "markdown",
   "metadata": {},
   "source": [
    "### 6.5. Filtering Outlier"
   ]
  },
  {
   "cell_type": "code",
   "execution_count": 32,
   "metadata": {},
   "outputs": [],
   "source": [
    "#filter data member\n",
    "df_member = df_member[df_member['Total']<upper_limit_member]\n",
    "df_member = df_member[df_member['Total']>lower_limit_member]\n",
    "\n",
    "#filter data normal\n",
    "df_normal = df_normal[df_normal['Total']<upper_limit_normal]\n",
    "df_normal = df_normal[df_normal['Total']>lower_limit_normal]"
   ]
  },
  {
   "cell_type": "markdown",
   "metadata": {},
   "source": [
    "Kita visualisasikan kembali menggunakan boxplot."
   ]
  },
  {
   "cell_type": "code",
   "execution_count": 33,
   "metadata": {},
   "outputs": [
    {
     "data": {
      "text/html": [
       "<div>\n",
       "<style scoped>\n",
       "    .dataframe tbody tr th:only-of-type {\n",
       "        vertical-align: middle;\n",
       "    }\n",
       "\n",
       "    .dataframe tbody tr th {\n",
       "        vertical-align: top;\n",
       "    }\n",
       "\n",
       "    .dataframe thead th {\n",
       "        text-align: right;\n",
       "    }\n",
       "</style>\n",
       "<table border=\"1\" class=\"dataframe\">\n",
       "  <thead>\n",
       "    <tr style=\"text-align: right;\">\n",
       "      <th></th>\n",
       "      <th>Invoice ID</th>\n",
       "      <th>City</th>\n",
       "      <th>Customer type</th>\n",
       "      <th>Gender</th>\n",
       "      <th>Product line</th>\n",
       "      <th>Total</th>\n",
       "      <th>Date</th>\n",
       "      <th>Time</th>\n",
       "      <th>Payment</th>\n",
       "      <th>gross income</th>\n",
       "      <th>Rating</th>\n",
       "      <th>Day</th>\n",
       "      <th>Day Name</th>\n",
       "      <th>Day of the Month</th>\n",
       "    </tr>\n",
       "  </thead>\n",
       "  <tbody>\n",
       "    <tr>\n",
       "      <th>0</th>\n",
       "      <td>765-26-6951</td>\n",
       "      <td>Yangon</td>\n",
       "      <td>Normal</td>\n",
       "      <td>Male</td>\n",
       "      <td>Sports and travel</td>\n",
       "      <td>457.443</td>\n",
       "      <td>2019-01-01</td>\n",
       "      <td>10:39</td>\n",
       "      <td>Credit card</td>\n",
       "      <td>21.783</td>\n",
       "      <td>6.9</td>\n",
       "      <td>2</td>\n",
       "      <td>Tue</td>\n",
       "      <td>01</td>\n",
       "    </tr>\n",
       "    <tr>\n",
       "      <th>1</th>\n",
       "      <td>746-04-1077</td>\n",
       "      <td>Mandalay</td>\n",
       "      <td>Member</td>\n",
       "      <td>Female</td>\n",
       "      <td>Food and beverages</td>\n",
       "      <td>888.615</td>\n",
       "      <td>2019-01-01</td>\n",
       "      <td>11:36</td>\n",
       "      <td>Credit card</td>\n",
       "      <td>42.315</td>\n",
       "      <td>9.0</td>\n",
       "      <td>2</td>\n",
       "      <td>Tue</td>\n",
       "      <td>01</td>\n",
       "    </tr>\n",
       "    <tr>\n",
       "      <th>2</th>\n",
       "      <td>271-77-8740</td>\n",
       "      <td>Naypyitaw</td>\n",
       "      <td>Member</td>\n",
       "      <td>Female</td>\n",
       "      <td>Sports and travel</td>\n",
       "      <td>184.086</td>\n",
       "      <td>2019-01-01</td>\n",
       "      <td>11:40</td>\n",
       "      <td>Ewallet</td>\n",
       "      <td>8.766</td>\n",
       "      <td>5.0</td>\n",
       "      <td>2</td>\n",
       "      <td>Tue</td>\n",
       "      <td>01</td>\n",
       "    </tr>\n",
       "    <tr>\n",
       "      <th>3</th>\n",
       "      <td>133-14-7229</td>\n",
       "      <td>Naypyitaw</td>\n",
       "      <td>Normal</td>\n",
       "      <td>Male</td>\n",
       "      <td>Health and beauty</td>\n",
       "      <td>132.027</td>\n",
       "      <td>2019-01-01</td>\n",
       "      <td>11:43</td>\n",
       "      <td>Cash</td>\n",
       "      <td>6.287</td>\n",
       "      <td>5.0</td>\n",
       "      <td>2</td>\n",
       "      <td>Tue</td>\n",
       "      <td>01</td>\n",
       "    </tr>\n",
       "    <tr>\n",
       "      <th>4</th>\n",
       "      <td>651-88-7328</td>\n",
       "      <td>Yangon</td>\n",
       "      <td>Normal</td>\n",
       "      <td>Female</td>\n",
       "      <td>Fashion accessories</td>\n",
       "      <td>621.243</td>\n",
       "      <td>2019-01-01</td>\n",
       "      <td>13:55</td>\n",
       "      <td>Cash</td>\n",
       "      <td>29.583</td>\n",
       "      <td>7.7</td>\n",
       "      <td>2</td>\n",
       "      <td>Tue</td>\n",
       "      <td>01</td>\n",
       "    </tr>\n",
       "  </tbody>\n",
       "</table>\n",
       "</div>"
      ],
      "text/plain": [
       "    Invoice ID       City Customer type  Gender         Product line    Total  \\\n",
       "0  765-26-6951     Yangon        Normal    Male    Sports and travel  457.443   \n",
       "1  746-04-1077   Mandalay        Member  Female   Food and beverages  888.615   \n",
       "2  271-77-8740  Naypyitaw        Member  Female    Sports and travel  184.086   \n",
       "3  133-14-7229  Naypyitaw        Normal    Male    Health and beauty  132.027   \n",
       "4  651-88-7328     Yangon        Normal  Female  Fashion accessories  621.243   \n",
       "\n",
       "        Date   Time      Payment  gross income  Rating Day Day Name  \\\n",
       "0 2019-01-01  10:39  Credit card        21.783     6.9   2      Tue   \n",
       "1 2019-01-01  11:36  Credit card        42.315     9.0   2      Tue   \n",
       "2 2019-01-01  11:40      Ewallet         8.766     5.0   2      Tue   \n",
       "3 2019-01-01  11:43         Cash         6.287     5.0   2      Tue   \n",
       "4 2019-01-01  13:55         Cash        29.583     7.7   2      Tue   \n",
       "\n",
       "  Day of the Month  \n",
       "0               01  \n",
       "1               01  \n",
       "2               01  \n",
       "3               01  \n",
       "4               01  "
      ]
     },
     "execution_count": 33,
     "metadata": {},
     "output_type": "execute_result"
    }
   ],
   "source": [
    "df.head()"
   ]
  },
  {
   "cell_type": "code",
   "execution_count": 34,
   "metadata": {},
   "outputs": [
    {
     "data": {
      "image/png": "[encoded data removed]",
      "text/plain": [
       "<Figure size 720x720 with 1 Axes>"
      ]
     },
     "metadata": {
      "needs_background": "light"
     },
     "output_type": "display_data"
    }
   ],
   "source": [
    "plt.figure(figsize=(10,10))\n",
    "plt.boxplot([df_member['Total'],df_normal['Total']])\n",
    "plt.title(\"Boxplot Member dan Normal\",fontsize=20)\n",
    "plt.ylabel(\"Total, USD\")\n",
    "plt.xticks([1,2],['Member','Normal'])\n",
    "plt.show()"
   ]
  },
  {
   "cell_type": "markdown",
   "metadata": {},
   "source": [
    "Pada dataset member tidak terdeteksi outlier, tetapi pada dataset normal masih ada. Kita akan biarkan outlier ini."
   ]
  },
  {
   "cell_type": "markdown",
   "metadata": {},
   "source": [
    "### 6.5. Distribusi Data"
   ]
  },
  {
   "cell_type": "markdown",
   "metadata": {},
   "source": [
    "Sekarang kita coba visualisasikan dengan histogram."
   ]
  },
  {
   "cell_type": "code",
   "execution_count": 35,
   "metadata": {},
   "outputs": [
    {
     "name": "stdout",
     "output_type": "stream",
     "text": [
      "Skewness:  0.8310091330211646\n",
      "Kurtosis:  -0.23712027979720585\n"
     ]
    },
    {
     "data": {
      "image/png": "[encoded data removed]",
      "text/plain": [
       "<Figure size 432x288 with 1 Axes>"
      ]
     },
     "metadata": {
      "needs_background": "light"
     },
     "output_type": "display_data"
    }
   ],
   "source": [
    "sns.histplot(df_member['Total'],kde=True)\n",
    "print('Skewness: ',df_member['Total'].skew())\n",
    "print('Kurtosis: ',df_member['Total'].kurt())"
   ]
  },
  {
   "cell_type": "code",
   "execution_count": 36,
   "metadata": {},
   "outputs": [
    {
     "name": "stdout",
     "output_type": "stream",
     "text": [
      "Skewness:  0.879897237277784\n",
      "Kurtosis:  -0.15023374310482218\n"
     ]
    },
    {
     "data": {
      "image/png": "[encoded data removed]",
      "text/plain": [
       "<Figure size 432x288 with 1 Axes>"
      ]
     },
     "metadata": {
      "needs_background": "light"
     },
     "output_type": "display_data"
    }
   ],
   "source": [
    "sns.histplot(df_normal['Total'],kde=True)\n",
    "print('Skewness: ',df_normal['Total'].skew())\n",
    "print('Kurtosis: ',df_normal['Total'].kurt())"
   ]
  },
  {
   "cell_type": "markdown",
   "metadata": {},
   "source": [
    "Kedua data memiliki positive skew dengan bentuk platikurtik."
   ]
  },
  {
   "cell_type": "markdown",
   "metadata": {},
   "source": [
    "## 7. Inferential Statistics"
   ]
  },
  {
   "cell_type": "markdown",
   "metadata": {},
   "source": [
    "Sebelumnya kita sudah punya pertanyaan berikut:\n",
    "\n",
    "Apakah target marketing untuk belanja di supermarket cukup tipe customer Member saja?"
   ]
  },
  {
   "cell_type": "markdown",
   "metadata": {},
   "source": [
    "Pertanyaan tersebut dapat kita parafrase menjadi apakah rata-rata belanja tipe customer Member lebih besar dari tipe customer Normal? Ubah pertanyaan tersebut ke dalam H0 dan H1.\n",
    "- **H0: μMember <= μNormal**\n",
    "- **H1: μMember > μNormal**"
   ]
  },
  {
   "cell_type": "markdown",
   "metadata": {},
   "source": [
    "Pada dasarnya paired test digunakan untuk memastikan beda rata-rata kedua populasi atau sampel adalah 0 atau bukan. Untuk memudahkan definisi, maka hipotesis ditulis seperti di atas. Alternatif penulisannya adalah:"
   ]
  },
  {
   "cell_type": "markdown",
   "metadata": {},
   "source": [
    "- **H0: (μMember -  μNormal) <= 0**\n",
    "- **H1: (μMember -  μNormal) > 0**"
   ]
  },
  {
   "cell_type": "markdown",
   "metadata": {},
   "source": [
    "Hitung jumlah data di kedua dataset terlebih dahulu."
   ]
  },
  {
   "cell_type": "code",
   "execution_count": 37,
   "metadata": {},
   "outputs": [
    {
     "data": {
      "text/plain": [
       "(500, 493)"
      ]
     },
     "execution_count": 37,
     "metadata": {},
     "output_type": "execute_result"
    }
   ],
   "source": [
    "(df_member['Total']).count(), (df_normal['Total']).count()"
   ]
  },
  {
   "cell_type": "markdown",
   "metadata": {},
   "source": [
    "Kita akan ambil 490 data point dan lakukan paired t-test one tailed dengan hipotesis alternatif 'greater'."
   ]
  },
  {
   "cell_type": "code",
   "execution_count": 38,
   "metadata": {},
   "outputs": [
    {
     "name": "stdout",
     "output_type": "stream",
     "text": [
      "P-value: 0.15537173601219248\n"
     ]
    }
   ],
   "source": [
    "t_stat,p_val = stats.ttest_rel((df_member['Total']).sample(490),(df_normal['Total']).sample(490),alternative='greater')\n",
    "print('P-value:',p_val)"
   ]
  },
  {
   "cell_type": "markdown",
   "metadata": {},
   "source": [
    "Karena P-value lebih besar dari critical value, maka kita terima H0."
   ]
  },
  {
   "cell_type": "markdown",
   "metadata": {},
   "source": [
    "**Tidak terdapat cukup bukti untuk menolak H0.**"
   ]
  },
  {
   "cell_type": "markdown",
   "metadata": {},
   "source": [
    "Secara statistik, selisih rata-rata belanja customer tipe Member dan Normal tidak signifikan. Sekarang coba kita visualisasikan dan hitung nilai rata-rata belanja kedua tipe customer."
   ]
  },
  {
   "cell_type": "code",
   "execution_count": 39,
   "metadata": {},
   "outputs": [],
   "source": [
    "#deklarasi populasi menggunakan mean dan stdev dari sampel\n",
    "df_member_pop = np.random.normal((df_member['Total']).mean(), (df_member['Total']).std(), 10000)\n",
    "df_normal_pop = np.random.normal((df_normal['Total']).mean(), (df_normal['Total']).std(), 10000) "
   ]
  },
  {
   "cell_type": "code",
   "execution_count": 40,
   "metadata": {},
   "outputs": [
    {
     "name": "stderr",
     "output_type": "stream",
     "text": [
      "C:\\Users\\Judan Syamsul Hadad\\AppData\\Local\\Programs\\Python\\Python310\\lib\\site-packages\\seaborn\\distributions.py:2619: FutureWarning: `distplot` is a deprecated function and will be removed in a future version. Please adapt your code to use either `displot` (a figure-level function with similar flexibility) or `histplot` (an axes-level function for histograms).\n",
      "  warnings.warn(msg, FutureWarning)\n",
      "C:\\Users\\Judan Syamsul Hadad\\AppData\\Local\\Programs\\Python\\Python310\\lib\\site-packages\\seaborn\\distributions.py:2619: FutureWarning: `distplot` is a deprecated function and will be removed in a future version. Please adapt your code to use either `displot` (a figure-level function with similar flexibility) or `histplot` (an axes-level function for histograms).\n",
      "  warnings.warn(msg, FutureWarning)\n"
     ]
    },
    {
     "data": {
      "text/plain": [
       "<matplotlib.legend.Legend at 0x1a0af473340>"
      ]
     },
     "execution_count": 40,
     "metadata": {},
     "output_type": "execute_result"
    },
    {
     "data": {
      "image/png": "[encoded data removed]",
      "text/plain": [
       "<Figure size 1152x360 with 1 Axes>"
      ]
     },
     "metadata": {
      "needs_background": "light"
     },
     "output_type": "display_data"
    }
   ],
   "source": [
    "ci = stats.norm.interval(0.95, (df_member['Total']).mean(), (df_member['Total']).std()) #confidence interval 95% dengan critical value 0.05 atau 0.025 di dua sisi\n",
    "\n",
    "plt.figure(figsize=(16,5))\n",
    "\n",
    "sns.distplot(df_member_pop, label='Log Total Member (Population)', color='blue') #data populasi\n",
    "sns.distplot(df_normal_pop, label='Log Total Normal (Population)', color='red') #data populasi\n",
    "\n",
    "plt.axvline((df_member['Total']).mean(), color='blue', linewidth=2, label='Log Total Member (Mean)') #rata-rata sampel\n",
    "plt.axvline((df_normal['Total']).mean(), color='red', linewidth=2, label='Log Total Normal (Mean)') #rata-rata sampel\n",
    "\n",
    "plt.axvline(ci[1], color='green', linestyle='dashed', linewidth=2, label='Confidence Threshold of 95%') #garis batas confidence interval\n",
    "plt.axvline(ci[0], color='green', linestyle='dashed', linewidth=2) #garis batas confidence interval\n",
    "plt.legend()"
   ]
  },
  {
   "cell_type": "markdown",
   "metadata": {},
   "source": [
    "Kedua garis mean tersebut terlihat cukup berdekatan. Sekarang coba kita lihat berapa nilai keduanya."
   ]
  },
  {
   "cell_type": "code",
   "execution_count": 41,
   "metadata": {},
   "outputs": [
    {
     "name": "stdout",
     "output_type": "stream",
     "text": [
      "Rata-rata belanja member adalah 326 USD, sedangkan rata-rata belanja normal adalah 310 USD.\n"
     ]
    }
   ],
   "source": [
    "print(f'Rata-rata belanja member adalah {df_member[\"Total\"].mean():.0f} USD, sedangkan rata-rata belanja normal adalah {df_normal[\"Total\"].mean():.0f} USD.')"
   ]
  },
  {
   "cell_type": "markdown",
   "metadata": {},
   "source": [
    "Meskipun ada selisihnya sebesar 16 USD, nilai tersebut tidak signifikan secara statistik."
   ]
  },
  {
   "cell_type": "markdown",
   "metadata": {},
   "source": [
    "## 7. Conclusion"
   ]
  },
  {
   "cell_type": "markdown",
   "metadata": {},
   "source": [
    "Berdasarkan analisis yang telah dilakukan, berikut kesimpulan yang didapat:\n",
    "1. Product line yang akan ditingkatkan penjualannya adalah health and beauty\n",
    "2. Tidak perlu menyasar metode pembayaran tertentu untuk marketing campaign ini\n",
    "3. Tidak perlu menyasar cabang supermarket tertentu untuk marketing campaign ini\n",
    "4. Marketing campaign sebaiknya dilakukan di hari Sabtu atau Selasa\n",
    "5. Marketing campaign sebaiknya dilakukan di awal bulan dari tanggal 1 sampai dengan 8\n",
    "6. Target customer pada marketing campaign ini adalah member dan normal"
   ]
  }
 ],
 "metadata": {
  "interpreter": {
   "hash": "c511a689884ea87b05d7e6308bcd3bc07b8326d80ebf1c46c0d8c6a4a82d4d0a"
  },
  "kernelspec": {
   "display_name": "Python 3.10.2 64-bit",
   "language": "python",
   "name": "python3"
  },
  "language_info": {
   "codemirror_mode": {
    "name": "ipython",
    "version": 3
   },
   "file_extension": ".py",
   "mimetype": "text/x-python",
   "name": "python",
   "nbconvert_exporter": "python",
   "pygments_lexer": "ipython3",
   "version": "3.10.2"
  },
  "orig_nbformat": 4
 },
 "nbformat": 4,
 "nbformat_minor": 2
}

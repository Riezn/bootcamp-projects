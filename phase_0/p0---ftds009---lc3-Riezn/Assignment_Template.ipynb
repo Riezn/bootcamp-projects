{
  "nbformat": 4,
  "nbformat_minor": 0,
  "metadata": {
    "colab": {
      "name": "Assignment Template.ipynb",
      "provenance": []
    },
    "kernelspec": {
      "name": "python3",
      "display_name": "Python 3"
    },
    "language_info": {
      "name": "python"
    }
  },
  "cells": [
    {
      "cell_type": "markdown",
      "source": [
        "# Live Code 3 Phase 0\n",
        "\n",
        "Nama:\n",
        "\n",
        "Batch:"
      ],
      "metadata": {
        "id": "9m5BUWeIuHa9"
      }
    },
    {
      "cell_type": "code",
      "source": [
        "#Code Area untuk Data Loading dan Data Preprocessing"
      ],
      "metadata": {
        "id": "7niJvh-_vfpa"
      },
      "execution_count": null,
      "outputs": []
    },
    {
      "cell_type": "markdown",
      "source": [
        "# Problem\n",
        "\n",
        "## Central Tendency"
      ],
      "metadata": {
        "id": "QQkHABkluPvb"
      }
    },
    {
      "cell_type": "code",
      "execution_count": null,
      "metadata": {
        "id": "z_KM8ZSst7a2"
      },
      "outputs": [],
      "source": [
        "#Code Area - Kamu bisa tambahkan cell tambahan bila diperlukan"
      ]
    },
    {
      "cell_type": "markdown",
      "source": [
        "**2a. Berdasarkan hasil perhitungan central tendency, data cenderung berpusat ke purchased atau non purchased? apa kesimpulanmu?**"
      ],
      "metadata": {
        "id": "-QzJr0uUul4a"
      }
    },
    {
      "cell_type": "markdown",
      "source": [
        "## A/B Testing\n",
        "\n",
        "**2b. Definisikan H0 dan H1 dari hipotesis testingnya!**\n",
        "\n",
        "H0:\n",
        "\n",
        "H1:\n",
        "\n",
        "**2c. Jenis hipotesis apa yang akan kamu gunakan?**\n",
        "\n"
      ],
      "metadata": {
        "id": "hg8r1-yMuujg"
      }
    },
    {
      "cell_type": "code",
      "source": [
        "#Code Area - Kamu bisa tambahkan cell tambahan bila diperlukan"
      ],
      "metadata": {
        "id": "Avpb3t6vvN8D"
      },
      "execution_count": null,
      "outputs": []
    },
    {
      "cell_type": "markdown",
      "source": [
        "**2d. Apa kesimpulanmu terhadap hasil A/B testing tsb?**"
      ],
      "metadata": {
        "id": "vVD_HWnXvQUK"
      }
    }
  ]
}
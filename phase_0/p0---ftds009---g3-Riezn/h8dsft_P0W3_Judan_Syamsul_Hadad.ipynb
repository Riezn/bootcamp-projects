{
 "cells": [
  {
   "cell_type": "markdown",
   "metadata": {},
   "source": [
    "# Graded Challenge 3"
   ]
  },
  {
   "cell_type": "markdown",
   "metadata": {},
   "source": [
    "## 1. Introduction"
   ]
  },
  {
   "cell_type": "markdown",
   "metadata": {},
   "source": [
    "Selamat datang. Notebook ini dibuat sebagai pemenuhan penilaian kompetensi dari rangkaian <u>**Full Time Data Science (FTDS) Bootcamp Batch 9**</u> yang diadakan oleh Hacktiv8 dimana penulis atas nama **Judan Syamsul Hadad** dengan handlename **Riezn** merupakan salah satu pesertanya.\n",
    "\n",
    "Dataset atau gambar yang digunakan pada notebook ini dapat diunduh [disini](https://www.kaggle.com/kemical/kickstarter-projects?select=ks-projects-201801.csv). Dataset yang digunakan hanya **ks-projects-201801.csv**.\n",
    "\n",
    "Dataset ini merupakan kumpulan proyek di kickstarter baik yang berhasil maupun gagal dilengkapi dengan data funding. Pengolahan data pada notebook ini hanya akan mempertimbangkan kolom data funding *real* agar semua satuan sudah dalam **USD**."
   ]
  },
  {
   "cell_type": "markdown",
   "metadata": {},
   "source": [
    "### 1.1. Objective"
   ]
  },
  {
   "cell_type": "markdown",
   "metadata": {},
   "source": [
    "Pada notebook ini akan dilakukan pengolahan data secara statistik deskriptif dan inferensial yang meliputi:\n",
    "1. Central tendency yang terdiri dari mean, median, dan modus\n",
    "2. Variance yang terdiri dari range, variance, dan standard deviation\n",
    "3. Uji hipotesis"
   ]
  },
  {
   "cell_type": "markdown",
   "metadata": {},
   "source": [
    "### 1.2. Problem Statement"
   ]
  },
  {
   "cell_type": "markdown",
   "metadata": {},
   "source": [
    "Apakah kickstarter subkategori Sound memiliki rata-rata goal sama dengan 25.000 USD?"
   ]
  },
  {
   "cell_type": "markdown",
   "metadata": {},
   "source": [
    "## 2. Import Library"
   ]
  },
  {
   "cell_type": "code",
   "execution_count": 3,
   "metadata": {},
   "outputs": [],
   "source": [
    "import numpy as np\n",
    "import pandas as pd\n",
    "import seaborn as sns\n",
    "from scipy import stats\n",
    "import matplotlib.pyplot as plt"
   ]
  },
  {
   "cell_type": "markdown",
   "metadata": {},
   "source": [
    "## 3. Data Loading"
   ]
  },
  {
   "cell_type": "markdown",
   "metadata": {},
   "source": [
    "Load data dari file ks-projects-201801.csv."
   ]
  },
  {
   "cell_type": "code",
   "execution_count": 4,
   "metadata": {},
   "outputs": [
    {
     "data": {
      "text/html": [
       "<div>\n",
       "<style scoped>\n",
       "    .dataframe tbody tr th:only-of-type {\n",
       "        vertical-align: middle;\n",
       "    }\n",
       "\n",
       "    .dataframe tbody tr th {\n",
       "        vertical-align: top;\n",
       "    }\n",
       "\n",
       "    .dataframe thead th {\n",
       "        text-align: right;\n",
       "    }\n",
       "</style>\n",
       "<table border=\"1\" class=\"dataframe\">\n",
       "  <thead>\n",
       "    <tr style=\"text-align: right;\">\n",
       "      <th></th>\n",
       "      <th>ID</th>\n",
       "      <th>name</th>\n",
       "      <th>category</th>\n",
       "      <th>main_category</th>\n",
       "      <th>currency</th>\n",
       "      <th>deadline</th>\n",
       "      <th>goal</th>\n",
       "      <th>launched</th>\n",
       "      <th>pledged</th>\n",
       "      <th>state</th>\n",
       "      <th>backers</th>\n",
       "      <th>country</th>\n",
       "      <th>usd pledged</th>\n",
       "      <th>usd_pledged_real</th>\n",
       "      <th>usd_goal_real</th>\n",
       "    </tr>\n",
       "  </thead>\n",
       "  <tbody>\n",
       "    <tr>\n",
       "      <th>0</th>\n",
       "      <td>1000002330</td>\n",
       "      <td>The Songs of Adelaide &amp; Abullah</td>\n",
       "      <td>Poetry</td>\n",
       "      <td>Publishing</td>\n",
       "      <td>GBP</td>\n",
       "      <td>2015-10-09</td>\n",
       "      <td>1000.0</td>\n",
       "      <td>2015-08-11 12:12:28</td>\n",
       "      <td>0.0</td>\n",
       "      <td>failed</td>\n",
       "      <td>0</td>\n",
       "      <td>GB</td>\n",
       "      <td>0.0</td>\n",
       "      <td>0.0</td>\n",
       "      <td>1533.95</td>\n",
       "    </tr>\n",
       "    <tr>\n",
       "      <th>1</th>\n",
       "      <td>1000003930</td>\n",
       "      <td>Greeting From Earth: ZGAC Arts Capsule For ET</td>\n",
       "      <td>Narrative Film</td>\n",
       "      <td>Film &amp; Video</td>\n",
       "      <td>USD</td>\n",
       "      <td>2017-11-01</td>\n",
       "      <td>30000.0</td>\n",
       "      <td>2017-09-02 04:43:57</td>\n",
       "      <td>2421.0</td>\n",
       "      <td>failed</td>\n",
       "      <td>15</td>\n",
       "      <td>US</td>\n",
       "      <td>100.0</td>\n",
       "      <td>2421.0</td>\n",
       "      <td>30000.00</td>\n",
       "    </tr>\n",
       "    <tr>\n",
       "      <th>2</th>\n",
       "      <td>1000004038</td>\n",
       "      <td>Where is Hank?</td>\n",
       "      <td>Narrative Film</td>\n",
       "      <td>Film &amp; Video</td>\n",
       "      <td>USD</td>\n",
       "      <td>2013-02-26</td>\n",
       "      <td>45000.0</td>\n",
       "      <td>2013-01-12 00:20:50</td>\n",
       "      <td>220.0</td>\n",
       "      <td>failed</td>\n",
       "      <td>3</td>\n",
       "      <td>US</td>\n",
       "      <td>220.0</td>\n",
       "      <td>220.0</td>\n",
       "      <td>45000.00</td>\n",
       "    </tr>\n",
       "    <tr>\n",
       "      <th>3</th>\n",
       "      <td>1000007540</td>\n",
       "      <td>ToshiCapital Rekordz Needs Help to Complete Album</td>\n",
       "      <td>Music</td>\n",
       "      <td>Music</td>\n",
       "      <td>USD</td>\n",
       "      <td>2012-04-16</td>\n",
       "      <td>5000.0</td>\n",
       "      <td>2012-03-17 03:24:11</td>\n",
       "      <td>1.0</td>\n",
       "      <td>failed</td>\n",
       "      <td>1</td>\n",
       "      <td>US</td>\n",
       "      <td>1.0</td>\n",
       "      <td>1.0</td>\n",
       "      <td>5000.00</td>\n",
       "    </tr>\n",
       "    <tr>\n",
       "      <th>4</th>\n",
       "      <td>1000011046</td>\n",
       "      <td>Community Film Project: The Art of Neighborhoo...</td>\n",
       "      <td>Film &amp; Video</td>\n",
       "      <td>Film &amp; Video</td>\n",
       "      <td>USD</td>\n",
       "      <td>2015-08-29</td>\n",
       "      <td>19500.0</td>\n",
       "      <td>2015-07-04 08:35:03</td>\n",
       "      <td>1283.0</td>\n",
       "      <td>canceled</td>\n",
       "      <td>14</td>\n",
       "      <td>US</td>\n",
       "      <td>1283.0</td>\n",
       "      <td>1283.0</td>\n",
       "      <td>19500.00</td>\n",
       "    </tr>\n",
       "  </tbody>\n",
       "</table>\n",
       "</div>"
      ],
      "text/plain": [
       "           ID                                               name  \\\n",
       "0  1000002330                    The Songs of Adelaide & Abullah   \n",
       "1  1000003930      Greeting From Earth: ZGAC Arts Capsule For ET   \n",
       "2  1000004038                                     Where is Hank?   \n",
       "3  1000007540  ToshiCapital Rekordz Needs Help to Complete Album   \n",
       "4  1000011046  Community Film Project: The Art of Neighborhoo...   \n",
       "\n",
       "         category main_category currency    deadline     goal  \\\n",
       "0          Poetry    Publishing      GBP  2015-10-09   1000.0   \n",
       "1  Narrative Film  Film & Video      USD  2017-11-01  30000.0   \n",
       "2  Narrative Film  Film & Video      USD  2013-02-26  45000.0   \n",
       "3           Music         Music      USD  2012-04-16   5000.0   \n",
       "4    Film & Video  Film & Video      USD  2015-08-29  19500.0   \n",
       "\n",
       "              launched  pledged     state  backers country  usd pledged  \\\n",
       "0  2015-08-11 12:12:28      0.0    failed        0      GB          0.0   \n",
       "1  2017-09-02 04:43:57   2421.0    failed       15      US        100.0   \n",
       "2  2013-01-12 00:20:50    220.0    failed        3      US        220.0   \n",
       "3  2012-03-17 03:24:11      1.0    failed        1      US          1.0   \n",
       "4  2015-07-04 08:35:03   1283.0  canceled       14      US       1283.0   \n",
       "\n",
       "   usd_pledged_real  usd_goal_real  \n",
       "0               0.0        1533.95  \n",
       "1            2421.0       30000.00  \n",
       "2             220.0       45000.00  \n",
       "3               1.0        5000.00  \n",
       "4            1283.0       19500.00  "
      ]
     },
     "execution_count": 4,
     "metadata": {},
     "output_type": "execute_result"
    }
   ],
   "source": [
    "df = pd.read_csv('ks-projects-201801.csv') #load data dari csv\n",
    "df.head()"
   ]
  },
  {
   "cell_type": "markdown",
   "metadata": {},
   "source": [
    "Sekilas bisa kita lihat bahwa dataset ini memberikan detail dari suatu kickstarter seperti ID kickstarter, nama kickstarter, kategori, pendanaan (goal dan realisasi), deadline, dan status akhirnya. Sekarang kita cek properties dari dataframe tersebut."
   ]
  },
  {
   "cell_type": "code",
   "execution_count": 5,
   "metadata": {},
   "outputs": [
    {
     "name": "stdout",
     "output_type": "stream",
     "text": [
      "<class 'pandas.core.frame.DataFrame'>\n",
      "RangeIndex: 378661 entries, 0 to 378660\n",
      "Data columns (total 15 columns):\n",
      " #   Column            Non-Null Count   Dtype  \n",
      "---  ------            --------------   -----  \n",
      " 0   ID                378661 non-null  int64  \n",
      " 1   name              378657 non-null  object \n",
      " 2   category          378661 non-null  object \n",
      " 3   main_category     378661 non-null  object \n",
      " 4   currency          378661 non-null  object \n",
      " 5   deadline          378661 non-null  object \n",
      " 6   goal              378661 non-null  float64\n",
      " 7   launched          378661 non-null  object \n",
      " 8   pledged           378661 non-null  float64\n",
      " 9   state             378661 non-null  object \n",
      " 10  backers           378661 non-null  int64  \n",
      " 11  country           378661 non-null  object \n",
      " 12  usd pledged       374864 non-null  float64\n",
      " 13  usd_pledged_real  378661 non-null  float64\n",
      " 14  usd_goal_real     378661 non-null  float64\n",
      "dtypes: float64(5), int64(2), object(8)\n",
      "memory usage: 43.3+ MB\n"
     ]
    }
   ],
   "source": [
    "df.info() #cek property dataframe"
   ]
  },
  {
   "cell_type": "markdown",
   "metadata": {},
   "source": [
    "Dataframe ini memiliki 378661 baris dengan 15 kolom. Ada beberapa kolom yang memiliki missing value seperti name dan usd pledged. Dari sekian banyak main_category, kita hanya akan fokus pada subkategori Sound."
   ]
  },
  {
   "cell_type": "markdown",
   "metadata": {},
   "source": [
    "## 4. Data Cleaning"
   ]
  },
  {
   "cell_type": "markdown",
   "metadata": {},
   "source": [
    "Pada tahap ini kita akan mulai dengan menghapus kolom yang tidak dipakai."
   ]
  },
  {
   "cell_type": "code",
   "execution_count": 6,
   "metadata": {},
   "outputs": [
    {
     "data": {
      "text/html": [
       "<div>\n",
       "<style scoped>\n",
       "    .dataframe tbody tr th:only-of-type {\n",
       "        vertical-align: middle;\n",
       "    }\n",
       "\n",
       "    .dataframe tbody tr th {\n",
       "        vertical-align: top;\n",
       "    }\n",
       "\n",
       "    .dataframe thead th {\n",
       "        text-align: right;\n",
       "    }\n",
       "</style>\n",
       "<table border=\"1\" class=\"dataframe\">\n",
       "  <thead>\n",
       "    <tr style=\"text-align: right;\">\n",
       "      <th></th>\n",
       "      <th>ID</th>\n",
       "      <th>name</th>\n",
       "      <th>category</th>\n",
       "      <th>main_category</th>\n",
       "      <th>usd_goal_real</th>\n",
       "    </tr>\n",
       "  </thead>\n",
       "  <tbody>\n",
       "    <tr>\n",
       "      <th>0</th>\n",
       "      <td>1000002330</td>\n",
       "      <td>The Songs of Adelaide &amp; Abullah</td>\n",
       "      <td>Poetry</td>\n",
       "      <td>Publishing</td>\n",
       "      <td>1533.95</td>\n",
       "    </tr>\n",
       "    <tr>\n",
       "      <th>1</th>\n",
       "      <td>1000003930</td>\n",
       "      <td>Greeting From Earth: ZGAC Arts Capsule For ET</td>\n",
       "      <td>Narrative Film</td>\n",
       "      <td>Film &amp; Video</td>\n",
       "      <td>30000.00</td>\n",
       "    </tr>\n",
       "    <tr>\n",
       "      <th>2</th>\n",
       "      <td>1000004038</td>\n",
       "      <td>Where is Hank?</td>\n",
       "      <td>Narrative Film</td>\n",
       "      <td>Film &amp; Video</td>\n",
       "      <td>45000.00</td>\n",
       "    </tr>\n",
       "    <tr>\n",
       "      <th>3</th>\n",
       "      <td>1000007540</td>\n",
       "      <td>ToshiCapital Rekordz Needs Help to Complete Album</td>\n",
       "      <td>Music</td>\n",
       "      <td>Music</td>\n",
       "      <td>5000.00</td>\n",
       "    </tr>\n",
       "    <tr>\n",
       "      <th>4</th>\n",
       "      <td>1000011046</td>\n",
       "      <td>Community Film Project: The Art of Neighborhoo...</td>\n",
       "      <td>Film &amp; Video</td>\n",
       "      <td>Film &amp; Video</td>\n",
       "      <td>19500.00</td>\n",
       "    </tr>\n",
       "  </tbody>\n",
       "</table>\n",
       "</div>"
      ],
      "text/plain": [
       "           ID                                               name  \\\n",
       "0  1000002330                    The Songs of Adelaide & Abullah   \n",
       "1  1000003930      Greeting From Earth: ZGAC Arts Capsule For ET   \n",
       "2  1000004038                                     Where is Hank?   \n",
       "3  1000007540  ToshiCapital Rekordz Needs Help to Complete Album   \n",
       "4  1000011046  Community Film Project: The Art of Neighborhoo...   \n",
       "\n",
       "         category main_category  usd_goal_real  \n",
       "0          Poetry    Publishing        1533.95  \n",
       "1  Narrative Film  Film & Video       30000.00  \n",
       "2  Narrative Film  Film & Video       45000.00  \n",
       "3           Music         Music        5000.00  \n",
       "4    Film & Video  Film & Video       19500.00  "
      ]
     },
     "execution_count": 6,
     "metadata": {},
     "output_type": "execute_result"
    }
   ],
   "source": [
    "df.drop(columns=['currency','deadline','goal','launched','pledged','backers','country','usd pledged','usd_pledged_real','state'],inplace=True) #drop kolom yang tidak dipakai\n",
    "df = df.reset_index(drop=True) #reset index\n",
    "df.head()"
   ]
  },
  {
   "cell_type": "markdown",
   "metadata": {},
   "source": [
    "Simpan dataset subkategori Sound ke dalam dataframe baru."
   ]
  },
  {
   "cell_type": "code",
   "execution_count": 7,
   "metadata": {},
   "outputs": [
    {
     "name": "stdout",
     "output_type": "stream",
     "text": [
      "<class 'pandas.core.frame.DataFrame'>\n",
      "Int64Index: 669 entries, 285 to 378207\n",
      "Data columns (total 5 columns):\n",
      " #   Column         Non-Null Count  Dtype  \n",
      "---  ------         --------------  -----  \n",
      " 0   ID             669 non-null    int64  \n",
      " 1   name           669 non-null    object \n",
      " 2   category       669 non-null    object \n",
      " 3   main_category  669 non-null    object \n",
      " 4   usd_goal_real  669 non-null    float64\n",
      "dtypes: float64(1), int64(1), object(3)\n",
      "memory usage: 31.4+ KB\n"
     ]
    }
   ],
   "source": [
    "df_Sound = df[(df['category']=='Sound')].copy() #copy data dengan subkategori Sound ke dataframe baru\n",
    "df_Sound.info() "
   ]
  },
  {
   "cell_type": "markdown",
   "metadata": {},
   "source": [
    "Dataframe untuk analisis berhasil diduplikasi dan di dataset ini tidak ada missing value. Kolom lain yang tidak digunakan untuk analisis akan dihapus agar meringankan beban komputasi dan menyederhanakan tabel."
   ]
  },
  {
   "cell_type": "code",
   "execution_count": 8,
   "metadata": {},
   "outputs": [
    {
     "data": {
      "text/html": [
       "<div>\n",
       "<style scoped>\n",
       "    .dataframe tbody tr th:only-of-type {\n",
       "        vertical-align: middle;\n",
       "    }\n",
       "\n",
       "    .dataframe tbody tr th {\n",
       "        vertical-align: top;\n",
       "    }\n",
       "\n",
       "    .dataframe thead th {\n",
       "        text-align: right;\n",
       "    }\n",
       "</style>\n",
       "<table border=\"1\" class=\"dataframe\">\n",
       "  <thead>\n",
       "    <tr style=\"text-align: right;\">\n",
       "      <th></th>\n",
       "      <th>ID</th>\n",
       "      <th>name</th>\n",
       "      <th>usd_goal_real</th>\n",
       "    </tr>\n",
       "  </thead>\n",
       "  <tbody>\n",
       "    <tr>\n",
       "      <th>285</th>\n",
       "      <td>1001265769</td>\n",
       "      <td>XPUMP | TURN ANY SOUND SOURCE INTO A HOME THEA...</td>\n",
       "      <td>25000.00</td>\n",
       "    </tr>\n",
       "    <tr>\n",
       "      <th>1079</th>\n",
       "      <td>1005413300</td>\n",
       "      <td>NAMM Marketing -keeping up with the big dogs</td>\n",
       "      <td>2800.00</td>\n",
       "    </tr>\n",
       "    <tr>\n",
       "      <th>1415</th>\n",
       "      <td>1007217653</td>\n",
       "      <td>QUIUBO</td>\n",
       "      <td>126037.18</td>\n",
       "    </tr>\n",
       "    <tr>\n",
       "      <th>2688</th>\n",
       "      <td>1013770585</td>\n",
       "      <td>Solar Sound - A speaker powered by the sun</td>\n",
       "      <td>141.73</td>\n",
       "    </tr>\n",
       "    <tr>\n",
       "      <th>3475</th>\n",
       "      <td>1017909964</td>\n",
       "      <td>Sexy Suitcase</td>\n",
       "      <td>1541.19</td>\n",
       "    </tr>\n",
       "  </tbody>\n",
       "</table>\n",
       "</div>"
      ],
      "text/plain": [
       "              ID                                               name  \\\n",
       "285   1001265769  XPUMP | TURN ANY SOUND SOURCE INTO A HOME THEA...   \n",
       "1079  1005413300       NAMM Marketing -keeping up with the big dogs   \n",
       "1415  1007217653                                             QUIUBO   \n",
       "2688  1013770585         Solar Sound - A speaker powered by the sun   \n",
       "3475  1017909964                                      Sexy Suitcase   \n",
       "\n",
       "      usd_goal_real  \n",
       "285        25000.00  \n",
       "1079        2800.00  \n",
       "1415      126037.18  \n",
       "2688         141.73  \n",
       "3475        1541.19  "
      ]
     },
     "execution_count": 8,
     "metadata": {},
     "output_type": "execute_result"
    }
   ],
   "source": [
    "df_Sound.drop(columns=['category','main_category'],inplace=True) #hapus kolom yang tidak dipakai\n",
    "df_Sound.head()"
   ]
  },
  {
   "cell_type": "markdown",
   "metadata": {},
   "source": [
    "Data sudah siap untuk dieksplorasi."
   ]
  },
  {
   "cell_type": "markdown",
   "metadata": {},
   "source": [
    "## 5. Data Exploration"
   ]
  },
  {
   "cell_type": "markdown",
   "metadata": {},
   "source": [
    "Dari keseluruhan kickstarter, coba kita lihat kategori mana yang paling banyak jumlahnya."
   ]
  },
  {
   "cell_type": "code",
   "execution_count": 130,
   "metadata": {},
   "outputs": [
    {
     "data": {
      "text/plain": [
       "Film & Video    63585\n",
       "Music           51918\n",
       "Publishing      39874\n",
       "Games           35231\n",
       "Technology      32569\n",
       "Design          30070\n",
       "Art             28153\n",
       "Food            24602\n",
       "Fashion         22816\n",
       "Theater         10913\n",
       "Comics          10819\n",
       "Photography     10779\n",
       "Crafts           8809\n",
       "Journalism       4755\n",
       "Dance            3768\n",
       "Name: main_category, dtype: int64"
      ]
     },
     "execution_count": 130,
     "metadata": {},
     "output_type": "execute_result"
    }
   ],
   "source": [
    "category = df['main_category'].value_counts() #hitung jumlah isi kolom main category yang unik\n",
    "category"
   ]
  },
  {
   "cell_type": "markdown",
   "metadata": {},
   "source": [
    "Ternyata kategori Film & Video paling banyak dijadikan kickstarter, sedangkan Technology berada di posisi kelima. Coba kita telusuri lebih lanjut berapa banyak kickstarter di dalam subkategori Technology."
   ]
  },
  {
   "cell_type": "code",
   "execution_count": 131,
   "metadata": {},
   "outputs": [
    {
     "data": {
      "text/html": [
       "<div>\n",
       "<style scoped>\n",
       "    .dataframe tbody tr th:only-of-type {\n",
       "        vertical-align: middle;\n",
       "    }\n",
       "\n",
       "    .dataframe tbody tr th {\n",
       "        vertical-align: top;\n",
       "    }\n",
       "\n",
       "    .dataframe thead th {\n",
       "        text-align: right;\n",
       "    }\n",
       "</style>\n",
       "<table border=\"1\" class=\"dataframe\">\n",
       "  <thead>\n",
       "    <tr style=\"text-align: right;\">\n",
       "      <th></th>\n",
       "      <th>subkategori</th>\n",
       "      <th>count</th>\n",
       "    </tr>\n",
       "  </thead>\n",
       "  <tbody>\n",
       "    <tr>\n",
       "      <th>0</th>\n",
       "      <td>Technology</td>\n",
       "      <td>6930</td>\n",
       "    </tr>\n",
       "    <tr>\n",
       "      <th>1</th>\n",
       "      <td>Apps</td>\n",
       "      <td>6345</td>\n",
       "    </tr>\n",
       "    <tr>\n",
       "      <th>2</th>\n",
       "      <td>Web</td>\n",
       "      <td>3906</td>\n",
       "    </tr>\n",
       "    <tr>\n",
       "      <th>3</th>\n",
       "      <td>Hardware</td>\n",
       "      <td>3663</td>\n",
       "    </tr>\n",
       "    <tr>\n",
       "      <th>4</th>\n",
       "      <td>Software</td>\n",
       "      <td>3048</td>\n",
       "    </tr>\n",
       "    <tr>\n",
       "      <th>5</th>\n",
       "      <td>Gadgets</td>\n",
       "      <td>2965</td>\n",
       "    </tr>\n",
       "    <tr>\n",
       "      <th>6</th>\n",
       "      <td>Wearables</td>\n",
       "      <td>1233</td>\n",
       "    </tr>\n",
       "    <tr>\n",
       "      <th>7</th>\n",
       "      <td>DIY Electronics</td>\n",
       "      <td>902</td>\n",
       "    </tr>\n",
       "    <tr>\n",
       "      <th>8</th>\n",
       "      <td>3D Printing</td>\n",
       "      <td>683</td>\n",
       "    </tr>\n",
       "    <tr>\n",
       "      <th>9</th>\n",
       "      <td>Sound</td>\n",
       "      <td>669</td>\n",
       "    </tr>\n",
       "    <tr>\n",
       "      <th>10</th>\n",
       "      <td>Robots</td>\n",
       "      <td>572</td>\n",
       "    </tr>\n",
       "    <tr>\n",
       "      <th>11</th>\n",
       "      <td>Flight</td>\n",
       "      <td>426</td>\n",
       "    </tr>\n",
       "    <tr>\n",
       "      <th>12</th>\n",
       "      <td>Camera Equipment</td>\n",
       "      <td>416</td>\n",
       "    </tr>\n",
       "    <tr>\n",
       "      <th>13</th>\n",
       "      <td>Space Exploration</td>\n",
       "      <td>323</td>\n",
       "    </tr>\n",
       "    <tr>\n",
       "      <th>14</th>\n",
       "      <td>Fabrication Tools</td>\n",
       "      <td>250</td>\n",
       "    </tr>\n",
       "    <tr>\n",
       "      <th>15</th>\n",
       "      <td>Makerspaces</td>\n",
       "      <td>238</td>\n",
       "    </tr>\n",
       "  </tbody>\n",
       "</table>\n",
       "</div>"
      ],
      "text/plain": [
       "          subkategori  count\n",
       "0          Technology   6930\n",
       "1                Apps   6345\n",
       "2                 Web   3906\n",
       "3            Hardware   3663\n",
       "4            Software   3048\n",
       "5             Gadgets   2965\n",
       "6           Wearables   1233\n",
       "7     DIY Electronics    902\n",
       "8         3D Printing    683\n",
       "9               Sound    669\n",
       "10             Robots    572\n",
       "11             Flight    426\n",
       "12   Camera Equipment    416\n",
       "13  Space Exploration    323\n",
       "14  Fabrication Tools    250\n",
       "15        Makerspaces    238"
      ]
     },
     "execution_count": 131,
     "metadata": {},
     "output_type": "execute_result"
    }
   ],
   "source": [
    "Technology = df[df['main_category']=='Technology']['category'].value_counts()\n",
    "Technology = pd.DataFrame(Technology).reset_index()\n",
    "Technology.rename(columns={'index':'subkategori','category':'count'},inplace=True)\n",
    "Technology"
   ]
  },
  {
   "cell_type": "markdown",
   "metadata": {},
   "source": [
    "Ternyata subkategori Sound hanya sebagian kecil (sekitar 2%) dari main category Technology. Sekarang kita visualisasikan dalam pie chart dengan mengagregasikan beberapa subkategori lain menjadi Others."
   ]
  },
  {
   "cell_type": "code",
   "execution_count": 132,
   "metadata": {},
   "outputs": [
    {
     "name": "stderr",
     "output_type": "stream",
     "text": [
      "C:\\Users\\Judan Syamsul Hadad\\AppData\\Local\\Temp\\ipykernel_21716\\3315026633.py:3: FutureWarning: The frame.append method is deprecated and will be removed from pandas in a future version. Use pandas.concat instead.\n",
      "  Technology = Technology.append(Others,ignore_index=True)\n",
      "C:\\Users\\Judan Syamsul Hadad\\AppData\\Local\\Temp\\ipykernel_21716\\3315026633.py:4: FutureWarning: The frame.append method is deprecated and will be removed from pandas in a future version. Use pandas.concat instead.\n",
      "  Technology = Technology.append(Technology[Technology['subkategori']=='Sound'],ignore_index=True)\n"
     ]
    },
    {
     "data": {
      "text/html": [
       "<div>\n",
       "<style scoped>\n",
       "    .dataframe tbody tr th:only-of-type {\n",
       "        vertical-align: middle;\n",
       "    }\n",
       "\n",
       "    .dataframe tbody tr th {\n",
       "        vertical-align: top;\n",
       "    }\n",
       "\n",
       "    .dataframe thead th {\n",
       "        text-align: right;\n",
       "    }\n",
       "</style>\n",
       "<table border=\"1\" class=\"dataframe\">\n",
       "  <thead>\n",
       "    <tr style=\"text-align: right;\">\n",
       "      <th></th>\n",
       "      <th>subkategori</th>\n",
       "      <th>count</th>\n",
       "    </tr>\n",
       "  </thead>\n",
       "  <tbody>\n",
       "    <tr>\n",
       "      <th>0</th>\n",
       "      <td>Technology</td>\n",
       "      <td>6930</td>\n",
       "    </tr>\n",
       "    <tr>\n",
       "      <th>1</th>\n",
       "      <td>Apps</td>\n",
       "      <td>6345</td>\n",
       "    </tr>\n",
       "    <tr>\n",
       "      <th>2</th>\n",
       "      <td>Web</td>\n",
       "      <td>3906</td>\n",
       "    </tr>\n",
       "    <tr>\n",
       "      <th>3</th>\n",
       "      <td>Hardware</td>\n",
       "      <td>3663</td>\n",
       "    </tr>\n",
       "    <tr>\n",
       "      <th>4</th>\n",
       "      <td>Others</td>\n",
       "      <td>10818</td>\n",
       "    </tr>\n",
       "    <tr>\n",
       "      <th>5</th>\n",
       "      <td>Sound</td>\n",
       "      <td>669</td>\n",
       "    </tr>\n",
       "  </tbody>\n",
       "</table>\n",
       "</div>"
      ],
      "text/plain": [
       "  subkategori  count\n",
       "0  Technology   6930\n",
       "1        Apps   6345\n",
       "2         Web   3906\n",
       "3    Hardware   3663\n",
       "4      Others  10818\n",
       "5       Sound    669"
      ]
     },
     "execution_count": 132,
     "metadata": {},
     "output_type": "execute_result"
    }
   ],
   "source": [
    "sum_others = Technology[4:-1]['count'].sum() - Technology[Technology['subkategori']=='Sound']['count']\n",
    "Others = {'subkategori':'Others','count':sum_others[9]}\n",
    "Technology = Technology.append(Others,ignore_index=True)\n",
    "Technology = Technology.append(Technology[Technology['subkategori']=='Sound'],ignore_index=True)\n",
    "Technology.drop(labels=range(4,16,1),inplace=True)\n",
    "Technology.reset_index(drop=True)"
   ]
  },
  {
   "cell_type": "code",
   "execution_count": 133,
   "metadata": {},
   "outputs": [
    {
     "data": {
      "image/png": "[encoded data removed]",
      "text/plain": [
       "<Figure size 576x432 with 1 Axes>"
      ]
     },
     "metadata": {},
     "output_type": "display_data"
    }
   ],
   "source": [
    "plt.figure(figsize=(8,6),facecolor='w')\n",
    "plt.pie(Technology['count'],labels=Technology['subkategori'],autopct='%1.2f%%',textprops={'fontsize':12}, \\\n",
    "    colors=['#1f77b4', '#ff7f0e', '#2ca02c', '#d62728', 'gray', '#17becf']) #plot piechart dengan menunjukkan persentase dan label\n",
    "plt.title(\"Kickstarter Subkategori Technology\",fontsize=20)\n",
    "plt.show()"
   ]
  },
  {
   "cell_type": "markdown",
   "metadata": {},
   "source": [
    "Sekarang kita cek skewness dan kurtosis dataset kita."
   ]
  },
  {
   "cell_type": "code",
   "execution_count": 134,
   "metadata": {},
   "outputs": [
    {
     "data": {
      "image/png": "[encoded data removed]",
      "text/plain": [
       "<Figure size 576x432 with 1 Axes>"
      ]
     },
     "metadata": {
      "needs_background": "light"
     },
     "output_type": "display_data"
    }
   ],
   "source": [
    "plt.figure(figsize=(8,6))\n",
    "sns.histplot(df_Sound['usd_goal_real'],kde=True)\n",
    "plt.title(\"Histogram Kickstarter Sound Goal\")\n",
    "plt.xticks(rotation=90)\n",
    "plt.show()"
   ]
  },
  {
   "cell_type": "code",
   "execution_count": 135,
   "metadata": {},
   "outputs": [
    {
     "name": "stdout",
     "output_type": "stream",
     "text": [
      "Skewness:  5.052655109330886\n",
      "Kurtosis:  33.18444277742635\n"
     ]
    }
   ],
   "source": [
    "print('Skewness: ',df_Sound['usd_goal_real'].skew())\n",
    "print('Kurtosis: ',df_Sound['usd_goal_real'].kurt())"
   ]
  },
  {
   "cell_type": "markdown",
   "metadata": {},
   "source": [
    "Data sangat miring ke kanan dan distribusi leptopkurtik."
   ]
  },
  {
   "cell_type": "markdown",
   "metadata": {},
   "source": [
    "## 6. Measure of Central Tendency"
   ]
  },
  {
   "cell_type": "markdown",
   "metadata": {},
   "source": [
    "Selanjutnya kita akan melihat central tendency dari dataset yang kita miliki."
   ]
  },
  {
   "cell_type": "code",
   "execution_count": 136,
   "metadata": {},
   "outputs": [
    {
     "name": "stdout",
     "output_type": "stream",
     "text": [
      "Mean:  46710.20 USD\n",
      "Median:  20000.00 USD\n",
      "Modus:  50000.00 USD\n"
     ]
    }
   ],
   "source": [
    "print('Mean: ', \"{:.2f}\".format(np.mean(df_Sound['usd_goal_real'])), 'USD') #mean dalam dua desimal\n",
    "print('Median: ', \"{:.2f}\".format(np.median(df_Sound['usd_goal_real'])), 'USD') #median dalam dua desimal\n",
    "print('Modus: ', \"{:.2f}\".format(df_Sound['usd_goal_real'].mode()[0]), 'USD') #modus dalam dua desimal"
   ]
  },
  {
   "cell_type": "markdown",
   "metadata": {},
   "source": [
    "Dari analisis statistik deskriptif kita temukan bahwa ketiga nilai central tendency berbeda. Kemungkinan besar hal ini terjadi karena ada (banyak) outlier pada data."
   ]
  },
  {
   "cell_type": "markdown",
   "metadata": {},
   "source": [
    "## 7. Measure of Variance*"
   ]
  },
  {
   "cell_type": "markdown",
   "metadata": {},
   "source": [
    "### 7.1. Range"
   ]
  },
  {
   "cell_type": "markdown",
   "metadata": {},
   "source": [
    "Di Bab 6 telah kita lihat bahwa central tendency dataset ini berbeda sekali. Sekarang kita akan cek rentang dataset untuk memastikan selisih nilai median dan maksimum serta selisih nilai minimum dan maksimum ."
   ]
  },
  {
   "cell_type": "code",
   "execution_count": 137,
   "metadata": {},
   "outputs": [
    {
     "name": "stdout",
     "output_type": "stream",
     "text": [
      "Nilai minimum:  1.00 USD\n",
      "Nilai Q1:  7154.82 USD\n",
      "Nilai Q2 (median):  20000.00 USD\n",
      "Nilai Q3:  50000.00 USD\n",
      "Nilai maksimum:  800000.00 USD\n"
     ]
    }
   ],
   "source": [
    "print('Nilai minimum: ', \"{:.2f}\".format((df_Sound['usd_goal_real'].quantile(0))), 'USD') #min dalam dua desimal\n",
    "print('Nilai Q1: ', \"{:.2f}\".format((df_Sound['usd_goal_real'].quantile(0.25))), 'USD') #Q1 dalam dua desimal\n",
    "print('Nilai Q2 (median): ', \"{:.2f}\".format((df_Sound['usd_goal_real'].quantile(0.5))), 'USD') #median dalam dua desimal\n",
    "print('Nilai Q3: ', \"{:.2f}\".format((df_Sound['usd_goal_real'].quantile(0.75))), 'USD') #Q3 dalam dua desimal\n",
    "print('Nilai maksimum: ', \"{:.2f}\".format((df_Sound['usd_goal_real'].quantile(1))), 'USD') #max dalam dua desimal"
   ]
  },
  {
   "cell_type": "markdown",
   "metadata": {},
   "source": [
    "Kalau kita lihat, sampai dengan Q3 data masih dalam puluhan ribu USD, sedangkan nilai maksimum sudah mendekati juta USD. Meskipun data ini valid, tetapi akan mempengaruhi uji hipotesis."
   ]
  },
  {
   "cell_type": "markdown",
   "metadata": {},
   "source": [
    "Range dari dataset kita adalah:"
   ]
  },
  {
   "cell_type": "code",
   "execution_count": 138,
   "metadata": {},
   "outputs": [
    {
     "name": "stdout",
     "output_type": "stream",
     "text": [
      "Range:  799999.00 USD\n"
     ]
    }
   ],
   "source": [
    "print('Range: ', \"{:.2f}\".format((df_Sound['usd_goal_real'].quantile(1))-(df_Sound['usd_goal_real'].quantile(0))), 'USD') #range = max - min"
   ]
  },
  {
   "cell_type": "markdown",
   "metadata": {},
   "source": [
    "Sedangkan selisih nilai maksimum dan mediannya:"
   ]
  },
  {
   "cell_type": "code",
   "execution_count": 139,
   "metadata": {},
   "outputs": [
    {
     "name": "stdout",
     "output_type": "stream",
     "text": [
      "Max-Median:  780000.00 USD\n"
     ]
    }
   ],
   "source": [
    "print('Max-Median: ', \"{:.2f}\".format((df_Sound['usd_goal_real'].quantile(1))-(df_Sound['usd_goal_real'].quantile(0.5))), 'USD') #max - median"
   ]
  },
  {
   "cell_type": "markdown",
   "metadata": {},
   "source": [
    "Sekarang kita visualisasikan data tersebut ke dalam boxplot."
   ]
  },
  {
   "cell_type": "code",
   "execution_count": 140,
   "metadata": {},
   "outputs": [
    {
     "data": {
      "image/png": "[encoded data removed]",
      "text/plain": [
       "<Figure size 432x576 with 1 Axes>"
      ]
     },
     "metadata": {
      "needs_background": "light"
     },
     "output_type": "display_data"
    }
   ],
   "source": [
    "df_Sound['usd_goal_real'].plot(kind='box', figsize=(6,8))\n",
    "plt.title(\"Boxplot Kickstarter Sound Goal\")\n",
    "plt.show()"
   ]
  },
  {
   "cell_type": "markdown",
   "metadata": {},
   "source": [
    "Boxplot terlalu merenggang ke sumbu y karena nilai outlier yang besar sekali. Meskipun data-data tersebut valid, pada analisis ini data tersebut akan dihapus untuk menyederhanakan pengujian hipotesis. Sebelum menghapus data, kita cek dulu Z-score untuk memastikan outlier-nya."
   ]
  },
  {
   "cell_type": "code",
   "execution_count": 141,
   "metadata": {},
   "outputs": [
    {
     "data": {
      "text/plain": [
       "max    8.969036\n",
       "min   -0.556143\n",
       "Name: usd_goal_real, dtype: float64"
      ]
     },
     "execution_count": 141,
     "metadata": {},
     "output_type": "execute_result"
    }
   ],
   "source": [
    "stats.zscore(df_Sound['usd_goal_real']).aggregate(['max','min'])"
   ]
  },
  {
   "cell_type": "markdown",
   "metadata": {},
   "source": [
    "Ternyata ada yang Z-score mendekati 9, sedangkan batasan outlier menggunakan Z-score adalah lebih dari 3 atau kurang dari -3."
   ]
  },
  {
   "cell_type": "code",
   "execution_count": 142,
   "metadata": {},
   "outputs": [
    {
     "data": {
      "text/plain": [
       "ID               669\n",
       "name             669\n",
       "usd_goal_real    669\n",
       "dtype: int64"
      ]
     },
     "execution_count": 142,
     "metadata": {},
     "output_type": "execute_result"
    }
   ],
   "source": [
    "df_Sound.count()"
   ]
  },
  {
   "cell_type": "code",
   "execution_count": 143,
   "metadata": {},
   "outputs": [],
   "source": [
    "Q1 = df_Sound['usd_goal_real'].quantile(0.25)\n",
    "Q3 = df_Sound['usd_goal_real'].quantile(0.75)\n",
    "IQR = Q3 - Q1"
   ]
  },
  {
   "cell_type": "code",
   "execution_count": 144,
   "metadata": {},
   "outputs": [
    {
     "data": {
      "text/plain": [
       "(-57112.950000000004, 114267.77)"
      ]
     },
     "execution_count": 144,
     "metadata": {},
     "output_type": "execute_result"
    }
   ],
   "source": [
    "#deklarasi batas bawah dan batas atas data menggunakan IQR\n",
    "lower_limit = Q1 - 1.5 * IQR\n",
    "upper_limit = Q3 + 1.5 * IQR\n",
    "lower_limit, upper_limit"
   ]
  },
  {
   "cell_type": "markdown",
   "metadata": {},
   "source": [
    "Karena lower_limit bernilai negatif dan nilai terendah data kita adalah 1 USD, maka kita hanya akan menghapus outlier di atas upper_limit."
   ]
  },
  {
   "cell_type": "code",
   "execution_count": 145,
   "metadata": {},
   "outputs": [
    {
     "data": {
      "text/plain": [
       "ID               610\n",
       "name             610\n",
       "usd_goal_real    610\n",
       "dtype: int64"
      ]
     },
     "execution_count": 145,
     "metadata": {},
     "output_type": "execute_result"
    }
   ],
   "source": [
    "df_Sound = df_Sound[df_Sound['usd_goal_real']<upper_limit] #filter data, data yang digunakan hanya data dengan nilai di bawah upper limit\n",
    "df_Sound.count()"
   ]
  },
  {
   "cell_type": "markdown",
   "metadata": {},
   "source": [
    "Ada 59 data yang dihapus. Visualisasikan ulang dengan boxplot."
   ]
  },
  {
   "cell_type": "code",
   "execution_count": 146,
   "metadata": {},
   "outputs": [
    {
     "data": {
      "image/png": "[encoded data removed]",
      "text/plain": [
       "<Figure size 432x576 with 1 Axes>"
      ]
     },
     "metadata": {
      "needs_background": "light"
     },
     "output_type": "display_data"
    }
   ],
   "source": [
    "df_Sound['usd_goal_real'].plot(kind='box', figsize=(6,8))\n",
    "plt.title(\"Boxplot Kickstarter Sound Goal - Setelah Hapus Outlier\")\n",
    "plt.show()"
   ]
  },
  {
   "cell_type": "markdown",
   "metadata": {},
   "source": [
    "Hitung ulang central tendency dataset ini."
   ]
  },
  {
   "cell_type": "code",
   "execution_count": 147,
   "metadata": {},
   "outputs": [
    {
     "name": "stdout",
     "output_type": "stream",
     "text": [
      "Mean:  27282.42 USD\n",
      "Median:  19000.00 USD\n",
      "Modus:  50000.00 USD\n"
     ]
    }
   ],
   "source": [
    "print('Mean: ', \"{:.2f}\".format(np.mean(df_Sound['usd_goal_real'])), 'USD')\n",
    "print('Median: ', \"{:.2f}\".format(np.median(df_Sound['usd_goal_real'])), 'USD')\n",
    "print('Modus: ', \"{:.2f}\".format(df_Sound['usd_goal_real'].mode()[0]), 'USD')"
   ]
  },
  {
   "cell_type": "markdown",
   "metadata": {},
   "source": [
    "Cek ulang rentang dataset."
   ]
  },
  {
   "cell_type": "code",
   "execution_count": 148,
   "metadata": {},
   "outputs": [
    {
     "name": "stdout",
     "output_type": "stream",
     "text": [
      "Nilai minimum:  1.00 USD\n",
      "Nilai Q1:  6108.39 USD\n",
      "Nilai Q2 (median):  19000.00 USD\n",
      "Nilai Q3:  40000.00 USD\n",
      "Nilai maksimum:  111790.55 USD\n"
     ]
    }
   ],
   "source": [
    "print('Nilai minimum: ', \"{:.2f}\".format((df_Sound['usd_goal_real'].quantile(0))), 'USD')\n",
    "print('Nilai Q1: ', \"{:.2f}\".format((df_Sound['usd_goal_real'].quantile(0.25))), 'USD')\n",
    "print('Nilai Q2 (median): ', \"{:.2f}\".format((df_Sound['usd_goal_real'].quantile(0.5))), 'USD')\n",
    "print('Nilai Q3: ', \"{:.2f}\".format((df_Sound['usd_goal_real'].quantile(0.75))), 'USD')\n",
    "print('Nilai maksimum: ', \"{:.2f}\".format((df_Sound['usd_goal_real'].quantile(1))), 'USD')"
   ]
  },
  {
   "cell_type": "markdown",
   "metadata": {},
   "source": [
    "Cek ulang Z-score."
   ]
  },
  {
   "cell_type": "code",
   "execution_count": 149,
   "metadata": {},
   "outputs": [
    {
     "data": {
      "text/plain": [
       "max    3.140883\n",
       "min   -1.013959\n",
       "Name: usd_goal_real, dtype: float64"
      ]
     },
     "execution_count": 149,
     "metadata": {},
     "output_type": "execute_result"
    }
   ],
   "source": [
    "stats.zscore(df_Sound['usd_goal_real']).aggregate(['max','min'])"
   ]
  },
  {
   "cell_type": "markdown",
   "metadata": {},
   "source": [
    "Dari Z-score masih terdeteksi outlier, tetapi kita tidak akan menghapusnya karena jarak outlier tersebut tidak begitu jauh dari Z-score 3."
   ]
  },
  {
   "cell_type": "markdown",
   "metadata": {},
   "source": [
    "Sekarang kita coba visualisasikan dengan histogram."
   ]
  },
  {
   "cell_type": "code",
   "execution_count": 150,
   "metadata": {},
   "outputs": [
    {
     "data": {
      "image/png": "[encoded data removed]",
      "text/plain": [
       "<Figure size 576x432 with 1 Axes>"
      ]
     },
     "metadata": {
      "needs_background": "light"
     },
     "output_type": "display_data"
    }
   ],
   "source": [
    "plt.figure(figsize=(8,6))\n",
    "sns.histplot(df_Sound['usd_goal_real'],kde=True)\n",
    "plt.title(\"Histogram Kickstarter Sound Goal\")\n",
    "plt.xticks(rotation=90)\n",
    "plt.show()"
   ]
  },
  {
   "cell_type": "markdown",
   "metadata": {},
   "source": [
    "Data terlihat memiliki positive skew meskipun modus lebih besar dibandingkan mean. Kita transformasikan data dengan fungsi logaritmik untuk mengaproksimasi distribusi normal pada uji hipotesis di Bab 8."
   ]
  },
  {
   "cell_type": "code",
   "execution_count": 151,
   "metadata": {},
   "outputs": [],
   "source": [
    "df_Sound_log = np.log(df_Sound['usd_goal_real']) #transformasi logaritma natural"
   ]
  },
  {
   "cell_type": "code",
   "execution_count": 152,
   "metadata": {},
   "outputs": [
    {
     "data": {
      "image/png": "[encoded data removed]",
      "text/plain": [
       "<Figure size 576x432 with 1 Axes>"
      ]
     },
     "metadata": {
      "needs_background": "light"
     },
     "output_type": "display_data"
    }
   ],
   "source": [
    "plt.figure(figsize=(8,6))\n",
    "sns.histplot(df_Sound_log,kde=True)\n",
    "plt.title(\"Histogram Log Kickstarter Sound Goal\")\n",
    "plt.show()"
   ]
  },
  {
   "cell_type": "markdown",
   "metadata": {},
   "source": [
    "Bentuk histogram data sudah lebih mendekati distribusi normal dibandingkan sebelumnya."
   ]
  },
  {
   "cell_type": "markdown",
   "metadata": {},
   "source": [
    "### 7.2. Variance"
   ]
  },
  {
   "cell_type": "markdown",
   "metadata": {},
   "source": [
    "Selanjutnya kita akan menghitung variance dari dataset ini dan juga variance dari logaritma dataset."
   ]
  },
  {
   "cell_type": "code",
   "execution_count": 153,
   "metadata": {},
   "outputs": [
    {
     "name": "stdout",
     "output_type": "stream",
     "text": [
      "Variance:  723924816.73\n",
      "Variance log:  1.99\n"
     ]
    }
   ],
   "source": [
    "print('Variance: ', \"{:.2f}\".format(np.var(df_Sound['usd_goal_real'])))\n",
    "print('Variance log: ', \"{:.2f}\".format(np.var(df_Sound_log)))"
   ]
  },
  {
   "cell_type": "markdown",
   "metadata": {},
   "source": [
    "### 7.3. Standard Deviation"
   ]
  },
  {
   "cell_type": "markdown",
   "metadata": {},
   "source": [
    "Pada subbab ini kita akan menghitung nilai standar deviasi dari dataset."
   ]
  },
  {
   "cell_type": "code",
   "execution_count": 154,
   "metadata": {},
   "outputs": [
    {
     "name": "stdout",
     "output_type": "stream",
     "text": [
      "Standar deviasi:  26905.85\n",
      "Standar deviasi log:  1.41\n"
     ]
    }
   ],
   "source": [
    "print('Standar deviasi: ', \"{:.2f}\".format(np.std(df_Sound['usd_goal_real'])))\n",
    "print('Standar deviasi log: ', \"{:.2f}\".format(np.std(df_Sound_log)))"
   ]
  },
  {
   "cell_type": "markdown",
   "metadata": {},
   "source": [
    "## 8. Hypothesis Testing"
   ]
  },
  {
   "cell_type": "markdown",
   "metadata": {},
   "source": [
    "Hipotesis yang akan kita uji adalah apakah kickstarter subkategori Sound memiliki rata-rata goal sama dengan 25.000 USD. Kita akan gunakan confidence interval 95% atau critical value 0.05 dan one sample t-test two tailed."
   ]
  },
  {
   "cell_type": "markdown",
   "metadata": {},
   "source": [
    "Ubah pernyataan tersebut ke dalam H0 dan H1.\n",
    "- **H0: μ = 25.000 USD**\n",
    "- **H1: μ != 25.000 USD**"
   ]
  },
  {
   "cell_type": "markdown",
   "metadata": {},
   "source": [
    "Karena analisis kita menggunakan dataset dalam logaritma, kita ubah nilai rata-rata tersebut ke dalam logaritma."
   ]
  },
  {
   "cell_type": "code",
   "execution_count": 155,
   "metadata": {},
   "outputs": [
    {
     "data": {
      "text/plain": [
       "10.126631103850338"
      ]
     },
     "execution_count": 155,
     "metadata": {},
     "output_type": "execute_result"
    }
   ],
   "source": [
    "hypo = np.log(25000)\n",
    "hypo"
   ]
  },
  {
   "cell_type": "markdown",
   "metadata": {},
   "source": [
    "Lakukan one sample t-test two tailed."
   ]
  },
  {
   "cell_type": "code",
   "execution_count": 156,
   "metadata": {},
   "outputs": [
    {
     "name": "stdout",
     "output_type": "stream",
     "text": [
      "P-value: 3.572704661874482e-22\n",
      "t-statistics: -10.071958758505213\n"
     ]
    }
   ],
   "source": [
    "t_stat,p_val = stats.ttest_1samp(df_Sound_log,hypo) #t-test one sample dengan default two tailed\n",
    "print('P-value:',p_val) #p-value two tailed\n",
    "print('t-statistics:',t_stat)"
   ]
  },
  {
   "cell_type": "markdown",
   "metadata": {},
   "source": [
    "Karena P-value kurang dari critical value, maka kita tolak H0."
   ]
  },
  {
   "cell_type": "markdown",
   "metadata": {},
   "source": [
    "**Terdapat cukup bukti untuk menolak H0.**"
   ]
  },
  {
   "cell_type": "markdown",
   "metadata": {},
   "source": [
    "Sekarang kita visualisasikan hasil t-test di atas."
   ]
  },
  {
   "cell_type": "code",
   "execution_count": 157,
   "metadata": {},
   "outputs": [
    {
     "name": "stderr",
     "output_type": "stream",
     "text": [
      "C:\\Users\\Judan Syamsul Hadad\\AppData\\Local\\Programs\\Python\\Python310\\lib\\site-packages\\seaborn\\distributions.py:2619: FutureWarning: `distplot` is a deprecated function and will be removed in a future version. Please adapt your code to use either `displot` (a figure-level function with similar flexibility) or `histplot` (an axes-level function for histograms).\n",
      "  warnings.warn(msg, FutureWarning)\n"
     ]
    },
    {
     "data": {
      "text/plain": [
       "<matplotlib.legend.Legend at 0x1c90e340e80>"
      ]
     },
     "execution_count": 157,
     "metadata": {},
     "output_type": "execute_result"
    },
    {
     "data": {
      "image/png": "[encoded data removed]",
      "text/plain": [
       "<Figure size 1152x360 with 1 Axes>"
      ]
     },
     "metadata": {
      "needs_background": "light"
     },
     "output_type": "display_data"
    }
   ],
   "source": [
    "df_Sound_log_pop = np.random.normal(df_Sound_log.mean(), df_Sound_log.std(), 10000) #deklarasi populasi menggunakan mean dan stdev dari sampel logaritma natural\n",
    "\n",
    "ci = stats.norm.interval(0.95, df_Sound_log.mean(), df_Sound_log.std()) #confidence interval 95% dengan critical value 0.05 atau 0.025 di dua sisi\n",
    "\n",
    "plt.figure(figsize=(16,5))\n",
    "sns.distplot(df_Sound_log_pop, label='Log Goal (Population)', color='blue') #data logaritma natural populasi\n",
    "plt.axvline(df_Sound_log.mean(), color='red', linewidth=2, label='Log Goal (Mean)') #rata-rata logaritma natural sampel\n",
    "\n",
    "plt.axvline(ci[1], color='green', linestyle='dashed', linewidth=2, label='confidence threshold of 95%') #garis batas confidence interval\n",
    "plt.axvline(ci[0], color='green', linestyle='dashed', linewidth=2) #garis batas confidence interval\n",
    "plt.axvline(np.log(25000), color='black', linestyle='solid', linewidth=2, label='Hypothesis')\n",
    "plt.legend()"
   ]
  },
  {
   "cell_type": "code",
   "execution_count": 158,
   "metadata": {},
   "outputs": [
    {
     "name": "stdout",
     "output_type": "stream",
     "text": [
      "Rata-rata populasi pada confidence interval 95% adalah 14123 USD, sedangkan rata-rata populasi menurut hipotesis adalah 25000 USD\n"
     ]
    }
   ],
   "source": [
    "print(f'Rata-rata populasi pada confidence interval 95% adalah {np.exp(df_Sound_log_pop.mean()):.0f} USD, sedangkan rata-rata populasi menurut hipotesis adalah 25000 USD')"
   ]
  },
  {
   "cell_type": "markdown",
   "metadata": {},
   "source": [
    "## 9. Conclusion"
   ]
  },
  {
   "cell_type": "markdown",
   "metadata": {},
   "source": [
    "Berdasarkan analisis yang telah dilakukan, terdapat cukup bukti untuk **menolak pernyataan rata-rata kickstarter subkategori Sound memiliki rata-rata goal sama dengan 25.000 USD**."
   ]
  }
 ],
 "metadata": {
  "interpreter": {
   "hash": "c511a689884ea87b05d7e6308bcd3bc07b8326d80ebf1c46c0d8c6a4a82d4d0a"
  },
  "kernelspec": {
   "display_name": "Python 3.10.2 64-bit",
   "language": "python",
   "name": "python3"
  },
  "language_info": {
   "codemirror_mode": {
    "name": "ipython",
    "version": 3
   },
   "file_extension": ".py",
   "mimetype": "text/x-python",
   "name": "python",
   "nbconvert_exporter": "python",
   "pygments_lexer": "ipython3",
   "version": "3.10.2"
  },
  "orig_nbformat": 4
 },
 "nbformat": 4,
 "nbformat_minor": 2
}

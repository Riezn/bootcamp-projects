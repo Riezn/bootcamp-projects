{
  "nbformat": 4,
  "nbformat_minor": 0,
  "metadata": {
    "colab": {
      "name": "Assignment Templates.ipynb",
      "provenance": []
    },
    "kernelspec": {
      "name": "python3",
      "display_name": "Python 3"
    },
    "language_info": {
      "name": "python"
    }
  },
  "cells": [
    {
      "cell_type": "markdown",
      "source": [
        "# Live Code Phase 0\n",
        "\n",
        "Nama:\n",
        "\n",
        "Batch:"
      ],
      "metadata": {
        "id": "O6_FFsQVKK5V"
      }
    },
    {
      "cell_type": "markdown",
      "source": [
        "# Problems"
      ],
      "metadata": {
        "id": "KF_9GsjGKTPp"
      }
    },
    {
      "cell_type": "markdown",
      "source": [
        "## Nomor 1\n",
        "\n",
        "*Mohon ceritakan secara singkat masalah apa yang ingin diselesaikan di bawah ini!*"
      ],
      "metadata": {
        "id": "TSTfQxuiKXw7"
      }
    },
    {
      "cell_type": "code",
      "execution_count": null,
      "metadata": {
        "id": "Yt4ReLTMKDJ4"
      },
      "outputs": [],
      "source": [
        "#Code Area - Kamu bisa tambahkan cell tambahan bila diperlukan"
      ]
    },
    {
      "cell_type": "markdown",
      "source": [
        "### Jawaban dari Pertanyaan\n",
        "\n",
        "1.\n",
        "\n",
        "2.\n",
        "\n",
        "3."
      ],
      "metadata": {
        "id": "dLJzjPkiKgSu"
      }
    },
    {
      "cell_type": "markdown",
      "source": [
        "## Nomor 2\n",
        "\n",
        "*Mohon ceritakan secara singkat masalah apa yang ingin diselesaikan di bawah ini!*"
      ],
      "metadata": {
        "id": "FzKsEVTKKmYh"
      }
    },
    {
      "cell_type": "markdown",
      "source": [
        "### Jawaban dari Pertanyaan\n",
        "\n",
        "1.\n",
        "\n",
        "2."
      ],
      "metadata": {
        "id": "4HynMuTtK9GL"
      }
    },
    {
      "cell_type": "code",
      "source": [
        "#Code Area - Kamu bisa tambahkan cell tambahan bila diperlukan"
      ],
      "metadata": {
        "id": "YpL92YMiKrET"
      },
      "execution_count": null,
      "outputs": []
    },
    {
      "cell_type": "markdown",
      "source": [
        "### Jawaban dari Pertanyaan\n",
        "\n",
        "3."
      ],
      "metadata": {
        "id": "eaAeb3MCLRqF"
      }
    }
  ]
}
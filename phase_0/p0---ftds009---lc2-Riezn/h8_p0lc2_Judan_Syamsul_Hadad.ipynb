{
 "cells": [
  {
   "cell_type": "markdown",
   "metadata": {},
   "source": [
    "# Live Code 2 Phase 0\n",
    "\n",
    "Nama: Judan Syamsul Hadad\n",
    "\n",
    "Batch: FTDS-009"
   ]
  },
  {
   "cell_type": "markdown",
   "metadata": {},
   "source": [
    "# Problems"
   ]
  },
  {
   "cell_type": "markdown",
   "metadata": {},
   "source": [
    "## Nomor 1\n",
    "\n",
    "Kirim pesan \"Prepare to negotiate\" dengan cara di-encode (kalikan dengan matriks encoder) lalu di-decode (kalikan dengan invers matriks encoder) untuk memastikan isi pesan tidak berubah. Teknik yang digunakan adalah mengubah huruf ke angka. Misal A=1, Z=26, spasi=0."
   ]
  },
  {
   "cell_type": "markdown",
   "metadata": {},
   "source": [
    "### Import Library"
   ]
  },
  {
   "cell_type": "markdown",
   "metadata": {},
   "source": [
    "Mulai dengan import library numpy."
   ]
  },
  {
   "cell_type": "code",
   "execution_count": 1,
   "metadata": {},
   "outputs": [],
   "source": [
    "import numpy as np #import library numpy"
   ]
  },
  {
   "cell_type": "markdown",
   "metadata": {},
   "source": [
    "### Data Loading"
   ]
  },
  {
   "cell_type": "markdown",
   "metadata": {},
   "source": [
    "Buat variabel berisi pesan yang akan disampaikan."
   ]
  },
  {
   "cell_type": "code",
   "execution_count": 2,
   "metadata": {},
   "outputs": [
    {
     "data": {
      "text/plain": [
       "'Prepare to negotiate'"
      ]
     },
     "execution_count": 2,
     "metadata": {},
     "output_type": "execute_result"
    }
   ],
   "source": [
    "pesan = \"Prepare to negotiate\"\n",
    "pesan"
   ]
  },
  {
   "cell_type": "markdown",
   "metadata": {},
   "source": [
    "### Mathematical Calculations"
   ]
  },
  {
   "cell_type": "markdown",
   "metadata": {},
   "source": [
    "Buat fungsi untuk mengubah pesan menjadi angka."
   ]
  },
  {
   "cell_type": "code",
   "execution_count": 3,
   "metadata": {},
   "outputs": [
    {
     "data": {
      "text/plain": [
       "array([16, 18,  5, 16,  1, 18,  5,  0, 20, 15,  0, 14,  5,  7, 15, 20,  9,\n",
       "        1, 20,  5])"
      ]
     },
     "execution_count": 3,
     "metadata": {},
     "output_type": "execute_result"
    }
   ],
   "source": [
    "def alpha_to_num(input_string):\n",
    "    kode = [] #list kosong untuk menampung kode\n",
    "    input_string = input_string.lower() #mengubah huruf besar menjadi huruf kecil karena perubahan huruf ke angka tidak mempertimbangkan besar kecil, sedangkan di python berpengaruh\n",
    "    for huruf in input_string: #loop mengubah huruf menjadi angka\n",
    "        angka = ord(huruf) - 96 #mengubah huruf menjadi angka\n",
    "        if angka == -64: #jika angka bernilai -64, maka\n",
    "            angka = 0 #angka bernilai 0 (spasi)\n",
    "        kode.append(angka) #tampung angka ke dalam kode\n",
    "    return kode #luaran fungsi ada kode\n",
    "\n",
    "kode = np.array(alpha_to_num(pesan))\n",
    "kode"
   ]
  },
  {
   "cell_type": "markdown",
   "metadata": {},
   "source": [
    "Cek bentuk variabel kode."
   ]
  },
  {
   "cell_type": "code",
   "execution_count": 4,
   "metadata": {},
   "outputs": [
    {
     "data": {
      "text/plain": [
       "(20,)"
      ]
     },
     "execution_count": 4,
     "metadata": {},
     "output_type": "execute_result"
    }
   ],
   "source": [
    "kode.shape"
   ]
  },
  {
   "cell_type": "markdown",
   "metadata": {},
   "source": [
    "Variabel kode harus kita encode dengan cara dikalikan dengan matriks encoder. Definisikan matriks encoder dan reshape matriks kode terlebih dahulu."
   ]
  },
  {
   "cell_type": "code",
   "execution_count": 5,
   "metadata": {},
   "outputs": [
    {
     "data": {
      "text/plain": [
       "array([[2, 1, 0, 4],\n",
       "       [3, 4, 2, 1],\n",
       "       [1, 1, 9, 0],\n",
       "       [0, 7, 8, 3]])"
      ]
     },
     "execution_count": 5,
     "metadata": {},
     "output_type": "execute_result"
    }
   ],
   "source": [
    "E = np.array([[2,1,0,4],[3,4,2,1],[1,1,9,0],[0,7,8,3]])\n",
    "E"
   ]
  },
  {
   "cell_type": "markdown",
   "metadata": {},
   "source": [
    "Cek bentuk matriks encoder."
   ]
  },
  {
   "cell_type": "code",
   "execution_count": 6,
   "metadata": {},
   "outputs": [
    {
     "data": {
      "text/plain": [
       "(4, 4)"
      ]
     },
     "execution_count": 6,
     "metadata": {},
     "output_type": "execute_result"
    }
   ],
   "source": [
    "E.shape"
   ]
  },
  {
   "cell_type": "markdown",
   "metadata": {},
   "source": [
    "Agar memenuhi aturan perkalian matriks, maka variabel kode harus diubah ke matriks dengan ukuran panjang 'x' dan lebar 4."
   ]
  },
  {
   "cell_type": "code",
   "execution_count": 7,
   "metadata": {},
   "outputs": [
    {
     "data": {
      "text/plain": [
       "(5, 4)"
      ]
     },
     "execution_count": 7,
     "metadata": {},
     "output_type": "execute_result"
    }
   ],
   "source": [
    "kode = np.reshape(kode,(-1,4))\n",
    "kode.shape"
   ]
  },
  {
   "cell_type": "markdown",
   "metadata": {},
   "source": [
    "Lakukan perkalian dot untuk menghasilkan variabel transmisi yang berupa dot product kedua matriks di atas (kode@encoder)"
   ]
  },
  {
   "cell_type": "code",
   "execution_count": 8,
   "metadata": {},
   "outputs": [
    {
     "data": {
      "text/plain": [
       "array([[ 91, 205, 209, 130],\n",
       "       [ 61,  78,  81,  22],\n",
       "       [ 85, 178, 142, 137],\n",
       "       [ 46, 188, 309,  87],\n",
       "       [ 41,  68, 222,  52]])"
      ]
     },
     "execution_count": 8,
     "metadata": {},
     "output_type": "execute_result"
    }
   ],
   "source": [
    "transmisi = kode@E\n",
    "transmisi"
   ]
  },
  {
   "cell_type": "markdown",
   "metadata": {},
   "source": [
    "Cek bentuk matriks transmisi."
   ]
  },
  {
   "cell_type": "code",
   "execution_count": 9,
   "metadata": {},
   "outputs": [
    {
     "data": {
      "text/plain": [
       "(5, 4)"
      ]
     },
     "execution_count": 9,
     "metadata": {},
     "output_type": "execute_result"
    }
   ],
   "source": [
    "transmisi.shape"
   ]
  },
  {
   "cell_type": "markdown",
   "metadata": {},
   "source": [
    "Didapat matriks dengan ukuran 5x4.\n",
    "\n",
    "Untuk memastikan bahwa transmisi tersebut benar, ubah kembali matriks transmisi menjadi matriks pesan dengan mengkalikan matriks transmisi dengan invers matriks encoder. Hasil perkalian ini kita sebut matriks decoded."
   ]
  },
  {
   "cell_type": "code",
   "execution_count": 10,
   "metadata": {},
   "outputs": [
    {
     "data": {
      "text/plain": [
       "array([[ 1.60000000e+01,  1.80000000e+01,  5.00000000e+00,\n",
       "         1.60000000e+01],\n",
       "       [ 1.00000000e+00,  1.80000000e+01,  5.00000000e+00,\n",
       "        -2.08166817e-16],\n",
       "       [ 2.00000000e+01,  1.50000000e+01,  1.57859836e-15,\n",
       "         1.40000000e+01],\n",
       "       [ 5.00000000e+00,  7.00000000e+00,  1.50000000e+01,\n",
       "         2.00000000e+01],\n",
       "       [ 9.00000000e+00,  1.00000000e+00,  2.00000000e+01,\n",
       "         5.00000000e+00]])"
      ]
     },
     "execution_count": 10,
     "metadata": {},
     "output_type": "execute_result"
    }
   ],
   "source": [
    "decoded = transmisi@np.linalg.inv(E)\n",
    "decoded"
   ]
  },
  {
   "cell_type": "markdown",
   "metadata": {},
   "source": [
    "Cek apakah matriks kode dan matriks decoded sama atau tidak."
   ]
  },
  {
   "cell_type": "code",
   "execution_count": 11,
   "metadata": {},
   "outputs": [
    {
     "data": {
      "text/plain": [
       "True"
      ]
     },
     "execution_count": 11,
     "metadata": {},
     "output_type": "execute_result"
    }
   ],
   "source": [
    "np.allclose(kode,decoded)"
   ]
  },
  {
   "cell_type": "markdown",
   "metadata": {},
   "source": [
    "Kedua matriks tersebut berisi kode yang sama."
   ]
  },
  {
   "cell_type": "markdown",
   "metadata": {},
   "source": [
    "### Jawaban dari Pertanyaan\n",
    "\n",
    "1. Ukuran matriks yang mungkin untuk dikalikan adalah 5x4 dengan 5 adalah baris dan 4 adalah kolom. Aturan perkalian matriks adalah A(b,k) @ B(r,c) dimana k=r agar dapat dilakukan perkalian. Hasil kalinya akan membentuk matriks baru C(b,c). Pada kasus ini nilai c sama dengan k sehingga bentuk matriks yang akan ditransmisikan tidak berubah, dari **5**x4 dot 4x**4** menjadi **5x4** kembali.\n",
    "2. **Matriks encoder x matriks pesan** tidak sama dengan **matriks pesan x matriks encoder**. Susunan perkalian matriks yang benar adalah **matriks pesan x matriks encoder**. Hasil perkalian ini akan menghasilkan matriks 5x4. Jika dibalik menjadi **matriks encoder x matriks pesan**, maka akan terjadi perkalian encoder(4,**4**) @ kode(**5**,4) dimana jumlah kolom pada matriks encoder tidak sama dengan jumlah baris pada matriks pesan dan tidak dapat dilakukan perkalian dot product.\n",
    "3. Pada dasarnya jika matriks dikalikan dengan invers-nya akan menghasilkan matriks identitas. Hal ini dilakukan pada tahapan di atas dimana matriks kode dikalikan dengan matriks encoder dan kemudian hasil dot product-nya dikalikan lagi dengan invers matriks encoder. Hasilnya sama saja dengan matriks kode dikalikan dengan matriks identitas, tidak terjadi perubahan pada matriks kode. Sedangkan jika mengalikan matriks transmisi dengan matriks encoder lagi, maka tidak terbentuk matriks identitas sehingga matriks kode tidak akan sama dengan matriks decoded. Lihat bentuk perkalian di bawah:\n",
    "\n",
    "Jika:\n",
    "- kode @ encoder = transmisi\n",
    "- encoder @ inv(encoder) = identitas\n",
    "\n",
    "maka:\n",
    "- transmisi @ inv(encoder) = decoded\n",
    "- kode @ encoder @ inv(encoder) = decoded\n",
    "- kode @ identitas = decoded\n",
    "- kode = decoded"
   ]
  },
  {
   "cell_type": "markdown",
   "metadata": {},
   "source": [
    "## Nomor 2\n",
    "\n",
    "Akan dilakukan perbandingan AUC Score antara model Random Forest Regressor (RFR) dan Support Machine Regressor (SVR). Model dengan AUC Score mendekati 1 adalah model terbaik. Hitung AUC Score kedua model tersebut."
   ]
  },
  {
   "cell_type": "markdown",
   "metadata": {},
   "source": [
    "### Jawaban dari Pertanyaan\n",
    "\n",
    "1. Karena bentuknya dua dimensi, kita bisa menggunakan integral trapezoid untuk menghitung luas area di bawah kurva (delta x * (y+1 - y)/2). Pada kebanyakan kasus, bentuk integral trapezoid dapat menyesuaikan bentuk kurva dengan lebih baik karena mempertimbangkan nilai sumbu y di dua titik yang akan dihitung luasnya. Jika menggunakan integral quad atau dengan bentuk persegi, maka akan ada luas area yang kurang atau lebih (galat/error) tergantung sumbu y mana yang dipakai (y atau y+1).\n",
    "\n",
    "2. Untuk perhitungan AUC Score akan menggunakan metode numerik karena keluaran yang akan dibandingkan dalam bentuk angka. Jika pada dataset sudah tersedia nilai sumbu y untuk RFR dan SVR, maka tidak perlu pendefinisian fungsi matematika."
   ]
  },
  {
   "cell_type": "markdown",
   "metadata": {},
   "source": [
    "### Import Library"
   ]
  },
  {
   "cell_type": "markdown",
   "metadata": {},
   "source": [
    "Import library terlebih dahulu."
   ]
  },
  {
   "cell_type": "code",
   "execution_count": 12,
   "metadata": {},
   "outputs": [],
   "source": [
    "import pandas as pd\n",
    "from scipy import trapz\n",
    "import matplotlib.pyplot as plt"
   ]
  },
  {
   "cell_type": "markdown",
   "metadata": {},
   "source": [
    "### Data Loading & Data Cleaning"
   ]
  },
  {
   "cell_type": "markdown",
   "metadata": {},
   "source": [
    "Load dataset."
   ]
  },
  {
   "cell_type": "code",
   "execution_count": 13,
   "metadata": {},
   "outputs": [
    {
     "name": "stdout",
     "output_type": "stream",
     "text": [
      "<class 'pandas.core.frame.DataFrame'>\n",
      "RangeIndex: 66 entries, 0 to 65\n",
      "Data columns (total 5 columns):\n",
      " #   Column      Non-Null Count  Dtype  \n",
      "---  ------      --------------  -----  \n",
      " 0   Unnamed: 0  66 non-null     int64  \n",
      " 1   svr_fpr     66 non-null     float64\n",
      " 2   svr_tpr     66 non-null     float64\n",
      " 3   rfr_fpr     66 non-null     float64\n",
      " 4   rfr_tpr     66 non-null     float64\n",
      "dtypes: float64(4), int64(1)\n",
      "memory usage: 2.7 KB\n"
     ]
    }
   ],
   "source": [
    "df = pd.read_csv('https://raw.githubusercontent.com/fahmimnalfrzki/Dataset/main/ROC%20Curve%20SVR%20-%20Random%20Forest.csv?token=AEZDEHVS66CKQBUSHKZ534TA44EVO')\n",
    "df.info()"
   ]
  },
  {
   "cell_type": "markdown",
   "metadata": {},
   "source": [
    "Tidak ada null value pada data. Cek isi data."
   ]
  },
  {
   "cell_type": "code",
   "execution_count": 14,
   "metadata": {},
   "outputs": [
    {
     "data": {
      "text/html": [
       "<div>\n",
       "<style scoped>\n",
       "    .dataframe tbody tr th:only-of-type {\n",
       "        vertical-align: middle;\n",
       "    }\n",
       "\n",
       "    .dataframe tbody tr th {\n",
       "        vertical-align: top;\n",
       "    }\n",
       "\n",
       "    .dataframe thead th {\n",
       "        text-align: right;\n",
       "    }\n",
       "</style>\n",
       "<table border=\"1\" class=\"dataframe\">\n",
       "  <thead>\n",
       "    <tr style=\"text-align: right;\">\n",
       "      <th></th>\n",
       "      <th>Unnamed: 0</th>\n",
       "      <th>svr_fpr</th>\n",
       "      <th>svr_tpr</th>\n",
       "      <th>rfr_fpr</th>\n",
       "      <th>rfr_tpr</th>\n",
       "    </tr>\n",
       "  </thead>\n",
       "  <tbody>\n",
       "    <tr>\n",
       "      <th>0</th>\n",
       "      <td>0</td>\n",
       "      <td>0.000000</td>\n",
       "      <td>0.000000</td>\n",
       "      <td>0.000000</td>\n",
       "      <td>0.000000</td>\n",
       "    </tr>\n",
       "    <tr>\n",
       "      <th>1</th>\n",
       "      <td>1</td>\n",
       "      <td>0.000000</td>\n",
       "      <td>0.015152</td>\n",
       "      <td>0.000000</td>\n",
       "      <td>0.030303</td>\n",
       "    </tr>\n",
       "    <tr>\n",
       "      <th>2</th>\n",
       "      <td>2</td>\n",
       "      <td>0.004831</td>\n",
       "      <td>0.030303</td>\n",
       "      <td>0.000000</td>\n",
       "      <td>0.060606</td>\n",
       "    </tr>\n",
       "    <tr>\n",
       "      <th>3</th>\n",
       "      <td>3</td>\n",
       "      <td>0.009662</td>\n",
       "      <td>0.030303</td>\n",
       "      <td>0.000000</td>\n",
       "      <td>0.106061</td>\n",
       "    </tr>\n",
       "    <tr>\n",
       "      <th>4</th>\n",
       "      <td>4</td>\n",
       "      <td>0.012077</td>\n",
       "      <td>0.045455</td>\n",
       "      <td>0.002415</td>\n",
       "      <td>0.121212</td>\n",
       "    </tr>\n",
       "  </tbody>\n",
       "</table>\n",
       "</div>"
      ],
      "text/plain": [
       "   Unnamed: 0   svr_fpr   svr_tpr   rfr_fpr   rfr_tpr\n",
       "0           0  0.000000  0.000000  0.000000  0.000000\n",
       "1           1  0.000000  0.015152  0.000000  0.030303\n",
       "2           2  0.004831  0.030303  0.000000  0.060606\n",
       "3           3  0.009662  0.030303  0.000000  0.106061\n",
       "4           4  0.012077  0.045455  0.002415  0.121212"
      ]
     },
     "execution_count": 14,
     "metadata": {},
     "output_type": "execute_result"
    }
   ],
   "source": [
    "df.head()"
   ]
  },
  {
   "cell_type": "markdown",
   "metadata": {},
   "source": [
    "Hapus kolom 'Unnamed: 0' karena tidak dipakai pada analisis ini."
   ]
  },
  {
   "cell_type": "code",
   "execution_count": 15,
   "metadata": {},
   "outputs": [
    {
     "data": {
      "text/html": [
       "<div>\n",
       "<style scoped>\n",
       "    .dataframe tbody tr th:only-of-type {\n",
       "        vertical-align: middle;\n",
       "    }\n",
       "\n",
       "    .dataframe tbody tr th {\n",
       "        vertical-align: top;\n",
       "    }\n",
       "\n",
       "    .dataframe thead th {\n",
       "        text-align: right;\n",
       "    }\n",
       "</style>\n",
       "<table border=\"1\" class=\"dataframe\">\n",
       "  <thead>\n",
       "    <tr style=\"text-align: right;\">\n",
       "      <th></th>\n",
       "      <th>svr_fpr</th>\n",
       "      <th>svr_tpr</th>\n",
       "      <th>rfr_fpr</th>\n",
       "      <th>rfr_tpr</th>\n",
       "    </tr>\n",
       "  </thead>\n",
       "  <tbody>\n",
       "    <tr>\n",
       "      <th>0</th>\n",
       "      <td>0.000000</td>\n",
       "      <td>0.000000</td>\n",
       "      <td>0.000000</td>\n",
       "      <td>0.000000</td>\n",
       "    </tr>\n",
       "    <tr>\n",
       "      <th>1</th>\n",
       "      <td>0.000000</td>\n",
       "      <td>0.015152</td>\n",
       "      <td>0.000000</td>\n",
       "      <td>0.030303</td>\n",
       "    </tr>\n",
       "    <tr>\n",
       "      <th>2</th>\n",
       "      <td>0.004831</td>\n",
       "      <td>0.030303</td>\n",
       "      <td>0.000000</td>\n",
       "      <td>0.060606</td>\n",
       "    </tr>\n",
       "    <tr>\n",
       "      <th>3</th>\n",
       "      <td>0.009662</td>\n",
       "      <td>0.030303</td>\n",
       "      <td>0.000000</td>\n",
       "      <td>0.106061</td>\n",
       "    </tr>\n",
       "    <tr>\n",
       "      <th>4</th>\n",
       "      <td>0.012077</td>\n",
       "      <td>0.045455</td>\n",
       "      <td>0.002415</td>\n",
       "      <td>0.121212</td>\n",
       "    </tr>\n",
       "  </tbody>\n",
       "</table>\n",
       "</div>"
      ],
      "text/plain": [
       "    svr_fpr   svr_tpr   rfr_fpr   rfr_tpr\n",
       "0  0.000000  0.000000  0.000000  0.000000\n",
       "1  0.000000  0.015152  0.000000  0.030303\n",
       "2  0.004831  0.030303  0.000000  0.060606\n",
       "3  0.009662  0.030303  0.000000  0.106061\n",
       "4  0.012077  0.045455  0.002415  0.121212"
      ]
     },
     "execution_count": 15,
     "metadata": {},
     "output_type": "execute_result"
    }
   ],
   "source": [
    "df.drop(columns='Unnamed: 0',inplace=True)\n",
    "df.head()"
   ]
  },
  {
   "cell_type": "code",
   "execution_count": 16,
   "metadata": {},
   "outputs": [
    {
     "data": {
      "text/html": [
       "<div>\n",
       "<style scoped>\n",
       "    .dataframe tbody tr th:only-of-type {\n",
       "        vertical-align: middle;\n",
       "    }\n",
       "\n",
       "    .dataframe tbody tr th {\n",
       "        vertical-align: top;\n",
       "    }\n",
       "\n",
       "    .dataframe thead th {\n",
       "        text-align: right;\n",
       "    }\n",
       "</style>\n",
       "<table border=\"1\" class=\"dataframe\">\n",
       "  <thead>\n",
       "    <tr style=\"text-align: right;\">\n",
       "      <th></th>\n",
       "      <th>svr_fpr</th>\n",
       "      <th>svr_tpr</th>\n",
       "      <th>rfr_fpr</th>\n",
       "      <th>rfr_tpr</th>\n",
       "    </tr>\n",
       "  </thead>\n",
       "  <tbody>\n",
       "    <tr>\n",
       "      <th>61</th>\n",
       "      <td>0.973430</td>\n",
       "      <td>0.969697</td>\n",
       "      <td>0.449275</td>\n",
       "      <td>0.984848</td>\n",
       "    </tr>\n",
       "    <tr>\n",
       "      <th>62</th>\n",
       "      <td>0.973430</td>\n",
       "      <td>0.969697</td>\n",
       "      <td>0.507246</td>\n",
       "      <td>0.984848</td>\n",
       "    </tr>\n",
       "    <tr>\n",
       "      <th>63</th>\n",
       "      <td>0.992754</td>\n",
       "      <td>1.000000</td>\n",
       "      <td>0.582126</td>\n",
       "      <td>0.984848</td>\n",
       "    </tr>\n",
       "    <tr>\n",
       "      <th>64</th>\n",
       "      <td>0.997585</td>\n",
       "      <td>1.000000</td>\n",
       "      <td>0.722222</td>\n",
       "      <td>1.000000</td>\n",
       "    </tr>\n",
       "    <tr>\n",
       "      <th>65</th>\n",
       "      <td>0.997585</td>\n",
       "      <td>1.000000</td>\n",
       "      <td>1.000000</td>\n",
       "      <td>1.000000</td>\n",
       "    </tr>\n",
       "  </tbody>\n",
       "</table>\n",
       "</div>"
      ],
      "text/plain": [
       "     svr_fpr   svr_tpr   rfr_fpr   rfr_tpr\n",
       "61  0.973430  0.969697  0.449275  0.984848\n",
       "62  0.973430  0.969697  0.507246  0.984848\n",
       "63  0.992754  1.000000  0.582126  0.984848\n",
       "64  0.997585  1.000000  0.722222  1.000000\n",
       "65  0.997585  1.000000  1.000000  1.000000"
      ]
     },
     "execution_count": 16,
     "metadata": {},
     "output_type": "execute_result"
    }
   ],
   "source": [
    "df.tail()"
   ]
  },
  {
   "cell_type": "markdown",
   "metadata": {},
   "source": [
    "Data sudah dalam bentuk koordinat sumbu untuk masing-masing model. Untuk menghitung integral trapezoid, kita perlu meyakinkan bahwa sumbu x sudah berurutan dari 0 ke 1 di masing-masing model. Buat dua dataframe baru untuk masing-masing model."
   ]
  },
  {
   "cell_type": "code",
   "execution_count": 17,
   "metadata": {},
   "outputs": [
    {
     "data": {
      "text/html": [
       "<div>\n",
       "<style scoped>\n",
       "    .dataframe tbody tr th:only-of-type {\n",
       "        vertical-align: middle;\n",
       "    }\n",
       "\n",
       "    .dataframe tbody tr th {\n",
       "        vertical-align: top;\n",
       "    }\n",
       "\n",
       "    .dataframe thead th {\n",
       "        text-align: right;\n",
       "    }\n",
       "</style>\n",
       "<table border=\"1\" class=\"dataframe\">\n",
       "  <thead>\n",
       "    <tr style=\"text-align: right;\">\n",
       "      <th></th>\n",
       "      <th>svr_fpr</th>\n",
       "      <th>svr_tpr</th>\n",
       "    </tr>\n",
       "  </thead>\n",
       "  <tbody>\n",
       "    <tr>\n",
       "      <th>0</th>\n",
       "      <td>0.000000</td>\n",
       "      <td>0.000000</td>\n",
       "    </tr>\n",
       "    <tr>\n",
       "      <th>1</th>\n",
       "      <td>0.000000</td>\n",
       "      <td>0.015152</td>\n",
       "    </tr>\n",
       "    <tr>\n",
       "      <th>2</th>\n",
       "      <td>0.004831</td>\n",
       "      <td>0.030303</td>\n",
       "    </tr>\n",
       "    <tr>\n",
       "      <th>3</th>\n",
       "      <td>0.009662</td>\n",
       "      <td>0.030303</td>\n",
       "    </tr>\n",
       "    <tr>\n",
       "      <th>4</th>\n",
       "      <td>0.012077</td>\n",
       "      <td>0.045455</td>\n",
       "    </tr>\n",
       "    <tr>\n",
       "      <th>...</th>\n",
       "      <td>...</td>\n",
       "      <td>...</td>\n",
       "    </tr>\n",
       "    <tr>\n",
       "      <th>61</th>\n",
       "      <td>0.973430</td>\n",
       "      <td>0.969697</td>\n",
       "    </tr>\n",
       "    <tr>\n",
       "      <th>62</th>\n",
       "      <td>0.973430</td>\n",
       "      <td>0.969697</td>\n",
       "    </tr>\n",
       "    <tr>\n",
       "      <th>63</th>\n",
       "      <td>0.992754</td>\n",
       "      <td>1.000000</td>\n",
       "    </tr>\n",
       "    <tr>\n",
       "      <th>64</th>\n",
       "      <td>0.997585</td>\n",
       "      <td>1.000000</td>\n",
       "    </tr>\n",
       "    <tr>\n",
       "      <th>65</th>\n",
       "      <td>0.997585</td>\n",
       "      <td>1.000000</td>\n",
       "    </tr>\n",
       "  </tbody>\n",
       "</table>\n",
       "<p>66 rows × 2 columns</p>\n",
       "</div>"
      ],
      "text/plain": [
       "     svr_fpr   svr_tpr\n",
       "0   0.000000  0.000000\n",
       "1   0.000000  0.015152\n",
       "2   0.004831  0.030303\n",
       "3   0.009662  0.030303\n",
       "4   0.012077  0.045455\n",
       "..       ...       ...\n",
       "61  0.973430  0.969697\n",
       "62  0.973430  0.969697\n",
       "63  0.992754  1.000000\n",
       "64  0.997585  1.000000\n",
       "65  0.997585  1.000000\n",
       "\n",
       "[66 rows x 2 columns]"
      ]
     },
     "execution_count": 17,
     "metadata": {},
     "output_type": "execute_result"
    }
   ],
   "source": [
    "df_svr = df.copy() #copy df ke df_svr\n",
    "df_svr.drop(columns={'rfr_fpr','rfr_tpr'},inplace=True) #drop kolom rfr\n",
    "df_svr.sort_values(by='svr_fpr',ascending=True) #sort dari kecil ke besar berdasarkan kolom svr_fpr (sumbu x svr)"
   ]
  },
  {
   "cell_type": "code",
   "execution_count": 18,
   "metadata": {},
   "outputs": [
    {
     "data": {
      "text/html": [
       "<div>\n",
       "<style scoped>\n",
       "    .dataframe tbody tr th:only-of-type {\n",
       "        vertical-align: middle;\n",
       "    }\n",
       "\n",
       "    .dataframe tbody tr th {\n",
       "        vertical-align: top;\n",
       "    }\n",
       "\n",
       "    .dataframe thead th {\n",
       "        text-align: right;\n",
       "    }\n",
       "</style>\n",
       "<table border=\"1\" class=\"dataframe\">\n",
       "  <thead>\n",
       "    <tr style=\"text-align: right;\">\n",
       "      <th></th>\n",
       "      <th>rfr_fpr</th>\n",
       "      <th>rfr_tpr</th>\n",
       "    </tr>\n",
       "  </thead>\n",
       "  <tbody>\n",
       "    <tr>\n",
       "      <th>0</th>\n",
       "      <td>0.000000</td>\n",
       "      <td>0.000000</td>\n",
       "    </tr>\n",
       "    <tr>\n",
       "      <th>1</th>\n",
       "      <td>0.000000</td>\n",
       "      <td>0.030303</td>\n",
       "    </tr>\n",
       "    <tr>\n",
       "      <th>2</th>\n",
       "      <td>0.000000</td>\n",
       "      <td>0.060606</td>\n",
       "    </tr>\n",
       "    <tr>\n",
       "      <th>3</th>\n",
       "      <td>0.000000</td>\n",
       "      <td>0.106061</td>\n",
       "    </tr>\n",
       "    <tr>\n",
       "      <th>4</th>\n",
       "      <td>0.002415</td>\n",
       "      <td>0.121212</td>\n",
       "    </tr>\n",
       "    <tr>\n",
       "      <th>...</th>\n",
       "      <td>...</td>\n",
       "      <td>...</td>\n",
       "    </tr>\n",
       "    <tr>\n",
       "      <th>61</th>\n",
       "      <td>0.449275</td>\n",
       "      <td>0.984848</td>\n",
       "    </tr>\n",
       "    <tr>\n",
       "      <th>62</th>\n",
       "      <td>0.507246</td>\n",
       "      <td>0.984848</td>\n",
       "    </tr>\n",
       "    <tr>\n",
       "      <th>63</th>\n",
       "      <td>0.582126</td>\n",
       "      <td>0.984848</td>\n",
       "    </tr>\n",
       "    <tr>\n",
       "      <th>64</th>\n",
       "      <td>0.722222</td>\n",
       "      <td>1.000000</td>\n",
       "    </tr>\n",
       "    <tr>\n",
       "      <th>65</th>\n",
       "      <td>1.000000</td>\n",
       "      <td>1.000000</td>\n",
       "    </tr>\n",
       "  </tbody>\n",
       "</table>\n",
       "<p>66 rows × 2 columns</p>\n",
       "</div>"
      ],
      "text/plain": [
       "     rfr_fpr   rfr_tpr\n",
       "0   0.000000  0.000000\n",
       "1   0.000000  0.030303\n",
       "2   0.000000  0.060606\n",
       "3   0.000000  0.106061\n",
       "4   0.002415  0.121212\n",
       "..       ...       ...\n",
       "61  0.449275  0.984848\n",
       "62  0.507246  0.984848\n",
       "63  0.582126  0.984848\n",
       "64  0.722222  1.000000\n",
       "65  1.000000  1.000000\n",
       "\n",
       "[66 rows x 2 columns]"
      ]
     },
     "execution_count": 18,
     "metadata": {},
     "output_type": "execute_result"
    }
   ],
   "source": [
    "df_rfr = df.copy() #copy df ke df_rfr\n",
    "df_rfr.drop(columns={'svr_fpr','svr_tpr'},inplace=True)  #drop kolom svr\n",
    "df_rfr.sort_values(by='rfr_fpr',ascending=True) #sort dari kecil ke besar berdasarkan kolom rfr_fpr (sumbu x rfr)"
   ]
  },
  {
   "cell_type": "markdown",
   "metadata": {},
   "source": [
    "Deklarasi variabel x dan y untuk masing-masing model agar lebih mudah dipanggil."
   ]
  },
  {
   "cell_type": "code",
   "execution_count": 19,
   "metadata": {},
   "outputs": [],
   "source": [
    "#deklarasi variabel svr untuk memudahkan pemanggilan\n",
    "x_svr = df_svr['svr_fpr']\n",
    "y_svr = df_svr['svr_tpr']\n",
    "\n",
    "#deklarasi variabel rfr untuk memudahkan pemanggilan\n",
    "x_rfr = df_rfr['rfr_fpr']\n",
    "y_rfr = df_rfr['rfr_tpr']"
   ]
  },
  {
   "cell_type": "markdown",
   "metadata": {},
   "source": [
    "### Mathematical Calculations"
   ]
  },
  {
   "cell_type": "markdown",
   "metadata": {},
   "source": [
    "Kita bisa lihat gambaran kedua model pada kurva berikut:"
   ]
  },
  {
   "cell_type": "code",
   "execution_count": 20,
   "metadata": {},
   "outputs": [
    {
     "data": {
      "text/plain": [
       "Text(0.5, 1.0, 'RFR')"
      ]
     },
     "execution_count": 20,
     "metadata": {},
     "output_type": "execute_result"
    },
    {
     "data": {
      "image/png": "[encoded data removed]",
      "text/plain": [
       "<Figure size 720x360 with 2 Axes>"
      ]
     },
     "metadata": {
      "needs_background": "light"
     },
     "output_type": "display_data"
    }
   ],
   "source": [
    "fig, ax = plt.subplots(ncols=2,figsize=(10,5)) #subplot dua kolom\n",
    "ax[0].plot(x_svr,y_svr) #plot SVR\n",
    "ax[0].set_title('SVR')\n",
    "ax[1].plot(x_rfr,y_rfr) #plot RFR\n",
    "ax[1].set_title('RFR')"
   ]
  },
  {
   "cell_type": "markdown",
   "metadata": {},
   "source": [
    "Sekilas terlihat bahwa luas area di bawah kurva RFR lebih besar dibandingkan SVR terutama di sumbu x 0.2 sampai 0.6. Sekarang kita hitung integral trapezoid-nya."
   ]
  },
  {
   "cell_type": "code",
   "execution_count": 21,
   "metadata": {},
   "outputs": [
    {
     "name": "stderr",
     "output_type": "stream",
     "text": [
      "C:\\Users\\Judan Syamsul Hadad\\AppData\\Local\\Temp\\ipykernel_3392\\1755854243.py:1: DeprecationWarning: scipy.trapz is deprecated and will be removed in SciPy 2.0.0, use numpy.trapz instead\n",
      "  AUC_Score_SVR = trapz(y_svr,x_svr)\n"
     ]
    },
    {
     "data": {
      "text/plain": [
       "0.8817889035280342"
      ]
     },
     "execution_count": 21,
     "metadata": {},
     "output_type": "execute_result"
    }
   ],
   "source": [
    "AUC_Score_SVR = trapz(y_svr,x_svr)\n",
    "AUC_Score_SVR"
   ]
  },
  {
   "cell_type": "code",
   "execution_count": 22,
   "metadata": {},
   "outputs": [
    {
     "name": "stderr",
     "output_type": "stream",
     "text": [
      "C:\\Users\\Judan Syamsul Hadad\\AppData\\Local\\Temp\\ipykernel_3392\\1783318488.py:1: DeprecationWarning: scipy.trapz is deprecated and will be removed in SciPy 2.0.0, use numpy.trapz instead\n",
      "  AUC_Score_RFR = trapz(y_rfr,x_rfr)\n"
     ]
    },
    {
     "data": {
      "text/plain": [
       "0.9160262040696824"
      ]
     },
     "execution_count": 22,
     "metadata": {},
     "output_type": "execute_result"
    }
   ],
   "source": [
    "AUC_Score_RFR = trapz(y_rfr,x_rfr)\n",
    "AUC_Score_RFR"
   ]
  },
  {
   "cell_type": "markdown",
   "metadata": {},
   "source": [
    "Hasil dari integral trapezoid adalah AUC Score untuk masing-masing model. Didapat AUC Score untuk SVR 0.88 dan untuk RFR 0.92."
   ]
  },
  {
   "cell_type": "markdown",
   "metadata": {},
   "source": [
    "### Jawaban dari Pertanyaan\n",
    "\n",
    "3. Berdasarkan perhitungan dengan integral trapezoid dan dari grafik yang dihasilkan, metode RFR akan menghasilkan model terbaik karena memiliki AUC Score yang lebih besar dibandingkan metode SVR."
   ]
  },
  {
   "cell_type": "code",
   "execution_count": 23,
   "metadata": {},
   "outputs": [
    {
     "name": "stdout",
     "output_type": "stream",
     "text": [
      "AUC Score SVR:  0.88\n",
      "AUC Score RFR:  0.92\n"
     ]
    }
   ],
   "source": [
    "print('AUC Score SVR: ', round(AUC_Score_SVR,2))\n",
    "print('AUC Score RFR: ', round(AUC_Score_RFR,2))"
   ]
  }
 ],
 "metadata": {
  "interpreter": {
   "hash": "c511a689884ea87b05d7e6308bcd3bc07b8326d80ebf1c46c0d8c6a4a82d4d0a"
  },
  "kernelspec": {
   "display_name": "Python 3.10.2 64-bit",
   "language": "python",
   "name": "python3"
  },
  "language_info": {
   "codemirror_mode": {
    "name": "ipython",
    "version": 3
   },
   "file_extension": ".py",
   "mimetype": "text/x-python",
   "name": "python",
   "nbconvert_exporter": "python",
   "pygments_lexer": "ipython3",
   "version": "3.10.2"
  },
  "orig_nbformat": 4
 },
 "nbformat": 4,
 "nbformat_minor": 2
}
